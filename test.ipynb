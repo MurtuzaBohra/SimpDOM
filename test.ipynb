{
 "cells": [
  {
   "cell_type": "code",
   "execution_count": 1,
   "metadata": {},
   "outputs": [
    {
     "data": {
      "text/plain": [
       "'/Users/izapreev/Projects/SimpDOM'"
      ]
     },
     "execution_count": 1,
     "metadata": {},
     "output_type": "execute_result"
    }
   ],
   "source": [
    "import os\n",
    "os.getcwd()"
   ]
  },
  {
   "cell_type": "code",
   "execution_count": 2,
   "metadata": {},
   "outputs": [],
   "source": [
    "# Make sure the source code auto reloads into the kernel\n",
    "%load_ext autoreload\n",
    "%autoreload 2"
   ]
  },
  {
   "cell_type": "code",
   "execution_count": 3,
   "metadata": {},
   "outputs": [],
   "source": [
    "# To help preventing shared maemory errors\n",
    "!ulimit -n 500000\n",
    "import torch.multiprocessing\n",
    "torch.multiprocessing.set_sharing_strategy('file_system')"
   ]
  },
  {
   "cell_type": "code",
   "execution_count": 4,
   "metadata": {},
   "outputs": [
    {
     "name": "stderr",
     "output_type": "stream",
     "text": [
      "16:09:18 INFO (3642090698:12): The created model config is:\n",
      "{'out_dim': 5, 'train_websites': [], 'val_websites': [], 'test_websites': ['auto-aol', 'auto-yahoo'], 'datapath': './data', 'n_workers': 0, 'char_emb_dim': 16, 'char_hid_dim': 100, 'char_emb_dropout': 0.1, 'tag_emb_dim': 16, 'tag_hid_dim': 30, 'leaf_emb_dim': 30, 'pos_emb_dim': 20, 'attributes': ['model', 'price', 'engine', 'fuel_economy'], 'n_gpus': 0, 'class_weights': [1, 100, 100, 100, 100], 'char_dict_filename': './data/English_charDict.pkl', 'tag_dict_filename': './data/HTMLTagDict.pkl', 'word_emb_filename': './data/glove.6B.100d.txt', 'learning_rate': 1e-05, 'patience': 2}\n"
     ]
    }
   ],
   "source": [
    "# Model Configurations\n",
    "import random\n",
    "from Utils.logger import logger\n",
    "from train_and_eval import create_config\n",
    "\n",
    "random.seed(7)\n",
    "\n",
    "test_websites = ['auto-aol','auto-yahoo']\n",
    "attributes = ['model', 'price', 'engine', 'fuel_economy']\n",
    "\n",
    "config = create_config(train_websites=[], val_websites=[], test_websites=test_websites, attributes=attributes)\n",
    "logger.info(f'The created model config is:\\n{config}')"
   ]
  },
  {
   "cell_type": "code",
   "execution_count": 5,
   "metadata": {},
   "outputs": [
    {
     "name": "stderr",
     "output_type": "stream",
     "text": [
      "16:09:18 INFO (79718419:3): Start testing based on the validation data set\n",
      "16:09:18 WARNING (train_and_eval:109): The pre-trained model is not provided, loading from disk\n",
      "16:09:18 INFO (train_and_eval:114): Loading weights from: data/weights.ckpt\n",
      "16:09:18 INFO (SimpDOM_model:28): Instantiating the new model with config: {'out_dim': 5, 'train_websites': [], 'val_websites': [], 'test_websites': ['auto-aol', 'auto-yahoo'], 'datapath': './data', 'n_workers': 0, 'char_emb_dim': 16, 'char_hid_dim': 100, 'char_emb_dropout': 0.1, 'tag_emb_dim': 16, 'tag_hid_dim': 30, 'leaf_emb_dim': 30, 'pos_emb_dim': 20, 'attributes': ['model', 'price', 'engine', 'fuel_economy'], 'n_gpus': 0, 'class_weights': [1, 100, 100, 100, 100], 'char_dict_filename': './data/English_charDict.pkl', 'tag_dict_filename': './data/HTMLTagDict.pkl', 'word_emb_filename': './data/glove.6B.100d.txt', 'learning_rate': 1e-05, 'patience': 2}\n",
      "16:09:18 INFO (SimpDOM_model:81): Loading ./data/English_charDict.pkl\n",
      "16:09:18 INFO (SimpDOM_model:83): Dictionary ./data/English_charDict.pkl length: 85\n",
      "16:09:18 INFO (SimpDOM_model:81): Loading ./data/HTMLTagDict.pkl\n",
      "16:09:18 INFO (SimpDOM_model:83): Dictionary ./data/HTMLTagDict.pkl length: 39\n",
      "16:09:18 INFO (pretrainedGloVe:9): Loading pretrained word emeddings from: ./data/glove.6B.100d.txt\n",
      "16:09:23 INFO (pretrainedGloVe:22): Loaded 400000 pretrained word vectors\n",
      "16:09:23 WARNING (train_and_eval:121): The test websites was not explit, extracting from config!\n",
      "16:09:23 INFO (train_and_eval:126): The test websites are: ['auto-aol', 'auto-yahoo']\n",
      "16:09:23 INFO (SimpDOM_model:184): Creating testing data loader for: ['auto-aol', 'auto-yahoo']\n",
      "16:09:23 INFO (swde_dataLoader:257): Start loading data set for websites: ['auto-aol', 'auto-yahoo']\n"
     ]
    },
    {
     "data": {
      "application/vnd.jupyter.widget-view+json": {
       "model_id": "b63853cd6b3f4fbea1d73fdd9a1e8e0d",
       "version_major": 2,
       "version_minor": 0
      },
      "text/plain": [
       "Web site:   0%|          | 0/2 [00:00<?, ?it/s]"
      ]
     },
     "metadata": {},
     "output_type": "display_data"
    },
    {
     "data": {
      "application/vnd.jupyter.widget-view+json": {
       "model_id": "95006a7f912041bda1bd635e6b2c938e",
       "version_major": 2,
       "version_minor": 0
      },
      "text/plain": [
       "Web pages for: \"auto-aol\":   0%|          | 0/2000 [00:00<?, ?it/s]"
      ]
     },
     "metadata": {},
     "output_type": "display_data"
    },
    {
     "data": {
      "application/vnd.jupyter.widget-view+json": {
       "model_id": "4ff390901b25404fa66eda39e07cacb5",
       "version_major": 2,
       "version_minor": 0
      },
      "text/plain": [
       "Web pages for: \"auto-yahoo\":   0%|          | 0/2000 [00:00<?, ?it/s]"
      ]
     },
     "metadata": {},
     "output_type": "display_data"
    },
    {
     "name": "stderr",
     "output_type": "stream",
     "text": [
      "16:09:43 INFO (swde_dataLoader:262): SWDE data test loader has loaded: 435018 nodes from: ['auto-aol', 'auto-yahoo']\n"
     ]
    },
    {
     "data": {
      "application/vnd.jupyter.widget-view+json": {
       "model_id": "43b9c89803f640749f33e61d0616a194",
       "version_major": 2,
       "version_minor": 0
      },
      "text/plain": [
       "Testing batches:   0%|          | 0/13595 [00:00<?, ?it/s]"
      ]
     },
     "metadata": {},
     "output_type": "display_data"
    },
    {
     "name": "stdout",
     "output_type": "stream",
     "text": [
      "Dumping predictions dataframe into: test_predictions.csv\n"
     ]
    },
    {
     "name": "stderr",
     "output_type": "stream",
     "text": [
      "16:31:00 INFO (train_and_eval:136): Prediction summary:\n",
      "{1: (0.9254640371229699, 0.7987484355444305, 0.8574499529759506), 2: (0.90225, 0.90225, 0.90225), 3: (0.9988642816581488, 0.76, 0.8632125422940826), 4: (1.0, 1.0, 1.0)}\n"
     ]
    },
    {
     "name": "stdout",
     "output_type": "stream",
     "text": [
      "class - 1: precision = 0.9254640371229699, recall = 0.7987484355444305, F1 = 0.8574499529759506\n",
      "class - 2: precision = 0.90225, recall = 0.90225, F1 = 0.90225\n",
      "class - 3: precision = 0.9988642816581488, recall = 0.76, F1 = 0.8632125422940826\n",
      "class - 4: precision = 1.0, recall = 1.0, F1 = 1.0\n"
     ]
    },
    {
     "name": "stderr",
     "output_type": "stream",
     "text": [
      "16:31:19 INFO (train_and_eval:140): Website-level prediction summary:\n",
      "      website  attribute  precision  recall  retrieved_relevant  retrieved  \\\n",
      "0    auto-aol          1   0.997500  1.0000                1995       2000   \n",
      "1    auto-aol          2   0.986000  0.9860                1972       2000   \n",
      "2    auto-aol          3   0.000000  0.0000                   0          2   \n",
      "3    auto-aol          4   1.000000  1.0000                1845       1845   \n",
      "4  auto-yahoo          1   0.825967  0.5980                1196       1448   \n",
      "5  auto-yahoo          2   0.818500  0.8185                1637       2000   \n",
      "6  auto-yahoo          3   0.998686  0.7600                1520       1522   \n",
      "7  auto-yahoo          4   1.000000  1.0000                2000       2000   \n",
      "\n",
      "   relevant  \n",
      "0      1995  \n",
      "1      2000  \n",
      "2         0  \n",
      "3      1845  \n",
      "4      2000  \n",
      "5      2000  \n",
      "6      2000  \n",
      "7      2000  \n"
     ]
    },
    {
     "data": {
      "text/plain": [
       "{1: (0.9254640371229699, 0.7987484355444305, 0.8574499529759506),\n",
       " 2: (0.90225, 0.90225, 0.90225),\n",
       " 3: (0.9988642816581488, 0.76, 0.8632125422940826),\n",
       " 4: (1.0, 1.0, 1.0)}"
      ]
     },
     "execution_count": 5,
     "metadata": {},
     "output_type": "execute_result"
    }
   ],
   "source": [
    "from train_and_eval import test_model\n",
    "\n",
    "logger.info(f'Start testing based on the validation data set')\n",
    "test_model(config, model_weights_file=f'data/weights.ckpt')"
   ]
  }
 ],
 "metadata": {
  "kernelspec": {
   "display_name": "tfm",
   "language": "python",
   "name": "tfm"
  },
  "language_info": {
   "codemirror_mode": {
    "name": "ipython",
    "version": 3
   },
   "file_extension": ".py",
   "mimetype": "text/x-python",
   "name": "python",
   "nbconvert_exporter": "python",
   "pygments_lexer": "ipython3",
   "version": "3.8.13"
  }
 },
 "nbformat": 4,
 "nbformat_minor": 4
}
