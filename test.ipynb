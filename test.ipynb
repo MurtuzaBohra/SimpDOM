{
 "cells": [
  {
   "cell_type": "code",
   "execution_count": 1,
   "metadata": {},
   "outputs": [
    {
     "data": {
      "text/plain": [
       "'/Users/izapreev/Projects/SimpDOM'"
      ]
     },
     "execution_count": 1,
     "metadata": {},
     "output_type": "execute_result"
    }
   ],
   "source": [
    "import os\n",
    "os.getcwd()"
   ]
  },
  {
   "cell_type": "code",
   "execution_count": 2,
   "metadata": {},
   "outputs": [],
   "source": [
    "# Make sure the source code auto reloads into the kernel\n",
    "%load_ext autoreload\n",
    "%autoreload 2"
   ]
  },
  {
   "cell_type": "code",
   "execution_count": 3,
   "metadata": {},
   "outputs": [],
   "source": [
    "# To help preventing shared maemory errors\n",
    "!ulimit -n 500000\n",
    "import torch.multiprocessing\n",
    "torch.multiprocessing.set_sharing_strategy('file_system')"
   ]
  },
  {
   "cell_type": "code",
   "execution_count": 4,
   "metadata": {},
   "outputs": [
    {
     "name": "stderr",
     "output_type": "stream",
     "text": [
      "11:09:39 INFO (3642090698:12): The created model config is:\n",
      "{'out_dim': 5, 'train_websites': [], 'val_websites': [], 'test_websites': ['auto-aol', 'auto-yahoo'], 'datapath': './data', 'n_workers': 0, 'char_emb_dim': 16, 'char_hid_dim': 100, 'char_emb_dropout': 0.1, 'tag_emb_dim': 16, 'tag_hid_dim': 30, 'leaf_emb_dim': 30, 'pos_emb_dim': 20, 'attributes': ['model', 'price', 'engine', 'fuel_economy'], 'n_gpus': 0, 'class_weights': [1, 100, 100, 100, 100], 'char_dict_filename': './data/English_charDict.pkl', 'tag_dict_filename': './data/HTMLTagDict.pkl', 'word_emb_filename': './data/glove.6B.100d.txt'}\n"
     ]
    }
   ],
   "source": [
    "# Model Configurations\n",
    "import random\n",
    "from Utils.logger import logger\n",
    "from train_and_eval import create_config\n",
    "\n",
    "random.seed(7)\n",
    "\n",
    "test_websites = ['auto-aol','auto-yahoo']\n",
    "attributes = ['model', 'price', 'engine', 'fuel_economy']\n",
    "\n",
    "config = create_config(train_websites=[], val_websites=[], test_websites=test_websites, attributes=attributes)\n",
    "logger.info(f'The created model config is:\\n{config}')"
   ]
  },
  {
   "cell_type": "code",
   "execution_count": 5,
   "metadata": {},
   "outputs": [
    {
     "name": "stderr",
     "output_type": "stream",
     "text": [
      "11:09:39 INFO (79718419:3): Start testing based on the validation data set\n",
      "11:09:39 WARNING (train_and_eval:95): The pre-trained model is not provided, loading from disk\n",
      "11:09:39 INFO (SimpDOM_model:28): Instantiating the new model with config: {'out_dim': 5, 'train_websites': [], 'val_websites': [], 'test_websites': ['auto-aol', 'auto-yahoo'], 'datapath': './data', 'n_workers': 0, 'char_emb_dim': 16, 'char_hid_dim': 100, 'char_emb_dropout': 0.1, 'tag_emb_dim': 16, 'tag_hid_dim': 30, 'leaf_emb_dim': 30, 'pos_emb_dim': 20, 'attributes': ['model', 'price', 'engine', 'fuel_economy'], 'n_gpus': 0, 'class_weights': [1, 100, 100, 100, 100], 'char_dict_filename': './data/English_charDict.pkl', 'tag_dict_filename': './data/HTMLTagDict.pkl', 'word_emb_filename': './data/glove.6B.100d.txt'}\n",
      "11:09:39 INFO (SimpDOM_model:79): Loading ./data/English_charDict.pkl\n",
      "11:09:39 INFO (SimpDOM_model:81): Dictionary ./data/English_charDict.pkl length: 85\n",
      "11:09:39 INFO (SimpDOM_model:79): Loading ./data/HTMLTagDict.pkl\n",
      "11:09:39 INFO (SimpDOM_model:81): Dictionary ./data/HTMLTagDict.pkl length: 39\n",
      "11:09:39 INFO (pretrainedGloVe:9): Loading pretrained word emeddings from: ./data/glove.6B.100d.txt\n",
      "11:09:43 INFO (pretrainedGloVe:22): Loaded 400000 pretrained word vectors\n",
      "11:09:43 WARNING (train_and_eval:105): The test websites was not explit, extracting from config!\n",
      "11:09:43 INFO (train_and_eval:110): The test websites are: ['auto-aol', 'auto-yahoo']\n",
      "11:09:43 INFO (SimpDOM_model:182): Creating testing data loader for: ['auto-aol', 'auto-yahoo']\n",
      "11:09:43 INFO (swde_dataLoader:253): Start loading data set for websites: ['auto-aol', 'auto-yahoo']\n"
     ]
    },
    {
     "data": {
      "application/vnd.jupyter.widget-view+json": {
       "model_id": "e7d907eb91124d4f9b5f88b8761c7845",
       "version_major": 2,
       "version_minor": 0
      },
      "text/plain": [
       "Web site:   0%|          | 0/2 [00:00<?, ?it/s]"
      ]
     },
     "metadata": {},
     "output_type": "display_data"
    },
    {
     "data": {
      "application/vnd.jupyter.widget-view+json": {
       "model_id": "50a9358d80054156b88b6a66d60d8395",
       "version_major": 2,
       "version_minor": 0
      },
      "text/plain": [
       "Web pages for: \"auto-aol\":   0%|          | 0/2000 [00:00<?, ?it/s]"
      ]
     },
     "metadata": {},
     "output_type": "display_data"
    },
    {
     "data": {
      "application/vnd.jupyter.widget-view+json": {
       "model_id": "168abebac0b540ac9d7f114377fee00f",
       "version_major": 2,
       "version_minor": 0
      },
      "text/plain": [
       "Web pages for: \"auto-yahoo\":   0%|          | 0/2000 [00:00<?, ?it/s]"
      ]
     },
     "metadata": {},
     "output_type": "display_data"
    },
    {
     "name": "stderr",
     "output_type": "stream",
     "text": [
      "11:09:58 INFO (swde_dataLoader:258): SWDE data test loader has loaded: 397233 nodes from: ['auto-aol', 'auto-yahoo']\n"
     ]
    },
    {
     "data": {
      "application/vnd.jupyter.widget-view+json": {
       "model_id": "f99fc229e11e4d5790453c38c5b36333",
       "version_major": 2,
       "version_minor": 0
      },
      "text/plain": [
       "Testing batches:   0%|          | 0/12414 [00:00<?, ?it/s]"
      ]
     },
     "metadata": {},
     "output_type": "display_data"
    },
    {
     "name": "stdout",
     "output_type": "stream",
     "text": [
      "Dumping predictions dataframe into: test_predictions.csv\n"
     ]
    },
    {
     "name": "stderr",
     "output_type": "stream",
     "text": [
      "11:23:57 INFO (train_and_eval:120): Prediction summary:\n",
      "{1: (0.5995340409008543, 0.579224030037547, 0.5892040646454848), 2: (0.6294795886569025, 0.505, 0.5604105978637813), 3: (0.9409924005364327, 0.0525, 0.09945139188077982), 4: (0.9997499374843711, 0.999479843953186, 0.9996148724741235)}\n"
     ]
    },
    {
     "name": "stdout",
     "output_type": "stream",
     "text": [
      "class - 1: precision = 0.5995340409008543, recall = 0.579224030037547, F1 = 0.5892040646454848\n",
      "class - 2: precision = 0.6294795886569025, recall = 0.505, F1 = 0.5604105978637813\n",
      "class - 3: precision = 0.9409924005364327, recall = 0.0525, F1 = 0.09945139188077982\n",
      "class - 4: precision = 0.9997499374843711, recall = 0.999479843953186, F1 = 0.9996148724741235\n"
     ]
    },
    {
     "name": "stderr",
     "output_type": "stream",
     "text": [
      "11:24:10 INFO (train_and_eval:124): Website-level prediction summary:\n",
      "      website  attribute  precision    recall  retrieved_relevant  retrieved  \\\n",
      "0    auto-aol          1   0.359438  0.358897                 716       1992   \n",
      "1    auto-aol          2   1.000000  1.000000                2000       2000   \n",
      "2    auto-aol          3   0.000000  0.000000                   0          0   \n",
      "3    auto-aol          4   0.999458  0.998916                1843       1844   \n",
      "4  auto-yahoo          1   0.855003  0.799000                1598       1869   \n",
      "5  auto-yahoo          2   0.016543  0.010000                  20       1209   \n",
      "6  auto-yahoo          3   0.443038  0.052500                 105        237   \n",
      "7  auto-yahoo          4   1.000000  1.000000                2000       2000   \n",
      "\n",
      "   relevant  \n",
      "0      1995  \n",
      "1      2000  \n",
      "2         0  \n",
      "3      1845  \n",
      "4      2000  \n",
      "5      2000  \n",
      "6      2000  \n",
      "7      2000  \n"
     ]
    },
    {
     "data": {
      "text/plain": [
       "{1: (0.5995340409008543, 0.579224030037547, 0.5892040646454848),\n",
       " 2: (0.6294795886569025, 0.505, 0.5604105978637813),\n",
       " 3: (0.9409924005364327, 0.0525, 0.09945139188077982),\n",
       " 4: (0.9997499374843711, 0.999479843953186, 0.9996148724741235)}"
      ]
     },
     "execution_count": 5,
     "metadata": {},
     "output_type": "execute_result"
    }
   ],
   "source": [
    "from train_and_eval import test_model\n",
    "\n",
    "logger.info(f'Start testing based on the validation data set')\n",
    "test_model(config, model_weights_file=f'data/weights.ckpt')"
   ]
  },
  {
   "cell_type": "code",
   "execution_count": null,
   "metadata": {},
   "outputs": [],
   "source": []
  }
 ],
 "metadata": {
  "kernelspec": {
   "display_name": "tfm",
   "language": "python",
   "name": "tfm"
  },
  "language_info": {
   "codemirror_mode": {
    "name": "ipython",
    "version": 3
   },
   "file_extension": ".py",
   "mimetype": "text/x-python",
   "name": "python",
   "nbconvert_exporter": "python",
   "pygments_lexer": "ipython3",
   "version": "3.8.13"
  }
 },
 "nbformat": 4,
 "nbformat_minor": 4
}
