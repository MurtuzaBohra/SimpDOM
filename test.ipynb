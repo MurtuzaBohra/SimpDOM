{
 "cells": [
  {
   "cell_type": "code",
   "execution_count": 1,
   "metadata": {},
   "outputs": [
    {
     "data": {
      "text/plain": [
       "'/Users/izapreev/Projects/SimpDOM'"
      ]
     },
     "execution_count": 1,
     "metadata": {},
     "output_type": "execute_result"
    }
   ],
   "source": [
    "import os\n",
    "os.getcwd()"
   ]
  },
  {
   "cell_type": "code",
   "execution_count": 2,
   "metadata": {},
   "outputs": [],
   "source": [
    "# Make sure the source code auto reloads into the kernel\n",
    "%load_ext autoreload\n",
    "%autoreload 2"
   ]
  },
  {
   "cell_type": "code",
   "execution_count": 3,
   "metadata": {},
   "outputs": [],
   "source": [
    "# To help preventing shared maemory errors\n",
    "!ulimit -n 500000\n",
    "import torch.multiprocessing\n",
    "torch.multiprocessing.set_sharing_strategy('file_system')"
   ]
  },
  {
   "cell_type": "code",
   "execution_count": 4,
   "metadata": {},
   "outputs": [
    {
     "name": "stderr",
     "output_type": "stream",
     "text": [
      "13:45:14 INFO (3642090698:12): The created model config is:\n",
      "{'out_dim': 5, 'train_websites': [], 'val_websites': [], 'test_websites': ['auto-aol', 'auto-yahoo'], 'datapath': './data', 'n_workers': 0, 'char_emb_dim': 16, 'char_hid_dim': 100, 'char_emb_dropout': 0.1, 'tag_emb_dim': 16, 'tag_hid_dim': 30, 'leaf_emb_dim': 30, 'pos_emb_dim': 20, 'attributes': ['model', 'price', 'engine', 'fuel_economy'], 'n_gpus': 0, 'class_weights': [1, 100, 100, 100, 100], 'char_dict_filename': './data/English_charDict.pkl', 'tag_dict_filename': './data/HTMLTagDict.pkl', 'word_emb_filename': './data/glove.6B.100d.txt'}\n"
     ]
    }
   ],
   "source": [
    "# Model Configurations\n",
    "import random\n",
    "from Utils.logger import logger\n",
    "from train_and_eval import create_config\n",
    "\n",
    "random.seed(7)\n",
    "\n",
    "test_websites = ['auto-aol','auto-yahoo']\n",
    "attributes = ['model', 'price', 'engine', 'fuel_economy']\n",
    "\n",
    "config = create_config(train_websites=[], val_websites=[], test_websites=test_websites, attributes=attributes)\n",
    "logger.info(f'The created model config is:\\n{config}')"
   ]
  },
  {
   "cell_type": "code",
   "execution_count": 5,
   "metadata": {},
   "outputs": [
    {
     "name": "stderr",
     "output_type": "stream",
     "text": [
      "13:45:14 INFO (79718419:3): Start testing based on the validation data set\n",
      "13:45:14 WARNING (train_and_eval:95): The pre-trained model is not provided, loading from disk\n",
      "13:45:14 INFO (train_and_eval:100): Loading weights from: data/weights.ckpt\n",
      "13:45:14 INFO (SimpDOM_model:28): Instantiating the new model with config: {'out_dim': 5, 'train_websites': [], 'val_websites': [], 'test_websites': ['auto-aol', 'auto-yahoo'], 'datapath': './data', 'n_workers': 0, 'char_emb_dim': 16, 'char_hid_dim': 100, 'char_emb_dropout': 0.1, 'tag_emb_dim': 16, 'tag_hid_dim': 30, 'leaf_emb_dim': 30, 'pos_emb_dim': 20, 'attributes': ['model', 'price', 'engine', 'fuel_economy'], 'n_gpus': 0, 'class_weights': [1, 100, 100, 100, 100], 'char_dict_filename': './data/English_charDict.pkl', 'tag_dict_filename': './data/HTMLTagDict.pkl', 'word_emb_filename': './data/glove.6B.100d.txt'}\n",
      "13:45:14 INFO (SimpDOM_model:79): Loading ./data/English_charDict.pkl\n",
      "13:45:14 INFO (SimpDOM_model:81): Dictionary ./data/English_charDict.pkl length: 85\n",
      "13:45:14 INFO (SimpDOM_model:79): Loading ./data/HTMLTagDict.pkl\n",
      "13:45:14 INFO (SimpDOM_model:81): Dictionary ./data/HTMLTagDict.pkl length: 39\n",
      "13:45:14 INFO (pretrainedGloVe:9): Loading pretrained word emeddings from: ./data/glove.6B.100d.txt\n",
      "13:45:18 INFO (pretrainedGloVe:22): Loaded 400000 pretrained word vectors\n",
      "13:45:18 WARNING (train_and_eval:107): The test websites was not explit, extracting from config!\n",
      "13:45:18 INFO (train_and_eval:112): The test websites are: ['auto-aol', 'auto-yahoo']\n",
      "13:45:18 INFO (SimpDOM_model:182): Creating testing data loader for: ['auto-aol', 'auto-yahoo']\n",
      "13:45:18 INFO (swde_dataLoader:257): Start loading data set for websites: ['auto-aol', 'auto-yahoo']\n"
     ]
    },
    {
     "data": {
      "application/vnd.jupyter.widget-view+json": {
       "model_id": "a0b97dabd2794390b2974d7cda62facc",
       "version_major": 2,
       "version_minor": 0
      },
      "text/plain": [
       "Web site:   0%|          | 0/2 [00:00<?, ?it/s]"
      ]
     },
     "metadata": {},
     "output_type": "display_data"
    },
    {
     "data": {
      "application/vnd.jupyter.widget-view+json": {
       "model_id": "50864db6afa849faa4ab43f3d3193f06",
       "version_major": 2,
       "version_minor": 0
      },
      "text/plain": [
       "Web pages for: \"auto-aol\":   0%|          | 0/2000 [00:00<?, ?it/s]"
      ]
     },
     "metadata": {},
     "output_type": "display_data"
    },
    {
     "data": {
      "application/vnd.jupyter.widget-view+json": {
       "model_id": "d45a09ba93254b5487bd8e178e5dd8ad",
       "version_major": 2,
       "version_minor": 0
      },
      "text/plain": [
       "Web pages for: \"auto-yahoo\":   0%|          | 0/2000 [00:00<?, ?it/s]"
      ]
     },
     "metadata": {},
     "output_type": "display_data"
    },
    {
     "name": "stderr",
     "output_type": "stream",
     "text": [
      "13:45:34 INFO (swde_dataLoader:262): SWDE data test loader has loaded: 435018 nodes from: ['auto-aol', 'auto-yahoo']\n"
     ]
    },
    {
     "data": {
      "application/vnd.jupyter.widget-view+json": {
       "model_id": "343645881c634bf5a58a230ce82399d9",
       "version_major": 2,
       "version_minor": 0
      },
      "text/plain": [
       "Testing batches:   0%|          | 0/13595 [00:00<?, ?it/s]"
      ]
     },
     "metadata": {},
     "output_type": "display_data"
    },
    {
     "name": "stdout",
     "output_type": "stream",
     "text": [
      "Dumping predictions dataframe into: test_predictions.csv\n"
     ]
    },
    {
     "name": "stderr",
     "output_type": "stream",
     "text": [
      "14:01:18 INFO (train_and_eval:122): Prediction summary:\n",
      "{1: (0.7649817613340282, 0.7336670838548185, 0.7489972582194014), 2: (0.9091591591591591, 0.90825, 0.908704352176088), 3: (0.9112169770463404, 0.052, 0.09838548101946523), 4: (0.9992498124531133, 0.999479843953186, 0.9993648149661191)}\n"
     ]
    },
    {
     "name": "stdout",
     "output_type": "stream",
     "text": [
      "class - 1: precision = 0.7649817613340282, recall = 0.7336670838548185, F1 = 0.7489972582194014\n",
      "class - 2: precision = 0.9091591591591591, recall = 0.90825, F1 = 0.908704352176088\n",
      "class - 3: precision = 0.9112169770463404, recall = 0.052, F1 = 0.09838548101946523\n",
      "class - 4: precision = 0.9992498124531133, recall = 0.999479843953186, F1 = 0.9993648149661191\n"
     ]
    },
    {
     "name": "stderr",
     "output_type": "stream",
     "text": [
      "14:01:32 INFO (train_and_eval:126): Website-level prediction summary:\n",
      "      website  attribute  precision    recall  retrieved_relevant  retrieved  \\\n",
      "0    auto-aol          1   0.704698  0.684211                1365       1937   \n",
      "1    auto-aol          2   0.999500  0.999500                1999       2000   \n",
      "2    auto-aol          3   0.000000  0.000000                   0          0   \n",
      "3    auto-aol          4   0.998375  0.998916                1843       1846   \n",
      "4  auto-yahoo          1   0.825949  0.783000                1566       1896   \n",
      "5  auto-yahoo          2   0.818637  0.817000                1634       1996   \n",
      "6  auto-yahoo          3   0.336570  0.052000                 104        309   \n",
      "7  auto-yahoo          4   1.000000  1.000000                2000       2000   \n",
      "\n",
      "   relevant  \n",
      "0      1995  \n",
      "1      2000  \n",
      "2         0  \n",
      "3      1845  \n",
      "4      2000  \n",
      "5      2000  \n",
      "6      2000  \n",
      "7      2000  \n"
     ]
    },
    {
     "data": {
      "text/plain": [
       "{1: (0.7649817613340282, 0.7336670838548185, 0.7489972582194014),\n",
       " 2: (0.9091591591591591, 0.90825, 0.908704352176088),\n",
       " 3: (0.9112169770463404, 0.052, 0.09838548101946523),\n",
       " 4: (0.9992498124531133, 0.999479843953186, 0.9993648149661191)}"
      ]
     },
     "execution_count": 5,
     "metadata": {},
     "output_type": "execute_result"
    }
   ],
   "source": [
    "from train_and_eval import test_model\n",
    "\n",
    "logger.info(f'Start testing based on the validation data set')\n",
    "test_model(config, model_weights_file=f'data/weights.ckpt')"
   ]
  },
  {
   "cell_type": "code",
   "execution_count": 20,
   "metadata": {},
   "outputs": [
    {
     "name": "stderr",
     "output_type": "stream",
     "text": [
      "16:17:24 INFO (1537149334:11): max_parents: 1, max_friends: 10\n"
     ]
    }
   ],
   "source": [
    "# Check on the number of friends and partners\n",
    "import pickle\n",
    "obj = pickle.load(open('./data/nodesDetails/auto-aol.pkl', 'rb'))\n",
    "max_parents = 0\n",
    "max_friends = 0\n",
    "for data in obj.values():\n",
    "    for node_info in data.values():\n",
    "        max_parents = max(max_parents, len(node_info.partnerNodes))\n",
    "        max_friends = max(max_friends, len(node_info.friendNodes))\n",
    "        \n",
    "logger.info(f'max_parents: {max_parents}, max_friends: {max_friends}')"
   ]
  },
  {
   "cell_type": "code",
   "execution_count": null,
   "metadata": {},
   "outputs": [],
   "source": []
  }
 ],
 "metadata": {
  "kernelspec": {
   "display_name": "tfm",
   "language": "python",
   "name": "tfm"
  },
  "language_info": {
   "codemirror_mode": {
    "name": "ipython",
    "version": 3
   },
   "file_extension": ".py",
   "mimetype": "text/x-python",
   "name": "python",
   "nbconvert_exporter": "python",
   "pygments_lexer": "ipython3",
   "version": "3.8.13"
  }
 },
 "nbformat": 4,
 "nbformat_minor": 4
}
