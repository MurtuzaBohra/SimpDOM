{
 "cells": [
  {
   "cell_type": "code",
   "execution_count": 8,
   "metadata": {},
   "outputs": [
    {
     "data": {
      "text/plain": [
       "'/Users/izapreev/Projects/SimpDOM'"
      ]
     },
     "execution_count": 8,
     "metadata": {},
     "output_type": "execute_result"
    }
   ],
   "source": [
    "import os\n",
    "os.getcwd()"
   ]
  },
  {
   "cell_type": "code",
   "execution_count": 9,
   "metadata": {},
   "outputs": [],
   "source": [
    "# Make sure the source code auto reloads into the kernel\n",
    "%load_ext autoreload\n",
    "%autoreload 2"
   ]
  },
  {
   "cell_type": "code",
   "execution_count": 10,
   "metadata": {},
   "outputs": [],
   "source": [
    "# To help preventing shared maemory errors\n",
    "!ulimit -n 500000\n",
    "import torch.multiprocessing\n",
    "torch.multiprocessing.set_sharing_strategy('file_system')"
   ]
  },
  {
   "cell_type": "code",
   "execution_count": 11,
   "metadata": {
    "scrolled": true
   },
   "outputs": [],
   "source": [
    "# Do the training and testing\n",
    "import random\n",
    "import pickle\n",
    "\n",
    "from Utils.logger import logger\n",
    "from train_and_eval import test_model\n",
    "from train_and_eval import train_model\n",
    "from train_and_eval import create_config\n",
    "\n",
    "# Set training and validation sites\n",
    "train_websites = ['auto-autobytel', 'auto-automotive', 'auto-autoweb', 'auto-carquotes', 'auto-cars', 'auto-kbb', 'auto-motortrend', 'auto-msn']\n",
    "val_websites = ['auto-aol']\n",
    "test_websites = ['auto-aol', 'auto-yahoo']\n",
    "\n",
    "# Define the data attributes of interest\n",
    "attributes = ['model', 'price', 'engine', 'fuel_economy']\n",
    "\n",
    "# Create the model config\n",
    "config = create_config(train_websites=train_websites, val_websites=val_websites, test_websites=test_websites, attributes=attributes)\n",
    "\n",
    "# Define the number of training epochs\n",
    "num_train_epochs = 10"
   ]
  },
  {
   "cell_type": "code",
   "execution_count": 12,
   "metadata": {},
   "outputs": [
    {
     "name": "stderr",
     "output_type": "stream",
     "text": [
      "14:04:25 INFO (942756449:1): Starting model training\n",
      "14:04:25 INFO (train_and_eval:67): Instantiating the Model checkpoint.\n",
      "14:04:25 INFO (train_and_eval:77): Instantiating the Sequential model\n",
      "14:04:25 INFO (SimpDOM_model:28): Instantiating the new model with config: {'out_dim': 5, 'train_websites': ['auto-autobytel', 'auto-automotive', 'auto-autoweb', 'auto-carquotes', 'auto-cars', 'auto-kbb', 'auto-motortrend', 'auto-msn'], 'val_websites': ['auto-aol'], 'test_websites': ['auto-aol', 'auto-yahoo'], 'datapath': './data', 'n_workers': 0, 'char_emb_dim': 16, 'char_hid_dim': 100, 'char_emb_dropout': 0.1, 'tag_emb_dim': 16, 'tag_hid_dim': 30, 'leaf_emb_dim': 30, 'pos_emb_dim': 20, 'attributes': ['model', 'price', 'engine', 'fuel_economy'], 'n_gpus': 0, 'class_weights': [1, 100, 100, 100, 100], 'char_dict_filename': './data/English_charDict.pkl', 'tag_dict_filename': './data/HTMLTagDict.pkl', 'word_emb_filename': './data/glove.6B.100d.txt'}\n",
      "14:04:25 INFO (SimpDOM_model:79): Loading ./data/English_charDict.pkl\n",
      "14:04:25 INFO (SimpDOM_model:81): Dictionary ./data/English_charDict.pkl length: 85\n",
      "14:04:25 INFO (SimpDOM_model:79): Loading ./data/HTMLTagDict.pkl\n",
      "14:04:25 INFO (SimpDOM_model:81): Dictionary ./data/HTMLTagDict.pkl length: 39\n",
      "14:04:25 INFO (pretrainedGloVe:9): Loading pretrained word emeddings from: ./data/glove.6B.100d.txt\n",
      "14:04:29 INFO (pretrainedGloVe:22): Loaded 400000 pretrained word vectors\n",
      "14:04:29 INFO (train_and_eval:80): Instantiating the Training object\n",
      "14:04:29 INFO (trainer:1751): GPU available: False, used: False\n",
      "14:04:29 INFO (trainer:1754): TPU available: False, using: 0 TPU cores\n",
      "14:04:29 INFO (trainer:1757): IPU available: False, using: 0 IPUs\n",
      "14:04:29 INFO (trainer:1760): HPU available: False, using: 0 HPUs\n",
      "14:04:29 INFO (train_and_eval:85): Fitting the model\n",
      "14:04:29 INFO (distributed:373): Initializing distributed: GLOBAL_RANK: 0, MEMBER: 1/10\n",
      "14:04:29 INFO (distributed:373): Initializing distributed: GLOBAL_RANK: 1, MEMBER: 2/10\n",
      "14:04:29 INFO (distributed:373): Initializing distributed: GLOBAL_RANK: 3, MEMBER: 4/10\n",
      "14:04:29 INFO (distributed:373): Initializing distributed: GLOBAL_RANK: 2, MEMBER: 3/10\n",
      "14:04:29 INFO (distributed:373): Initializing distributed: GLOBAL_RANK: 4, MEMBER: 5/10\n",
      "14:04:29 INFO (distributed:373): Initializing distributed: GLOBAL_RANK: 5, MEMBER: 6/10\n",
      "14:04:29 INFO (distributed:373): Initializing distributed: GLOBAL_RANK: 7, MEMBER: 8/10\n",
      "14:04:29 INFO (distributed:373): Initializing distributed: GLOBAL_RANK: 6, MEMBER: 7/10\n",
      "14:04:29 INFO (distributed:373): Initializing distributed: GLOBAL_RANK: 8, MEMBER: 9/10\n",
      "14:04:29 INFO (distributed:373): Initializing distributed: GLOBAL_RANK: 9, MEMBER: 10/10\n",
      "14:04:30 INFO (distributed_c10d:194): Added key: store_based_barrier_key:1 to store for rank: 1\n",
      "14:04:30 INFO (distributed_c10d:194): Added key: store_based_barrier_key:1 to store for rank: 0\n",
      "14:04:30 INFO (distributed_c10d:194): Added key: store_based_barrier_key:1 to store for rank: 2\n",
      "14:04:30 INFO (distributed_c10d:194): Added key: store_based_barrier_key:1 to store for rank: 3\n",
      "14:04:30 INFO (distributed_c10d:194): Added key: store_based_barrier_key:1 to store for rank: 5\n",
      "14:04:30 INFO (distributed_c10d:194): Added key: store_based_barrier_key:1 to store for rank: 6\n",
      "14:04:30 INFO (distributed_c10d:194): Added key: store_based_barrier_key:1 to store for rank: 4\n",
      "14:04:30 INFO (distributed_c10d:194): Added key: store_based_barrier_key:1 to store for rank: 9\n",
      "14:04:30 INFO (distributed_c10d:194): Added key: store_based_barrier_key:1 to store for rank: 7\n",
      "14:04:30 INFO (distributed_c10d:194): Added key: store_based_barrier_key:1 to store for rank: 8\n",
      "14:04:30 INFO (distributed_c10d:224): Rank 8: Completed store-based barrier for 10 nodes.\n",
      "14:04:30 INFO (distributed_c10d:224): Rank 9: Completed store-based barrier for 10 nodes.\n",
      "14:04:30 INFO (distributed_c10d:224): Rank 7: Completed store-based barrier for 10 nodes.\n",
      "14:04:30 INFO (distributed_c10d:224): Rank 1: Completed store-based barrier for 10 nodes.\n",
      "14:04:30 INFO (distributed_c10d:224): Rank 0: Completed store-based barrier for 10 nodes.\n",
      "14:04:30 INFO (distributed_c10d:224): Rank 2: Completed store-based barrier for 10 nodes.\n",
      "14:04:30 INFO (distributed_c10d:224): Rank 3: Completed store-based barrier for 10 nodes.\n",
      "14:04:30 INFO (distributed_c10d:224): Rank 5: Completed store-based barrier for 10 nodes.\n",
      "14:04:30 INFO (distributed_c10d:224): Rank 4: Completed store-based barrier for 10 nodes.\n",
      "14:04:30 INFO (distributed:377): ----------------------------------------------------------------------------------------------------\n",
      "distributed_backend=gloo\n",
      "All distributed processes registered. Starting with 10 processes\n",
      "----------------------------------------------------------------------------------------------------\n",
      "\n",
      "14:04:30 INFO (distributed_c10d:224): Rank 6: Completed store-based barrier for 10 nodes.\n",
      "14:04:30 WARNING (tensorboard:301): Missing logger folder: /Users/izapreev/Projects/SimpDOM/lightning_logs\n",
      "14:04:30 WARNING (tensorboard:301): Missing logger folder: /Users/izapreev/Projects/SimpDOM/lightning_logs\n",
      "14:04:30 WARNING (tensorboard:301): Missing logger folder: /Users/izapreev/Projects/SimpDOM/lightning_logs\n",
      "14:04:30 WARNING (tensorboard:301): Missing logger folder: /Users/izapreev/Projects/SimpDOM/lightning_logs\n",
      "14:04:30 WARNING (tensorboard:301): Missing logger folder: /Users/izapreev/Projects/SimpDOM/lightning_logs\n",
      "14:04:30 WARNING (tensorboard:301): Missing logger folder: /Users/izapreev/Projects/SimpDOM/lightning_logs\n",
      "14:04:30 WARNING (tensorboard:301): Missing logger folder: /Users/izapreev/Projects/SimpDOM/lightning_logs\n",
      "14:04:30 WARNING (tensorboard:301): Missing logger folder: /Users/izapreev/Projects/SimpDOM/lightning_logs\n",
      "14:04:30 WARNING (tensorboard:301): Missing logger folder: /Users/izapreev/Projects/SimpDOM/lightning_logs\n",
      "14:04:30 WARNING (tensorboard:301): Missing logger folder: /Users/izapreev/Projects/SimpDOM/lightning_logs\n",
      "14:04:30 INFO (model_summary:83): \n",
      "  | Name                    | Type             | Params\n",
      "-------------------------------------------------------------\n",
      "0 | charLevelWordEmbeddings | CharCNN          | 6.3 K \n",
      "1 | BiLSTM                  | BiLSTM           | 241 K \n",
      "2 | BiLSTM_xpath            | BiLSTM_xpath     | 12.2 K\n",
      "3 | Leaf_embedding          | Embedding        | 1.2 K \n",
      "4 | pos_embedding           | Embedding        | 2.0 K \n",
      "5 | classifier              | Sequential       | 46.1 K\n",
      "6 | loss                    | CrossEntropyLoss | 0     \n",
      "-------------------------------------------------------------\n",
      "309 K     Trainable params\n",
      "0         Non-trainable params\n",
      "309 K     Total params\n",
      "1.238     Total estimated model params size (MB)\n",
      "14:04:30 INFO (SimpDOM_model:176): Creating validation data loader for: ['auto-aol']\n",
      "14:04:30 INFO (SimpDOM_model:176): Creating validation data loader for: ['auto-aol']\n",
      "14:04:30 INFO (SimpDOM_model:176): Creating validation data loader for: ['auto-aol']\n",
      "14:04:30 INFO (SimpDOM_model:176): Creating validation data loader for: ['auto-aol']\n",
      "14:04:30 INFO (SimpDOM_model:176): Creating validation data loader for: ['auto-aol']\n",
      "14:04:30 INFO (SimpDOM_model:176): Creating validation data loader for: ['auto-aol']\n",
      "14:04:30 INFO (SimpDOM_model:176): Creating validation data loader for: ['auto-aol']\n",
      "14:04:30 INFO (SimpDOM_model:176): Creating validation data loader for: ['auto-aol']\n",
      "14:04:30 INFO (SimpDOM_model:176): Creating validation data loader for: ['auto-aol']\n"
     ]
    },
    {
     "data": {
      "application/vnd.jupyter.widget-view+json": {
       "model_id": "705137f1e5d948ef8b8b496d2edbe5a1",
       "version_major": 2,
       "version_minor": 0
      },
      "text/plain": [
       "Web sites:   0%|          | 0/1 [00:00<?, ?it/s]"
      ]
     },
     "metadata": {},
     "output_type": "display_data"
    },
    {
     "data": {
      "application/vnd.jupyter.widget-view+json": {
       "model_id": "03f0bf29ba0e44e89c5cc12b746f1f27",
       "version_major": 2,
       "version_minor": 0
      },
      "text/plain": [
       "Web sites:   0%|          | 0/1 [00:00<?, ?it/s]"
      ]
     },
     "metadata": {},
     "output_type": "display_data"
    },
    {
     "data": {
      "application/vnd.jupyter.widget-view+json": {
       "model_id": "c35fcedfa28145718626fffb0af7d9ff",
       "version_major": 2,
       "version_minor": 0
      },
      "text/plain": [
       "Web sites:   0%|          | 0/1 [00:00<?, ?it/s]"
      ]
     },
     "metadata": {},
     "output_type": "display_data"
    },
    {
     "data": {
      "application/vnd.jupyter.widget-view+json": {
       "model_id": "98f8244e76e046348d706721ce56d48f",
       "version_major": 2,
       "version_minor": 0
      },
      "text/plain": [
       "Web sites:   0%|          | 0/1 [00:00<?, ?it/s]"
      ]
     },
     "metadata": {},
     "output_type": "display_data"
    },
    {
     "data": {
      "application/vnd.jupyter.widget-view+json": {
       "model_id": "85bde45ead3f470391059c119dc45bed",
       "version_major": 2,
       "version_minor": 0
      },
      "text/plain": [
       "Web sites:   0%|          | 0/1 [00:00<?, ?it/s]"
      ]
     },
     "metadata": {},
     "output_type": "display_data"
    },
    {
     "data": {
      "application/vnd.jupyter.widget-view+json": {
       "model_id": "432a00f4a3444efbaf44888959facf12",
       "version_major": 2,
       "version_minor": 0
      },
      "text/plain": [
       "Web sites:   0%|          | 0/1 [00:00<?, ?it/s]"
      ]
     },
     "metadata": {},
     "output_type": "display_data"
    },
    {
     "data": {
      "application/vnd.jupyter.widget-view+json": {
       "model_id": "c9a7276f94a042838de69b4b7edfee6d",
       "version_major": 2,
       "version_minor": 0
      },
      "text/plain": [
       "Web sites:   0%|          | 0/1 [00:00<?, ?it/s]"
      ]
     },
     "metadata": {},
     "output_type": "display_data"
    },
    {
     "data": {
      "application/vnd.jupyter.widget-view+json": {
       "model_id": "523bc3a02b894d18bdb9d5d7d0272f8f",
       "version_major": 2,
       "version_minor": 0
      },
      "text/plain": [
       "Web sites:   0%|          | 0/1 [00:00<?, ?it/s]"
      ]
     },
     "metadata": {},
     "output_type": "display_data"
    },
    {
     "data": {
      "application/vnd.jupyter.widget-view+json": {
       "model_id": "f93b2ecc251b4956bad4b805bfb4e9ae",
       "version_major": 2,
       "version_minor": 0
      },
      "text/plain": [
       "Web sites:   0%|          | 0/1 [00:00<?, ?it/s]"
      ]
     },
     "metadata": {},
     "output_type": "display_data"
    },
    {
     "data": {
      "application/vnd.jupyter.widget-view+json": {
       "model_id": "",
       "version_major": 2,
       "version_minor": 0
      },
      "text/plain": [
       "Sanity Checking: 0it [00:00, ?it/s]"
      ]
     },
     "metadata": {},
     "output_type": "display_data"
    },
    {
     "name": "stderr",
     "output_type": "stream",
     "text": [
      "14:04:30 INFO (SimpDOM_model:176): Creating validation data loader for: ['auto-aol']\n"
     ]
    },
    {
     "data": {
      "application/vnd.jupyter.widget-view+json": {
       "model_id": "4bdb2ea1df4445a9bbbf78e6c3b39a86",
       "version_major": 2,
       "version_minor": 0
      },
      "text/plain": [
       "Web sites:   0%|          | 0/1 [00:00<?, ?it/s]"
      ]
     },
     "metadata": {},
     "output_type": "display_data"
    },
    {
     "data": {
      "application/vnd.jupyter.widget-view+json": {
       "model_id": "53789fb3642042e2b40e1b852d12fc34",
       "version_major": 2,
       "version_minor": 0
      },
      "text/plain": [
       "Web pages for: \"auto-aol\":   0%|          | 0/200 [00:00<?, ?it/s]"
      ]
     },
     "metadata": {},
     "output_type": "display_data"
    },
    {
     "data": {
      "application/vnd.jupyter.widget-view+json": {
       "model_id": "0e97931c4a1f454db5a556f3633fe191",
       "version_major": 2,
       "version_minor": 0
      },
      "text/plain": [
       "Web pages for: \"auto-aol\":   0%|          | 0/200 [00:00<?, ?it/s]"
      ]
     },
     "metadata": {},
     "output_type": "display_data"
    },
    {
     "data": {
      "application/vnd.jupyter.widget-view+json": {
       "model_id": "c9c8c03c6c644d4e8a24304ce6c1dc57",
       "version_major": 2,
       "version_minor": 0
      },
      "text/plain": [
       "Web pages for: \"auto-aol\":   0%|          | 0/200 [00:00<?, ?it/s]"
      ]
     },
     "metadata": {},
     "output_type": "display_data"
    },
    {
     "data": {
      "application/vnd.jupyter.widget-view+json": {
       "model_id": "6faddef7cf464ba5942756111495c323",
       "version_major": 2,
       "version_minor": 0
      },
      "text/plain": [
       "Web pages for: \"auto-aol\":   0%|          | 0/200 [00:00<?, ?it/s]"
      ]
     },
     "metadata": {},
     "output_type": "display_data"
    },
    {
     "data": {
      "application/vnd.jupyter.widget-view+json": {
       "model_id": "3d3b2ff67afc4bd692dcfa83f9087b28",
       "version_major": 2,
       "version_minor": 0
      },
      "text/plain": [
       "Web pages for: \"auto-aol\":   0%|          | 0/200 [00:00<?, ?it/s]"
      ]
     },
     "metadata": {},
     "output_type": "display_data"
    },
    {
     "data": {
      "application/vnd.jupyter.widget-view+json": {
       "model_id": "e2b7bd5e9ccf4641b238edffa50eeeb8",
       "version_major": 2,
       "version_minor": 0
      },
      "text/plain": [
       "Web pages for: \"auto-aol\":   0%|          | 0/200 [00:00<?, ?it/s]"
      ]
     },
     "metadata": {},
     "output_type": "display_data"
    },
    {
     "data": {
      "application/vnd.jupyter.widget-view+json": {
       "model_id": "ceeb5125e8bb418ea99b1235a30c2933",
       "version_major": 2,
       "version_minor": 0
      },
      "text/plain": [
       "Web pages for: \"auto-aol\":   0%|          | 0/200 [00:00<?, ?it/s]"
      ]
     },
     "metadata": {},
     "output_type": "display_data"
    },
    {
     "data": {
      "application/vnd.jupyter.widget-view+json": {
       "model_id": "6e2ea24ca7b049fb9dc80f1c31249567",
       "version_major": 2,
       "version_minor": 0
      },
      "text/plain": [
       "Web pages for: \"auto-aol\":   0%|          | 0/200 [00:00<?, ?it/s]"
      ]
     },
     "metadata": {},
     "output_type": "display_data"
    },
    {
     "data": {
      "application/vnd.jupyter.widget-view+json": {
       "model_id": "aaf4662635de4ee2952c10dde2e2978b",
       "version_major": 2,
       "version_minor": 0
      },
      "text/plain": [
       "Web pages for: \"auto-aol\":   0%|          | 0/200 [00:00<?, ?it/s]"
      ]
     },
     "metadata": {},
     "output_type": "display_data"
    },
    {
     "data": {
      "application/vnd.jupyter.widget-view+json": {
       "model_id": "4cc4eb5ef92e40fa99edc1b1bd63cb88",
       "version_major": 2,
       "version_minor": 0
      },
      "text/plain": [
       "Web pages for: \"auto-aol\":   0%|          | 0/200 [00:00<?, ?it/s]"
      ]
     },
     "metadata": {},
     "output_type": "display_data"
    },
    {
     "name": "stderr",
     "output_type": "stream",
     "text": [
      "14:04:37 INFO (swde_dataLoader:174): SWDE data loader has loaded: 21294 nodes from: ['auto-aol']\n",
      "14:04:37 INFO (swde_dataLoader:174): SWDE data loader has loaded: 22010 nodes from: ['auto-aol']\n",
      "14:04:37 INFO (swde_dataLoader:174): SWDE data loader has loaded: 22046 nodes from: ['auto-aol']\n",
      "14:04:37 INFO (swde_dataLoader:174): SWDE data loader has loaded: 21492 nodes from: ['auto-aol']\n",
      "14:04:38 INFO (swde_dataLoader:174): SWDE data loader has loaded: 21530 nodes from: ['auto-aol']\n",
      "14:04:38 INFO (swde_dataLoader:174): SWDE data loader has loaded: 21693 nodes from: ['auto-aol']\n",
      "14:04:38 INFO (swde_dataLoader:174): SWDE data loader has loaded: 22258 nodes from: ['auto-aol']\n",
      "14:04:38 INFO (swde_dataLoader:174): SWDE data loader has loaded: 20885 nodes from: ['auto-aol']\n",
      "14:04:38 INFO (swde_dataLoader:174): SWDE data loader has loaded: 22158 nodes from: ['auto-aol']\n",
      "14:04:38 INFO (swde_dataLoader:174): SWDE data loader has loaded: 22148 nodes from: ['auto-aol']\n",
      "/Users/izapreev/miniforge3/envs/tfm/lib/python3.8/site-packages/pytorch_lightning/trainer/connectors/data_connector.py:229: UserWarning: strategy=ddp_spawn and num_workers=0 may result in data loading bottlenecks. Consider setting num_workers>0 and persistent_workers=True\n",
      "  rank_zero_warn(\n",
      "14:04:38 INFO (SimpDOM_model:162): Mean validation loss: 1.6704603433609009\n",
      "14:04:38 INFO (SimpDOM_model:162): Mean validation loss: 1.545555591583252\n",
      "14:04:38 INFO (SimpDOM_model:162): Mean validation loss: 1.5843868255615234\n",
      "14:04:38 INFO (SimpDOM_model:162): Mean validation loss: 1.5910564661026\n",
      "14:04:38 INFO (SimpDOM_model:162): Mean validation loss: 1.610048770904541\n",
      "14:04:38 INFO (SimpDOM_model:162): Mean validation loss: 1.6003988981246948\n",
      "14:04:38 INFO (SimpDOM_model:162): Mean validation loss: 1.5979037284851074\n",
      "14:04:38 INFO (SimpDOM_model:162): Mean validation loss: 1.6046533584594727\n",
      "14:04:38 INFO (SimpDOM_model:162): Mean validation loss: 1.621788740158081\n",
      "14:04:38 INFO (SimpDOM_model:162): Mean validation loss: 1.5753834247589111\n",
      "14:04:38 INFO (SimpDOM_model:170): Creating training data loader for: ['auto-autobytel', 'auto-automotive', 'auto-autoweb', 'auto-carquotes', 'auto-cars', 'auto-kbb', 'auto-motortrend', 'auto-msn']\n",
      "14:04:38 INFO (SimpDOM_model:170): Creating training data loader for: ['auto-autobytel', 'auto-automotive', 'auto-autoweb', 'auto-carquotes', 'auto-cars', 'auto-kbb', 'auto-motortrend', 'auto-msn']\n",
      "14:04:38 INFO (SimpDOM_model:170): Creating training data loader for: ['auto-autobytel', 'auto-automotive', 'auto-autoweb', 'auto-carquotes', 'auto-cars', 'auto-kbb', 'auto-motortrend', 'auto-msn']\n",
      "14:04:38 INFO (SimpDOM_model:170): Creating training data loader for: ['auto-autobytel', 'auto-automotive', 'auto-autoweb', 'auto-carquotes', 'auto-cars', 'auto-kbb', 'auto-motortrend', 'auto-msn']\n",
      "14:04:38 INFO (SimpDOM_model:170): Creating training data loader for: ['auto-autobytel', 'auto-automotive', 'auto-autoweb', 'auto-carquotes', 'auto-cars', 'auto-kbb', 'auto-motortrend', 'auto-msn']\n",
      "14:04:38 INFO (SimpDOM_model:170): Creating training data loader for: ['auto-autobytel', 'auto-automotive', 'auto-autoweb', 'auto-carquotes', 'auto-cars', 'auto-kbb', 'auto-motortrend', 'auto-msn']\n",
      "14:04:38 INFO (SimpDOM_model:170): Creating training data loader for: ['auto-autobytel', 'auto-automotive', 'auto-autoweb', 'auto-carquotes', 'auto-cars', 'auto-kbb', 'auto-motortrend', 'auto-msn']\n",
      "14:04:38 INFO (SimpDOM_model:170): Creating training data loader for: ['auto-autobytel', 'auto-automotive', 'auto-autoweb', 'auto-carquotes', 'auto-cars', 'auto-kbb', 'auto-motortrend', 'auto-msn']\n",
      "14:04:38 INFO (SimpDOM_model:170): Creating training data loader for: ['auto-autobytel', 'auto-automotive', 'auto-autoweb', 'auto-carquotes', 'auto-cars', 'auto-kbb', 'auto-motortrend', 'auto-msn']\n",
      "14:04:38 INFO (SimpDOM_model:170): Creating training data loader for: ['auto-autobytel', 'auto-automotive', 'auto-autoweb', 'auto-carquotes', 'auto-cars', 'auto-kbb', 'auto-motortrend', 'auto-msn']\n"
     ]
    },
    {
     "data": {
      "application/vnd.jupyter.widget-view+json": {
       "model_id": "b25f1d10287b4d958fb01952b23e642e",
       "version_major": 2,
       "version_minor": 0
      },
      "text/plain": [
       "Web sites:   0%|          | 0/8 [00:00<?, ?it/s]"
      ]
     },
     "metadata": {},
     "output_type": "display_data"
    },
    {
     "data": {
      "application/vnd.jupyter.widget-view+json": {
       "model_id": "4134694e524442ae960d957fa7cd22e4",
       "version_major": 2,
       "version_minor": 0
      },
      "text/plain": [
       "Web sites:   0%|          | 0/8 [00:00<?, ?it/s]"
      ]
     },
     "metadata": {},
     "output_type": "display_data"
    },
    {
     "data": {
      "application/vnd.jupyter.widget-view+json": {
       "model_id": "2d0036757b44476aaab993ceb2d01013",
       "version_major": 2,
       "version_minor": 0
      },
      "text/plain": [
       "Web sites:   0%|          | 0/8 [00:00<?, ?it/s]"
      ]
     },
     "metadata": {},
     "output_type": "display_data"
    },
    {
     "data": {
      "application/vnd.jupyter.widget-view+json": {
       "model_id": "61fecbd9a21d4e6ebacbebe4de183073",
       "version_major": 2,
       "version_minor": 0
      },
      "text/plain": [
       "Web sites:   0%|          | 0/8 [00:00<?, ?it/s]"
      ]
     },
     "metadata": {},
     "output_type": "display_data"
    },
    {
     "data": {
      "application/vnd.jupyter.widget-view+json": {
       "model_id": "1f13dc8c264e4e19a423002a12471244",
       "version_major": 2,
       "version_minor": 0
      },
      "text/plain": [
       "Web sites:   0%|          | 0/8 [00:00<?, ?it/s]"
      ]
     },
     "metadata": {},
     "output_type": "display_data"
    },
    {
     "data": {
      "application/vnd.jupyter.widget-view+json": {
       "model_id": "e7851202c35945a09a0faaaaeefb2e3e",
       "version_major": 2,
       "version_minor": 0
      },
      "text/plain": [
       "Web sites:   0%|          | 0/8 [00:00<?, ?it/s]"
      ]
     },
     "metadata": {},
     "output_type": "display_data"
    },
    {
     "data": {
      "application/vnd.jupyter.widget-view+json": {
       "model_id": "6aa5258d4bd34f72a1c3712f67c04a63",
       "version_major": 2,
       "version_minor": 0
      },
      "text/plain": [
       "Web sites:   0%|          | 0/8 [00:00<?, ?it/s]"
      ]
     },
     "metadata": {},
     "output_type": "display_data"
    },
    {
     "data": {
      "application/vnd.jupyter.widget-view+json": {
       "model_id": "a2ce6e91d4da40b3be261f7f562c8715",
       "version_major": 2,
       "version_minor": 0
      },
      "text/plain": [
       "Web sites:   0%|          | 0/8 [00:00<?, ?it/s]"
      ]
     },
     "metadata": {},
     "output_type": "display_data"
    },
    {
     "data": {
      "application/vnd.jupyter.widget-view+json": {
       "model_id": "252c1a9cf213427c8eadb244611ce58b",
       "version_major": 2,
       "version_minor": 0
      },
      "text/plain": [
       "Web sites:   0%|          | 0/8 [00:00<?, ?it/s]"
      ]
     },
     "metadata": {},
     "output_type": "display_data"
    },
    {
     "data": {
      "application/vnd.jupyter.widget-view+json": {
       "model_id": "c9c51490ab87427c97ff310015fb36ea",
       "version_major": 2,
       "version_minor": 0
      },
      "text/plain": [
       "Web sites:   0%|          | 0/8 [00:00<?, ?it/s]"
      ]
     },
     "metadata": {},
     "output_type": "display_data"
    },
    {
     "data": {
      "application/vnd.jupyter.widget-view+json": {
       "model_id": "2d3a882b1e28476b8c56b9d23459c99a",
       "version_major": 2,
       "version_minor": 0
      },
      "text/plain": [
       "Web pages for: \"auto-autobytel\":   0%|          | 0/2000 [00:00<?, ?it/s]"
      ]
     },
     "metadata": {},
     "output_type": "display_data"
    },
    {
     "data": {
      "application/vnd.jupyter.widget-view+json": {
       "model_id": "df8d6d1667a34a9cafcbb9f41867be03",
       "version_major": 2,
       "version_minor": 0
      },
      "text/plain": [
       "Web pages for: \"auto-autobytel\":   0%|          | 0/2000 [00:00<?, ?it/s]"
      ]
     },
     "metadata": {},
     "output_type": "display_data"
    },
    {
     "data": {
      "application/vnd.jupyter.widget-view+json": {
       "model_id": "a6b35f1d0fa34acd90992e23892bdbe7",
       "version_major": 2,
       "version_minor": 0
      },
      "text/plain": [
       "Web pages for: \"auto-autobytel\":   0%|          | 0/2000 [00:00<?, ?it/s]"
      ]
     },
     "metadata": {},
     "output_type": "display_data"
    },
    {
     "data": {
      "application/vnd.jupyter.widget-view+json": {
       "model_id": "20ada80da17c4c729d988bfa4cec27a9",
       "version_major": 2,
       "version_minor": 0
      },
      "text/plain": [
       "Web pages for: \"auto-autobytel\":   0%|          | 0/2000 [00:00<?, ?it/s]"
      ]
     },
     "metadata": {},
     "output_type": "display_data"
    },
    {
     "data": {
      "application/vnd.jupyter.widget-view+json": {
       "model_id": "ae014489c5e641a68a826a17a91613d2",
       "version_major": 2,
       "version_minor": 0
      },
      "text/plain": [
       "Web pages for: \"auto-autobytel\":   0%|          | 0/2000 [00:00<?, ?it/s]"
      ]
     },
     "metadata": {},
     "output_type": "display_data"
    },
    {
     "data": {
      "application/vnd.jupyter.widget-view+json": {
       "model_id": "f24f44851e254e36a0ea9765f3e9c88b",
       "version_major": 2,
       "version_minor": 0
      },
      "text/plain": [
       "Web pages for: \"auto-autobytel\":   0%|          | 0/2000 [00:00<?, ?it/s]"
      ]
     },
     "metadata": {},
     "output_type": "display_data"
    },
    {
     "data": {
      "application/vnd.jupyter.widget-view+json": {
       "model_id": "7c64c4aabfc1410e8ae8e8d8bf70ffb0",
       "version_major": 2,
       "version_minor": 0
      },
      "text/plain": [
       "Web pages for: \"auto-autobytel\":   0%|          | 0/2000 [00:00<?, ?it/s]"
      ]
     },
     "metadata": {},
     "output_type": "display_data"
    },
    {
     "data": {
      "application/vnd.jupyter.widget-view+json": {
       "model_id": "b20c9fb5e4d34ca5b70f81ec77afd974",
       "version_major": 2,
       "version_minor": 0
      },
      "text/plain": [
       "Web pages for: \"auto-autobytel\":   0%|          | 0/2000 [00:00<?, ?it/s]"
      ]
     },
     "metadata": {},
     "output_type": "display_data"
    },
    {
     "data": {
      "application/vnd.jupyter.widget-view+json": {
       "model_id": "a8f320eca5854f71ab0582757d4a5e68",
       "version_major": 2,
       "version_minor": 0
      },
      "text/plain": [
       "Web pages for: \"auto-autobytel\":   0%|          | 0/2000 [00:00<?, ?it/s]"
      ]
     },
     "metadata": {},
     "output_type": "display_data"
    },
    {
     "data": {
      "application/vnd.jupyter.widget-view+json": {
       "model_id": "e0f2763d34724462841eb3a268286867",
       "version_major": 2,
       "version_minor": 0
      },
      "text/plain": [
       "Web pages for: \"auto-autobytel\":   0%|          | 0/2000 [00:00<?, ?it/s]"
      ]
     },
     "metadata": {},
     "output_type": "display_data"
    },
    {
     "data": {
      "application/vnd.jupyter.widget-view+json": {
       "model_id": "a5101e2ff1264103ad9bf9ffe2545ad7",
       "version_major": 2,
       "version_minor": 0
      },
      "text/plain": [
       "Web pages for: \"auto-automotive\":   0%|          | 0/1999 [00:00<?, ?it/s]"
      ]
     },
     "metadata": {},
     "output_type": "display_data"
    },
    {
     "data": {
      "application/vnd.jupyter.widget-view+json": {
       "model_id": "9750471c8b7d47efad611450dc49119e",
       "version_major": 2,
       "version_minor": 0
      },
      "text/plain": [
       "Web pages for: \"auto-automotive\":   0%|          | 0/1999 [00:00<?, ?it/s]"
      ]
     },
     "metadata": {},
     "output_type": "display_data"
    },
    {
     "data": {
      "application/vnd.jupyter.widget-view+json": {
       "model_id": "3332b252cb73430b85d41275c6cc52d8",
       "version_major": 2,
       "version_minor": 0
      },
      "text/plain": [
       "Web pages for: \"auto-automotive\":   0%|          | 0/1999 [00:00<?, ?it/s]"
      ]
     },
     "metadata": {},
     "output_type": "display_data"
    },
    {
     "data": {
      "application/vnd.jupyter.widget-view+json": {
       "model_id": "291d032c65874f3bb2ef704545fdfece",
       "version_major": 2,
       "version_minor": 0
      },
      "text/plain": [
       "Web pages for: \"auto-automotive\":   0%|          | 0/1999 [00:00<?, ?it/s]"
      ]
     },
     "metadata": {},
     "output_type": "display_data"
    },
    {
     "data": {
      "application/vnd.jupyter.widget-view+json": {
       "model_id": "83c2e418f9ff473d8a765f55cc6e4a60",
       "version_major": 2,
       "version_minor": 0
      },
      "text/plain": [
       "Web pages for: \"auto-automotive\":   0%|          | 0/1999 [00:00<?, ?it/s]"
      ]
     },
     "metadata": {},
     "output_type": "display_data"
    },
    {
     "data": {
      "application/vnd.jupyter.widget-view+json": {
       "model_id": "ef59e046dc7a4bf890055b5371d6becc",
       "version_major": 2,
       "version_minor": 0
      },
      "text/plain": [
       "Web pages for: \"auto-automotive\":   0%|          | 0/1999 [00:00<?, ?it/s]"
      ]
     },
     "metadata": {},
     "output_type": "display_data"
    },
    {
     "data": {
      "application/vnd.jupyter.widget-view+json": {
       "model_id": "9f9f4c06b68843db9d2ac55e6eef357e",
       "version_major": 2,
       "version_minor": 0
      },
      "text/plain": [
       "Web pages for: \"auto-automotive\":   0%|          | 0/1999 [00:00<?, ?it/s]"
      ]
     },
     "metadata": {},
     "output_type": "display_data"
    },
    {
     "data": {
      "application/vnd.jupyter.widget-view+json": {
       "model_id": "80060653119242e78a38ab75d377e83b",
       "version_major": 2,
       "version_minor": 0
      },
      "text/plain": [
       "Web pages for: \"auto-automotive\":   0%|          | 0/1999 [00:00<?, ?it/s]"
      ]
     },
     "metadata": {},
     "output_type": "display_data"
    },
    {
     "data": {
      "application/vnd.jupyter.widget-view+json": {
       "model_id": "bd19600b19624cc6a61c8e3f3b3290e1",
       "version_major": 2,
       "version_minor": 0
      },
      "text/plain": [
       "Web pages for: \"auto-automotive\":   0%|          | 0/1999 [00:00<?, ?it/s]"
      ]
     },
     "metadata": {},
     "output_type": "display_data"
    },
    {
     "data": {
      "application/vnd.jupyter.widget-view+json": {
       "model_id": "081dcdd86dc340888e672d04c88396e8",
       "version_major": 2,
       "version_minor": 0
      },
      "text/plain": [
       "Web pages for: \"auto-automotive\":   0%|          | 0/1999 [00:00<?, ?it/s]"
      ]
     },
     "metadata": {},
     "output_type": "display_data"
    },
    {
     "data": {
      "application/vnd.jupyter.widget-view+json": {
       "model_id": "91f909eb7d1f4d51a5f7b1d013970af1",
       "version_major": 2,
       "version_minor": 0
      },
      "text/plain": [
       "Web pages for: \"auto-autoweb\":   0%|          | 0/2000 [00:00<?, ?it/s]"
      ]
     },
     "metadata": {},
     "output_type": "display_data"
    },
    {
     "data": {
      "application/vnd.jupyter.widget-view+json": {
       "model_id": "0d0ae8ff381b4f6aa93e728ddad3a1df",
       "version_major": 2,
       "version_minor": 0
      },
      "text/plain": [
       "Web pages for: \"auto-autoweb\":   0%|          | 0/2000 [00:00<?, ?it/s]"
      ]
     },
     "metadata": {},
     "output_type": "display_data"
    },
    {
     "data": {
      "application/vnd.jupyter.widget-view+json": {
       "model_id": "3ac5a3a11cfc4e208d451b6b181e5a9d",
       "version_major": 2,
       "version_minor": 0
      },
      "text/plain": [
       "Web pages for: \"auto-autoweb\":   0%|          | 0/2000 [00:00<?, ?it/s]"
      ]
     },
     "metadata": {},
     "output_type": "display_data"
    },
    {
     "data": {
      "application/vnd.jupyter.widget-view+json": {
       "model_id": "bb97e92846d14157a249fe795d7d0af1",
       "version_major": 2,
       "version_minor": 0
      },
      "text/plain": [
       "Web pages for: \"auto-autoweb\":   0%|          | 0/2000 [00:00<?, ?it/s]"
      ]
     },
     "metadata": {},
     "output_type": "display_data"
    },
    {
     "data": {
      "application/vnd.jupyter.widget-view+json": {
       "model_id": "b9ea60b691034f36b21676da81cbcad1",
       "version_major": 2,
       "version_minor": 0
      },
      "text/plain": [
       "Web pages for: \"auto-autoweb\":   0%|          | 0/2000 [00:00<?, ?it/s]"
      ]
     },
     "metadata": {},
     "output_type": "display_data"
    },
    {
     "data": {
      "application/vnd.jupyter.widget-view+json": {
       "model_id": "06e7faafd6434b0b8746c32b0529e858",
       "version_major": 2,
       "version_minor": 0
      },
      "text/plain": [
       "Web pages for: \"auto-autoweb\":   0%|          | 0/2000 [00:00<?, ?it/s]"
      ]
     },
     "metadata": {},
     "output_type": "display_data"
    },
    {
     "data": {
      "application/vnd.jupyter.widget-view+json": {
       "model_id": "62e690fe78b545ab9c50f53e5f9d8a93",
       "version_major": 2,
       "version_minor": 0
      },
      "text/plain": [
       "Web pages for: \"auto-autoweb\":   0%|          | 0/2000 [00:00<?, ?it/s]"
      ]
     },
     "metadata": {},
     "output_type": "display_data"
    },
    {
     "data": {
      "application/vnd.jupyter.widget-view+json": {
       "model_id": "29576e809a1b4b4dbbcc490b70a3c594",
       "version_major": 2,
       "version_minor": 0
      },
      "text/plain": [
       "Web pages for: \"auto-autoweb\":   0%|          | 0/2000 [00:00<?, ?it/s]"
      ]
     },
     "metadata": {},
     "output_type": "display_data"
    },
    {
     "data": {
      "application/vnd.jupyter.widget-view+json": {
       "model_id": "21da5a5dfe354c368c9854bd57f8120b",
       "version_major": 2,
       "version_minor": 0
      },
      "text/plain": [
       "Web pages for: \"auto-autoweb\":   0%|          | 0/2000 [00:00<?, ?it/s]"
      ]
     },
     "metadata": {},
     "output_type": "display_data"
    },
    {
     "data": {
      "application/vnd.jupyter.widget-view+json": {
       "model_id": "48590bce916949bfac36e3cfbe0dabd0",
       "version_major": 2,
       "version_minor": 0
      },
      "text/plain": [
       "Web pages for: \"auto-autoweb\":   0%|          | 0/2000 [00:00<?, ?it/s]"
      ]
     },
     "metadata": {},
     "output_type": "display_data"
    },
    {
     "data": {
      "application/vnd.jupyter.widget-view+json": {
       "model_id": "72c29a8d55344c0da389d7fb16d622fa",
       "version_major": 2,
       "version_minor": 0
      },
      "text/plain": [
       "Web pages for: \"auto-carquotes\":   0%|          | 0/2000 [00:00<?, ?it/s]"
      ]
     },
     "metadata": {},
     "output_type": "display_data"
    },
    {
     "data": {
      "application/vnd.jupyter.widget-view+json": {
       "model_id": "0ca6e3411bbc47afb314e1d2ec630908",
       "version_major": 2,
       "version_minor": 0
      },
      "text/plain": [
       "Web pages for: \"auto-carquotes\":   0%|          | 0/2000 [00:00<?, ?it/s]"
      ]
     },
     "metadata": {},
     "output_type": "display_data"
    },
    {
     "data": {
      "application/vnd.jupyter.widget-view+json": {
       "model_id": "35712f89c34343b6a71313244ee335ff",
       "version_major": 2,
       "version_minor": 0
      },
      "text/plain": [
       "Web pages for: \"auto-carquotes\":   0%|          | 0/2000 [00:00<?, ?it/s]"
      ]
     },
     "metadata": {},
     "output_type": "display_data"
    },
    {
     "data": {
      "application/vnd.jupyter.widget-view+json": {
       "model_id": "731b682b6ff04a72be3dea1403c45e3c",
       "version_major": 2,
       "version_minor": 0
      },
      "text/plain": [
       "Web pages for: \"auto-carquotes\":   0%|          | 0/2000 [00:00<?, ?it/s]"
      ]
     },
     "metadata": {},
     "output_type": "display_data"
    },
    {
     "data": {
      "application/vnd.jupyter.widget-view+json": {
       "model_id": "71a455f46796482197e60916c3e1537e",
       "version_major": 2,
       "version_minor": 0
      },
      "text/plain": [
       "Web pages for: \"auto-carquotes\":   0%|          | 0/2000 [00:00<?, ?it/s]"
      ]
     },
     "metadata": {},
     "output_type": "display_data"
    },
    {
     "data": {
      "application/vnd.jupyter.widget-view+json": {
       "model_id": "ce68f91bab2049b6a6f3a9161d51732b",
       "version_major": 2,
       "version_minor": 0
      },
      "text/plain": [
       "Web pages for: \"auto-carquotes\":   0%|          | 0/2000 [00:00<?, ?it/s]"
      ]
     },
     "metadata": {},
     "output_type": "display_data"
    },
    {
     "data": {
      "application/vnd.jupyter.widget-view+json": {
       "model_id": "ea60b9d8ef7640359a0720e19a7f24de",
       "version_major": 2,
       "version_minor": 0
      },
      "text/plain": [
       "Web pages for: \"auto-carquotes\":   0%|          | 0/2000 [00:00<?, ?it/s]"
      ]
     },
     "metadata": {},
     "output_type": "display_data"
    },
    {
     "data": {
      "application/vnd.jupyter.widget-view+json": {
       "model_id": "4af6c6f6143d41f8b431983bb0366f18",
       "version_major": 2,
       "version_minor": 0
      },
      "text/plain": [
       "Web pages for: \"auto-carquotes\":   0%|          | 0/2000 [00:00<?, ?it/s]"
      ]
     },
     "metadata": {},
     "output_type": "display_data"
    },
    {
     "data": {
      "application/vnd.jupyter.widget-view+json": {
       "model_id": "5a7e3401cc434c51a8498bde17310402",
       "version_major": 2,
       "version_minor": 0
      },
      "text/plain": [
       "Web pages for: \"auto-carquotes\":   0%|          | 0/2000 [00:00<?, ?it/s]"
      ]
     },
     "metadata": {},
     "output_type": "display_data"
    },
    {
     "data": {
      "application/vnd.jupyter.widget-view+json": {
       "model_id": "259c684fa69747c58868d278d3c4872d",
       "version_major": 2,
       "version_minor": 0
      },
      "text/plain": [
       "Web pages for: \"auto-carquotes\":   0%|          | 0/2000 [00:00<?, ?it/s]"
      ]
     },
     "metadata": {},
     "output_type": "display_data"
    },
    {
     "data": {
      "application/vnd.jupyter.widget-view+json": {
       "model_id": "a772f0fea0294ddea9c408f161c13dae",
       "version_major": 2,
       "version_minor": 0
      },
      "text/plain": [
       "Web pages for: \"auto-cars\":   0%|          | 0/657 [00:00<?, ?it/s]"
      ]
     },
     "metadata": {},
     "output_type": "display_data"
    },
    {
     "data": {
      "application/vnd.jupyter.widget-view+json": {
       "model_id": "9f67fa3e44fa4923be70c6afef93e8d7",
       "version_major": 2,
       "version_minor": 0
      },
      "text/plain": [
       "Web pages for: \"auto-cars\":   0%|          | 0/657 [00:00<?, ?it/s]"
      ]
     },
     "metadata": {},
     "output_type": "display_data"
    },
    {
     "data": {
      "application/vnd.jupyter.widget-view+json": {
       "model_id": "6f060baa3ecc4578b551fef60900457b",
       "version_major": 2,
       "version_minor": 0
      },
      "text/plain": [
       "Web pages for: \"auto-cars\":   0%|          | 0/657 [00:00<?, ?it/s]"
      ]
     },
     "metadata": {},
     "output_type": "display_data"
    },
    {
     "data": {
      "application/vnd.jupyter.widget-view+json": {
       "model_id": "3f1dc2a6d85e4b369c4e2182db4bfcbb",
       "version_major": 2,
       "version_minor": 0
      },
      "text/plain": [
       "Web pages for: \"auto-cars\":   0%|          | 0/657 [00:00<?, ?it/s]"
      ]
     },
     "metadata": {},
     "output_type": "display_data"
    },
    {
     "data": {
      "application/vnd.jupyter.widget-view+json": {
       "model_id": "2803d6c4b0984dc98b180a62c823401b",
       "version_major": 2,
       "version_minor": 0
      },
      "text/plain": [
       "Web pages for: \"auto-cars\":   0%|          | 0/657 [00:00<?, ?it/s]"
      ]
     },
     "metadata": {},
     "output_type": "display_data"
    },
    {
     "data": {
      "application/vnd.jupyter.widget-view+json": {
       "model_id": "67fc864e7a39416c9815ca82741bb1f0",
       "version_major": 2,
       "version_minor": 0
      },
      "text/plain": [
       "Web pages for: \"auto-cars\":   0%|          | 0/657 [00:00<?, ?it/s]"
      ]
     },
     "metadata": {},
     "output_type": "display_data"
    },
    {
     "data": {
      "application/vnd.jupyter.widget-view+json": {
       "model_id": "adb7f0c481954886894e429f69b6bb21",
       "version_major": 2,
       "version_minor": 0
      },
      "text/plain": [
       "Web pages for: \"auto-cars\":   0%|          | 0/657 [00:00<?, ?it/s]"
      ]
     },
     "metadata": {},
     "output_type": "display_data"
    },
    {
     "data": {
      "application/vnd.jupyter.widget-view+json": {
       "model_id": "3cc306e7383a4c0f848a45848780f2b3",
       "version_major": 2,
       "version_minor": 0
      },
      "text/plain": [
       "Web pages for: \"auto-cars\":   0%|          | 0/657 [00:00<?, ?it/s]"
      ]
     },
     "metadata": {},
     "output_type": "display_data"
    },
    {
     "data": {
      "application/vnd.jupyter.widget-view+json": {
       "model_id": "1ffaf5a3030a45169cbf02efbb7f9150",
       "version_major": 2,
       "version_minor": 0
      },
      "text/plain": [
       "Web pages for: \"auto-cars\":   0%|          | 0/657 [00:00<?, ?it/s]"
      ]
     },
     "metadata": {},
     "output_type": "display_data"
    },
    {
     "data": {
      "application/vnd.jupyter.widget-view+json": {
       "model_id": "9494a381281240408c76bf92b00ddd86",
       "version_major": 2,
       "version_minor": 0
      },
      "text/plain": [
       "Web pages for: \"auto-cars\":   0%|          | 0/657 [00:00<?, ?it/s]"
      ]
     },
     "metadata": {},
     "output_type": "display_data"
    },
    {
     "data": {
      "application/vnd.jupyter.widget-view+json": {
       "model_id": "cb44ff35b4ba4c1ab99c2c2553848ae0",
       "version_major": 2,
       "version_minor": 0
      },
      "text/plain": [
       "Web pages for: \"auto-kbb\":   0%|          | 0/2000 [00:00<?, ?it/s]"
      ]
     },
     "metadata": {},
     "output_type": "display_data"
    },
    {
     "data": {
      "application/vnd.jupyter.widget-view+json": {
       "model_id": "9cf6bd5c67d345da84bf28de2b41115f",
       "version_major": 2,
       "version_minor": 0
      },
      "text/plain": [
       "Web pages for: \"auto-kbb\":   0%|          | 0/2000 [00:00<?, ?it/s]"
      ]
     },
     "metadata": {},
     "output_type": "display_data"
    },
    {
     "data": {
      "application/vnd.jupyter.widget-view+json": {
       "model_id": "118df5deca2942218be4d85e021b19c5",
       "version_major": 2,
       "version_minor": 0
      },
      "text/plain": [
       "Web pages for: \"auto-kbb\":   0%|          | 0/2000 [00:00<?, ?it/s]"
      ]
     },
     "metadata": {},
     "output_type": "display_data"
    },
    {
     "data": {
      "application/vnd.jupyter.widget-view+json": {
       "model_id": "0da8ea385ae6473f85c58e8070ce4fd5",
       "version_major": 2,
       "version_minor": 0
      },
      "text/plain": [
       "Web pages for: \"auto-kbb\":   0%|          | 0/2000 [00:00<?, ?it/s]"
      ]
     },
     "metadata": {},
     "output_type": "display_data"
    },
    {
     "data": {
      "application/vnd.jupyter.widget-view+json": {
       "model_id": "5daba598fcd4472388cf89ffbee81ba4",
       "version_major": 2,
       "version_minor": 0
      },
      "text/plain": [
       "Web pages for: \"auto-kbb\":   0%|          | 0/2000 [00:00<?, ?it/s]"
      ]
     },
     "metadata": {},
     "output_type": "display_data"
    },
    {
     "data": {
      "application/vnd.jupyter.widget-view+json": {
       "model_id": "47db17d1749a4a6e84a73d58425479e5",
       "version_major": 2,
       "version_minor": 0
      },
      "text/plain": [
       "Web pages for: \"auto-kbb\":   0%|          | 0/2000 [00:00<?, ?it/s]"
      ]
     },
     "metadata": {},
     "output_type": "display_data"
    },
    {
     "data": {
      "application/vnd.jupyter.widget-view+json": {
       "model_id": "62b9bcba5a4a4ec4a89ba1179fe94708",
       "version_major": 2,
       "version_minor": 0
      },
      "text/plain": [
       "Web pages for: \"auto-kbb\":   0%|          | 0/2000 [00:00<?, ?it/s]"
      ]
     },
     "metadata": {},
     "output_type": "display_data"
    },
    {
     "data": {
      "application/vnd.jupyter.widget-view+json": {
       "model_id": "b3c776705d1b43709d08b468874d20c9",
       "version_major": 2,
       "version_minor": 0
      },
      "text/plain": [
       "Web pages for: \"auto-kbb\":   0%|          | 0/2000 [00:00<?, ?it/s]"
      ]
     },
     "metadata": {},
     "output_type": "display_data"
    },
    {
     "data": {
      "application/vnd.jupyter.widget-view+json": {
       "model_id": "4597d9a345c5490f8c30576006577184",
       "version_major": 2,
       "version_minor": 0
      },
      "text/plain": [
       "Web pages for: \"auto-kbb\":   0%|          | 0/2000 [00:00<?, ?it/s]"
      ]
     },
     "metadata": {},
     "output_type": "display_data"
    },
    {
     "data": {
      "application/vnd.jupyter.widget-view+json": {
       "model_id": "1b103298275e4226b8e667098a6a603b",
       "version_major": 2,
       "version_minor": 0
      },
      "text/plain": [
       "Web pages for: \"auto-kbb\":   0%|          | 0/2000 [00:00<?, ?it/s]"
      ]
     },
     "metadata": {},
     "output_type": "display_data"
    },
    {
     "data": {
      "application/vnd.jupyter.widget-view+json": {
       "model_id": "a349526588b6489fa7a561d21767a762",
       "version_major": 2,
       "version_minor": 0
      },
      "text/plain": [
       "Web pages for: \"auto-motortrend\":   0%|          | 0/1267 [00:00<?, ?it/s]"
      ]
     },
     "metadata": {},
     "output_type": "display_data"
    },
    {
     "data": {
      "application/vnd.jupyter.widget-view+json": {
       "model_id": "41f933f131d04af0bb64d18ca04a7252",
       "version_major": 2,
       "version_minor": 0
      },
      "text/plain": [
       "Web pages for: \"auto-motortrend\":   0%|          | 0/1267 [00:00<?, ?it/s]"
      ]
     },
     "metadata": {},
     "output_type": "display_data"
    },
    {
     "data": {
      "application/vnd.jupyter.widget-view+json": {
       "model_id": "1227d22753374aaaaaaac73c8afa6f2a",
       "version_major": 2,
       "version_minor": 0
      },
      "text/plain": [
       "Web pages for: \"auto-motortrend\":   0%|          | 0/1267 [00:00<?, ?it/s]"
      ]
     },
     "metadata": {},
     "output_type": "display_data"
    },
    {
     "data": {
      "application/vnd.jupyter.widget-view+json": {
       "model_id": "6fba909bf1cb4334b3099c8c4d8f55a9",
       "version_major": 2,
       "version_minor": 0
      },
      "text/plain": [
       "Web pages for: \"auto-motortrend\":   0%|          | 0/1267 [00:00<?, ?it/s]"
      ]
     },
     "metadata": {},
     "output_type": "display_data"
    },
    {
     "data": {
      "application/vnd.jupyter.widget-view+json": {
       "model_id": "eadf289d94b847379eb9f1d5c6865f97",
       "version_major": 2,
       "version_minor": 0
      },
      "text/plain": [
       "Web pages for: \"auto-motortrend\":   0%|          | 0/1267 [00:00<?, ?it/s]"
      ]
     },
     "metadata": {},
     "output_type": "display_data"
    },
    {
     "data": {
      "application/vnd.jupyter.widget-view+json": {
       "model_id": "d27679c9f54443dca7c8de3581406cb7",
       "version_major": 2,
       "version_minor": 0
      },
      "text/plain": [
       "Web pages for: \"auto-motortrend\":   0%|          | 0/1267 [00:00<?, ?it/s]"
      ]
     },
     "metadata": {},
     "output_type": "display_data"
    },
    {
     "data": {
      "application/vnd.jupyter.widget-view+json": {
       "model_id": "4049e8ad766846cf84140e2a8f8e8f5a",
       "version_major": 2,
       "version_minor": 0
      },
      "text/plain": [
       "Web pages for: \"auto-motortrend\":   0%|          | 0/1267 [00:00<?, ?it/s]"
      ]
     },
     "metadata": {},
     "output_type": "display_data"
    },
    {
     "data": {
      "application/vnd.jupyter.widget-view+json": {
       "model_id": "97d524e5967e4411891b3172558539a9",
       "version_major": 2,
       "version_minor": 0
      },
      "text/plain": [
       "Web pages for: \"auto-motortrend\":   0%|          | 0/1267 [00:00<?, ?it/s]"
      ]
     },
     "metadata": {},
     "output_type": "display_data"
    },
    {
     "data": {
      "application/vnd.jupyter.widget-view+json": {
       "model_id": "7deafd51b1ef40628f850ee1d6cf6d67",
       "version_major": 2,
       "version_minor": 0
      },
      "text/plain": [
       "Web pages for: \"auto-motortrend\":   0%|          | 0/1267 [00:00<?, ?it/s]"
      ]
     },
     "metadata": {},
     "output_type": "display_data"
    },
    {
     "data": {
      "application/vnd.jupyter.widget-view+json": {
       "model_id": "e038b8e7398042d0847653383f49b156",
       "version_major": 2,
       "version_minor": 0
      },
      "text/plain": [
       "Web pages for: \"auto-motortrend\":   0%|          | 0/1267 [00:00<?, ?it/s]"
      ]
     },
     "metadata": {},
     "output_type": "display_data"
    },
    {
     "data": {
      "application/vnd.jupyter.widget-view+json": {
       "model_id": "1a69df47f8e44945b1dd76dd3d3ff986",
       "version_major": 2,
       "version_minor": 0
      },
      "text/plain": [
       "Web pages for: \"auto-msn\":   0%|          | 0/2000 [00:00<?, ?it/s]"
      ]
     },
     "metadata": {},
     "output_type": "display_data"
    },
    {
     "data": {
      "application/vnd.jupyter.widget-view+json": {
       "model_id": "41028fc24aa5409895dad1bf36f66b36",
       "version_major": 2,
       "version_minor": 0
      },
      "text/plain": [
       "Web pages for: \"auto-msn\":   0%|          | 0/2000 [00:00<?, ?it/s]"
      ]
     },
     "metadata": {},
     "output_type": "display_data"
    },
    {
     "data": {
      "application/vnd.jupyter.widget-view+json": {
       "model_id": "7a4516759ce448f5b1cf05e89baa427d",
       "version_major": 2,
       "version_minor": 0
      },
      "text/plain": [
       "Web pages for: \"auto-msn\":   0%|          | 0/2000 [00:00<?, ?it/s]"
      ]
     },
     "metadata": {},
     "output_type": "display_data"
    },
    {
     "data": {
      "application/vnd.jupyter.widget-view+json": {
       "model_id": "10eb9aa7cdbc43088ef21afdcd2944df",
       "version_major": 2,
       "version_minor": 0
      },
      "text/plain": [
       "Web pages for: \"auto-msn\":   0%|          | 0/2000 [00:00<?, ?it/s]"
      ]
     },
     "metadata": {},
     "output_type": "display_data"
    },
    {
     "data": {
      "application/vnd.jupyter.widget-view+json": {
       "model_id": "fefaeb29da1e45debd617e9f534c5a68",
       "version_major": 2,
       "version_minor": 0
      },
      "text/plain": [
       "Web pages for: \"auto-msn\":   0%|          | 0/2000 [00:00<?, ?it/s]"
      ]
     },
     "metadata": {},
     "output_type": "display_data"
    },
    {
     "data": {
      "application/vnd.jupyter.widget-view+json": {
       "model_id": "0986dea80c784baf982ba4dd992712ca",
       "version_major": 2,
       "version_minor": 0
      },
      "text/plain": [
       "Web pages for: \"auto-msn\":   0%|          | 0/2000 [00:00<?, ?it/s]"
      ]
     },
     "metadata": {},
     "output_type": "display_data"
    },
    {
     "data": {
      "application/vnd.jupyter.widget-view+json": {
       "model_id": "502ac04afaa149e5bb69bb467c208285",
       "version_major": 2,
       "version_minor": 0
      },
      "text/plain": [
       "Web pages for: \"auto-msn\":   0%|          | 0/2000 [00:00<?, ?it/s]"
      ]
     },
     "metadata": {},
     "output_type": "display_data"
    },
    {
     "data": {
      "application/vnd.jupyter.widget-view+json": {
       "model_id": "85085f4db96f4fdc972f521f6eff8ea0",
       "version_major": 2,
       "version_minor": 0
      },
      "text/plain": [
       "Web pages for: \"auto-msn\":   0%|          | 0/2000 [00:00<?, ?it/s]"
      ]
     },
     "metadata": {},
     "output_type": "display_data"
    },
    {
     "data": {
      "application/vnd.jupyter.widget-view+json": {
       "model_id": "c2c09db96e1449f0aac42c476c2c9635",
       "version_major": 2,
       "version_minor": 0
      },
      "text/plain": [
       "Web pages for: \"auto-msn\":   0%|          | 0/2000 [00:00<?, ?it/s]"
      ]
     },
     "metadata": {},
     "output_type": "display_data"
    },
    {
     "data": {
      "application/vnd.jupyter.widget-view+json": {
       "model_id": "f1cd83cb6b9443e2824974e07199e6a4",
       "version_major": 2,
       "version_minor": 0
      },
      "text/plain": [
       "Web pages for: \"auto-msn\":   0%|          | 0/2000 [00:00<?, ?it/s]"
      ]
     },
     "metadata": {},
     "output_type": "display_data"
    },
    {
     "name": "stderr",
     "output_type": "stream",
     "text": [
      "14:06:10 INFO (swde_dataLoader:174): SWDE data loader has loaded: 886698 nodes from: ['auto-autobytel', 'auto-automotive', 'auto-autoweb', 'auto-carquotes', 'auto-cars', 'auto-kbb', 'auto-motortrend', 'auto-msn']\n",
      "14:06:10 INFO (swde_dataLoader:174): SWDE data loader has loaded: 886698 nodes from: ['auto-autobytel', 'auto-automotive', 'auto-autoweb', 'auto-carquotes', 'auto-cars', 'auto-kbb', 'auto-motortrend', 'auto-msn']\n",
      "14:06:10 INFO (swde_dataLoader:174): SWDE data loader has loaded: 886698 nodes from: ['auto-autobytel', 'auto-automotive', 'auto-autoweb', 'auto-carquotes', 'auto-cars', 'auto-kbb', 'auto-motortrend', 'auto-msn']\n",
      "14:06:10 INFO (swde_dataLoader:174): SWDE data loader has loaded: 886698 nodes from: ['auto-autobytel', 'auto-automotive', 'auto-autoweb', 'auto-carquotes', 'auto-cars', 'auto-kbb', 'auto-motortrend', 'auto-msn']\n",
      "14:06:10 INFO (swde_dataLoader:174): SWDE data loader has loaded: 886698 nodes from: ['auto-autobytel', 'auto-automotive', 'auto-autoweb', 'auto-carquotes', 'auto-cars', 'auto-kbb', 'auto-motortrend', 'auto-msn']\n",
      "14:06:10 INFO (swde_dataLoader:174): SWDE data loader has loaded: 886698 nodes from: ['auto-autobytel', 'auto-automotive', 'auto-autoweb', 'auto-carquotes', 'auto-cars', 'auto-kbb', 'auto-motortrend', 'auto-msn']\n",
      "14:06:11 INFO (swde_dataLoader:174): SWDE data loader has loaded: 886698 nodes from: ['auto-autobytel', 'auto-automotive', 'auto-autoweb', 'auto-carquotes', 'auto-cars', 'auto-kbb', 'auto-motortrend', 'auto-msn']\n",
      "14:06:12 INFO (swde_dataLoader:174): SWDE data loader has loaded: 886698 nodes from: ['auto-autobytel', 'auto-automotive', 'auto-autoweb', 'auto-carquotes', 'auto-cars', 'auto-kbb', 'auto-motortrend', 'auto-msn']\n",
      "14:06:13 INFO (swde_dataLoader:174): SWDE data loader has loaded: 886698 nodes from: ['auto-autobytel', 'auto-automotive', 'auto-autoweb', 'auto-carquotes', 'auto-cars', 'auto-kbb', 'auto-motortrend', 'auto-msn']\n",
      "14:06:13 INFO (swde_dataLoader:174): SWDE data loader has loaded: 886698 nodes from: ['auto-autobytel', 'auto-automotive', 'auto-autoweb', 'auto-carquotes', 'auto-cars', 'auto-kbb', 'auto-motortrend', 'auto-msn']\n"
     ]
    },
    {
     "data": {
      "application/vnd.jupyter.widget-view+json": {
       "model_id": "af1925eeaf954d2e8f7ba8bfbfa44467",
       "version_major": 2,
       "version_minor": 0
      },
      "text/plain": [
       "Training: 0it [00:00, ?it/s]"
      ]
     },
     "metadata": {},
     "output_type": "display_data"
    },
    {
     "name": "stderr",
     "output_type": "stream",
     "text": [
      "14:06:13 INFO (distributed:788): Reducer buckets have been rebuilt in this iteration.\n",
      "14:06:13 INFO (distributed:788): Reducer buckets have been rebuilt in this iteration.\n",
      "14:06:13 INFO (distributed:788): Reducer buckets have been rebuilt in this iteration.\n",
      "14:06:13 INFO (distributed:788): Reducer buckets have been rebuilt in this iteration.\n",
      "14:06:13 INFO (distributed:788): Reducer buckets have been rebuilt in this iteration.\n",
      "14:06:13 INFO (distributed:788): Reducer buckets have been rebuilt in this iteration.\n",
      "14:06:13 INFO (distributed:788): Reducer buckets have been rebuilt in this iteration.\n",
      "14:06:13 INFO (distributed:788): Reducer buckets have been rebuilt in this iteration.\n",
      "14:06:13 INFO (distributed:788): Reducer buckets have been rebuilt in this iteration.\n",
      "14:06:13 INFO (distributed:788): Reducer buckets have been rebuilt in this iteration.\n"
     ]
    },
    {
     "data": {
      "application/vnd.jupyter.widget-view+json": {
       "model_id": "",
       "version_major": 2,
       "version_minor": 0
      },
      "text/plain": [
       "Validation: 0it [00:00, ?it/s]"
      ]
     },
     "metadata": {},
     "output_type": "display_data"
    },
    {
     "name": "stderr",
     "output_type": "stream",
     "text": [
      "14:17:24 INFO (SimpDOM_model:162): Mean validation loss: 0.15174274146556854\n",
      "14:17:24 INFO (SimpDOM_model:162): Mean validation loss: 0.1710822433233261\n",
      "14:17:24 INFO (SimpDOM_model:162): Mean validation loss: 0.14740659296512604\n",
      "14:17:24 INFO (SimpDOM_model:162): Mean validation loss: 0.16825902462005615\n",
      "14:17:24 INFO (SimpDOM_model:162): Mean validation loss: 0.1790783703327179\n",
      "14:17:24 INFO (SimpDOM_model:162): Mean validation loss: 0.2261255979537964\n",
      "14:17:24 INFO (SimpDOM_model:162): Mean validation loss: 0.20406141877174377\n",
      "14:17:24 INFO (SimpDOM_model:162): Mean validation loss: 0.2198982536792755\n",
      "14:17:24 INFO (SimpDOM_model:162): Mean validation loss: 0.17218397557735443\n",
      "14:17:24 INFO (SimpDOM_model:162): Mean validation loss: 0.20460763573646545\n",
      "14:17:24 INFO (model_checkpoint:709): Epoch 0, global step 2771: 'val_loss' reached 0.18454 (best 0.18454), saving model to '/Users/izapreev/Projects/SimpDOM/lightning_logs/version_0/checkpoints/./data/weights.ckpt' as top 1\n"
     ]
    },
    {
     "data": {
      "application/vnd.jupyter.widget-view+json": {
       "model_id": "",
       "version_major": 2,
       "version_minor": 0
      },
      "text/plain": [
       "Validation: 0it [00:00, ?it/s]"
      ]
     },
     "metadata": {},
     "output_type": "display_data"
    },
    {
     "name": "stderr",
     "output_type": "stream",
     "text": [
      "14:28:29 INFO (SimpDOM_model:162): Mean validation loss: 0.09019763767719269\n",
      "14:28:29 INFO (SimpDOM_model:162): Mean validation loss: 0.11653207987546921\n",
      "14:28:29 INFO (SimpDOM_model:162): Mean validation loss: 0.12234561890363693\n",
      "14:28:29 INFO (SimpDOM_model:162): Mean validation loss: 0.12037892639636993\n",
      "14:28:29 INFO (SimpDOM_model:162): Mean validation loss: 0.09864327311515808\n",
      "14:28:29 INFO (SimpDOM_model:162): Mean validation loss: 0.12812910974025726\n",
      "14:28:29 INFO (SimpDOM_model:162): Mean validation loss: 0.10088779032230377\n",
      "14:28:29 INFO (SimpDOM_model:162): Mean validation loss: 0.10337382555007935\n",
      "14:28:29 INFO (SimpDOM_model:162): Mean validation loss: 0.0995967835187912\n",
      "14:28:29 INFO (SimpDOM_model:162): Mean validation loss: 0.12005408108234406\n",
      "14:28:29 INFO (model_checkpoint:709): Epoch 1, global step 5542: 'val_loss' reached 0.10996 (best 0.10996), saving model to '/Users/izapreev/Projects/SimpDOM/lightning_logs/version_0/checkpoints/./data/weights.ckpt' as top 1\n"
     ]
    },
    {
     "data": {
      "application/vnd.jupyter.widget-view+json": {
       "model_id": "",
       "version_major": 2,
       "version_minor": 0
      },
      "text/plain": [
       "Validation: 0it [00:00, ?it/s]"
      ]
     },
     "metadata": {},
     "output_type": "display_data"
    },
    {
     "name": "stderr",
     "output_type": "stream",
     "text": [
      "14:39:48 INFO (SimpDOM_model:162): Mean validation loss: 0.05516704171895981\n",
      "14:39:48 INFO (SimpDOM_model:162): Mean validation loss: 0.06334193050861359\n",
      "14:39:48 INFO (SimpDOM_model:162): Mean validation loss: 0.06316569447517395\n",
      "14:39:48 INFO (SimpDOM_model:162): Mean validation loss: 0.09650266170501709\n",
      "14:39:48 INFO (SimpDOM_model:162): Mean validation loss: 0.10231845825910568\n",
      "14:39:48 INFO (SimpDOM_model:162): Mean validation loss: 0.06618340313434601\n",
      "14:39:48 INFO (SimpDOM_model:162): Mean validation loss: 0.06787869334220886\n",
      "14:39:48 INFO (SimpDOM_model:162): Mean validation loss: 0.07471798360347748\n",
      "14:39:48 INFO (SimpDOM_model:162): Mean validation loss: 0.08730045706033707\n",
      "14:39:48 INFO (SimpDOM_model:162): Mean validation loss: 0.06726232916116714\n",
      "14:39:48 INFO (model_checkpoint:709): Epoch 2, global step 8313: 'val_loss' reached 0.07443 (best 0.07443), saving model to '/Users/izapreev/Projects/SimpDOM/lightning_logs/version_0/checkpoints/./data/weights.ckpt' as top 1\n"
     ]
    },
    {
     "data": {
      "application/vnd.jupyter.widget-view+json": {
       "model_id": "",
       "version_major": 2,
       "version_minor": 0
      },
      "text/plain": [
       "Validation: 0it [00:00, ?it/s]"
      ]
     },
     "metadata": {},
     "output_type": "display_data"
    },
    {
     "name": "stderr",
     "output_type": "stream",
     "text": [
      "14:51:05 INFO (SimpDOM_model:162): Mean validation loss: 0.11430712789297104\n",
      "14:51:05 INFO (SimpDOM_model:162): Mean validation loss: 0.11989680677652359\n",
      "14:51:05 INFO (SimpDOM_model:162): Mean validation loss: 0.133010596036911\n",
      "14:51:05 INFO (SimpDOM_model:162): Mean validation loss: 0.15625940263271332\n",
      "14:51:05 INFO (SimpDOM_model:162): Mean validation loss: 0.16923974454402924\n",
      "14:51:05 INFO (SimpDOM_model:162): Mean validation loss: 0.1445520669221878\n",
      "14:51:05 INFO (SimpDOM_model:162): Mean validation loss: 0.12946239113807678\n",
      "14:51:05 INFO (SimpDOM_model:162): Mean validation loss: 0.11791052669286728\n",
      "14:51:05 INFO (SimpDOM_model:162): Mean validation loss: 0.1517574042081833\n",
      "14:51:05 INFO (SimpDOM_model:162): Mean validation loss: 0.12188323587179184\n",
      "14:51:05 INFO (model_checkpoint:666): Epoch 3, global step 11084: 'val_loss' was not in top 1\n"
     ]
    },
    {
     "data": {
      "application/vnd.jupyter.widget-view+json": {
       "model_id": "",
       "version_major": 2,
       "version_minor": 0
      },
      "text/plain": [
       "Validation: 0it [00:00, ?it/s]"
      ]
     },
     "metadata": {},
     "output_type": "display_data"
    },
    {
     "name": "stderr",
     "output_type": "stream",
     "text": [
      "15:02:26 INFO (SimpDOM_model:162): Mean validation loss: 0.06835523992776871\n",
      "15:02:26 INFO (SimpDOM_model:162): Mean validation loss: 0.07041145861148834\n",
      "15:02:26 INFO (SimpDOM_model:162): Mean validation loss: 0.06633705645799637\n",
      "15:02:26 INFO (SimpDOM_model:162): Mean validation loss: 0.11728524416685104\n",
      "15:02:26 INFO (SimpDOM_model:162): Mean validation loss: 0.06752259284257889\n",
      "15:02:26 INFO (SimpDOM_model:162): Mean validation loss: 0.07893067598342896\n",
      "15:02:26 INFO (SimpDOM_model:162): Mean validation loss: 0.07558134198188782\n",
      "15:02:26 INFO (SimpDOM_model:162): Mean validation loss: 0.06636947393417358\n",
      "15:02:26 INFO (SimpDOM_model:162): Mean validation loss: 0.1022828072309494\n",
      "15:02:26 INFO (SimpDOM_model:162): Mean validation loss: 0.08439917862415314\n",
      "15:02:26 INFO (model_checkpoint:666): Epoch 4, global step 13855: 'val_loss' was not in top 1\n"
     ]
    },
    {
     "data": {
      "application/vnd.jupyter.widget-view+json": {
       "model_id": "",
       "version_major": 2,
       "version_minor": 0
      },
      "text/plain": [
       "Validation: 0it [00:00, ?it/s]"
      ]
     },
     "metadata": {},
     "output_type": "display_data"
    },
    {
     "name": "stderr",
     "output_type": "stream",
     "text": [
      "15:13:08 INFO (SimpDOM_model:162): Mean validation loss: 0.1446032077074051\n",
      "15:13:08 INFO (SimpDOM_model:162): Mean validation loss: 0.21176160871982574\n",
      "15:13:08 INFO (SimpDOM_model:162): Mean validation loss: 0.16924645006656647\n",
      "15:13:08 INFO (SimpDOM_model:162): Mean validation loss: 0.2028914839029312\n",
      "15:13:08 INFO (SimpDOM_model:162): Mean validation loss: 0.23358958959579468\n",
      "15:13:08 INFO (SimpDOM_model:162): Mean validation loss: 0.15710468590259552\n",
      "15:13:08 INFO (SimpDOM_model:162): Mean validation loss: 0.14394865930080414\n",
      "15:13:08 INFO (SimpDOM_model:162): Mean validation loss: 0.16127529740333557\n",
      "15:13:08 INFO (SimpDOM_model:162): Mean validation loss: 0.15921562910079956\n",
      "15:13:08 INFO (SimpDOM_model:162): Mean validation loss: 0.18873907625675201\n",
      "15:13:08 INFO (model_checkpoint:666): Epoch 5, global step 16626: 'val_loss' was not in top 1\n"
     ]
    },
    {
     "data": {
      "application/vnd.jupyter.widget-view+json": {
       "model_id": "",
       "version_major": 2,
       "version_minor": 0
      },
      "text/plain": [
       "Validation: 0it [00:00, ?it/s]"
      ]
     },
     "metadata": {},
     "output_type": "display_data"
    },
    {
     "name": "stderr",
     "output_type": "stream",
     "text": [
      "15:23:52 INFO (SimpDOM_model:162): Mean validation loss: 0.08720256388187408\n",
      "15:23:52 INFO (SimpDOM_model:162): Mean validation loss: 0.12173078954219818\n",
      "15:23:52 INFO (SimpDOM_model:162): Mean validation loss: 0.09673287719488144\n",
      "15:23:52 INFO (SimpDOM_model:162): Mean validation loss: 0.10758774727582932\n",
      "15:23:52 INFO (SimpDOM_model:162): Mean validation loss: 0.11655154079198837\n",
      "15:23:52 INFO (SimpDOM_model:162): Mean validation loss: 0.12167754024267197\n",
      "15:23:52 INFO (SimpDOM_model:162): Mean validation loss: 0.12263201177120209\n",
      "15:23:52 INFO (SimpDOM_model:162): Mean validation loss: 0.1287478357553482\n",
      "15:23:52 INFO (SimpDOM_model:162): Mean validation loss: 0.10241434723138809\n",
      "15:23:52 INFO (SimpDOM_model:162): Mean validation loss: 0.10315771400928497\n",
      "15:23:52 INFO (model_checkpoint:666): Epoch 6, global step 19397: 'val_loss' was not in top 1\n"
     ]
    },
    {
     "data": {
      "application/vnd.jupyter.widget-view+json": {
       "model_id": "",
       "version_major": 2,
       "version_minor": 0
      },
      "text/plain": [
       "Validation: 0it [00:00, ?it/s]"
      ]
     },
     "metadata": {},
     "output_type": "display_data"
    },
    {
     "name": "stderr",
     "output_type": "stream",
     "text": [
      "15:34:39 INFO (SimpDOM_model:162): Mean validation loss: 0.09728603810071945\n",
      "15:34:39 INFO (SimpDOM_model:162): Mean validation loss: 0.14263571798801422\n",
      "15:34:39 INFO (SimpDOM_model:162): Mean validation loss: 0.1169283539056778\n",
      "15:34:39 INFO (SimpDOM_model:162): Mean validation loss: 0.13836325705051422\n",
      "15:34:39 INFO (SimpDOM_model:162): Mean validation loss: 0.10570533573627472\n",
      "15:34:39 INFO (SimpDOM_model:162): Mean validation loss: 0.14173784852027893\n",
      "15:34:39 INFO (SimpDOM_model:162): Mean validation loss: 0.11849341541528702\n",
      "15:34:39 INFO (SimpDOM_model:162): Mean validation loss: 0.10537511110305786\n",
      "15:34:39 INFO (SimpDOM_model:162): Mean validation loss: 0.10982905328273773\n",
      "15:34:39 INFO (SimpDOM_model:162): Mean validation loss: 0.12261694669723511\n",
      "15:34:39 INFO (model_checkpoint:666): Epoch 7, global step 22168: 'val_loss' was not in top 1\n"
     ]
    },
    {
     "data": {
      "application/vnd.jupyter.widget-view+json": {
       "model_id": "",
       "version_major": 2,
       "version_minor": 0
      },
      "text/plain": [
       "Validation: 0it [00:00, ?it/s]"
      ]
     },
     "metadata": {},
     "output_type": "display_data"
    },
    {
     "name": "stderr",
     "output_type": "stream",
     "text": [
      "15:45:25 INFO (SimpDOM_model:162): Mean validation loss: 0.0898217037320137\n",
      "15:45:25 INFO (SimpDOM_model:162): Mean validation loss: 0.15671281516551971\n",
      "15:45:25 INFO (SimpDOM_model:162): Mean validation loss: 0.08536389470100403\n",
      "15:45:25 INFO (SimpDOM_model:162): Mean validation loss: 0.09976442903280258\n",
      "15:45:25 INFO (SimpDOM_model:162): Mean validation loss: 0.07831426709890366\n",
      "15:45:25 INFO (SimpDOM_model:162): Mean validation loss: 0.12702828645706177\n",
      "15:45:25 INFO (SimpDOM_model:162): Mean validation loss: 0.10950875282287598\n",
      "15:45:25 INFO (SimpDOM_model:162): Mean validation loss: 0.08828958868980408\n",
      "15:45:25 INFO (SimpDOM_model:162): Mean validation loss: 0.08987957239151001\n",
      "15:45:25 INFO (SimpDOM_model:162): Mean validation loss: 0.08516055345535278\n",
      "15:45:25 INFO (model_checkpoint:666): Epoch 8, global step 24939: 'val_loss' was not in top 1\n"
     ]
    },
    {
     "data": {
      "application/vnd.jupyter.widget-view+json": {
       "model_id": "",
       "version_major": 2,
       "version_minor": 0
      },
      "text/plain": [
       "Validation: 0it [00:00, ?it/s]"
      ]
     },
     "metadata": {},
     "output_type": "display_data"
    },
    {
     "name": "stderr",
     "output_type": "stream",
     "text": [
      "15:56:31 INFO (SimpDOM_model:162): Mean validation loss: 0.11222688108682632\n",
      "15:56:31 INFO (SimpDOM_model:162): Mean validation loss: 0.09882201999425888\n",
      "15:56:31 INFO (SimpDOM_model:162): Mean validation loss: 0.09507166594266891\n",
      "15:56:31 INFO (SimpDOM_model:162): Mean validation loss: 0.09751509130001068\n",
      "15:56:31 INFO (SimpDOM_model:162): Mean validation loss: 0.1080753356218338\n",
      "15:56:31 INFO (SimpDOM_model:162): Mean validation loss: 0.18403437733650208\n",
      "15:56:31 INFO (SimpDOM_model:162): Mean validation loss: 0.10048313438892365\n",
      "15:56:31 INFO (SimpDOM_model:162): Mean validation loss: 0.1513763666152954\n",
      "15:56:31 INFO (SimpDOM_model:162): Mean validation loss: 0.13575738668441772\n",
      "15:56:31 INFO (SimpDOM_model:162): Mean validation loss: 0.12136910110712051\n",
      "15:56:31 INFO (model_checkpoint:666): Epoch 9, global step 27710: 'val_loss' was not in top 1\n",
      "15:56:31 INFO (fit_loop:170): `Trainer.fit` stopped: `max_epochs=10` reached.\n",
      "15:56:32 INFO (train_and_eval:88): Saving the check point into: weights_wpix_manual_ckpt.ckpt\n"
     ]
    }
   ],
   "source": [
    "logger.info(f'Starting model training')\n",
    "model = train_model(config, num_train_epochs)"
   ]
  },
  {
   "cell_type": "code",
   "execution_count": 13,
   "metadata": {},
   "outputs": [
    {
     "name": "stderr",
     "output_type": "stream",
     "text": [
      "16:04:25 INFO (600260005:1): Training is finished, starting predicting\n",
      "16:04:25 WARNING (train_and_eval:107): The test websites was not explit, extracting from config!\n",
      "16:04:25 INFO (train_and_eval:112): The test websites are: ['auto-aol', 'auto-yahoo']\n",
      "16:04:25 INFO (SimpDOM_model:182): Creating testing data loader for: ['auto-aol', 'auto-yahoo']\n",
      "16:04:25 INFO (swde_dataLoader:257): Start loading data set for websites: ['auto-aol', 'auto-yahoo']\n"
     ]
    },
    {
     "data": {
      "application/vnd.jupyter.widget-view+json": {
       "model_id": "1ed928463fa8461a83f470dec49d8de2",
       "version_major": 2,
       "version_minor": 0
      },
      "text/plain": [
       "Web site:   0%|          | 0/2 [00:00<?, ?it/s]"
      ]
     },
     "metadata": {},
     "output_type": "display_data"
    },
    {
     "data": {
      "application/vnd.jupyter.widget-view+json": {
       "model_id": "0ae682467e024c04a1e4d105276f8554",
       "version_major": 2,
       "version_minor": 0
      },
      "text/plain": [
       "Web pages for: \"auto-aol\":   0%|          | 0/2000 [00:00<?, ?it/s]"
      ]
     },
     "metadata": {},
     "output_type": "display_data"
    },
    {
     "data": {
      "application/vnd.jupyter.widget-view+json": {
       "model_id": "65e3fb341824455eac1b8c3b372727a1",
       "version_major": 2,
       "version_minor": 0
      },
      "text/plain": [
       "Web pages for: \"auto-yahoo\":   0%|          | 0/2000 [00:00<?, ?it/s]"
      ]
     },
     "metadata": {},
     "output_type": "display_data"
    },
    {
     "name": "stderr",
     "output_type": "stream",
     "text": [
      "16:04:44 INFO (swde_dataLoader:262): SWDE data test loader has loaded: 435018 nodes from: ['auto-aol', 'auto-yahoo']\n"
     ]
    },
    {
     "data": {
      "application/vnd.jupyter.widget-view+json": {
       "model_id": "82838b4a30504260b9322b882cb88bdf",
       "version_major": 2,
       "version_minor": 0
      },
      "text/plain": [
       "Testing batches:   0%|          | 0/13595 [00:00<?, ?it/s]"
      ]
     },
     "metadata": {},
     "output_type": "display_data"
    },
    {
     "name": "stdout",
     "output_type": "stream",
     "text": [
      "Dumping predictions dataframe into: test_predictions.csv\n"
     ]
    },
    {
     "name": "stderr",
     "output_type": "stream",
     "text": [
      "16:20:01 INFO (train_and_eval:122): Prediction summary:\n",
      "{1: (0.7898609975470156, 0.48360450563204005, 0.599906846762925), 2: (0.98975, 0.98975, 0.98975), 3: (0.9940443963183541, 0.836, 0.9081977650312476), 4: (0.9687108886107635, 0.9958387516254876, 0.9820875199510357)}\n"
     ]
    },
    {
     "name": "stdout",
     "output_type": "stream",
     "text": [
      "class - 1: precision = 0.7898609975470156, recall = 0.48360450563204005, F1 = 0.599906846762925\n",
      "class - 2: precision = 0.98975, recall = 0.98975, F1 = 0.98975\n",
      "class - 3: precision = 0.9940443963183541, recall = 0.836, F1 = 0.9081977650312476\n",
      "class - 4: precision = 0.9687108886107635, recall = 0.9958387516254876, F1 = 0.9820875199510357\n"
     ]
    },
    {
     "name": "stderr",
     "output_type": "stream",
     "text": [
      "16:20:14 INFO (train_and_eval:126): Website-level prediction summary:\n",
      "      website  attribute  precision    recall  retrieved_relevant  retrieved  \\\n",
      "0    auto-aol          1   0.922923  0.924311                1844       1998   \n",
      "1    auto-aol          2   0.998000  0.998000                1996       2000   \n",
      "2    auto-aol          3   0.000000  0.000000                   0          0   \n",
      "3    auto-aol          4   0.936029  0.991328                1829       1954   \n",
      "4  auto-yahoo          1   0.196429  0.044000                  88        448   \n",
      "5  auto-yahoo          2   0.981500  0.981500                1963       2000   \n",
      "6  auto-yahoo          3   0.987013  0.836000                1672       1694   \n",
      "7  auto-yahoo          4   1.000000  1.000000                2000       2000   \n",
      "\n",
      "   relevant  \n",
      "0      1995  \n",
      "1      2000  \n",
      "2         0  \n",
      "3      1845  \n",
      "4      2000  \n",
      "5      2000  \n",
      "6      2000  \n",
      "7      2000  \n",
      "16:20:14 INFO (600260005:3): Test predictions result: {1: (0.7898609975470156, 0.48360450563204005, 0.599906846762925), 2: (0.98975, 0.98975, 0.98975), 3: (0.9940443963183541, 0.836, 0.9081977650312476), 4: (0.9687108886107635, 0.9958387516254876, 0.9820875199510357)}\n"
     ]
    }
   ],
   "source": [
    "logger.info(f'Training is finished, starting predicting')\n",
    "avg_pr_dict = test_model(config, model)\n",
    "logger.info(f'Test predictions result: {avg_pr_dict}')"
   ]
  },
  {
   "cell_type": "code",
   "execution_count": null,
   "metadata": {},
   "outputs": [
    {
     "name": "stderr",
     "output_type": "stream",
     "text": [
      "16:22:51 WARNING (train_and_eval:110): The test websites was explit, updating config!\n",
      "16:22:51 INFO (train_and_eval:112): The test websites are: ['auto-aol']\n",
      "16:22:51 INFO (SimpDOM_model:182): Creating testing data loader for: ['auto-aol', 'auto-yahoo']\n",
      "16:22:51 INFO (swde_dataLoader:257): Start loading data set for websites: ['auto-aol', 'auto-yahoo']\n"
     ]
    },
    {
     "data": {
      "application/vnd.jupyter.widget-view+json": {
       "model_id": "593c09c5f5264399b7d7a40012801730",
       "version_major": 2,
       "version_minor": 0
      },
      "text/plain": [
       "Web site:   0%|          | 0/2 [00:00<?, ?it/s]"
      ]
     },
     "metadata": {},
     "output_type": "display_data"
    },
    {
     "data": {
      "application/vnd.jupyter.widget-view+json": {
       "model_id": "2c4af220b4af4475b8a6220c071a5146",
       "version_major": 2,
       "version_minor": 0
      },
      "text/plain": [
       "Web pages for: \"auto-aol\":   0%|          | 0/2000 [00:00<?, ?it/s]"
      ]
     },
     "metadata": {},
     "output_type": "display_data"
    },
    {
     "data": {
      "application/vnd.jupyter.widget-view+json": {
       "model_id": "13375b2ff1cb43979c4fa612c0c076ed",
       "version_major": 2,
       "version_minor": 0
      },
      "text/plain": [
       "Web pages for: \"auto-yahoo\":   0%|          | 0/2000 [00:00<?, ?it/s]"
      ]
     },
     "metadata": {},
     "output_type": "display_data"
    },
    {
     "name": "stderr",
     "output_type": "stream",
     "text": [
      "16:23:13 INFO (swde_dataLoader:262): SWDE data test loader has loaded: 435018 nodes from: ['auto-aol', 'auto-yahoo']\n"
     ]
    },
    {
     "data": {
      "application/vnd.jupyter.widget-view+json": {
       "model_id": "4f30d68e5de440d5ad3ebc7b4456d1ab",
       "version_major": 2,
       "version_minor": 0
      },
      "text/plain": [
       "Testing batches:   0%|          | 0/13595 [00:00<?, ?it/s]"
      ]
     },
     "metadata": {},
     "output_type": "display_data"
    }
   ],
   "source": [
    "# Check the accuracy on the data used for training\n",
    "avg_pr_dict = test_model(config, model, test_websites=val_websites)\n",
    "logger.info(f'Test predictions result: {avg_pr_dict}')"
   ]
  },
  {
   "cell_type": "code",
   "execution_count": null,
   "metadata": {},
   "outputs": [],
   "source": [
    "# To Create the training data for other verticals."
   ]
  },
  {
   "cell_type": "code",
   "execution_count": 3,
   "metadata": {},
   "outputs": [],
   "source": [
    "Datapath = './data' #directory path where each vertical's html pages from SWDE dataset (website wise folders)\n",
    "vertical = 'auto'"
   ]
  },
  {
   "cell_type": "code",
   "execution_count": 4,
   "metadata": {},
   "outputs": [
    {
     "data": {
      "application/vnd.jupyter.widget-view+json": {
       "model_id": "393d707512f842288381d8d6968a39d9",
       "version_major": 2,
       "version_minor": 0
      },
      "text/plain": [
       "Web sites:   0%|          | 0/10 [00:00<?, ?it/s]"
      ]
     },
     "metadata": {},
     "output_type": "display_data"
    },
    {
     "data": {
      "application/vnd.jupyter.widget-view+json": {
       "model_id": "b114b5e8230f440eba3ad40f84005510",
       "version_major": 2,
       "version_minor": 0
      },
      "text/plain": [
       "Pages for website: auto-kbb:   0%|          | 0/2000 [00:00<?, ?it/s]"
      ]
     },
     "metadata": {},
     "output_type": "display_data"
    },
    {
     "data": {
      "application/vnd.jupyter.widget-view+json": {
       "model_id": "972ca3878e624283a497ddc89f655109",
       "version_major": 2,
       "version_minor": 0
      },
      "text/plain": [
       "Pages for website: auto-autoweb:   0%|          | 0/2000 [00:00<?, ?it/s]"
      ]
     },
     "metadata": {},
     "output_type": "display_data"
    },
    {
     "data": {
      "application/vnd.jupyter.widget-view+json": {
       "model_id": "30a33ae0d5294459a2e8a10ed4ca1a77",
       "version_major": 2,
       "version_minor": 0
      },
      "text/plain": [
       "Pages for website: auto-aol:   0%|          | 0/2000 [00:00<?, ?it/s]"
      ]
     },
     "metadata": {},
     "output_type": "display_data"
    },
    {
     "data": {
      "application/vnd.jupyter.widget-view+json": {
       "model_id": "245a340d8efa45e99354be0a0c73611f",
       "version_major": 2,
       "version_minor": 0
      },
      "text/plain": [
       "Pages for website: auto-yahoo:   0%|          | 0/2000 [00:00<?, ?it/s]"
      ]
     },
     "metadata": {},
     "output_type": "display_data"
    },
    {
     "data": {
      "application/vnd.jupyter.widget-view+json": {
       "model_id": "2caffe2fd4b648b0bcf053ec220d457c",
       "version_major": 2,
       "version_minor": 0
      },
      "text/plain": [
       "Pages for website: auto-motortrend:   0%|          | 0/1267 [00:00<?, ?it/s]"
      ]
     },
     "metadata": {},
     "output_type": "display_data"
    },
    {
     "data": {
      "application/vnd.jupyter.widget-view+json": {
       "model_id": "1446e2707b57445083f74c32726eca0e",
       "version_major": 2,
       "version_minor": 0
      },
      "text/plain": [
       "Pages for website: auto-autobytel:   0%|          | 0/2000 [00:00<?, ?it/s]"
      ]
     },
     "metadata": {},
     "output_type": "display_data"
    },
    {
     "data": {
      "application/vnd.jupyter.widget-view+json": {
       "model_id": "087baee763c040bca680ab426814965b",
       "version_major": 2,
       "version_minor": 0
      },
      "text/plain": [
       "Pages for website: auto-carquotes:   0%|          | 0/2000 [00:00<?, ?it/s]"
      ]
     },
     "metadata": {},
     "output_type": "display_data"
    },
    {
     "data": {
      "application/vnd.jupyter.widget-view+json": {
       "model_id": "4e9da9d9034349b98841467eb91a7845",
       "version_major": 2,
       "version_minor": 0
      },
      "text/plain": [
       "Pages for website: auto-cars:   0%|          | 0/657 [00:00<?, ?it/s]"
      ]
     },
     "metadata": {},
     "output_type": "display_data"
    },
    {
     "data": {
      "application/vnd.jupyter.widget-view+json": {
       "model_id": "1f4d8a82fc5449dc8cdff245a87ce282",
       "version_major": 2,
       "version_minor": 0
      },
      "text/plain": [
       "Pages for website: auto-msn:   0%|          | 0/2000 [00:00<?, ?it/s]"
      ]
     },
     "metadata": {},
     "output_type": "display_data"
    },
    {
     "data": {
      "application/vnd.jupyter.widget-view+json": {
       "model_id": "cc2e4961ab284a3cbd01877294244396",
       "version_major": 2,
       "version_minor": 0
      },
      "text/plain": [
       "Pages for website: auto-automotive:   0%|          | 0/1999 [00:00<?, ?it/s]"
      ]
     },
     "metadata": {},
     "output_type": "display_data"
    },
    {
     "name": "stderr",
     "output_type": "stream",
     "text": [
      "13:26:59 INFO (storeFixedNodes:60): Got: 1973 fixed nodes for: auto-automotive, dumping into: ./data/fixedNodes_camera.csv\n"
     ]
    }
   ],
   "source": [
    "#dataset processor: to find the set of fixed nodes for each of the websites\n",
    "from DatasetCreation.storeFixedNodes import main as storeFixedNodes\n",
    "storeFixedNodes(Datapath, vertical)"
   ]
  },
  {
   "cell_type": "code",
   "execution_count": 5,
   "metadata": {
    "scrolled": true
   },
   "outputs": [
    {
     "data": {
      "application/vnd.jupyter.widget-view+json": {
       "model_id": "4eee7ccf48644a0290c58c8b912ac94e",
       "version_major": 2,
       "version_minor": 0
      },
      "text/plain": [
       "Web sites:   0%|          | 0/10 [00:00<?, ?it/s]"
      ]
     },
     "metadata": {},
     "output_type": "display_data"
    },
    {
     "data": {
      "application/vnd.jupyter.widget-view+json": {
       "model_id": "2b99479a105948648babffa5d8135586",
       "version_major": 2,
       "version_minor": 0
      },
      "text/plain": [
       "Pages for website: auto-kbb:   0%|          | 0/2000 [00:00<?, ?it/s]"
      ]
     },
     "metadata": {},
     "output_type": "display_data"
    },
    {
     "name": "stderr",
     "output_type": "stream",
     "text": [
      "13:27:16 INFO (storeAllTextNodes:53): Dumping node details into: ./data/nodesDetails/auto-kbb.pkl\n",
      "13:27:17 INFO (storeAllTextNodes:57): The average variabe/mixed node counts: auto-kbb are: [113.325  149.8585]\n"
     ]
    },
    {
     "data": {
      "application/vnd.jupyter.widget-view+json": {
       "model_id": "9c952c1c73be45d99deb7846c16d52a0",
       "version_major": 2,
       "version_minor": 0
      },
      "text/plain": [
       "Pages for website: auto-autoweb:   0%|          | 0/2000 [00:00<?, ?it/s]"
      ]
     },
     "metadata": {},
     "output_type": "display_data"
    },
    {
     "name": "stderr",
     "output_type": "stream",
     "text": [
      "13:27:29 INFO (storeAllTextNodes:53): Dumping node details into: ./data/nodesDetails/auto-autoweb.pkl\n",
      "13:27:29 INFO (storeAllTextNodes:57): The average variabe/mixed node counts: auto-autoweb are: [ 42.697  117.3055]\n"
     ]
    },
    {
     "data": {
      "application/vnd.jupyter.widget-view+json": {
       "model_id": "81ceac4b7b494124a614c24a47242547",
       "version_major": 2,
       "version_minor": 0
      },
      "text/plain": [
       "Pages for website: auto-aol:   0%|          | 0/2000 [00:00<?, ?it/s]"
      ]
     },
     "metadata": {},
     "output_type": "display_data"
    },
    {
     "name": "stderr",
     "output_type": "stream",
     "text": [
      "13:27:52 INFO (storeAllTextNodes:53): Dumping node details into: ./data/nodesDetails/auto-aol.pkl\n",
      "13:27:53 INFO (storeAllTextNodes:57): The average variabe/mixed node counts: auto-aol are: [108.082  215.0985]\n"
     ]
    },
    {
     "data": {
      "application/vnd.jupyter.widget-view+json": {
       "model_id": "abf9ea9879cf4726974838a0eceda092",
       "version_major": 2,
       "version_minor": 0
      },
      "text/plain": [
       "Pages for website: auto-yahoo:   0%|          | 0/2000 [00:00<?, ?it/s]"
      ]
     },
     "metadata": {},
     "output_type": "display_data"
    },
    {
     "name": "stderr",
     "output_type": "stream",
     "text": [
      "13:28:12 INFO (storeAllTextNodes:53): Dumping node details into: ./data/nodesDetails/auto-yahoo.pkl\n",
      "13:28:13 INFO (storeAllTextNodes:57): The average variabe/mixed node counts: auto-yahoo are: [109.427  182.2715]\n"
     ]
    },
    {
     "data": {
      "application/vnd.jupyter.widget-view+json": {
       "model_id": "d8e9ca5fc7554746a8a19bd2d0d70d80",
       "version_major": 2,
       "version_minor": 0
      },
      "text/plain": [
       "Pages for website: auto-motortrend:   0%|          | 0/1267 [00:00<?, ?it/s]"
      ]
     },
     "metadata": {},
     "output_type": "display_data"
    },
    {
     "name": "stderr",
     "output_type": "stream",
     "text": [
      "13:28:27 INFO (storeAllTextNodes:53): Dumping node details into: ./data/nodesDetails/auto-motortrend.pkl\n",
      "13:28:28 INFO (storeAllTextNodes:57): The average variabe/mixed node counts: auto-motortrend are: [ 25.23914759 204.31412786]\n"
     ]
    },
    {
     "data": {
      "application/vnd.jupyter.widget-view+json": {
       "model_id": "335626da9192403c9d040d20c09fecec",
       "version_major": 2,
       "version_minor": 0
      },
      "text/plain": [
       "Pages for website: auto-autobytel:   0%|          | 0/2000 [00:00<?, ?it/s]"
      ]
     },
     "metadata": {},
     "output_type": "display_data"
    },
    {
     "name": "stderr",
     "output_type": "stream",
     "text": [
      "13:28:45 INFO (storeAllTextNodes:53): Dumping node details into: ./data/nodesDetails/auto-autobytel.pkl\n",
      "13:28:46 INFO (storeAllTextNodes:57): The average variabe/mixed node counts: auto-autobytel are: [ 41.712 191.237]\n"
     ]
    },
    {
     "data": {
      "application/vnd.jupyter.widget-view+json": {
       "model_id": "180d46c9e36144f08ebdaa1b05207841",
       "version_major": 2,
       "version_minor": 0
      },
      "text/plain": [
       "Pages for website: auto-carquotes:   0%|          | 0/2000 [00:00<?, ?it/s]"
      ]
     },
     "metadata": {},
     "output_type": "display_data"
    },
    {
     "name": "stderr",
     "output_type": "stream",
     "text": [
      "13:28:54 INFO (storeAllTextNodes:53): Dumping node details into: ./data/nodesDetails/auto-carquotes.pkl\n",
      "13:28:55 INFO (storeAllTextNodes:57): The average variabe/mixed node counts: auto-carquotes are: [39.8235 99.8315]\n"
     ]
    },
    {
     "data": {
      "application/vnd.jupyter.widget-view+json": {
       "model_id": "61ede9a4f7704486af55a15dbdf72aee",
       "version_major": 2,
       "version_minor": 0
      },
      "text/plain": [
       "Pages for website: auto-cars:   0%|          | 0/657 [00:00<?, ?it/s]"
      ]
     },
     "metadata": {},
     "output_type": "display_data"
    },
    {
     "name": "stderr",
     "output_type": "stream",
     "text": [
      "13:28:58 INFO (storeAllTextNodes:53): Dumping node details into: ./data/nodesDetails/auto-cars.pkl\n",
      "13:28:58 INFO (storeAllTextNodes:57): The average variabe/mixed node counts: auto-cars are: [52.79604262 90.49467275]\n"
     ]
    },
    {
     "data": {
      "application/vnd.jupyter.widget-view+json": {
       "model_id": "7055bf5f097f4f55836bb84bf82d277f",
       "version_major": 2,
       "version_minor": 0
      },
      "text/plain": [
       "Pages for website: auto-msn:   0%|          | 0/2000 [00:00<?, ?it/s]"
      ]
     },
     "metadata": {},
     "output_type": "display_data"
    },
    {
     "name": "stderr",
     "output_type": "stream",
     "text": [
      "13:29:33 INFO (storeAllTextNodes:53): Dumping node details into: ./data/nodesDetails/auto-msn.pkl\n",
      "13:29:35 INFO (storeAllTextNodes:57): The average variabe/mixed node counts: auto-msn are: [ 95.1715 283.4425]\n"
     ]
    },
    {
     "data": {
      "application/vnd.jupyter.widget-view+json": {
       "model_id": "473872731bca4afc86f1132cf7b21cfb",
       "version_major": 2,
       "version_minor": 0
      },
      "text/plain": [
       "Pages for website: auto-automotive:   0%|          | 0/1999 [00:00<?, ?it/s]"
      ]
     },
     "metadata": {},
     "output_type": "display_data"
    },
    {
     "name": "stderr",
     "output_type": "stream",
     "text": [
      "13:30:14 INFO (storeAllTextNodes:53): Dumping node details into: ./data/nodesDetails/auto-automotive.pkl\n",
      "13:30:15 INFO (storeAllTextNodes:57): The average variabe/mixed node counts: auto-automotive are: [ 77.32616308 298.83491746]\n"
     ]
    }
   ],
   "source": [
    "#dataset processor: Store each website as pickle file\n",
    "from DatasetCreation.storeAllTextNodes import main as storeAllTextNodes\n",
    "storeAllTextNodes(Datapath, vertical)"
   ]
  },
  {
   "cell_type": "code",
   "execution_count": 6,
   "metadata": {
    "scrolled": true
   },
   "outputs": [
    {
     "data": {
      "application/vnd.jupyter.widget-view+json": {
       "model_id": "e74273cb4e7645c0bad76e2fae812611",
       "version_major": 2,
       "version_minor": 0
      },
      "text/plain": [
       "Web sites:   0%|          | 0/10 [00:00<?, ?it/s]"
      ]
     },
     "metadata": {},
     "output_type": "display_data"
    },
    {
     "data": {
      "application/vnd.jupyter.widget-view+json": {
       "model_id": "6dbcc635bcf94fbc9a937a3c7e366527",
       "version_major": 2,
       "version_minor": 0
      },
      "text/plain": [
       "Pages for website: auto-kbb:   0%|          | 0/2000 [00:00<?, ?it/s]"
      ]
     },
     "metadata": {},
     "output_type": "display_data"
    },
    {
     "name": "stderr",
     "output_type": "stream",
     "text": [
      "13:30:24 INFO (friendCircleExtractioin:99): Re-dumping node details (all pages) into: ./data/nodesDetails/auto-kbb.pkl\n",
      "13:30:26 INFO (friendCircleExtractioin:102): The friend/partner nodes for: \"auto-kbb\" is: 9.955104522341177/0.11822890216473102\n"
     ]
    },
    {
     "data": {
      "application/vnd.jupyter.widget-view+json": {
       "model_id": "6fef9e0f72304995b72650a149de3a12",
       "version_major": 2,
       "version_minor": 0
      },
      "text/plain": [
       "Pages for website: auto-autoweb:   0%|          | 0/2000 [00:00<?, ?it/s]"
      ]
     },
     "metadata": {},
     "output_type": "display_data"
    },
    {
     "name": "stderr",
     "output_type": "stream",
     "text": [
      "13:30:31 INFO (friendCircleExtractioin:99): Re-dumping node details (all pages) into: ./data/nodesDetails/auto-autoweb.pkl\n",
      "13:30:32 INFO (friendCircleExtractioin:102): The friend/partner nodes for: \"auto-autoweb\" is: 9.929001578443978/0.8581395790461918\n"
     ]
    },
    {
     "data": {
      "application/vnd.jupyter.widget-view+json": {
       "model_id": "fea6375ab24641fda6f8ce7f88182daa",
       "version_major": 2,
       "version_minor": 0
      },
      "text/plain": [
       "Pages for website: auto-aol:   0%|          | 0/2000 [00:00<?, ?it/s]"
      ]
     },
     "metadata": {},
     "output_type": "display_data"
    },
    {
     "name": "stderr",
     "output_type": "stream",
     "text": [
      "13:30:41 INFO (friendCircleExtractioin:99): Re-dumping node details (all pages) into: ./data/nodesDetails/auto-aol.pkl\n",
      "13:30:44 INFO (friendCircleExtractioin:102): The friend/partner nodes for: \"auto-aol\" is: 9.999695803248095/0.21802965308525638\n"
     ]
    },
    {
     "data": {
      "application/vnd.jupyter.widget-view+json": {
       "model_id": "99875df4fcf641cda8e98f69952e68a1",
       "version_major": 2,
       "version_minor": 0
      },
      "text/plain": [
       "Pages for website: auto-yahoo:   0%|          | 0/2000 [00:00<?, ?it/s]"
      ]
     },
     "metadata": {},
     "output_type": "display_data"
    },
    {
     "name": "stderr",
     "output_type": "stream",
     "text": [
      "13:30:52 INFO (friendCircleExtractioin:99): Re-dumping node details (all pages) into: ./data/nodesDetails/auto-yahoo.pkl\n",
      "13:30:54 INFO (friendCircleExtractioin:102): The friend/partner nodes for: \"auto-yahoo\" is: 10.0/0.33413255206206427\n"
     ]
    },
    {
     "data": {
      "application/vnd.jupyter.widget-view+json": {
       "model_id": "66bd9a3adaa2482db26abf865c8788a1",
       "version_major": 2,
       "version_minor": 0
      },
      "text/plain": [
       "Pages for website: auto-motortrend:   0%|          | 0/1267 [00:00<?, ?it/s]"
      ]
     },
     "metadata": {},
     "output_type": "display_data"
    },
    {
     "name": "stderr",
     "output_type": "stream",
     "text": [
      "13:30:57 INFO (friendCircleExtractioin:99): Re-dumping node details (all pages) into: ./data/nodesDetails/auto-motortrend.pkl\n",
      "13:30:58 INFO (friendCircleExtractioin:102): The friend/partner nodes for: \"auto-motortrend\" is: 9.998923696011012/0.0956056449131986\n"
     ]
    },
    {
     "data": {
      "application/vnd.jupyter.widget-view+json": {
       "model_id": "4fcae6cb464c439fb4803b5734dda22a",
       "version_major": 2,
       "version_minor": 0
      },
      "text/plain": [
       "Pages for website: auto-autobytel:   0%|          | 0/2000 [00:00<?, ?it/s]"
      ]
     },
     "metadata": {},
     "output_type": "display_data"
    },
    {
     "name": "stderr",
     "output_type": "stream",
     "text": [
      "13:31:03 INFO (friendCircleExtractioin:99): Re-dumping node details (all pages) into: ./data/nodesDetails/auto-autobytel.pkl\n",
      "13:31:05 INFO (friendCircleExtractioin:102): The friend/partner nodes for: \"auto-autobytel\" is: 10.0/0.4654751145337193\n"
     ]
    },
    {
     "data": {
      "application/vnd.jupyter.widget-view+json": {
       "model_id": "40d4523b65e94b89828cb7cb9b8db185",
       "version_major": 2,
       "version_minor": 0
      },
      "text/plain": [
       "Pages for website: auto-carquotes:   0%|          | 0/2000 [00:00<?, ?it/s]"
      ]
     },
     "metadata": {},
     "output_type": "display_data"
    },
    {
     "name": "stderr",
     "output_type": "stream",
     "text": [
      "13:31:09 INFO (friendCircleExtractioin:99): Re-dumping node details (all pages) into: ./data/nodesDetails/auto-carquotes.pkl\n",
      "13:31:10 INFO (friendCircleExtractioin:102): The friend/partner nodes for: \"auto-carquotes\" is: 10.0/0.37580329100302323\n"
     ]
    },
    {
     "data": {
      "application/vnd.jupyter.widget-view+json": {
       "model_id": "b2ced2919fb84ee2aedff2771c241cc5",
       "version_major": 2,
       "version_minor": 0
      },
      "text/plain": [
       "Pages for website: auto-cars:   0%|          | 0/657 [00:00<?, ?it/s]"
      ]
     },
     "metadata": {},
     "output_type": "display_data"
    },
    {
     "name": "stderr",
     "output_type": "stream",
     "text": [
      "13:31:11 INFO (friendCircleExtractioin:99): Re-dumping node details (all pages) into: ./data/nodesDetails/auto-cars.pkl\n",
      "13:31:11 INFO (friendCircleExtractioin:102): The friend/partner nodes for: \"auto-cars\" is: 10.0/0.5597516234882789\n"
     ]
    },
    {
     "data": {
      "application/vnd.jupyter.widget-view+json": {
       "model_id": "1e26fe9ff90a4580abf4977af5cdaac4",
       "version_major": 2,
       "version_minor": 0
      },
      "text/plain": [
       "Pages for website: auto-msn:   0%|          | 0/2000 [00:00<?, ?it/s]"
      ]
     },
     "metadata": {},
     "output_type": "display_data"
    },
    {
     "name": "stderr",
     "output_type": "stream",
     "text": [
      "13:31:22 INFO (friendCircleExtractioin:99): Re-dumping node details (all pages) into: ./data/nodesDetails/auto-msn.pkl\n",
      "13:31:24 INFO (friendCircleExtractioin:102): The friend/partner nodes for: \"auto-msn\" is: 9.989908327451145/0.29792965069489014\n"
     ]
    },
    {
     "data": {
      "application/vnd.jupyter.widget-view+json": {
       "model_id": "f586c372e1b449b2a26728bcf750fb01",
       "version_major": 2,
       "version_minor": 0
      },
      "text/plain": [
       "Pages for website: auto-automotive:   0%|          | 0/1999 [00:00<?, ?it/s]"
      ]
     },
     "metadata": {},
     "output_type": "display_data"
    },
    {
     "name": "stderr",
     "output_type": "stream",
     "text": [
      "13:31:34 INFO (friendCircleExtractioin:99): Re-dumping node details (all pages) into: ./data/nodesDetails/auto-automotive.pkl\n",
      "13:31:36 INFO (friendCircleExtractioin:102): The friend/partner nodes for: \"auto-automotive\" is: 10.0/0.47887502249239666\n"
     ]
    }
   ],
   "source": [
    "#dataset processor: append the friendCircle of each node in the DOMTree\n",
    "from Utils.friendCircleExtractioin import main as friendCircleExtractioin\n",
    "friendCircleExtractioin(Datapath, vertical, 5)"
   ]
  },
  {
   "cell_type": "code",
   "execution_count": 7,
   "metadata": {},
   "outputs": [
    {
     "data": {
      "application/vnd.jupyter.widget-view+json": {
       "model_id": "b5cecbeb6f12448c98b30d6d0f7e5a5e",
       "version_major": 2,
       "version_minor": 0
      },
      "text/plain": [
       "Web sites::   0%|          | 0/10 [00:00<?, ?it/s]"
      ]
     },
     "metadata": {},
     "output_type": "display_data"
    },
    {
     "data": {
      "application/vnd.jupyter.widget-view+json": {
       "model_id": "6b807c39c54344f7aa944d103dc7292a",
       "version_major": 2,
       "version_minor": 0
      },
      "text/plain": [
       "Pages for attribute: model:   0%|          | 0/2000 [00:00<?, ?it/s]"
      ]
     },
     "metadata": {},
     "output_type": "display_data"
    },
    {
     "data": {
      "application/vnd.jupyter.widget-view+json": {
       "model_id": "ee87251bd4244ef5933c54c56dd38a58",
       "version_major": 2,
       "version_minor": 0
      },
      "text/plain": [
       "Pages for attribute: price:   0%|          | 0/2000 [00:00<?, ?it/s]"
      ]
     },
     "metadata": {},
     "output_type": "display_data"
    },
    {
     "data": {
      "application/vnd.jupyter.widget-view+json": {
       "model_id": "ee91833fc5564c30a68526ba62350bad",
       "version_major": 2,
       "version_minor": 0
      },
      "text/plain": [
       "Pages for attribute: engine:   0%|          | 0/2000 [00:00<?, ?it/s]"
      ]
     },
     "metadata": {},
     "output_type": "display_data"
    },
    {
     "data": {
      "application/vnd.jupyter.widget-view+json": {
       "model_id": "060cbd51be5b40daa3f982495933d0c7",
       "version_major": 2,
       "version_minor": 0
      },
      "text/plain": [
       "Pages for attribute: fuel_economy:   0%|          | 0/2000 [00:00<?, ?it/s]"
      ]
     },
     "metadata": {},
     "output_type": "display_data"
    },
    {
     "name": "stderr",
     "output_type": "stream",
     "text": [
      "13:31:47 INFO (assignGroundTruthToEachNode:73): Re-dumping node details (all pages) into: ./data/nodesDetails/auto-kbb.pkl\n"
     ]
    },
    {
     "data": {
      "application/vnd.jupyter.widget-view+json": {
       "model_id": "9f157b4a5f06429cb05902873187b1e3",
       "version_major": 2,
       "version_minor": 0
      },
      "text/plain": [
       "Pages for attribute: model:   0%|          | 0/2000 [00:00<?, ?it/s]"
      ]
     },
     "metadata": {},
     "output_type": "display_data"
    },
    {
     "data": {
      "application/vnd.jupyter.widget-view+json": {
       "model_id": "b9018cb9869544df93d14efee9470bcf",
       "version_major": 2,
       "version_minor": 0
      },
      "text/plain": [
       "Pages for attribute: price:   0%|          | 0/2000 [00:00<?, ?it/s]"
      ]
     },
     "metadata": {},
     "output_type": "display_data"
    },
    {
     "data": {
      "application/vnd.jupyter.widget-view+json": {
       "model_id": "530d3fbd1a7b45bfbc37faf9bd0f01b2",
       "version_major": 2,
       "version_minor": 0
      },
      "text/plain": [
       "Pages for attribute: engine:   0%|          | 0/2000 [00:00<?, ?it/s]"
      ]
     },
     "metadata": {},
     "output_type": "display_data"
    },
    {
     "data": {
      "application/vnd.jupyter.widget-view+json": {
       "model_id": "fb11f90ace684ca38e98f8e84a33d7f2",
       "version_major": 2,
       "version_minor": 0
      },
      "text/plain": [
       "Pages for attribute: fuel_economy:   0%|          | 0/2000 [00:00<?, ?it/s]"
      ]
     },
     "metadata": {},
     "output_type": "display_data"
    },
    {
     "name": "stderr",
     "output_type": "stream",
     "text": [
      "13:32:00 INFO (assignGroundTruthToEachNode:73): Re-dumping node details (all pages) into: ./data/nodesDetails/auto-autoweb.pkl\n"
     ]
    },
    {
     "data": {
      "application/vnd.jupyter.widget-view+json": {
       "model_id": "61ad766fae464dd8b145524b5eb0c5ba",
       "version_major": 2,
       "version_minor": 0
      },
      "text/plain": [
       "Pages for attribute: model:   0%|          | 0/2000 [00:00<?, ?it/s]"
      ]
     },
     "metadata": {},
     "output_type": "display_data"
    },
    {
     "data": {
      "application/vnd.jupyter.widget-view+json": {
       "model_id": "cf7d65d21d65439fbf4f1eed840ac6a7",
       "version_major": 2,
       "version_minor": 0
      },
      "text/plain": [
       "Pages for attribute: price:   0%|          | 0/2000 [00:00<?, ?it/s]"
      ]
     },
     "metadata": {},
     "output_type": "display_data"
    },
    {
     "data": {
      "application/vnd.jupyter.widget-view+json": {
       "model_id": "9857b93fa6b345ccaedbbbb415b5dd9f",
       "version_major": 2,
       "version_minor": 0
      },
      "text/plain": [
       "Pages for attribute: engine:   0%|          | 0/2000 [00:00<?, ?it/s]"
      ]
     },
     "metadata": {},
     "output_type": "display_data"
    },
    {
     "data": {
      "application/vnd.jupyter.widget-view+json": {
       "model_id": "b9d1cb61d307420080dab9e39b1aff31",
       "version_major": 2,
       "version_minor": 0
      },
      "text/plain": [
       "Pages for attribute: fuel_economy:   0%|          | 0/2000 [00:00<?, ?it/s]"
      ]
     },
     "metadata": {},
     "output_type": "display_data"
    },
    {
     "name": "stderr",
     "output_type": "stream",
     "text": [
      "13:32:17 INFO (assignGroundTruthToEachNode:73): Re-dumping node details (all pages) into: ./data/nodesDetails/auto-aol.pkl\n"
     ]
    },
    {
     "data": {
      "application/vnd.jupyter.widget-view+json": {
       "model_id": "19919fc48e9c47ae9adaab3bafb47407",
       "version_major": 2,
       "version_minor": 0
      },
      "text/plain": [
       "Pages for attribute: model:   0%|          | 0/2000 [00:00<?, ?it/s]"
      ]
     },
     "metadata": {},
     "output_type": "display_data"
    },
    {
     "data": {
      "application/vnd.jupyter.widget-view+json": {
       "model_id": "df11ccca757e4c1c81d4e820b321da9a",
       "version_major": 2,
       "version_minor": 0
      },
      "text/plain": [
       "Pages for attribute: price:   0%|          | 0/2000 [00:00<?, ?it/s]"
      ]
     },
     "metadata": {},
     "output_type": "display_data"
    },
    {
     "data": {
      "application/vnd.jupyter.widget-view+json": {
       "model_id": "1f2877d2725c4b578ac1a4e65e5a987a",
       "version_major": 2,
       "version_minor": 0
      },
      "text/plain": [
       "Pages for attribute: engine:   0%|          | 0/2000 [00:00<?, ?it/s]"
      ]
     },
     "metadata": {},
     "output_type": "display_data"
    },
    {
     "data": {
      "application/vnd.jupyter.widget-view+json": {
       "model_id": "75bbffdd8d7d4e38984c4d2a21482d23",
       "version_major": 2,
       "version_minor": 0
      },
      "text/plain": [
       "Pages for attribute: fuel_economy:   0%|          | 0/2000 [00:00<?, ?it/s]"
      ]
     },
     "metadata": {},
     "output_type": "display_data"
    },
    {
     "name": "stderr",
     "output_type": "stream",
     "text": [
      "13:32:37 INFO (assignGroundTruthToEachNode:73): Re-dumping node details (all pages) into: ./data/nodesDetails/auto-yahoo.pkl\n"
     ]
    },
    {
     "data": {
      "application/vnd.jupyter.widget-view+json": {
       "model_id": "efc2829883214bb0bc67a23a53d88ed7",
       "version_major": 2,
       "version_minor": 0
      },
      "text/plain": [
       "Pages for attribute: model:   0%|          | 0/1267 [00:00<?, ?it/s]"
      ]
     },
     "metadata": {},
     "output_type": "display_data"
    },
    {
     "data": {
      "application/vnd.jupyter.widget-view+json": {
       "model_id": "685b42e0881a485ead0b694326914ca0",
       "version_major": 2,
       "version_minor": 0
      },
      "text/plain": [
       "Pages for attribute: price:   0%|          | 0/1267 [00:00<?, ?it/s]"
      ]
     },
     "metadata": {},
     "output_type": "display_data"
    },
    {
     "data": {
      "application/vnd.jupyter.widget-view+json": {
       "model_id": "fb105f63597d42bbaf95fb4d850f803f",
       "version_major": 2,
       "version_minor": 0
      },
      "text/plain": [
       "Pages for attribute: engine:   0%|          | 0/1267 [00:00<?, ?it/s]"
      ]
     },
     "metadata": {},
     "output_type": "display_data"
    },
    {
     "data": {
      "application/vnd.jupyter.widget-view+json": {
       "model_id": "99107e9d8d6f4cb5801a923bd2992e63",
       "version_major": 2,
       "version_minor": 0
      },
      "text/plain": [
       "Pages for attribute: fuel_economy:   0%|          | 0/1267 [00:00<?, ?it/s]"
      ]
     },
     "metadata": {},
     "output_type": "display_data"
    },
    {
     "name": "stderr",
     "output_type": "stream",
     "text": [
      "13:32:49 INFO (assignGroundTruthToEachNode:73): Re-dumping node details (all pages) into: ./data/nodesDetails/auto-motortrend.pkl\n"
     ]
    },
    {
     "data": {
      "application/vnd.jupyter.widget-view+json": {
       "model_id": "a2ac61c81e2343ff9d1b6146f0b3d17f",
       "version_major": 2,
       "version_minor": 0
      },
      "text/plain": [
       "Pages for attribute: model:   0%|          | 0/2000 [00:00<?, ?it/s]"
      ]
     },
     "metadata": {},
     "output_type": "display_data"
    },
    {
     "data": {
      "application/vnd.jupyter.widget-view+json": {
       "model_id": "c1f0d10beec34a2c81c843fccf51aed8",
       "version_major": 2,
       "version_minor": 0
      },
      "text/plain": [
       "Pages for attribute: price:   0%|          | 0/2000 [00:00<?, ?it/s]"
      ]
     },
     "metadata": {},
     "output_type": "display_data"
    },
    {
     "data": {
      "application/vnd.jupyter.widget-view+json": {
       "model_id": "84cdd512940141a79f0fa25d33e41d8f",
       "version_major": 2,
       "version_minor": 0
      },
      "text/plain": [
       "Pages for attribute: engine:   0%|          | 0/2000 [00:00<?, ?it/s]"
      ]
     },
     "metadata": {},
     "output_type": "display_data"
    },
    {
     "data": {
      "application/vnd.jupyter.widget-view+json": {
       "model_id": "f4a3cc449a124c1aab2ad0f8f0d218c2",
       "version_major": 2,
       "version_minor": 0
      },
      "text/plain": [
       "Pages for attribute: fuel_economy:   0%|          | 0/2000 [00:00<?, ?it/s]"
      ]
     },
     "metadata": {},
     "output_type": "display_data"
    },
    {
     "name": "stderr",
     "output_type": "stream",
     "text": [
      "13:33:08 INFO (assignGroundTruthToEachNode:73): Re-dumping node details (all pages) into: ./data/nodesDetails/auto-autobytel.pkl\n"
     ]
    },
    {
     "data": {
      "application/vnd.jupyter.widget-view+json": {
       "model_id": "379de4487885414f8ce11216e2fdd005",
       "version_major": 2,
       "version_minor": 0
      },
      "text/plain": [
       "Pages for attribute: model:   0%|          | 0/2000 [00:00<?, ?it/s]"
      ]
     },
     "metadata": {},
     "output_type": "display_data"
    },
    {
     "data": {
      "application/vnd.jupyter.widget-view+json": {
       "model_id": "7093885568bf4886b837f1745ae9a455",
       "version_major": 2,
       "version_minor": 0
      },
      "text/plain": [
       "Pages for attribute: price:   0%|          | 0/2000 [00:00<?, ?it/s]"
      ]
     },
     "metadata": {},
     "output_type": "display_data"
    },
    {
     "data": {
      "application/vnd.jupyter.widget-view+json": {
       "model_id": "6ebcc27279074d67a73ce96e3ea598e2",
       "version_major": 2,
       "version_minor": 0
      },
      "text/plain": [
       "Pages for attribute: engine:   0%|          | 0/2000 [00:00<?, ?it/s]"
      ]
     },
     "metadata": {},
     "output_type": "display_data"
    },
    {
     "data": {
      "application/vnd.jupyter.widget-view+json": {
       "model_id": "015ff3052a3447df8b8af53f394279df",
       "version_major": 2,
       "version_minor": 0
      },
      "text/plain": [
       "Pages for attribute: fuel_economy:   0%|          | 0/2000 [00:00<?, ?it/s]"
      ]
     },
     "metadata": {},
     "output_type": "display_data"
    },
    {
     "name": "stderr",
     "output_type": "stream",
     "text": [
      "13:33:29 INFO (assignGroundTruthToEachNode:73): Re-dumping node details (all pages) into: ./data/nodesDetails/auto-carquotes.pkl\n"
     ]
    },
    {
     "data": {
      "application/vnd.jupyter.widget-view+json": {
       "model_id": "e129ed4b13f547dab3a42ae50ca591ba",
       "version_major": 2,
       "version_minor": 0
      },
      "text/plain": [
       "Pages for attribute: model:   0%|          | 0/657 [00:00<?, ?it/s]"
      ]
     },
     "metadata": {},
     "output_type": "display_data"
    },
    {
     "data": {
      "application/vnd.jupyter.widget-view+json": {
       "model_id": "8461cd6c4a7a48fd8f151787cdf911a3",
       "version_major": 2,
       "version_minor": 0
      },
      "text/plain": [
       "Pages for attribute: price:   0%|          | 0/657 [00:00<?, ?it/s]"
      ]
     },
     "metadata": {},
     "output_type": "display_data"
    },
    {
     "data": {
      "application/vnd.jupyter.widget-view+json": {
       "model_id": "00f452a3f107457ead641eb0162f2e8e",
       "version_major": 2,
       "version_minor": 0
      },
      "text/plain": [
       "Pages for attribute: engine:   0%|          | 0/657 [00:00<?, ?it/s]"
      ]
     },
     "metadata": {},
     "output_type": "display_data"
    },
    {
     "data": {
      "application/vnd.jupyter.widget-view+json": {
       "model_id": "f93d9db41ddd4888b2bc7c65c21e01e2",
       "version_major": 2,
       "version_minor": 0
      },
      "text/plain": [
       "Pages for attribute: fuel_economy:   0%|          | 0/657 [00:00<?, ?it/s]"
      ]
     },
     "metadata": {},
     "output_type": "display_data"
    },
    {
     "name": "stderr",
     "output_type": "stream",
     "text": [
      "13:33:37 INFO (assignGroundTruthToEachNode:73): Re-dumping node details (all pages) into: ./data/nodesDetails/auto-cars.pkl\n"
     ]
    },
    {
     "data": {
      "application/vnd.jupyter.widget-view+json": {
       "model_id": "ba055871312b4cc0b10b1ecfe8d39675",
       "version_major": 2,
       "version_minor": 0
      },
      "text/plain": [
       "Pages for attribute: model:   0%|          | 0/2000 [00:00<?, ?it/s]"
      ]
     },
     "metadata": {},
     "output_type": "display_data"
    },
    {
     "data": {
      "application/vnd.jupyter.widget-view+json": {
       "model_id": "0c5c1462adcf4bc3b8b563a39d8b15a7",
       "version_major": 2,
       "version_minor": 0
      },
      "text/plain": [
       "Pages for attribute: price:   0%|          | 0/2000 [00:00<?, ?it/s]"
      ]
     },
     "metadata": {},
     "output_type": "display_data"
    },
    {
     "data": {
      "application/vnd.jupyter.widget-view+json": {
       "model_id": "3f108a54814e4f328be058cad952dec7",
       "version_major": 2,
       "version_minor": 0
      },
      "text/plain": [
       "Pages for attribute: engine:   0%|          | 0/2000 [00:00<?, ?it/s]"
      ]
     },
     "metadata": {},
     "output_type": "display_data"
    },
    {
     "data": {
      "application/vnd.jupyter.widget-view+json": {
       "model_id": "9569fcaaefaa4a5e98c986a7bc542525",
       "version_major": 2,
       "version_minor": 0
      },
      "text/plain": [
       "Pages for attribute: fuel_economy:   0%|          | 0/2000 [00:00<?, ?it/s]"
      ]
     },
     "metadata": {},
     "output_type": "display_data"
    },
    {
     "name": "stderr",
     "output_type": "stream",
     "text": [
      "13:34:04 INFO (assignGroundTruthToEachNode:73): Re-dumping node details (all pages) into: ./data/nodesDetails/auto-msn.pkl\n"
     ]
    },
    {
     "data": {
      "application/vnd.jupyter.widget-view+json": {
       "model_id": "795ed4d560ab479d9d66c25a25826e26",
       "version_major": 2,
       "version_minor": 0
      },
      "text/plain": [
       "Pages for attribute: model:   0%|          | 0/1999 [00:00<?, ?it/s]"
      ]
     },
     "metadata": {},
     "output_type": "display_data"
    },
    {
     "data": {
      "application/vnd.jupyter.widget-view+json": {
       "model_id": "49bd2f8da9ab4bbab998dc4915158b1f",
       "version_major": 2,
       "version_minor": 0
      },
      "text/plain": [
       "Pages for attribute: price:   0%|          | 0/1999 [00:00<?, ?it/s]"
      ]
     },
     "metadata": {},
     "output_type": "display_data"
    },
    {
     "data": {
      "application/vnd.jupyter.widget-view+json": {
       "model_id": "c0ae841a20d4437bb42a7412de9bae4a",
       "version_major": 2,
       "version_minor": 0
      },
      "text/plain": [
       "Pages for attribute: engine:   0%|          | 0/1999 [00:00<?, ?it/s]"
      ]
     },
     "metadata": {},
     "output_type": "display_data"
    },
    {
     "data": {
      "application/vnd.jupyter.widget-view+json": {
       "model_id": "05b94e70407f448fac19acb75ca2d06f",
       "version_major": 2,
       "version_minor": 0
      },
      "text/plain": [
       "Pages for attribute: fuel_economy:   0%|          | 0/1999 [00:00<?, ?it/s]"
      ]
     },
     "metadata": {},
     "output_type": "display_data"
    },
    {
     "name": "stderr",
     "output_type": "stream",
     "text": [
      "13:34:35 INFO (assignGroundTruthToEachNode:73): Re-dumping node details (all pages) into: ./data/nodesDetails/auto-automotive.pkl\n"
     ]
    }
   ],
   "source": [
    "#dataset processor: associate the ground truth label to each node\n",
    "attributes = ['model', 'price', 'engine', 'fuel_economy']\n",
    "from DatasetCreation.assignGroundTruthToEachNode import main as assignGroundTruthToEachNode\n",
    "assignGroundTruthToEachNode(Datapath, vertical, attributes)"
   ]
  }
 ],
 "metadata": {
  "kernelspec": {
   "display_name": "tfm",
   "language": "python",
   "name": "tfm"
  },
  "language_info": {
   "codemirror_mode": {
    "name": "ipython",
    "version": 3
   },
   "file_extension": ".py",
   "mimetype": "text/x-python",
   "name": "python",
   "nbconvert_exporter": "python",
   "pygments_lexer": "ipython3",
   "version": "3.8.13"
  }
 },
 "nbformat": 4,
 "nbformat_minor": 4
}
