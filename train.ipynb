{
 "cells": [
  {
   "cell_type": "code",
   "execution_count": 1,
   "metadata": {},
   "outputs": [
    {
     "data": {
      "text/plain": [
       "'/Users/izapreev/Projects/SimpDOM'"
      ]
     },
     "execution_count": 1,
     "metadata": {},
     "output_type": "execute_result"
    }
   ],
   "source": [
    "import os\n",
    "os.getcwd()"
   ]
  },
  {
   "cell_type": "code",
   "execution_count": 2,
   "metadata": {},
   "outputs": [],
   "source": [
    "# Make sure the source code auto reloads into the kernel\n",
    "%load_ext autoreload\n",
    "%autoreload 2"
   ]
  },
  {
   "cell_type": "code",
   "execution_count": 3,
   "metadata": {},
   "outputs": [],
   "source": [
    "# To help preventing shared maemory errors\n",
    "!ulimit -n 500000\n",
    "import torch.multiprocessing\n",
    "torch.multiprocessing.set_sharing_strategy('file_system')"
   ]
  },
  {
   "cell_type": "code",
   "execution_count": 4,
   "metadata": {
    "scrolled": true
   },
   "outputs": [],
   "source": [
    "#n permutations of train and validation sets for average PR results.\n",
    "import random\n",
    "import pickle\n",
    "\n",
    "from Utils.logger import logger\n",
    "from train_and_eval import test_model\n",
    "from train_and_eval import train_model\n",
    "from train_and_eval import create_config\n",
    "\n",
    "# Set training and validation sites\n",
    "train_websites = ['auto-motortrend', 'auto-autobytel', 'auto-msn' ]\n",
    "val_websites = ['auto-aol']\n",
    "test_websites = ['auto-yahoo']\n",
    "\n",
    "# Define the data attributes of interest\n",
    "attributes = ['model', 'price', 'engine', 'fuel_economy']\n",
    "\n",
    "# Create the model config\n",
    "config = create_config(train_websites=train_websites, val_websites=val_websites, test_websites=test_websites, attributes=attributes)\n",
    "\n",
    "# Define the number of training epochs\n",
    "num_train_epochs = 10"
   ]
  },
  {
   "cell_type": "code",
   "execution_count": null,
   "metadata": {},
   "outputs": [
    {
     "name": "stderr",
     "output_type": "stream",
     "text": [
      "10:40:03 INFO (942756449:1): Starting model training\n",
      "10:40:03 INFO (train_and_eval:67): Instantiating the Model checkpoint.\n",
      "10:40:03 INFO (train_and_eval:77): Instantiating the Sequential model\n",
      "10:40:03 INFO (SimpDOM_model:28): Instantiating the new model with config: {'out_dim': 5, 'train_websites': ['auto-motortrend', 'auto-autobytel', 'auto-msn'], 'val_websites': ['auto-aol'], 'test_websites': ['auto-yahoo'], 'datapath': './data', 'n_workers': 0, 'char_emb_dim': 16, 'char_hid_dim': 100, 'char_emb_dropout': 0.1, 'tag_emb_dim': 16, 'tag_hid_dim': 30, 'leaf_emb_dim': 30, 'pos_emb_dim': 20, 'attributes': ['model', 'price', 'engine', 'fuel_economy'], 'n_gpus': 0, 'class_weights': [1, 100, 100, 100, 100], 'char_dict_filename': './data/English_charDict.pkl', 'tag_dict_filename': './data/HTMLTagDict.pkl', 'word_emb_filename': './data/glove.6B.100d.txt'}\n",
      "10:40:03 INFO (SimpDOM_model:79): Loading ./data/English_charDict.pkl\n",
      "10:40:03 INFO (SimpDOM_model:81): Dictionary ./data/English_charDict.pkl length: 85\n",
      "10:40:03 INFO (SimpDOM_model:79): Loading ./data/HTMLTagDict.pkl\n",
      "10:40:03 INFO (SimpDOM_model:81): Dictionary ./data/HTMLTagDict.pkl length: 39\n",
      "10:40:03 INFO (pretrainedGloVe:9): Loading pretrained word emeddings from: ./data/glove.6B.100d.txt\n",
      "10:40:07 INFO (pretrainedGloVe:22): Loaded 400000 pretrained word vectors\n",
      "10:40:07 INFO (train_and_eval:80): Instantiating the Training object\n",
      "10:40:07 INFO (trainer:1751): GPU available: False, used: False\n",
      "10:40:07 INFO (trainer:1754): TPU available: False, using: 0 TPU cores\n",
      "10:40:07 INFO (trainer:1757): IPU available: False, using: 0 IPUs\n",
      "10:40:07 INFO (trainer:1760): HPU available: False, using: 0 HPUs\n",
      "10:40:07 INFO (train_and_eval:85): Fitting the model\n",
      "10:40:07 INFO (distributed:373): Initializing distributed: GLOBAL_RANK: 0, MEMBER: 1/10\n",
      "10:40:07 INFO (distributed:373): Initializing distributed: GLOBAL_RANK: 2, MEMBER: 3/10\n",
      "10:40:07 INFO (distributed:373): Initializing distributed: GLOBAL_RANK: 1, MEMBER: 2/10\n",
      "10:40:07 INFO (distributed:373): Initializing distributed: GLOBAL_RANK: 4, MEMBER: 5/10\n",
      "10:40:07 INFO (distributed:373): Initializing distributed: GLOBAL_RANK: 3, MEMBER: 4/10\n",
      "10:40:07 INFO (distributed:373): Initializing distributed: GLOBAL_RANK: 5, MEMBER: 6/10\n",
      "10:40:07 INFO (distributed:373): Initializing distributed: GLOBAL_RANK: 7, MEMBER: 8/10\n",
      "10:40:07 INFO (distributed:373): Initializing distributed: GLOBAL_RANK: 6, MEMBER: 7/10\n",
      "10:40:07 INFO (distributed:373): Initializing distributed: GLOBAL_RANK: 9, MEMBER: 10/10\n",
      "10:40:07 INFO (distributed:373): Initializing distributed: GLOBAL_RANK: 8, MEMBER: 9/10\n",
      "10:40:08 INFO (distributed_c10d:194): Added key: store_based_barrier_key:1 to store for rank: 0\n",
      "10:40:08 INFO (distributed_c10d:194): Added key: store_based_barrier_key:1 to store for rank: 1\n",
      "10:40:08 INFO (distributed_c10d:194): Added key: store_based_barrier_key:1 to store for rank: 2\n",
      "10:40:08 INFO (distributed_c10d:194): Added key: store_based_barrier_key:1 to store for rank: 3\n",
      "10:40:08 INFO (distributed_c10d:194): Added key: store_based_barrier_key:1 to store for rank: 5\n",
      "10:40:08 INFO (distributed_c10d:194): Added key: store_based_barrier_key:1 to store for rank: 4\n",
      "10:40:08 INFO (distributed_c10d:194): Added key: store_based_barrier_key:1 to store for rank: 6\n",
      "10:40:08 INFO (distributed_c10d:194): Added key: store_based_barrier_key:1 to store for rank: 8\n",
      "10:40:08 INFO (distributed_c10d:194): Added key: store_based_barrier_key:1 to store for rank: 7\n",
      "10:40:08 INFO (distributed_c10d:224): Rank 6: Completed store-based barrier for 10 nodes.\n",
      "10:40:08 INFO (distributed_c10d:194): Added key: store_based_barrier_key:1 to store for rank: 9\n",
      "10:40:08 INFO (distributed_c10d:224): Rank 8: Completed store-based barrier for 10 nodes.\n",
      "10:40:08 INFO (distributed_c10d:224): Rank 0: Completed store-based barrier for 10 nodes.\n",
      "10:40:08 INFO (distributed_c10d:224): Rank 7: Completed store-based barrier for 10 nodes.\n",
      "10:40:08 INFO (distributed_c10d:224): Rank 9: Completed store-based barrier for 10 nodes.\n",
      "10:40:08 INFO (distributed_c10d:224): Rank 2: Completed store-based barrier for 10 nodes.\n",
      "10:40:08 INFO (distributed:377): ----------------------------------------------------------------------------------------------------\n",
      "distributed_backend=gloo\n",
      "All distributed processes registered. Starting with 10 processes\n",
      "----------------------------------------------------------------------------------------------------\n",
      "\n",
      "10:40:08 INFO (distributed_c10d:224): Rank 1: Completed store-based barrier for 10 nodes.\n",
      "10:40:08 INFO (distributed_c10d:224): Rank 3: Completed store-based barrier for 10 nodes.\n",
      "10:40:08 INFO (distributed_c10d:224): Rank 5: Completed store-based barrier for 10 nodes.\n",
      "10:40:08 INFO (distributed_c10d:224): Rank 4: Completed store-based barrier for 10 nodes.\n",
      "10:40:08 INFO (model_summary:83): \n",
      "  | Name                    | Type             | Params\n",
      "-------------------------------------------------------------\n",
      "0 | charLevelWordEmbeddings | CharCNN          | 6.3 K \n",
      "1 | BiLSTM                  | BiLSTM           | 241 K \n",
      "2 | BiLSTM_xpath            | BiLSTM_xpath     | 12.2 K\n",
      "3 | Leaf_embedding          | Embedding        | 1.2 K \n",
      "4 | pos_embedding           | Embedding        | 2.0 K \n",
      "5 | classifier              | Sequential       | 46.1 K\n",
      "6 | loss                    | CrossEntropyLoss | 0     \n",
      "-------------------------------------------------------------\n",
      "309 K     Trainable params\n",
      "0         Non-trainable params\n",
      "309 K     Total params\n",
      "1.238     Total estimated model params size (MB)\n",
      "10:40:08 INFO (SimpDOM_model:176): Creating validation data loader for: ['auto-aol']\n",
      "10:40:08 INFO (SimpDOM_model:176): Creating validation data loader for: ['auto-aol']\n",
      "10:40:08 INFO (SimpDOM_model:176): Creating validation data loader for: ['auto-aol']\n",
      "10:40:08 INFO (SimpDOM_model:176): Creating validation data loader for: ['auto-aol']\n",
      "10:40:08 INFO (SimpDOM_model:176): Creating validation data loader for: ['auto-aol']\n",
      "10:40:08 INFO (SimpDOM_model:176): Creating validation data loader for: ['auto-aol']\n",
      "10:40:08 INFO (SimpDOM_model:176): Creating validation data loader for: ['auto-aol']\n",
      "10:40:08 INFO (SimpDOM_model:176): Creating validation data loader for: ['auto-aol']\n",
      "10:40:08 INFO (SimpDOM_model:176): Creating validation data loader for: ['auto-aol']\n"
     ]
    },
    {
     "data": {
      "application/vnd.jupyter.widget-view+json": {
       "model_id": "bdb8059e9b5b4c1fa64b1d2afd1cd8b6",
       "version_major": 2,
       "version_minor": 0
      },
      "text/plain": [
       "Web sites:   0%|          | 0/1 [00:00<?, ?it/s]"
      ]
     },
     "metadata": {},
     "output_type": "display_data"
    },
    {
     "data": {
      "application/vnd.jupyter.widget-view+json": {
       "model_id": "41576aa03e294103b24851c9d408cf77",
       "version_major": 2,
       "version_minor": 0
      },
      "text/plain": [
       "Web sites:   0%|          | 0/1 [00:00<?, ?it/s]"
      ]
     },
     "metadata": {},
     "output_type": "display_data"
    },
    {
     "data": {
      "application/vnd.jupyter.widget-view+json": {
       "model_id": "f4aa34eafeab4687a15bbe4125d4a1d7",
       "version_major": 2,
       "version_minor": 0
      },
      "text/plain": [
       "Web sites:   0%|          | 0/1 [00:00<?, ?it/s]"
      ]
     },
     "metadata": {},
     "output_type": "display_data"
    },
    {
     "data": {
      "application/vnd.jupyter.widget-view+json": {
       "model_id": "6862b86d551a4b7ea9fdb9b32223b1f5",
       "version_major": 2,
       "version_minor": 0
      },
      "text/plain": [
       "Web sites:   0%|          | 0/1 [00:00<?, ?it/s]"
      ]
     },
     "metadata": {},
     "output_type": "display_data"
    },
    {
     "data": {
      "application/vnd.jupyter.widget-view+json": {
       "model_id": "850bec3b397b4127ae85b89681385fe6",
       "version_major": 2,
       "version_minor": 0
      },
      "text/plain": [
       "Web sites:   0%|          | 0/1 [00:00<?, ?it/s]"
      ]
     },
     "metadata": {},
     "output_type": "display_data"
    },
    {
     "data": {
      "application/vnd.jupyter.widget-view+json": {
       "model_id": "9ff47c79c5e544c48b064bfc1ac5f746",
       "version_major": 2,
       "version_minor": 0
      },
      "text/plain": [
       "Web sites:   0%|          | 0/1 [00:00<?, ?it/s]"
      ]
     },
     "metadata": {},
     "output_type": "display_data"
    },
    {
     "data": {
      "application/vnd.jupyter.widget-view+json": {
       "model_id": "b67fcb6b62104b049faeb8a1d1686f7e",
       "version_major": 2,
       "version_minor": 0
      },
      "text/plain": [
       "Web sites:   0%|          | 0/1 [00:00<?, ?it/s]"
      ]
     },
     "metadata": {},
     "output_type": "display_data"
    },
    {
     "data": {
      "application/vnd.jupyter.widget-view+json": {
       "model_id": "7856399df34748a98dbe2dbb94dbd602",
       "version_major": 2,
       "version_minor": 0
      },
      "text/plain": [
       "Web sites:   0%|          | 0/1 [00:00<?, ?it/s]"
      ]
     },
     "metadata": {},
     "output_type": "display_data"
    },
    {
     "data": {
      "application/vnd.jupyter.widget-view+json": {
       "model_id": "05b1bdd84651454299054b1df97d393f",
       "version_major": 2,
       "version_minor": 0
      },
      "text/plain": [
       "Web sites:   0%|          | 0/1 [00:00<?, ?it/s]"
      ]
     },
     "metadata": {},
     "output_type": "display_data"
    },
    {
     "data": {
      "application/vnd.jupyter.widget-view+json": {
       "model_id": "",
       "version_major": 2,
       "version_minor": 0
      },
      "text/plain": [
       "Sanity Checking: 0it [00:00, ?it/s]"
      ]
     },
     "metadata": {},
     "output_type": "display_data"
    },
    {
     "name": "stderr",
     "output_type": "stream",
     "text": [
      "10:40:08 INFO (SimpDOM_model:176): Creating validation data loader for: ['auto-aol']\n"
     ]
    },
    {
     "data": {
      "application/vnd.jupyter.widget-view+json": {
       "model_id": "53d2969d0aa24b3eb0f83240e7fde08f",
       "version_major": 2,
       "version_minor": 0
      },
      "text/plain": [
       "Web sites:   0%|          | 0/1 [00:00<?, ?it/s]"
      ]
     },
     "metadata": {},
     "output_type": "display_data"
    },
    {
     "data": {
      "application/vnd.jupyter.widget-view+json": {
       "model_id": "fc77692f53e24457a413bb53dff674f6",
       "version_major": 2,
       "version_minor": 0
      },
      "text/plain": [
       "Web pages for: \"auto-aol\":   0%|          | 0/200 [00:00<?, ?it/s]"
      ]
     },
     "metadata": {},
     "output_type": "display_data"
    },
    {
     "data": {
      "application/vnd.jupyter.widget-view+json": {
       "model_id": "91cd5366b1b84b55bce1321257b9a7fa",
       "version_major": 2,
       "version_minor": 0
      },
      "text/plain": [
       "Web pages for: \"auto-aol\":   0%|          | 0/200 [00:00<?, ?it/s]"
      ]
     },
     "metadata": {},
     "output_type": "display_data"
    },
    {
     "data": {
      "application/vnd.jupyter.widget-view+json": {
       "model_id": "f08c8fce025148c3a89bb2d195866797",
       "version_major": 2,
       "version_minor": 0
      },
      "text/plain": [
       "Web pages for: \"auto-aol\":   0%|          | 0/200 [00:00<?, ?it/s]"
      ]
     },
     "metadata": {},
     "output_type": "display_data"
    },
    {
     "data": {
      "application/vnd.jupyter.widget-view+json": {
       "model_id": "d3278b46f507444ba2ad3e66c55ae17c",
       "version_major": 2,
       "version_minor": 0
      },
      "text/plain": [
       "Web pages for: \"auto-aol\":   0%|          | 0/200 [00:00<?, ?it/s]"
      ]
     },
     "metadata": {},
     "output_type": "display_data"
    },
    {
     "data": {
      "application/vnd.jupyter.widget-view+json": {
       "model_id": "db57d04f83f34c72ace7c86d2709e8f9",
       "version_major": 2,
       "version_minor": 0
      },
      "text/plain": [
       "Web pages for: \"auto-aol\":   0%|          | 0/200 [00:00<?, ?it/s]"
      ]
     },
     "metadata": {},
     "output_type": "display_data"
    },
    {
     "data": {
      "application/vnd.jupyter.widget-view+json": {
       "model_id": "7a73c6f9bf784cd9adc75ec277ac45ec",
       "version_major": 2,
       "version_minor": 0
      },
      "text/plain": [
       "Web pages for: \"auto-aol\":   0%|          | 0/200 [00:00<?, ?it/s]"
      ]
     },
     "metadata": {},
     "output_type": "display_data"
    },
    {
     "data": {
      "application/vnd.jupyter.widget-view+json": {
       "model_id": "127d989c5b1a4461b4ad23692d99d1c3",
       "version_major": 2,
       "version_minor": 0
      },
      "text/plain": [
       "Web pages for: \"auto-aol\":   0%|          | 0/200 [00:00<?, ?it/s]"
      ]
     },
     "metadata": {},
     "output_type": "display_data"
    },
    {
     "data": {
      "application/vnd.jupyter.widget-view+json": {
       "model_id": "7751a381d5ee4de8acd184189d1375c4",
       "version_major": 2,
       "version_minor": 0
      },
      "text/plain": [
       "Web pages for: \"auto-aol\":   0%|          | 0/200 [00:00<?, ?it/s]"
      ]
     },
     "metadata": {},
     "output_type": "display_data"
    },
    {
     "data": {
      "application/vnd.jupyter.widget-view+json": {
       "model_id": "09f6867b8ee942b588d0f54233fa29c1",
       "version_major": 2,
       "version_minor": 0
      },
      "text/plain": [
       "Web pages for: \"auto-aol\":   0%|          | 0/200 [00:00<?, ?it/s]"
      ]
     },
     "metadata": {},
     "output_type": "display_data"
    },
    {
     "data": {
      "application/vnd.jupyter.widget-view+json": {
       "model_id": "f03be21ea8cf497c859c2854af51d96e",
       "version_major": 2,
       "version_minor": 0
      },
      "text/plain": [
       "Web pages for: \"auto-aol\":   0%|          | 0/200 [00:00<?, ?it/s]"
      ]
     },
     "metadata": {},
     "output_type": "display_data"
    },
    {
     "name": "stderr",
     "output_type": "stream",
     "text": [
      "10:40:12 INFO (swde_dataLoader:171): SWDE data loader has loaded: 21052 nodes\n",
      "10:40:12 INFO (swde_dataLoader:171): SWDE data loader has loaded: 21392 nodes\n",
      "10:40:12 INFO (swde_dataLoader:171): SWDE data loader has loaded: 21601 nodes\n",
      "10:40:12 INFO (swde_dataLoader:171): SWDE data loader has loaded: 21797 nodes\n",
      "10:40:12 INFO (swde_dataLoader:171): SWDE data loader has loaded: 21795 nodes\n",
      "10:40:12 INFO (swde_dataLoader:171): SWDE data loader has loaded: 21295 nodes\n",
      "10:40:12 INFO (swde_dataLoader:171): SWDE data loader has loaded: 21310 nodes\n",
      "10:40:12 INFO (swde_dataLoader:171): SWDE data loader has loaded: 21771 nodes\n",
      "10:40:12 INFO (swde_dataLoader:171): SWDE data loader has loaded: 21136 nodes\n",
      "10:40:12 INFO (swde_dataLoader:171): SWDE data loader has loaded: 21928 nodes\n",
      "/Users/izapreev/miniforge3/envs/tfm/lib/python3.8/site-packages/pytorch_lightning/trainer/connectors/data_connector.py:229: UserWarning: strategy=ddp_spawn and num_workers=0 may result in data loading bottlenecks. Consider setting num_workers>0 and persistent_workers=True\n",
      "  rank_zero_warn(\n",
      "10:40:12 INFO (SimpDOM_model:162): Mean validation loss: 1.6425724029541016\n",
      "10:40:12 INFO (SimpDOM_model:162): Mean validation loss: 1.642541527748108\n",
      "10:40:12 INFO (SimpDOM_model:162): Mean validation loss: 1.6357641220092773\n",
      "10:40:12 INFO (SimpDOM_model:162): Mean validation loss: 1.6314260959625244\n",
      "10:40:12 INFO (SimpDOM_model:162): Mean validation loss: 1.6436631679534912\n",
      "10:40:12 INFO (SimpDOM_model:162): Mean validation loss: 1.6374802589416504\n",
      "10:40:12 INFO (SimpDOM_model:162): Mean validation loss: 1.6345834732055664\n",
      "10:40:12 INFO (SimpDOM_model:162): Mean validation loss: 1.6394944190979004\n",
      "10:40:12 INFO (SimpDOM_model:162): Mean validation loss: 1.6370961666107178\n",
      "10:40:12 INFO (SimpDOM_model:162): Mean validation loss: 1.6391074657440186\n",
      "10:40:12 INFO (SimpDOM_model:170): Creating training data loader for: ['auto-motortrend', 'auto-autobytel', 'auto-msn']\n",
      "10:40:12 INFO (SimpDOM_model:170): Creating training data loader for: ['auto-motortrend', 'auto-autobytel', 'auto-msn']\n",
      "10:40:12 INFO (SimpDOM_model:170): Creating training data loader for: ['auto-motortrend', 'auto-autobytel', 'auto-msn']\n",
      "10:40:12 INFO (SimpDOM_model:170): Creating training data loader for: ['auto-motortrend', 'auto-autobytel', 'auto-msn']\n",
      "10:40:12 INFO (SimpDOM_model:170): Creating training data loader for: ['auto-motortrend', 'auto-autobytel', 'auto-msn']\n",
      "10:40:12 INFO (SimpDOM_model:170): Creating training data loader for: ['auto-motortrend', 'auto-autobytel', 'auto-msn']\n",
      "10:40:12 INFO (SimpDOM_model:170): Creating training data loader for: ['auto-motortrend', 'auto-autobytel', 'auto-msn']\n",
      "10:40:12 INFO (SimpDOM_model:170): Creating training data loader for: ['auto-motortrend', 'auto-autobytel', 'auto-msn']\n",
      "10:40:12 INFO (SimpDOM_model:170): Creating training data loader for: ['auto-motortrend', 'auto-autobytel', 'auto-msn']\n",
      "10:40:12 INFO (SimpDOM_model:170): Creating training data loader for: ['auto-motortrend', 'auto-autobytel', 'auto-msn']\n"
     ]
    },
    {
     "data": {
      "application/vnd.jupyter.widget-view+json": {
       "model_id": "61dcdd4c651347e8856741e8033c1244",
       "version_major": 2,
       "version_minor": 0
      },
      "text/plain": [
       "Web sites:   0%|          | 0/3 [00:00<?, ?it/s]"
      ]
     },
     "metadata": {},
     "output_type": "display_data"
    },
    {
     "data": {
      "application/vnd.jupyter.widget-view+json": {
       "model_id": "b8f7638ad5d84f34a0832839eb81c242",
       "version_major": 2,
       "version_minor": 0
      },
      "text/plain": [
       "Web sites:   0%|          | 0/3 [00:00<?, ?it/s]"
      ]
     },
     "metadata": {},
     "output_type": "display_data"
    },
    {
     "data": {
      "application/vnd.jupyter.widget-view+json": {
       "model_id": "328b95279ecd4d7d9634078caff03ebf",
       "version_major": 2,
       "version_minor": 0
      },
      "text/plain": [
       "Web sites:   0%|          | 0/3 [00:00<?, ?it/s]"
      ]
     },
     "metadata": {},
     "output_type": "display_data"
    },
    {
     "data": {
      "application/vnd.jupyter.widget-view+json": {
       "model_id": "6bdc1dbb037b4c9889163b5b5e01fbbe",
       "version_major": 2,
       "version_minor": 0
      },
      "text/plain": [
       "Web sites:   0%|          | 0/3 [00:00<?, ?it/s]"
      ]
     },
     "metadata": {},
     "output_type": "display_data"
    },
    {
     "data": {
      "application/vnd.jupyter.widget-view+json": {
       "model_id": "3ee93793122943ecb3bda2029086d18b",
       "version_major": 2,
       "version_minor": 0
      },
      "text/plain": [
       "Web sites:   0%|          | 0/3 [00:00<?, ?it/s]"
      ]
     },
     "metadata": {},
     "output_type": "display_data"
    },
    {
     "data": {
      "application/vnd.jupyter.widget-view+json": {
       "model_id": "0cf537b59b3f431cb0935ea3c651ccb8",
       "version_major": 2,
       "version_minor": 0
      },
      "text/plain": [
       "Web sites:   0%|          | 0/3 [00:00<?, ?it/s]"
      ]
     },
     "metadata": {},
     "output_type": "display_data"
    },
    {
     "data": {
      "application/vnd.jupyter.widget-view+json": {
       "model_id": "965b18b306a447b8a0d472623290a9ef",
       "version_major": 2,
       "version_minor": 0
      },
      "text/plain": [
       "Web sites:   0%|          | 0/3 [00:00<?, ?it/s]"
      ]
     },
     "metadata": {},
     "output_type": "display_data"
    },
    {
     "data": {
      "application/vnd.jupyter.widget-view+json": {
       "model_id": "035e68153da84e37af3de268ca8e5dc9",
       "version_major": 2,
       "version_minor": 0
      },
      "text/plain": [
       "Web sites:   0%|          | 0/3 [00:00<?, ?it/s]"
      ]
     },
     "metadata": {},
     "output_type": "display_data"
    },
    {
     "data": {
      "application/vnd.jupyter.widget-view+json": {
       "model_id": "fc9573a0d22a4b5292e76024d798be93",
       "version_major": 2,
       "version_minor": 0
      },
      "text/plain": [
       "Web sites:   0%|          | 0/3 [00:00<?, ?it/s]"
      ]
     },
     "metadata": {},
     "output_type": "display_data"
    },
    {
     "data": {
      "application/vnd.jupyter.widget-view+json": {
       "model_id": "2fd8d9da836b44478a0d14db165dd548",
       "version_major": 2,
       "version_minor": 0
      },
      "text/plain": [
       "Web sites:   0%|          | 0/3 [00:00<?, ?it/s]"
      ]
     },
     "metadata": {},
     "output_type": "display_data"
    },
    {
     "data": {
      "application/vnd.jupyter.widget-view+json": {
       "model_id": "3b92596cb5964974bff3dc98d1e4ab3e",
       "version_major": 2,
       "version_minor": 0
      },
      "text/plain": [
       "Web pages for: \"auto-motortrend\":   0%|          | 0/1267 [00:00<?, ?it/s]"
      ]
     },
     "metadata": {},
     "output_type": "display_data"
    },
    {
     "data": {
      "application/vnd.jupyter.widget-view+json": {
       "model_id": "8b2ba39d2e554839948c502e9dfe90d4",
       "version_major": 2,
       "version_minor": 0
      },
      "text/plain": [
       "Web pages for: \"auto-motortrend\":   0%|          | 0/1267 [00:00<?, ?it/s]"
      ]
     },
     "metadata": {},
     "output_type": "display_data"
    },
    {
     "data": {
      "application/vnd.jupyter.widget-view+json": {
       "model_id": "e0cdbe401dc648569f107c9c0ba23917",
       "version_major": 2,
       "version_minor": 0
      },
      "text/plain": [
       "Web pages for: \"auto-motortrend\":   0%|          | 0/1267 [00:00<?, ?it/s]"
      ]
     },
     "metadata": {},
     "output_type": "display_data"
    },
    {
     "data": {
      "application/vnd.jupyter.widget-view+json": {
       "model_id": "5c7ea0e4d8634883b58daffca3030417",
       "version_major": 2,
       "version_minor": 0
      },
      "text/plain": [
       "Web pages for: \"auto-motortrend\":   0%|          | 0/1267 [00:00<?, ?it/s]"
      ]
     },
     "metadata": {},
     "output_type": "display_data"
    },
    {
     "data": {
      "application/vnd.jupyter.widget-view+json": {
       "model_id": "c7bf6ccc75374a7b97d2afbee230a863",
       "version_major": 2,
       "version_minor": 0
      },
      "text/plain": [
       "Web pages for: \"auto-motortrend\":   0%|          | 0/1267 [00:00<?, ?it/s]"
      ]
     },
     "metadata": {},
     "output_type": "display_data"
    },
    {
     "data": {
      "application/vnd.jupyter.widget-view+json": {
       "model_id": "61aeb504f9164e17bdd8ba50544c051f",
       "version_major": 2,
       "version_minor": 0
      },
      "text/plain": [
       "Web pages for: \"auto-motortrend\":   0%|          | 0/1267 [00:00<?, ?it/s]"
      ]
     },
     "metadata": {},
     "output_type": "display_data"
    },
    {
     "data": {
      "application/vnd.jupyter.widget-view+json": {
       "model_id": "2325f4121b2442a882df222de1d5c945",
       "version_major": 2,
       "version_minor": 0
      },
      "text/plain": [
       "Web pages for: \"auto-motortrend\":   0%|          | 0/1267 [00:00<?, ?it/s]"
      ]
     },
     "metadata": {},
     "output_type": "display_data"
    },
    {
     "data": {
      "application/vnd.jupyter.widget-view+json": {
       "model_id": "6d7840670c814fba8b0913d603c4a9f3",
       "version_major": 2,
       "version_minor": 0
      },
      "text/plain": [
       "Web pages for: \"auto-motortrend\":   0%|          | 0/1267 [00:00<?, ?it/s]"
      ]
     },
     "metadata": {},
     "output_type": "display_data"
    },
    {
     "data": {
      "application/vnd.jupyter.widget-view+json": {
       "model_id": "c5988c49f09846188d6a9680e509dec5",
       "version_major": 2,
       "version_minor": 0
      },
      "text/plain": [
       "Web pages for: \"auto-motortrend\":   0%|          | 0/1267 [00:00<?, ?it/s]"
      ]
     },
     "metadata": {},
     "output_type": "display_data"
    },
    {
     "data": {
      "application/vnd.jupyter.widget-view+json": {
       "model_id": "dcfe1d15ad9545c18f7c9219fb7af9c3",
       "version_major": 2,
       "version_minor": 0
      },
      "text/plain": [
       "Web pages for: \"auto-motortrend\":   0%|          | 0/1267 [00:00<?, ?it/s]"
      ]
     },
     "metadata": {},
     "output_type": "display_data"
    },
    {
     "data": {
      "application/vnd.jupyter.widget-view+json": {
       "model_id": "65e047018c174ae49210b29534d8efb4",
       "version_major": 2,
       "version_minor": 0
      },
      "text/plain": [
       "Web pages for: \"auto-autobytel\":   0%|          | 0/2000 [00:00<?, ?it/s]"
      ]
     },
     "metadata": {},
     "output_type": "display_data"
    },
    {
     "data": {
      "application/vnd.jupyter.widget-view+json": {
       "model_id": "69783bce35cb4d5a9960567cb2691044",
       "version_major": 2,
       "version_minor": 0
      },
      "text/plain": [
       "Web pages for: \"auto-autobytel\":   0%|          | 0/2000 [00:00<?, ?it/s]"
      ]
     },
     "metadata": {},
     "output_type": "display_data"
    },
    {
     "data": {
      "application/vnd.jupyter.widget-view+json": {
       "model_id": "5aaa7fd37e5f427bb09f7d41611ab80a",
       "version_major": 2,
       "version_minor": 0
      },
      "text/plain": [
       "Web pages for: \"auto-autobytel\":   0%|          | 0/2000 [00:00<?, ?it/s]"
      ]
     },
     "metadata": {},
     "output_type": "display_data"
    },
    {
     "data": {
      "application/vnd.jupyter.widget-view+json": {
       "model_id": "13d6a0e2f0ab428c97be423759472d25",
       "version_major": 2,
       "version_minor": 0
      },
      "text/plain": [
       "Web pages for: \"auto-autobytel\":   0%|          | 0/2000 [00:00<?, ?it/s]"
      ]
     },
     "metadata": {},
     "output_type": "display_data"
    },
    {
     "data": {
      "application/vnd.jupyter.widget-view+json": {
       "model_id": "11f249665a96402197caf68502a920ad",
       "version_major": 2,
       "version_minor": 0
      },
      "text/plain": [
       "Web pages for: \"auto-autobytel\":   0%|          | 0/2000 [00:00<?, ?it/s]"
      ]
     },
     "metadata": {},
     "output_type": "display_data"
    },
    {
     "data": {
      "application/vnd.jupyter.widget-view+json": {
       "model_id": "3a5feefd8f35401293bc33641df88ce7",
       "version_major": 2,
       "version_minor": 0
      },
      "text/plain": [
       "Web pages for: \"auto-autobytel\":   0%|          | 0/2000 [00:00<?, ?it/s]"
      ]
     },
     "metadata": {},
     "output_type": "display_data"
    },
    {
     "data": {
      "application/vnd.jupyter.widget-view+json": {
       "model_id": "d004c0805b844108a9e48f8793844a7a",
       "version_major": 2,
       "version_minor": 0
      },
      "text/plain": [
       "Web pages for: \"auto-autobytel\":   0%|          | 0/2000 [00:00<?, ?it/s]"
      ]
     },
     "metadata": {},
     "output_type": "display_data"
    },
    {
     "data": {
      "application/vnd.jupyter.widget-view+json": {
       "model_id": "25636da8a9ec4e209298eca2aa685ff5",
       "version_major": 2,
       "version_minor": 0
      },
      "text/plain": [
       "Web pages for: \"auto-autobytel\":   0%|          | 0/2000 [00:00<?, ?it/s]"
      ]
     },
     "metadata": {},
     "output_type": "display_data"
    },
    {
     "data": {
      "application/vnd.jupyter.widget-view+json": {
       "model_id": "fb828cf0382841639a5b5826d9a3b362",
       "version_major": 2,
       "version_minor": 0
      },
      "text/plain": [
       "Web pages for: \"auto-autobytel\":   0%|          | 0/2000 [00:00<?, ?it/s]"
      ]
     },
     "metadata": {},
     "output_type": "display_data"
    },
    {
     "data": {
      "application/vnd.jupyter.widget-view+json": {
       "model_id": "623cedec3926401c86d4ef8631432a03",
       "version_major": 2,
       "version_minor": 0
      },
      "text/plain": [
       "Web pages for: \"auto-autobytel\":   0%|          | 0/2000 [00:00<?, ?it/s]"
      ]
     },
     "metadata": {},
     "output_type": "display_data"
    },
    {
     "data": {
      "application/vnd.jupyter.widget-view+json": {
       "model_id": "c3f0eca37c0041cea3392f9e3590b224",
       "version_major": 2,
       "version_minor": 0
      },
      "text/plain": [
       "Web pages for: \"auto-msn\":   0%|          | 0/2000 [00:00<?, ?it/s]"
      ]
     },
     "metadata": {},
     "output_type": "display_data"
    },
    {
     "data": {
      "application/vnd.jupyter.widget-view+json": {
       "model_id": "6c89d59c080b456e99c12f009f06eb4f",
       "version_major": 2,
       "version_minor": 0
      },
      "text/plain": [
       "Web pages for: \"auto-msn\":   0%|          | 0/2000 [00:00<?, ?it/s]"
      ]
     },
     "metadata": {},
     "output_type": "display_data"
    },
    {
     "data": {
      "application/vnd.jupyter.widget-view+json": {
       "model_id": "efea86dd1ef740b0ae0ef60b1ee3da37",
       "version_major": 2,
       "version_minor": 0
      },
      "text/plain": [
       "Web pages for: \"auto-msn\":   0%|          | 0/2000 [00:00<?, ?it/s]"
      ]
     },
     "metadata": {},
     "output_type": "display_data"
    },
    {
     "data": {
      "application/vnd.jupyter.widget-view+json": {
       "model_id": "a965f3d2e560401ca98ccedd3659dbc3",
       "version_major": 2,
       "version_minor": 0
      },
      "text/plain": [
       "Web pages for: \"auto-msn\":   0%|          | 0/2000 [00:00<?, ?it/s]"
      ]
     },
     "metadata": {},
     "output_type": "display_data"
    },
    {
     "data": {
      "application/vnd.jupyter.widget-view+json": {
       "model_id": "d65911a1ca824ed9825f26c25ffe9ab5",
       "version_major": 2,
       "version_minor": 0
      },
      "text/plain": [
       "Web pages for: \"auto-msn\":   0%|          | 0/2000 [00:00<?, ?it/s]"
      ]
     },
     "metadata": {},
     "output_type": "display_data"
    },
    {
     "data": {
      "application/vnd.jupyter.widget-view+json": {
       "model_id": "4005c842a8cc420b9e057a428d509062",
       "version_major": 2,
       "version_minor": 0
      },
      "text/plain": [
       "Web pages for: \"auto-msn\":   0%|          | 0/2000 [00:00<?, ?it/s]"
      ]
     },
     "metadata": {},
     "output_type": "display_data"
    },
    {
     "data": {
      "application/vnd.jupyter.widget-view+json": {
       "model_id": "888fefc0fe474578b5cd4315da0c9838",
       "version_major": 2,
       "version_minor": 0
      },
      "text/plain": [
       "Web pages for: \"auto-msn\":   0%|          | 0/2000 [00:00<?, ?it/s]"
      ]
     },
     "metadata": {},
     "output_type": "display_data"
    },
    {
     "data": {
      "application/vnd.jupyter.widget-view+json": {
       "model_id": "91be3cee1a5449eca3bfa67fd5b43462",
       "version_major": 2,
       "version_minor": 0
      },
      "text/plain": [
       "Web pages for: \"auto-msn\":   0%|          | 0/2000 [00:00<?, ?it/s]"
      ]
     },
     "metadata": {},
     "output_type": "display_data"
    },
    {
     "data": {
      "application/vnd.jupyter.widget-view+json": {
       "model_id": "a98b6f51888e4f77be71fc3568240b89",
       "version_major": 2,
       "version_minor": 0
      },
      "text/plain": [
       "Web pages for: \"auto-msn\":   0%|          | 0/2000 [00:00<?, ?it/s]"
      ]
     },
     "metadata": {},
     "output_type": "display_data"
    },
    {
     "data": {
      "application/vnd.jupyter.widget-view+json": {
       "model_id": "7aab3fcc92ef4b99bf3c6bde536f8bd7",
       "version_major": 2,
       "version_minor": 0
      },
      "text/plain": [
       "Web pages for: \"auto-msn\":   0%|          | 0/2000 [00:00<?, ?it/s]"
      ]
     },
     "metadata": {},
     "output_type": "display_data"
    },
    {
     "name": "stderr",
     "output_type": "stream",
     "text": [
      "10:40:39 INFO (swde_dataLoader:171): SWDE data loader has loaded: 305745 nodes\n",
      "10:40:39 INFO (swde_dataLoader:171): SWDE data loader has loaded: 305745 nodes\n",
      "10:40:39 INFO (swde_dataLoader:171): SWDE data loader has loaded: 305745 nodes\n",
      "10:40:39 INFO (swde_dataLoader:171): SWDE data loader has loaded: 305745 nodes\n",
      "10:40:39 INFO (swde_dataLoader:171): SWDE data loader has loaded: 305745 nodes\n",
      "10:40:39 INFO (swde_dataLoader:171): SWDE data loader has loaded: 305745 nodes\n",
      "10:40:39 INFO (swde_dataLoader:171): SWDE data loader has loaded: 305745 nodes\n",
      "10:40:39 INFO (swde_dataLoader:171): SWDE data loader has loaded: 305745 nodes\n",
      "10:40:39 INFO (swde_dataLoader:171): SWDE data loader has loaded: 305745 nodes\n",
      "10:40:39 INFO (swde_dataLoader:171): SWDE data loader has loaded: 305745 nodes\n"
     ]
    },
    {
     "data": {
      "application/vnd.jupyter.widget-view+json": {
       "model_id": "e51d63f8687743328123a2c7ca259b91",
       "version_major": 2,
       "version_minor": 0
      },
      "text/plain": [
       "Training: 0it [00:00, ?it/s]"
      ]
     },
     "metadata": {},
     "output_type": "display_data"
    },
    {
     "name": "stderr",
     "output_type": "stream",
     "text": [
      "10:40:40 INFO (distributed:788): Reducer buckets have been rebuilt in this iteration.\n",
      "10:40:40 INFO (distributed:788): Reducer buckets have been rebuilt in this iteration.\n",
      "10:40:40 INFO (distributed:788): Reducer buckets have been rebuilt in this iteration.\n",
      "10:40:40 INFO (distributed:788): Reducer buckets have been rebuilt in this iteration.\n",
      "10:40:40 INFO (distributed:788): Reducer buckets have been rebuilt in this iteration.\n",
      "10:40:40 INFO (distributed:788): Reducer buckets have been rebuilt in this iteration.\n",
      "10:40:40 INFO (distributed:788): Reducer buckets have been rebuilt in this iteration.\n",
      "10:40:40 INFO (distributed:788): Reducer buckets have been rebuilt in this iteration.\n",
      "10:40:40 INFO (distributed:788): Reducer buckets have been rebuilt in this iteration.\n",
      "10:40:40 INFO (distributed:788): Reducer buckets have been rebuilt in this iteration.\n"
     ]
    },
    {
     "data": {
      "application/vnd.jupyter.widget-view+json": {
       "model_id": "",
       "version_major": 2,
       "version_minor": 0
      },
      "text/plain": [
       "Validation: 0it [00:00, ?it/s]"
      ]
     },
     "metadata": {},
     "output_type": "display_data"
    },
    {
     "name": "stderr",
     "output_type": "stream",
     "text": [
      "10:44:58 INFO (SimpDOM_model:162): Mean validation loss: 1.0457290500198724e-06\n",
      "10:44:58 INFO (SimpDOM_model:162): Mean validation loss: 3.3923367936949944e-07\n",
      "10:44:58 INFO (SimpDOM_model:162): Mean validation loss: 9.164983794107684e-07\n",
      "10:44:58 INFO (SimpDOM_model:162): Mean validation loss: 7.078002681737416e-07\n",
      "10:44:58 INFO (SimpDOM_model:162): Mean validation loss: 8.092963525996311e-07\n",
      "10:44:58 INFO (SimpDOM_model:162): Mean validation loss: 6.055085464140575e-07\n",
      "10:44:58 INFO (SimpDOM_model:162): Mean validation loss: 1.3800821534459828e-06\n",
      "10:44:58 INFO (SimpDOM_model:162): Mean validation loss: 6.547815587509831e-07\n",
      "10:44:58 INFO (SimpDOM_model:162): Mean validation loss: 8.2197050232935e-07\n",
      "10:44:58 INFO (SimpDOM_model:162): Mean validation loss: 4.90538354824821e-07\n",
      "10:44:58 INFO (model_checkpoint:709): Epoch 0, global step 956: 'val_loss' reached 0.00000 (best 0.00000), saving model to '/Users/izapreev/Projects/SimpDOM/lightning_logs/version_21/checkpoints/./data/weights.ckpt' as top 1\n"
     ]
    },
    {
     "data": {
      "application/vnd.jupyter.widget-view+json": {
       "model_id": "",
       "version_major": 2,
       "version_minor": 0
      },
      "text/plain": [
       "Validation: 0it [00:00, ?it/s]"
      ]
     },
     "metadata": {},
     "output_type": "display_data"
    },
    {
     "name": "stderr",
     "output_type": "stream",
     "text": [
      "10:49:15 INFO (SimpDOM_model:162): Mean validation loss: 5.961098850093549e-07\n",
      "10:49:15 INFO (SimpDOM_model:162): Mean validation loss: 1.6968526495020342e-07\n",
      "10:49:15 INFO (SimpDOM_model:162): Mean validation loss: 3.936721952868538e-07\n",
      "10:49:15 INFO (SimpDOM_model:162): Mean validation loss: 4.4927935505256755e-07\n",
      "10:49:15 INFO (SimpDOM_model:162): Mean validation loss: 4.5038726170787413e-07\n",
      "10:49:15 INFO (SimpDOM_model:162): Mean validation loss: 7.922865279397229e-07\n",
      "10:49:15 INFO (SimpDOM_model:162): Mean validation loss: 2.622708734634216e-07\n",
      "10:49:15 INFO (SimpDOM_model:162): Mean validation loss: 3.624109012889676e-07\n",
      "10:49:15 INFO (SimpDOM_model:162): Mean validation loss: 3.291990253728727e-07\n",
      "10:49:15 INFO (SimpDOM_model:162): Mean validation loss: 5.172442456569115e-07\n",
      "10:49:15 INFO (model_checkpoint:709): Epoch 1, global step 1912: 'val_loss' reached 0.00000 (best 0.00000), saving model to '/Users/izapreev/Projects/SimpDOM/lightning_logs/version_21/checkpoints/./data/weights.ckpt' as top 1\n"
     ]
    },
    {
     "data": {
      "application/vnd.jupyter.widget-view+json": {
       "model_id": "",
       "version_major": 2,
       "version_minor": 0
      },
      "text/plain": [
       "Validation: 0it [00:00, ?it/s]"
      ]
     },
     "metadata": {},
     "output_type": "display_data"
    },
    {
     "name": "stderr",
     "output_type": "stream",
     "text": [
      "10:53:34 INFO (SimpDOM_model:162): Mean validation loss: 3.410164026718121e-07\n",
      "10:53:34 INFO (SimpDOM_model:162): Mean validation loss: 8.505576687412031e-08\n",
      "10:53:34 INFO (SimpDOM_model:162): Mean validation loss: 2.1967245800169621e-07\n",
      "10:53:34 INFO (SimpDOM_model:162): Mean validation loss: 4.548512038127228e-07\n",
      "10:53:34 INFO (SimpDOM_model:162): Mean validation loss: 2.0239943410160777e-07\n",
      "10:53:34 INFO (SimpDOM_model:162): Mean validation loss: 2.4833929046508274e-07\n",
      "10:53:34 INFO (SimpDOM_model:162): Mean validation loss: 1.7936406493390677e-07\n",
      "10:53:34 INFO (SimpDOM_model:162): Mean validation loss: 2.933688278972113e-07\n",
      "10:53:34 INFO (SimpDOM_model:162): Mean validation loss: 1.4041422957689065e-07\n",
      "10:53:34 INFO (SimpDOM_model:162): Mean validation loss: 2.503960843114328e-07\n",
      "10:53:34 INFO (model_checkpoint:709): Epoch 2, global step 2868: 'val_loss' reached 0.00000 (best 0.00000), saving model to '/Users/izapreev/Projects/SimpDOM/lightning_logs/version_21/checkpoints/./data/weights.ckpt' as top 1\n"
     ]
    },
    {
     "data": {
      "application/vnd.jupyter.widget-view+json": {
       "model_id": "",
       "version_major": 2,
       "version_minor": 0
      },
      "text/plain": [
       "Validation: 0it [00:00, ?it/s]"
      ]
     },
     "metadata": {},
     "output_type": "display_data"
    },
    {
     "name": "stderr",
     "output_type": "stream",
     "text": [
      "10:57:43 INFO (SimpDOM_model:162): Mean validation loss: 1.2908687097024085e-07\n",
      "10:57:43 INFO (SimpDOM_model:162): Mean validation loss: 1.8069799523345864e-07\n",
      "10:57:43 INFO (SimpDOM_model:162): Mean validation loss: 2.420836722194508e-07\n",
      "10:57:43 INFO (SimpDOM_model:162): Mean validation loss: 1.1381327169601718e-07\n",
      "10:57:43 INFO (SimpDOM_model:162): Mean validation loss: 3.831646111507325e-08\n",
      "10:57:43 INFO (SimpDOM_model:162): Mean validation loss: 9.012796908791643e-08\n",
      "10:57:43 INFO (SimpDOM_model:162): Mean validation loss: 1.5375920270344068e-07\n",
      "10:57:43 INFO (SimpDOM_model:162): Mean validation loss: 1.2553330464015744e-07\n",
      "10:57:43 INFO (SimpDOM_model:162): Mean validation loss: 6.981850475540341e-08\n",
      "10:57:43 INFO (SimpDOM_model:162): Mean validation loss: 1.0446760967397495e-07\n",
      "10:57:43 INFO (model_checkpoint:709): Epoch 3, global step 3824: 'val_loss' reached 0.00000 (best 0.00000), saving model to '/Users/izapreev/Projects/SimpDOM/lightning_logs/version_21/checkpoints/./data/weights.ckpt' as top 1\n"
     ]
    }
   ],
   "source": [
    "logger.info(f'Starting model training')\n",
    "model = train_model(config, num_train_epochs)"
   ]
  },
  {
   "cell_type": "code",
   "execution_count": null,
   "metadata": {},
   "outputs": [],
   "source": [
    "logger.info(f'Training is finished, starting predicting')\n",
    "avg_pr_dict = test_model(config, model)\n",
    "logger.info(f'Test predictions result: {avg_pr_dict}')"
   ]
  },
  {
   "cell_type": "code",
   "execution_count": null,
   "metadata": {},
   "outputs": [],
   "source": [
    "# Check the accuracy on the data used for training\n",
    "avg_pr_dict = test(config, model, test_websites=val_websites)\n",
    "logger.info(f'Test predictions result: {avg_pr_dict}')"
   ]
  },
  {
   "cell_type": "code",
   "execution_count": null,
   "metadata": {},
   "outputs": [],
   "source": [
    "# To Create the training data for other verticals."
   ]
  },
  {
   "cell_type": "code",
   "execution_count": null,
   "metadata": {},
   "outputs": [],
   "source": [
    "import os\n",
    "import numpy\n",
    "import pickle\n",
    "\n",
    "import pandas as pd\n",
    "\n",
    "from Utils.DOMTree import DOMTreeDatapath = './data' #directory path where each vertical's html pages from SWDE dataset (website wise folders)\n",
    "vertical = 'auto'"
   ]
  },
  {
   "cell_type": "code",
   "execution_count": null,
   "metadata": {},
   "outputs": [],
   "source": [
    "#dataset processor: to find the set of fixed nodes for each of the websites\n",
    "from DatasetCreation.storeFixedNodes import main as storeFixedNodes\n",
    "storeFixedNodes(Datapath, vertical)"
   ]
  },
  {
   "cell_type": "code",
   "execution_count": null,
   "metadata": {
    "scrolled": true
   },
   "outputs": [],
   "source": [
    "#dataset processor: Store each website as pickle file\n",
    "from DatasetCreation.storeAllTextNodes import main as storeAllTextNodes\n",
    "storeAllTextNodes(Datapath, vertical)"
   ]
  },
  {
   "cell_type": "code",
   "execution_count": null,
   "metadata": {
    "scrolled": true
   },
   "outputs": [],
   "source": [
    "#dataset processor: append the friendCircle of each node in the DOMTree\n",
    "from Utils.friendCircleExtractioin import main as friendCircleExtractioin\n",
    "friendCircleExtractioin(Datapath, vertical, 5)"
   ]
  },
  {
   "cell_type": "code",
   "execution_count": null,
   "metadata": {},
   "outputs": [],
   "source": [
    "#dataset processor: associate the ground truth label to each node\n",
    "attributes = ['model', 'manufacturer', 'price']\n",
    "from DatasetCreation.assignGroundTruthToEachNode import main as assignGroundTruthToEachNode\n",
    "assignGroundTruthToEachNode(Datapath, vertical, attributes)"
   ]
  }
 ],
 "metadata": {
  "kernelspec": {
   "display_name": "tfm",
   "language": "python",
   "name": "tfm"
  },
  "language_info": {
   "codemirror_mode": {
    "name": "ipython",
    "version": 3
   },
   "file_extension": ".py",
   "mimetype": "text/x-python",
   "name": "python",
   "nbconvert_exporter": "python",
   "pygments_lexer": "ipython3",
   "version": "3.8.13"
  }
 },
 "nbformat": 4,
 "nbformat_minor": 4
}
