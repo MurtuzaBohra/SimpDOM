{
 "cells": [
  {
   "cell_type": "code",
   "execution_count": null,
   "metadata": {},
   "outputs": [],
   "source": [
    "# Do the training and testing\n",
    "import os\n",
    "os.getcwd()"
   ]
  },
  {
   "cell_type": "code",
   "execution_count": null,
   "metadata": {},
   "outputs": [],
   "source": [
    "# Make sure the source code auto reloads into the kernel\n",
    "%load_ext autoreload\n",
    "%autoreload 2"
   ]
  },
  {
   "cell_type": "code",
   "execution_count": null,
   "metadata": {},
   "outputs": [],
   "source": [
    "# To help preventing shared maemory errors\n",
    "!ulimit -n 500000\n",
    "import torch.multiprocessing\n",
    "torch.multiprocessing.set_sharing_strategy('file_system')"
   ]
  },
  {
   "cell_type": "code",
   "execution_count": null,
   "metadata": {},
   "outputs": [],
   "source": [
    "import random\n",
    "import pickle\n",
    "\n",
    "from Utils.logger import logger\n",
    "from train_and_eval import test_model\n",
    "from train_and_eval import train_model\n",
    "from train_and_eval import create_config\n",
    "from train_and_eval import visualize_model\n",
    "from DatasetCreation.helperFunctions import remove_hidden_dir"
   ]
  },
  {
   "cell_type": "code",
   "execution_count": null,
   "metadata": {},
   "outputs": [],
   "source": [
    "# Initial set-up\n",
    "data_path = 'data'\n",
    "vertical = 'movie'\n",
    "attributes = ['title', 'director', 'genre', 'mpaa_rating']\n",
    "\n",
    "# Define the number of training epochs\n",
    "num_train_epochs = 10"
   ]
  },
  {
   "cell_type": "code",
   "execution_count": null,
   "metadata": {},
   "outputs": [],
   "source": [
    "websites = [dirname.split('(')[0] for dirname in remove_hidden_dir(os.listdir(os.path.join(data_path, vertical)))]\n",
    "logger.info(f'There are: {len(websites)} vertical web-sites available:\\n{websites}')"
   ]
  },
  {
   "cell_type": "code",
   "execution_count": null,
   "metadata": {
    "scrolled": true
   },
   "outputs": [],
   "source": [
    "# Set training, validation and testing sites\n",
    "train_websites = ['movie-yahoo', 'movie-msn', 'movie-rottentomatoes', 'movie-allmovie', 'movie-hollywood'] #['movie-yahoo', 'movie-msn', 'movie-rottentomatoes', 'movie-allmovie', 'movie-hollywood', 'movie-iheartmovies', 'movie-amctv']\n",
    "val_websites = ['movie-imdb', 'movie-metacritic']\n",
    "test_websites = ['movie-boxofficemojo']"
   ]
  },
  {
   "cell_type": "code",
   "execution_count": null,
   "metadata": {},
   "outputs": [],
   "source": [
    "# Create the model config\n",
    "config = create_config(train_websites=train_websites, val_websites=val_websites, test_websites=test_websites, attributes=attributes)"
   ]
  },
  {
   "cell_type": "code",
   "execution_count": null,
   "metadata": {},
   "outputs": [],
   "source": [
    "# Remove/rename the old ./data/weights.ckpt file if it is already present!\n",
    "import time\n",
    "old_weights_file_name = os.path.join('data', 'weights.ckpt')\n",
    "\n",
    "# Check if the file exists and rename\n",
    "if os.path.isfile(old_weights_file_name):\n",
    "    new_weights_file_name = os.path.join('data', f'weights_{time.time()}.ckpt')\n",
    "    logger.warning(f'The previous SimpModel weights file already exists, renaming to: {new_weights_file_name}')\n",
    "    os.rename(old_weights_file_name, new_weights_file_name)\n",
    "else:\n",
    "    logger.info(f'The previous model weights file is not present, safe to train!')"
   ]
  },
  {
   "cell_type": "code",
   "execution_count": null,
   "metadata": {},
   "outputs": [],
   "source": [
    "logger.info(f'Starting model training')\n",
    "model = train_model(config, num_train_epochs)\n",
    "logger.info(f'SimpDOM model training is done!')"
   ]
  },
  {
   "cell_type": "code",
   "execution_count": null,
   "metadata": {},
   "outputs": [],
   "source": [
    "logger.info(f'Visualising the model')\n",
    "visualize_model(model)"
   ]
  },
  {
   "cell_type": "code",
   "execution_count": null,
   "metadata": {},
   "outputs": [],
   "source": [
    "logger.info(f'Training is finished, starting predicting')\n",
    "avg_pr_dict = test_model(config, model)\n",
    "logger.info(f'Test predictions result: {avg_pr_dict}')"
   ]
  },
  {
   "cell_type": "code",
   "execution_count": null,
   "metadata": {},
   "outputs": [],
   "source": [
    "# Check the accuracy on the data used for training\n",
    "avg_pr_dict = test_model(config, test_websites=['auto-aol', 'auto-yahoo'])\n",
    "logger.info(f'Test predictions result: {avg_pr_dict}')"
   ]
  },
  {
   "cell_type": "code",
   "execution_count": null,
   "metadata": {},
   "outputs": [],
   "source": []
  }
 ],
 "metadata": {
  "kernelspec": {
   "display_name": "Python 3",
   "language": "python",
   "name": "python3"
  },
  "language_info": {
   "codemirror_mode": {
    "name": "ipython",
    "version": 3
   },
   "file_extension": ".py",
   "mimetype": "text/x-python",
   "name": "python",
   "nbconvert_exporter": "python",
   "pygments_lexer": "ipython3",
   "version": "3.8.1"
  }
 },
 "nbformat": 4,
 "nbformat_minor": 4
}
