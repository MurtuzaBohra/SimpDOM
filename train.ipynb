{
 "cells": [
  {
   "cell_type": "code",
   "execution_count": 1,
   "metadata": {},
   "outputs": [
    {
     "data": {
      "text/plain": [
       "'/Users/izapreev/Projects/SimpDOM'"
      ]
     },
     "execution_count": 1,
     "metadata": {},
     "output_type": "execute_result"
    }
   ],
   "source": [
    "import os\n",
    "os.getcwd()"
   ]
  },
  {
   "cell_type": "code",
   "execution_count": 2,
   "metadata": {},
   "outputs": [],
   "source": [
    "# Make sure the source code auto reloads into the kernel\n",
    "%load_ext autoreload\n",
    "%autoreload 2"
   ]
  },
  {
   "cell_type": "code",
   "execution_count": 3,
   "metadata": {},
   "outputs": [],
   "source": [
    "# To help preventing shared maemory errors\n",
    "!ulimit -n 500000\n",
    "import torch.multiprocessing\n",
    "torch.multiprocessing.set_sharing_strategy('file_system')"
   ]
  },
  {
   "cell_type": "code",
   "execution_count": 5,
   "metadata": {
    "scrolled": true
   },
   "outputs": [],
   "source": [
    "# Do the training and testing\n",
    "import random\n",
    "import pickle\n",
    "\n",
    "from Utils.logger import logger\n",
    "from train_and_eval import test_model\n",
    "from train_and_eval import train_model\n",
    "from train_and_eval import create_config\n",
    "from train_and_eval import visualize_model\n",
    "\n",
    "# Set training and validation sites\n",
    "train_websites = ['auto-autoweb', 'auto-carquotes', 'auto-cars', 'auto-kbb', 'auto-motortrend', 'auto-msn']\n",
    "val_websites = ['auto-autobytel', 'auto-automotive', 'auto-aol']\n",
    "test_websites = ['auto-aol', 'auto-yahoo']\n",
    "\n",
    "# Define the data attributes of interest\n",
    "attributes = ['model', 'price', 'engine', 'fuel_economy']\n",
    "\n",
    "# Create the model config\n",
    "config = create_config(train_websites=train_websites, val_websites=val_websites, test_websites=test_websites, attributes=attributes)\n",
    "\n",
    "# Define the number of training epochs\n",
    "num_train_epochs = 10"
   ]
  },
  {
   "cell_type": "code",
   "execution_count": 17,
   "metadata": {},
   "outputs": [
    {
     "name": "stderr",
     "output_type": "stream",
     "text": [
      "16:50:07 INFO (2613820517:8): The previous SimpModel weights file already exists, renaming to: {new_weights_file_name}\n"
     ]
    }
   ],
   "source": [
    "# Remove/rename the old ./data/weights.ckpt file if it is already present!\n",
    "import time\n",
    "old_weights_file_name = os.path.join('data', 'weights.ckpt')\n",
    "\n",
    "# Check if the file exists and rename\n",
    "if os.path.isfile(old_weights_file_name):\n",
    "    new_weights_file_name = os.path.join('data', f'weights_{time.time()}.ckpt')\n",
    "    logger.info(\"The previous SimpModel weights file already exists, renaming to: {new_weights_file_name}\")\n",
    "    os.rename(old_weights_file_name, new_weights_file_name)"
   ]
  },
  {
   "cell_type": "code",
   "execution_count": 6,
   "metadata": {},
   "outputs": [
    {
     "name": "stderr",
     "output_type": "stream",
     "text": [
      "14:47:31 INFO (942756449:1): Starting model training\n",
      "14:47:31 INFO (train_and_eval:71): Instantiating the Model Checkpoint callback\n",
      "14:47:31 INFO (train_and_eval:82): Instantiating the Early Stopping callback\n",
      "14:47:31 INFO (train_and_eval:85): Instantiating the Sequential model\n",
      "14:47:31 INFO (SimpDOM_model:28): Instantiating the new model with config: {'out_dim': 5, 'train_websites': ['auto-autoweb', 'auto-carquotes', 'auto-cars', 'auto-kbb', 'auto-motortrend', 'auto-msn'], 'val_websites': ['auto-autobytel', 'auto-automotive', 'auto-aol'], 'test_websites': ['auto-aol', 'auto-yahoo'], 'datapath': './data', 'n_workers': 0, 'char_emb_dim': 16, 'char_hid_dim': 100, 'char_emb_dropout': 0.1, 'tag_emb_dim': 16, 'tag_hid_dim': 30, 'leaf_emb_dim': 30, 'pos_emb_dim': 20, 'attributes': ['model', 'price', 'engine', 'fuel_economy'], 'n_gpus': 0, 'class_weights': [1, 100, 100, 100, 100], 'char_dict_filename': './data/English_charDict.pkl', 'tag_dict_filename': './data/HTMLTagDict.pkl', 'word_emb_filename': './data/glove.6B.100d.txt', 'learning_rate': 1e-05}\n",
      "14:47:31 INFO (SimpDOM_model:81): Loading ./data/English_charDict.pkl\n",
      "14:47:31 INFO (SimpDOM_model:83): Dictionary ./data/English_charDict.pkl length: 85\n",
      "14:47:31 INFO (SimpDOM_model:81): Loading ./data/HTMLTagDict.pkl\n",
      "14:47:31 INFO (SimpDOM_model:83): Dictionary ./data/HTMLTagDict.pkl length: 39\n",
      "14:47:31 INFO (pretrainedGloVe:9): Loading pretrained word emeddings from: ./data/glove.6B.100d.txt\n",
      "14:47:35 INFO (pretrainedGloVe:22): Loaded 400000 pretrained word vectors\n",
      "14:47:35 INFO (train_and_eval:88): Instantiating the Training object\n",
      "14:47:35 INFO (trainer:1751): GPU available: False, used: False\n",
      "14:47:35 INFO (trainer:1754): TPU available: False, using: 0 TPU cores\n",
      "14:47:35 INFO (trainer:1757): IPU available: False, using: 0 IPUs\n",
      "14:47:35 INFO (trainer:1760): HPU available: False, using: 0 HPUs\n",
      "14:47:35 INFO (train_and_eval:93): Fitting the model\n",
      "14:47:35 INFO (distributed:373): Initializing distributed: GLOBAL_RANK: 0, MEMBER: 1/10\n",
      "14:47:35 INFO (distributed:373): Initializing distributed: GLOBAL_RANK: 1, MEMBER: 2/10\n",
      "14:47:35 INFO (distributed:373): Initializing distributed: GLOBAL_RANK: 2, MEMBER: 3/10\n",
      "14:47:35 INFO (distributed:373): Initializing distributed: GLOBAL_RANK: 3, MEMBER: 4/10\n",
      "14:47:35 INFO (distributed:373): Initializing distributed: GLOBAL_RANK: 4, MEMBER: 5/10\n",
      "14:47:35 INFO (distributed:373): Initializing distributed: GLOBAL_RANK: 5, MEMBER: 6/10\n",
      "14:47:35 INFO (distributed:373): Initializing distributed: GLOBAL_RANK: 6, MEMBER: 7/10\n",
      "14:47:35 INFO (distributed:373): Initializing distributed: GLOBAL_RANK: 7, MEMBER: 8/10\n",
      "14:47:35 INFO (distributed:373): Initializing distributed: GLOBAL_RANK: 8, MEMBER: 9/10\n",
      "14:47:35 INFO (distributed:373): Initializing distributed: GLOBAL_RANK: 9, MEMBER: 10/10\n",
      "14:47:35 INFO (distributed_c10d:194): Added key: store_based_barrier_key:1 to store for rank: 0\n",
      "14:47:35 INFO (distributed_c10d:194): Added key: store_based_barrier_key:1 to store for rank: 1\n",
      "14:47:35 INFO (distributed_c10d:194): Added key: store_based_barrier_key:1 to store for rank: 2\n",
      "14:47:35 INFO (distributed_c10d:194): Added key: store_based_barrier_key:1 to store for rank: 3\n",
      "14:47:35 INFO (distributed_c10d:194): Added key: store_based_barrier_key:1 to store for rank: 4\n",
      "14:47:35 INFO (distributed_c10d:194): Added key: store_based_barrier_key:1 to store for rank: 5\n",
      "14:47:35 INFO (distributed_c10d:194): Added key: store_based_barrier_key:1 to store for rank: 6\n",
      "14:47:35 INFO (distributed_c10d:194): Added key: store_based_barrier_key:1 to store for rank: 7\n",
      "14:47:35 INFO (distributed_c10d:194): Added key: store_based_barrier_key:1 to store for rank: 9\n",
      "14:47:35 INFO (distributed_c10d:224): Rank 2: Completed store-based barrier for 10 nodes.\n",
      "14:47:35 INFO (distributed_c10d:224): Rank 7: Completed store-based barrier for 10 nodes.\n",
      "14:47:35 INFO (distributed_c10d:194): Added key: store_based_barrier_key:1 to store for rank: 8\n",
      "14:47:35 INFO (distributed_c10d:224): Rank 1: Completed store-based barrier for 10 nodes.\n",
      "14:47:36 INFO (distributed_c10d:224): Rank 3: Completed store-based barrier for 10 nodes.\n",
      "14:47:36 INFO (distributed_c10d:224): Rank 4: Completed store-based barrier for 10 nodes.\n",
      "14:47:36 INFO (distributed_c10d:224): Rank 9: Completed store-based barrier for 10 nodes.\n",
      "14:47:36 INFO (distributed_c10d:224): Rank 5: Completed store-based barrier for 10 nodes.\n",
      "14:47:36 INFO (distributed_c10d:224): Rank 8: Completed store-based barrier for 10 nodes.\n",
      "14:47:36 INFO (distributed_c10d:224): Rank 6: Completed store-based barrier for 10 nodes.\n",
      "14:47:36 INFO (distributed_c10d:224): Rank 0: Completed store-based barrier for 10 nodes.\n",
      "14:47:36 INFO (distributed:377): ----------------------------------------------------------------------------------------------------\n",
      "distributed_backend=gloo\n",
      "All distributed processes registered. Starting with 10 processes\n",
      "----------------------------------------------------------------------------------------------------\n",
      "\n",
      "/Users/izapreev/miniforge3/envs/tfm/lib/python3.8/site-packages/pytorch_lightning/callbacks/model_checkpoint.py:616: UserWarning: Checkpoint directory /Users/izapreev/Projects/SimpDOM/data exists and is not empty.\n",
      "  rank_zero_warn(f\"Checkpoint directory {dirpath} exists and is not empty.\")\n",
      "14:47:36 INFO (model_summary:83): \n",
      "  | Name                    | Type             | Params\n",
      "-------------------------------------------------------------\n",
      "0 | charLevelWordEmbeddings | CharCNN          | 6.3 K \n",
      "1 | BiLSTM                  | BiLSTM           | 241 K \n",
      "2 | BiLSTM_xpath            | BiLSTM_xpath     | 12.2 K\n",
      "3 | Leaf_embedding          | Embedding        | 1.2 K \n",
      "4 | pos_embedding           | Embedding        | 2.0 K \n",
      "5 | classifier              | Sequential       | 46.1 K\n",
      "6 | loss                    | CrossEntropyLoss | 0     \n",
      "-------------------------------------------------------------\n",
      "309 K     Trainable params\n",
      "0         Non-trainable params\n",
      "309 K     Total params\n",
      "1.238     Total estimated model params size (MB)\n",
      "14:47:36 INFO (SimpDOM_model:178): Creating validation data loader for: ['auto-autobytel', 'auto-automotive', 'auto-aol']\n",
      "14:47:36 INFO (SimpDOM_model:178): Creating validation data loader for: ['auto-autobytel', 'auto-automotive', 'auto-aol']\n",
      "14:47:36 INFO (SimpDOM_model:178): Creating validation data loader for: ['auto-autobytel', 'auto-automotive', 'auto-aol']\n",
      "14:47:36 INFO (SimpDOM_model:178): Creating validation data loader for: ['auto-autobytel', 'auto-automotive', 'auto-aol']\n",
      "14:47:36 INFO (SimpDOM_model:178): Creating validation data loader for: ['auto-autobytel', 'auto-automotive', 'auto-aol']\n",
      "14:47:36 INFO (SimpDOM_model:178): Creating validation data loader for: ['auto-autobytel', 'auto-automotive', 'auto-aol']\n",
      "14:47:36 INFO (SimpDOM_model:178): Creating validation data loader for: ['auto-autobytel', 'auto-automotive', 'auto-aol']\n",
      "14:47:36 INFO (SimpDOM_model:178): Creating validation data loader for: ['auto-autobytel', 'auto-automotive', 'auto-aol']\n",
      "14:47:36 INFO (SimpDOM_model:178): Creating validation data loader for: ['auto-autobytel', 'auto-automotive', 'auto-aol']\n"
     ]
    },
    {
     "data": {
      "application/vnd.jupyter.widget-view+json": {
       "model_id": "3afba3ecec244f8e971a3c11b7f3926c",
       "version_major": 2,
       "version_minor": 0
      },
      "text/plain": [
       "Web sites:   0%|          | 0/3 [00:00<?, ?it/s]"
      ]
     },
     "metadata": {},
     "output_type": "display_data"
    },
    {
     "data": {
      "application/vnd.jupyter.widget-view+json": {
       "model_id": "c747ff622cc3400a912fb5438314fc7b",
       "version_major": 2,
       "version_minor": 0
      },
      "text/plain": [
       "Web sites:   0%|          | 0/3 [00:00<?, ?it/s]"
      ]
     },
     "metadata": {},
     "output_type": "display_data"
    },
    {
     "data": {
      "application/vnd.jupyter.widget-view+json": {
       "model_id": "69e8969e476a443d9c927a354017a607",
       "version_major": 2,
       "version_minor": 0
      },
      "text/plain": [
       "Web sites:   0%|          | 0/3 [00:00<?, ?it/s]"
      ]
     },
     "metadata": {},
     "output_type": "display_data"
    },
    {
     "data": {
      "application/vnd.jupyter.widget-view+json": {
       "model_id": "b1d6b0a8b89f4f71b1e05de2c335fe41",
       "version_major": 2,
       "version_minor": 0
      },
      "text/plain": [
       "Web sites:   0%|          | 0/3 [00:00<?, ?it/s]"
      ]
     },
     "metadata": {},
     "output_type": "display_data"
    },
    {
     "data": {
      "application/vnd.jupyter.widget-view+json": {
       "model_id": "7aa452c2a6fa4f1eb9b2e5d83c0970bb",
       "version_major": 2,
       "version_minor": 0
      },
      "text/plain": [
       "Web sites:   0%|          | 0/3 [00:00<?, ?it/s]"
      ]
     },
     "metadata": {},
     "output_type": "display_data"
    },
    {
     "data": {
      "application/vnd.jupyter.widget-view+json": {
       "model_id": "f79e04759c804e448730839551121a3d",
       "version_major": 2,
       "version_minor": 0
      },
      "text/plain": [
       "Web sites:   0%|          | 0/3 [00:00<?, ?it/s]"
      ]
     },
     "metadata": {},
     "output_type": "display_data"
    },
    {
     "data": {
      "application/vnd.jupyter.widget-view+json": {
       "model_id": "03d137774e5845cea41c86b3c7dba7e9",
       "version_major": 2,
       "version_minor": 0
      },
      "text/plain": [
       "Web sites:   0%|          | 0/3 [00:00<?, ?it/s]"
      ]
     },
     "metadata": {},
     "output_type": "display_data"
    },
    {
     "data": {
      "application/vnd.jupyter.widget-view+json": {
       "model_id": "c9e437bca3b8461b9a5f4d2a085b054b",
       "version_major": 2,
       "version_minor": 0
      },
      "text/plain": [
       "Web sites:   0%|          | 0/3 [00:00<?, ?it/s]"
      ]
     },
     "metadata": {},
     "output_type": "display_data"
    },
    {
     "data": {
      "application/vnd.jupyter.widget-view+json": {
       "model_id": "29740522b4e649cc840e3c54bc332533",
       "version_major": 2,
       "version_minor": 0
      },
      "text/plain": [
       "Web sites:   0%|          | 0/3 [00:00<?, ?it/s]"
      ]
     },
     "metadata": {},
     "output_type": "display_data"
    },
    {
     "data": {
      "application/vnd.jupyter.widget-view+json": {
       "model_id": "",
       "version_major": 2,
       "version_minor": 0
      },
      "text/plain": [
       "Sanity Checking: 0it [00:00, ?it/s]"
      ]
     },
     "metadata": {},
     "output_type": "display_data"
    },
    {
     "name": "stderr",
     "output_type": "stream",
     "text": [
      "14:47:36 INFO (SimpDOM_model:178): Creating validation data loader for: ['auto-autobytel', 'auto-automotive', 'auto-aol']\n"
     ]
    },
    {
     "data": {
      "application/vnd.jupyter.widget-view+json": {
       "model_id": "e78d879fe892470790e3976cb1294ddf",
       "version_major": 2,
       "version_minor": 0
      },
      "text/plain": [
       "Web sites:   0%|          | 0/3 [00:00<?, ?it/s]"
      ]
     },
     "metadata": {},
     "output_type": "display_data"
    },
    {
     "data": {
      "application/vnd.jupyter.widget-view+json": {
       "model_id": "7d8d9076728e4a44bbe726f1cdec9f29",
       "version_major": 2,
       "version_minor": 0
      },
      "text/plain": [
       "Web pages for: \"auto-autobytel\":   0%|          | 0/200 [00:00<?, ?it/s]"
      ]
     },
     "metadata": {},
     "output_type": "display_data"
    },
    {
     "data": {
      "application/vnd.jupyter.widget-view+json": {
       "model_id": "2eb8b86fb7b047aca49909bcc15a38d8",
       "version_major": 2,
       "version_minor": 0
      },
      "text/plain": [
       "Web pages for: \"auto-autobytel\":   0%|          | 0/200 [00:00<?, ?it/s]"
      ]
     },
     "metadata": {},
     "output_type": "display_data"
    },
    {
     "data": {
      "application/vnd.jupyter.widget-view+json": {
       "model_id": "cb2b46a1436f4e3695bb9ec1a0b6b709",
       "version_major": 2,
       "version_minor": 0
      },
      "text/plain": [
       "Web pages for: \"auto-autobytel\":   0%|          | 0/200 [00:00<?, ?it/s]"
      ]
     },
     "metadata": {},
     "output_type": "display_data"
    },
    {
     "data": {
      "application/vnd.jupyter.widget-view+json": {
       "model_id": "e5f3e291617b43a78288f3c88205d061",
       "version_major": 2,
       "version_minor": 0
      },
      "text/plain": [
       "Web pages for: \"auto-autobytel\":   0%|          | 0/200 [00:00<?, ?it/s]"
      ]
     },
     "metadata": {},
     "output_type": "display_data"
    },
    {
     "data": {
      "application/vnd.jupyter.widget-view+json": {
       "model_id": "321adff0e80e4519b85a6791df714b50",
       "version_major": 2,
       "version_minor": 0
      },
      "text/plain": [
       "Web pages for: \"auto-autobytel\":   0%|          | 0/200 [00:00<?, ?it/s]"
      ]
     },
     "metadata": {},
     "output_type": "display_data"
    },
    {
     "data": {
      "application/vnd.jupyter.widget-view+json": {
       "model_id": "ecb3ab2b869440889711c9ca41645949",
       "version_major": 2,
       "version_minor": 0
      },
      "text/plain": [
       "Web pages for: \"auto-autobytel\":   0%|          | 0/200 [00:00<?, ?it/s]"
      ]
     },
     "metadata": {},
     "output_type": "display_data"
    },
    {
     "data": {
      "application/vnd.jupyter.widget-view+json": {
       "model_id": "06828b7daa974c0cb487b1f989bc913a",
       "version_major": 2,
       "version_minor": 0
      },
      "text/plain": [
       "Web pages for: \"auto-autobytel\":   0%|          | 0/200 [00:00<?, ?it/s]"
      ]
     },
     "metadata": {},
     "output_type": "display_data"
    },
    {
     "data": {
      "application/vnd.jupyter.widget-view+json": {
       "model_id": "41eb6b6c43304f7b916bbf9a9630c31f",
       "version_major": 2,
       "version_minor": 0
      },
      "text/plain": [
       "Web pages for: \"auto-autobytel\":   0%|          | 0/200 [00:00<?, ?it/s]"
      ]
     },
     "metadata": {},
     "output_type": "display_data"
    },
    {
     "data": {
      "application/vnd.jupyter.widget-view+json": {
       "model_id": "1841b122e18a463498cebffbc87bb217",
       "version_major": 2,
       "version_minor": 0
      },
      "text/plain": [
       "Web pages for: \"auto-autobytel\":   0%|          | 0/200 [00:00<?, ?it/s]"
      ]
     },
     "metadata": {},
     "output_type": "display_data"
    },
    {
     "data": {
      "application/vnd.jupyter.widget-view+json": {
       "model_id": "714504a286974bbb9d26e2933626efe5",
       "version_major": 2,
       "version_minor": 0
      },
      "text/plain": [
       "Web pages for: \"auto-autobytel\":   0%|          | 0/200 [00:00<?, ?it/s]"
      ]
     },
     "metadata": {},
     "output_type": "display_data"
    },
    {
     "data": {
      "application/vnd.jupyter.widget-view+json": {
       "model_id": "e0560f1d676347aab2dba70866c06f5b",
       "version_major": 2,
       "version_minor": 0
      },
      "text/plain": [
       "Web pages for: \"auto-automotive\":   0%|          | 0/199 [00:00<?, ?it/s]"
      ]
     },
     "metadata": {},
     "output_type": "display_data"
    },
    {
     "data": {
      "application/vnd.jupyter.widget-view+json": {
       "model_id": "1c2f5527f707457184cc22ad483cbfd5",
       "version_major": 2,
       "version_minor": 0
      },
      "text/plain": [
       "Web pages for: \"auto-automotive\":   0%|          | 0/199 [00:00<?, ?it/s]"
      ]
     },
     "metadata": {},
     "output_type": "display_data"
    },
    {
     "data": {
      "application/vnd.jupyter.widget-view+json": {
       "model_id": "7dbbc07b7fcb42fd94e436c39c02a824",
       "version_major": 2,
       "version_minor": 0
      },
      "text/plain": [
       "Web pages for: \"auto-automotive\":   0%|          | 0/199 [00:00<?, ?it/s]"
      ]
     },
     "metadata": {},
     "output_type": "display_data"
    },
    {
     "data": {
      "application/vnd.jupyter.widget-view+json": {
       "model_id": "c51eb67fdb0048ce911343b85daf1d59",
       "version_major": 2,
       "version_minor": 0
      },
      "text/plain": [
       "Web pages for: \"auto-automotive\":   0%|          | 0/199 [00:00<?, ?it/s]"
      ]
     },
     "metadata": {},
     "output_type": "display_data"
    },
    {
     "data": {
      "application/vnd.jupyter.widget-view+json": {
       "model_id": "f4e927a9182d41efac8e835eca2446de",
       "version_major": 2,
       "version_minor": 0
      },
      "text/plain": [
       "Web pages for: \"auto-automotive\":   0%|          | 0/199 [00:00<?, ?it/s]"
      ]
     },
     "metadata": {},
     "output_type": "display_data"
    },
    {
     "data": {
      "application/vnd.jupyter.widget-view+json": {
       "model_id": "6d2a1d3490e94b7db123861076032bd0",
       "version_major": 2,
       "version_minor": 0
      },
      "text/plain": [
       "Web pages for: \"auto-automotive\":   0%|          | 0/199 [00:00<?, ?it/s]"
      ]
     },
     "metadata": {},
     "output_type": "display_data"
    },
    {
     "data": {
      "application/vnd.jupyter.widget-view+json": {
       "model_id": "48ad09553efb45d397e0b185c9bef20e",
       "version_major": 2,
       "version_minor": 0
      },
      "text/plain": [
       "Web pages for: \"auto-automotive\":   0%|          | 0/199 [00:00<?, ?it/s]"
      ]
     },
     "metadata": {},
     "output_type": "display_data"
    },
    {
     "data": {
      "application/vnd.jupyter.widget-view+json": {
       "model_id": "417bdb8883244334ad8faea87847ca03",
       "version_major": 2,
       "version_minor": 0
      },
      "text/plain": [
       "Web pages for: \"auto-automotive\":   0%|          | 0/199 [00:00<?, ?it/s]"
      ]
     },
     "metadata": {},
     "output_type": "display_data"
    },
    {
     "data": {
      "application/vnd.jupyter.widget-view+json": {
       "model_id": "924e582c870243cf9a49d44ddd3ad1f1",
       "version_major": 2,
       "version_minor": 0
      },
      "text/plain": [
       "Web pages for: \"auto-automotive\":   0%|          | 0/199 [00:00<?, ?it/s]"
      ]
     },
     "metadata": {},
     "output_type": "display_data"
    },
    {
     "data": {
      "application/vnd.jupyter.widget-view+json": {
       "model_id": "7125038561eb472ea236a9f8f5b4c111",
       "version_major": 2,
       "version_minor": 0
      },
      "text/plain": [
       "Web pages for: \"auto-automotive\":   0%|          | 0/199 [00:00<?, ?it/s]"
      ]
     },
     "metadata": {},
     "output_type": "display_data"
    },
    {
     "data": {
      "application/vnd.jupyter.widget-view+json": {
       "model_id": "4deb5149562a458a8b9b451f90c9fc2f",
       "version_major": 2,
       "version_minor": 0
      },
      "text/plain": [
       "Web pages for: \"auto-aol\":   0%|          | 0/200 [00:00<?, ?it/s]"
      ]
     },
     "metadata": {},
     "output_type": "display_data"
    },
    {
     "data": {
      "application/vnd.jupyter.widget-view+json": {
       "model_id": "d5c9779803fa487baa9d39142a1e5473",
       "version_major": 2,
       "version_minor": 0
      },
      "text/plain": [
       "Web pages for: \"auto-aol\":   0%|          | 0/200 [00:00<?, ?it/s]"
      ]
     },
     "metadata": {},
     "output_type": "display_data"
    },
    {
     "data": {
      "application/vnd.jupyter.widget-view+json": {
       "model_id": "64fbe39e69b64ed68a87f26350661853",
       "version_major": 2,
       "version_minor": 0
      },
      "text/plain": [
       "Web pages for: \"auto-aol\":   0%|          | 0/200 [00:00<?, ?it/s]"
      ]
     },
     "metadata": {},
     "output_type": "display_data"
    },
    {
     "data": {
      "application/vnd.jupyter.widget-view+json": {
       "model_id": "99354b0bc9364c9b954bd8d0cbf409f7",
       "version_major": 2,
       "version_minor": 0
      },
      "text/plain": [
       "Web pages for: \"auto-aol\":   0%|          | 0/200 [00:00<?, ?it/s]"
      ]
     },
     "metadata": {},
     "output_type": "display_data"
    },
    {
     "data": {
      "application/vnd.jupyter.widget-view+json": {
       "model_id": "fcef8c4990a949249bf59db43072da6a",
       "version_major": 2,
       "version_minor": 0
      },
      "text/plain": [
       "Web pages for: \"auto-aol\":   0%|          | 0/200 [00:00<?, ?it/s]"
      ]
     },
     "metadata": {},
     "output_type": "display_data"
    },
    {
     "data": {
      "application/vnd.jupyter.widget-view+json": {
       "model_id": "eef8c256bdc748feb485f35617453d7c",
       "version_major": 2,
       "version_minor": 0
      },
      "text/plain": [
       "Web pages for: \"auto-aol\":   0%|          | 0/200 [00:00<?, ?it/s]"
      ]
     },
     "metadata": {},
     "output_type": "display_data"
    },
    {
     "data": {
      "application/vnd.jupyter.widget-view+json": {
       "model_id": "e530b9d32b8045e5a9f7795bc6d827da",
       "version_major": 2,
       "version_minor": 0
      },
      "text/plain": [
       "Web pages for: \"auto-aol\":   0%|          | 0/200 [00:00<?, ?it/s]"
      ]
     },
     "metadata": {},
     "output_type": "display_data"
    },
    {
     "data": {
      "application/vnd.jupyter.widget-view+json": {
       "model_id": "d2c3f2c265e74b4d85a185d14cbb62c0",
       "version_major": 2,
       "version_minor": 0
      },
      "text/plain": [
       "Web pages for: \"auto-aol\":   0%|          | 0/200 [00:00<?, ?it/s]"
      ]
     },
     "metadata": {},
     "output_type": "display_data"
    },
    {
     "data": {
      "application/vnd.jupyter.widget-view+json": {
       "model_id": "536fbc945005479286cd2fbc1048d074",
       "version_major": 2,
       "version_minor": 0
      },
      "text/plain": [
       "Web pages for: \"auto-aol\":   0%|          | 0/200 [00:00<?, ?it/s]"
      ]
     },
     "metadata": {},
     "output_type": "display_data"
    },
    {
     "data": {
      "application/vnd.jupyter.widget-view+json": {
       "model_id": "7789e4c4ddaf4764a609590cb0b3da4a",
       "version_major": 2,
       "version_minor": 0
      },
      "text/plain": [
       "Web pages for: \"auto-aol\":   0%|          | 0/200 [00:00<?, ?it/s]"
      ]
     },
     "metadata": {},
     "output_type": "display_data"
    },
    {
     "name": "stderr",
     "output_type": "stream",
     "text": [
      "14:47:51 INFO (swde_dataLoader:174): SWDE data loader has loaded: 45282 nodes from: ['auto-autobytel', 'auto-automotive', 'auto-aol']\n",
      "14:47:51 INFO (swde_dataLoader:174): SWDE data loader has loaded: 44502 nodes from: ['auto-autobytel', 'auto-automotive', 'auto-aol']\n",
      "14:47:51 INFO (swde_dataLoader:174): SWDE data loader has loaded: 45662 nodes from: ['auto-autobytel', 'auto-automotive', 'auto-aol']\n",
      "14:47:51 INFO (swde_dataLoader:174): SWDE data loader has loaded: 45435 nodes from: ['auto-autobytel', 'auto-automotive', 'auto-aol']\n",
      "14:47:51 INFO (swde_dataLoader:174): SWDE data loader has loaded: 45706 nodes from: ['auto-autobytel', 'auto-automotive', 'auto-aol']\n",
      "14:47:51 INFO (swde_dataLoader:174): SWDE data loader has loaded: 44970 nodes from: ['auto-autobytel', 'auto-automotive', 'auto-aol']\n",
      "14:47:51 INFO (swde_dataLoader:174): SWDE data loader has loaded: 45154 nodes from: ['auto-autobytel', 'auto-automotive', 'auto-aol']\n",
      "14:47:51 INFO (swde_dataLoader:174): SWDE data loader has loaded: 45855 nodes from: ['auto-autobytel', 'auto-automotive', 'auto-aol']\n",
      "14:47:51 INFO (swde_dataLoader:174): SWDE data loader has loaded: 45417 nodes from: ['auto-autobytel', 'auto-automotive', 'auto-aol']\n",
      "14:47:51 INFO (swde_dataLoader:174): SWDE data loader has loaded: 45679 nodes from: ['auto-autobytel', 'auto-automotive', 'auto-aol']\n",
      "/Users/izapreev/miniforge3/envs/tfm/lib/python3.8/site-packages/pytorch_lightning/trainer/connectors/data_connector.py:229: UserWarning: strategy=ddp_spawn and num_workers=0 may result in data loading bottlenecks. Consider setting num_workers>0 and persistent_workers=True\n",
      "  rank_zero_warn(\n",
      "14:47:51 INFO (SimpDOM_model:164): Mean validation loss: 1.5454754829406738\n",
      "14:47:51 INFO (SimpDOM_model:164): Mean validation loss: 1.5559167861938477\n",
      "14:47:51 INFO (SimpDOM_model:164): Mean validation loss: 1.566938877105713\n",
      "14:47:51 INFO (SimpDOM_model:164): Mean validation loss: 1.5813815593719482\n",
      "14:47:51 INFO (SimpDOM_model:164): Mean validation loss: 1.558334469795227\n",
      "14:47:51 INFO (SimpDOM_model:164): Mean validation loss: 1.5786504745483398\n",
      "14:47:51 INFO (SimpDOM_model:164): Mean validation loss: 1.5465173721313477\n",
      "14:47:51 INFO (SimpDOM_model:164): Mean validation loss: 1.5522050857543945\n",
      "14:47:51 INFO (SimpDOM_model:164): Mean validation loss: 1.5845832824707031\n",
      "14:47:51 INFO (SimpDOM_model:164): Mean validation loss: 1.5387835502624512\n",
      "14:47:51 INFO (SimpDOM_model:172): Creating training data loader for: ['auto-autoweb', 'auto-carquotes', 'auto-cars', 'auto-kbb', 'auto-motortrend', 'auto-msn']\n",
      "14:47:51 INFO (SimpDOM_model:172): Creating training data loader for: ['auto-autoweb', 'auto-carquotes', 'auto-cars', 'auto-kbb', 'auto-motortrend', 'auto-msn']\n",
      "14:47:51 INFO (SimpDOM_model:172): Creating training data loader for: ['auto-autoweb', 'auto-carquotes', 'auto-cars', 'auto-kbb', 'auto-motortrend', 'auto-msn']\n",
      "14:47:51 INFO (SimpDOM_model:172): Creating training data loader for: ['auto-autoweb', 'auto-carquotes', 'auto-cars', 'auto-kbb', 'auto-motortrend', 'auto-msn']\n",
      "14:47:51 INFO (SimpDOM_model:172): Creating training data loader for: ['auto-autoweb', 'auto-carquotes', 'auto-cars', 'auto-kbb', 'auto-motortrend', 'auto-msn']\n",
      "14:47:51 INFO (SimpDOM_model:172): Creating training data loader for: ['auto-autoweb', 'auto-carquotes', 'auto-cars', 'auto-kbb', 'auto-motortrend', 'auto-msn']\n",
      "14:47:51 INFO (SimpDOM_model:172): Creating training data loader for: ['auto-autoweb', 'auto-carquotes', 'auto-cars', 'auto-kbb', 'auto-motortrend', 'auto-msn']\n",
      "14:47:51 INFO (SimpDOM_model:172): Creating training data loader for: ['auto-autoweb', 'auto-carquotes', 'auto-cars', 'auto-kbb', 'auto-motortrend', 'auto-msn']\n",
      "14:47:51 INFO (SimpDOM_model:172): Creating training data loader for: ['auto-autoweb', 'auto-carquotes', 'auto-cars', 'auto-kbb', 'auto-motortrend', 'auto-msn']\n",
      "14:47:51 INFO (SimpDOM_model:172): Creating training data loader for: ['auto-autoweb', 'auto-carquotes', 'auto-cars', 'auto-kbb', 'auto-motortrend', 'auto-msn']\n"
     ]
    },
    {
     "data": {
      "application/vnd.jupyter.widget-view+json": {
       "model_id": "5fe953d78edb4248b61dcd053855276d",
       "version_major": 2,
       "version_minor": 0
      },
      "text/plain": [
       "Web sites:   0%|          | 0/6 [00:00<?, ?it/s]"
      ]
     },
     "metadata": {},
     "output_type": "display_data"
    },
    {
     "data": {
      "application/vnd.jupyter.widget-view+json": {
       "model_id": "be42a39da6e1403db6bc68cdd12bbea9",
       "version_major": 2,
       "version_minor": 0
      },
      "text/plain": [
       "Web sites:   0%|          | 0/6 [00:00<?, ?it/s]"
      ]
     },
     "metadata": {},
     "output_type": "display_data"
    },
    {
     "data": {
      "application/vnd.jupyter.widget-view+json": {
       "model_id": "a31f3898cbf14444a33a64cf69edc00d",
       "version_major": 2,
       "version_minor": 0
      },
      "text/plain": [
       "Web sites:   0%|          | 0/6 [00:00<?, ?it/s]"
      ]
     },
     "metadata": {},
     "output_type": "display_data"
    },
    {
     "data": {
      "application/vnd.jupyter.widget-view+json": {
       "model_id": "220481350400492db67fd03faa28658b",
       "version_major": 2,
       "version_minor": 0
      },
      "text/plain": [
       "Web sites:   0%|          | 0/6 [00:00<?, ?it/s]"
      ]
     },
     "metadata": {},
     "output_type": "display_data"
    },
    {
     "data": {
      "application/vnd.jupyter.widget-view+json": {
       "model_id": "eb9f3e16b2784cfcb40a0ab1336eb780",
       "version_major": 2,
       "version_minor": 0
      },
      "text/plain": [
       "Web sites:   0%|          | 0/6 [00:00<?, ?it/s]"
      ]
     },
     "metadata": {},
     "output_type": "display_data"
    },
    {
     "data": {
      "application/vnd.jupyter.widget-view+json": {
       "model_id": "36aa387ff4b54de995b95349792cc4b7",
       "version_major": 2,
       "version_minor": 0
      },
      "text/plain": [
       "Web sites:   0%|          | 0/6 [00:00<?, ?it/s]"
      ]
     },
     "metadata": {},
     "output_type": "display_data"
    },
    {
     "data": {
      "application/vnd.jupyter.widget-view+json": {
       "model_id": "c78c4a206f05466093e32b4b84f9ab9d",
       "version_major": 2,
       "version_minor": 0
      },
      "text/plain": [
       "Web sites:   0%|          | 0/6 [00:00<?, ?it/s]"
      ]
     },
     "metadata": {},
     "output_type": "display_data"
    },
    {
     "data": {
      "application/vnd.jupyter.widget-view+json": {
       "model_id": "9481e4cb5d9c460cabf4873512539008",
       "version_major": 2,
       "version_minor": 0
      },
      "text/plain": [
       "Web sites:   0%|          | 0/6 [00:00<?, ?it/s]"
      ]
     },
     "metadata": {},
     "output_type": "display_data"
    },
    {
     "data": {
      "application/vnd.jupyter.widget-view+json": {
       "model_id": "5e191f411b0f452b96ad7dad19eda978",
       "version_major": 2,
       "version_minor": 0
      },
      "text/plain": [
       "Web sites:   0%|          | 0/6 [00:00<?, ?it/s]"
      ]
     },
     "metadata": {},
     "output_type": "display_data"
    },
    {
     "data": {
      "application/vnd.jupyter.widget-view+json": {
       "model_id": "513eda38baf94a588676ce834e7522aa",
       "version_major": 2,
       "version_minor": 0
      },
      "text/plain": [
       "Web sites:   0%|          | 0/6 [00:00<?, ?it/s]"
      ]
     },
     "metadata": {},
     "output_type": "display_data"
    },
    {
     "data": {
      "application/vnd.jupyter.widget-view+json": {
       "model_id": "142146ec49e44e739b77a1f210a23fbc",
       "version_major": 2,
       "version_minor": 0
      },
      "text/plain": [
       "Web pages for: \"auto-autoweb\":   0%|          | 0/2000 [00:00<?, ?it/s]"
      ]
     },
     "metadata": {},
     "output_type": "display_data"
    },
    {
     "data": {
      "application/vnd.jupyter.widget-view+json": {
       "model_id": "51fe92c7ffe942cf9b85bb7730049234",
       "version_major": 2,
       "version_minor": 0
      },
      "text/plain": [
       "Web pages for: \"auto-autoweb\":   0%|          | 0/2000 [00:00<?, ?it/s]"
      ]
     },
     "metadata": {},
     "output_type": "display_data"
    },
    {
     "data": {
      "application/vnd.jupyter.widget-view+json": {
       "model_id": "f2cdca085597443c9df1f483c24a6626",
       "version_major": 2,
       "version_minor": 0
      },
      "text/plain": [
       "Web pages for: \"auto-autoweb\":   0%|          | 0/2000 [00:00<?, ?it/s]"
      ]
     },
     "metadata": {},
     "output_type": "display_data"
    },
    {
     "data": {
      "application/vnd.jupyter.widget-view+json": {
       "model_id": "c3ad614a0c444063ae885d12b0e60d39",
       "version_major": 2,
       "version_minor": 0
      },
      "text/plain": [
       "Web pages for: \"auto-autoweb\":   0%|          | 0/2000 [00:00<?, ?it/s]"
      ]
     },
     "metadata": {},
     "output_type": "display_data"
    },
    {
     "data": {
      "application/vnd.jupyter.widget-view+json": {
       "model_id": "5e2d68335a1741f1807ec749b7f08465",
       "version_major": 2,
       "version_minor": 0
      },
      "text/plain": [
       "Web pages for: \"auto-autoweb\":   0%|          | 0/2000 [00:00<?, ?it/s]"
      ]
     },
     "metadata": {},
     "output_type": "display_data"
    },
    {
     "data": {
      "application/vnd.jupyter.widget-view+json": {
       "model_id": "394dd705478442e1897b52b000789bc7",
       "version_major": 2,
       "version_minor": 0
      },
      "text/plain": [
       "Web pages for: \"auto-autoweb\":   0%|          | 0/2000 [00:00<?, ?it/s]"
      ]
     },
     "metadata": {},
     "output_type": "display_data"
    },
    {
     "data": {
      "application/vnd.jupyter.widget-view+json": {
       "model_id": "9bb682b606d441e395a3340c44c493e5",
       "version_major": 2,
       "version_minor": 0
      },
      "text/plain": [
       "Web pages for: \"auto-autoweb\":   0%|          | 0/2000 [00:00<?, ?it/s]"
      ]
     },
     "metadata": {},
     "output_type": "display_data"
    },
    {
     "data": {
      "application/vnd.jupyter.widget-view+json": {
       "model_id": "2393230a3638439cb141f8e2ad015191",
       "version_major": 2,
       "version_minor": 0
      },
      "text/plain": [
       "Web pages for: \"auto-autoweb\":   0%|          | 0/2000 [00:00<?, ?it/s]"
      ]
     },
     "metadata": {},
     "output_type": "display_data"
    },
    {
     "data": {
      "application/vnd.jupyter.widget-view+json": {
       "model_id": "ed9c63bf9cb8458cb81a6a1a4b792869",
       "version_major": 2,
       "version_minor": 0
      },
      "text/plain": [
       "Web pages for: \"auto-autoweb\":   0%|          | 0/2000 [00:00<?, ?it/s]"
      ]
     },
     "metadata": {},
     "output_type": "display_data"
    },
    {
     "data": {
      "application/vnd.jupyter.widget-view+json": {
       "model_id": "c8d9be00457f44b0b701c8481bede1e8",
       "version_major": 2,
       "version_minor": 0
      },
      "text/plain": [
       "Web pages for: \"auto-autoweb\":   0%|          | 0/2000 [00:00<?, ?it/s]"
      ]
     },
     "metadata": {},
     "output_type": "display_data"
    },
    {
     "data": {
      "application/vnd.jupyter.widget-view+json": {
       "model_id": "50d6557693674b6684587e334b173a26",
       "version_major": 2,
       "version_minor": 0
      },
      "text/plain": [
       "Web pages for: \"auto-carquotes\":   0%|          | 0/2000 [00:00<?, ?it/s]"
      ]
     },
     "metadata": {},
     "output_type": "display_data"
    },
    {
     "data": {
      "application/vnd.jupyter.widget-view+json": {
       "model_id": "ef708c6a327041e090251f93ef313e68",
       "version_major": 2,
       "version_minor": 0
      },
      "text/plain": [
       "Web pages for: \"auto-carquotes\":   0%|          | 0/2000 [00:00<?, ?it/s]"
      ]
     },
     "metadata": {},
     "output_type": "display_data"
    },
    {
     "data": {
      "application/vnd.jupyter.widget-view+json": {
       "model_id": "9a075bc3c2a44eec9e9e31216a88d3c1",
       "version_major": 2,
       "version_minor": 0
      },
      "text/plain": [
       "Web pages for: \"auto-carquotes\":   0%|          | 0/2000 [00:00<?, ?it/s]"
      ]
     },
     "metadata": {},
     "output_type": "display_data"
    },
    {
     "data": {
      "application/vnd.jupyter.widget-view+json": {
       "model_id": "5a79d11f628943ebab16e9f3b4650c00",
       "version_major": 2,
       "version_minor": 0
      },
      "text/plain": [
       "Web pages for: \"auto-carquotes\":   0%|          | 0/2000 [00:00<?, ?it/s]"
      ]
     },
     "metadata": {},
     "output_type": "display_data"
    },
    {
     "data": {
      "application/vnd.jupyter.widget-view+json": {
       "model_id": "c496cf446a324857b88c82b73f6e8058",
       "version_major": 2,
       "version_minor": 0
      },
      "text/plain": [
       "Web pages for: \"auto-carquotes\":   0%|          | 0/2000 [00:00<?, ?it/s]"
      ]
     },
     "metadata": {},
     "output_type": "display_data"
    },
    {
     "data": {
      "application/vnd.jupyter.widget-view+json": {
       "model_id": "398da351e7dc4f968be2fd272371b5f6",
       "version_major": 2,
       "version_minor": 0
      },
      "text/plain": [
       "Web pages for: \"auto-carquotes\":   0%|          | 0/2000 [00:00<?, ?it/s]"
      ]
     },
     "metadata": {},
     "output_type": "display_data"
    },
    {
     "data": {
      "application/vnd.jupyter.widget-view+json": {
       "model_id": "6aa050f3c56d4970ab8a795e35e2bd0e",
       "version_major": 2,
       "version_minor": 0
      },
      "text/plain": [
       "Web pages for: \"auto-carquotes\":   0%|          | 0/2000 [00:00<?, ?it/s]"
      ]
     },
     "metadata": {},
     "output_type": "display_data"
    },
    {
     "data": {
      "application/vnd.jupyter.widget-view+json": {
       "model_id": "1a75008d3abc48d2b49952c8bb6040a9",
       "version_major": 2,
       "version_minor": 0
      },
      "text/plain": [
       "Web pages for: \"auto-carquotes\":   0%|          | 0/2000 [00:00<?, ?it/s]"
      ]
     },
     "metadata": {},
     "output_type": "display_data"
    },
    {
     "data": {
      "application/vnd.jupyter.widget-view+json": {
       "model_id": "345891c40e7d4f3d8aa2e98d32ef3b0d",
       "version_major": 2,
       "version_minor": 0
      },
      "text/plain": [
       "Web pages for: \"auto-carquotes\":   0%|          | 0/2000 [00:00<?, ?it/s]"
      ]
     },
     "metadata": {},
     "output_type": "display_data"
    },
    {
     "data": {
      "application/vnd.jupyter.widget-view+json": {
       "model_id": "a5480c7006564a11b319ac15946787ee",
       "version_major": 2,
       "version_minor": 0
      },
      "text/plain": [
       "Web pages for: \"auto-carquotes\":   0%|          | 0/2000 [00:00<?, ?it/s]"
      ]
     },
     "metadata": {},
     "output_type": "display_data"
    },
    {
     "data": {
      "application/vnd.jupyter.widget-view+json": {
       "model_id": "010ca7632ec54de082671bc857ebe6c4",
       "version_major": 2,
       "version_minor": 0
      },
      "text/plain": [
       "Web pages for: \"auto-cars\":   0%|          | 0/657 [00:00<?, ?it/s]"
      ]
     },
     "metadata": {},
     "output_type": "display_data"
    },
    {
     "data": {
      "application/vnd.jupyter.widget-view+json": {
       "model_id": "793f207a061a4e32ba147026e6afe9d0",
       "version_major": 2,
       "version_minor": 0
      },
      "text/plain": [
       "Web pages for: \"auto-cars\":   0%|          | 0/657 [00:00<?, ?it/s]"
      ]
     },
     "metadata": {},
     "output_type": "display_data"
    },
    {
     "data": {
      "application/vnd.jupyter.widget-view+json": {
       "model_id": "f5445cd44b82420e9b88b6cb97845fbd",
       "version_major": 2,
       "version_minor": 0
      },
      "text/plain": [
       "Web pages for: \"auto-cars\":   0%|          | 0/657 [00:00<?, ?it/s]"
      ]
     },
     "metadata": {},
     "output_type": "display_data"
    },
    {
     "data": {
      "application/vnd.jupyter.widget-view+json": {
       "model_id": "5e7e246ef4f0444c9c5cb00f96be45d2",
       "version_major": 2,
       "version_minor": 0
      },
      "text/plain": [
       "Web pages for: \"auto-cars\":   0%|          | 0/657 [00:00<?, ?it/s]"
      ]
     },
     "metadata": {},
     "output_type": "display_data"
    },
    {
     "data": {
      "application/vnd.jupyter.widget-view+json": {
       "model_id": "7d0aa59647e44ea487b9a08f790327e7",
       "version_major": 2,
       "version_minor": 0
      },
      "text/plain": [
       "Web pages for: \"auto-cars\":   0%|          | 0/657 [00:00<?, ?it/s]"
      ]
     },
     "metadata": {},
     "output_type": "display_data"
    },
    {
     "data": {
      "application/vnd.jupyter.widget-view+json": {
       "model_id": "e7f76cd01093453f987594e9205f7ba7",
       "version_major": 2,
       "version_minor": 0
      },
      "text/plain": [
       "Web pages for: \"auto-cars\":   0%|          | 0/657 [00:00<?, ?it/s]"
      ]
     },
     "metadata": {},
     "output_type": "display_data"
    },
    {
     "data": {
      "application/vnd.jupyter.widget-view+json": {
       "model_id": "febd44b6cbb84bfea7be626f5c75b907",
       "version_major": 2,
       "version_minor": 0
      },
      "text/plain": [
       "Web pages for: \"auto-cars\":   0%|          | 0/657 [00:00<?, ?it/s]"
      ]
     },
     "metadata": {},
     "output_type": "display_data"
    },
    {
     "data": {
      "application/vnd.jupyter.widget-view+json": {
       "model_id": "695e7fd27c0f49559282b091288d1ec8",
       "version_major": 2,
       "version_minor": 0
      },
      "text/plain": [
       "Web pages for: \"auto-cars\":   0%|          | 0/657 [00:00<?, ?it/s]"
      ]
     },
     "metadata": {},
     "output_type": "display_data"
    },
    {
     "data": {
      "application/vnd.jupyter.widget-view+json": {
       "model_id": "23e671aafc9a4c2bb6480c33b75fec7d",
       "version_major": 2,
       "version_minor": 0
      },
      "text/plain": [
       "Web pages for: \"auto-cars\":   0%|          | 0/657 [00:00<?, ?it/s]"
      ]
     },
     "metadata": {},
     "output_type": "display_data"
    },
    {
     "data": {
      "application/vnd.jupyter.widget-view+json": {
       "model_id": "eae131964e8b4067ad298344bf6a1847",
       "version_major": 2,
       "version_minor": 0
      },
      "text/plain": [
       "Web pages for: \"auto-cars\":   0%|          | 0/657 [00:00<?, ?it/s]"
      ]
     },
     "metadata": {},
     "output_type": "display_data"
    },
    {
     "data": {
      "application/vnd.jupyter.widget-view+json": {
       "model_id": "d8e5d9ed906a411c9a3cc50f6638ee03",
       "version_major": 2,
       "version_minor": 0
      },
      "text/plain": [
       "Web pages for: \"auto-kbb\":   0%|          | 0/2000 [00:00<?, ?it/s]"
      ]
     },
     "metadata": {},
     "output_type": "display_data"
    },
    {
     "data": {
      "application/vnd.jupyter.widget-view+json": {
       "model_id": "b2f5f80cd7544b40b01d203f415a33a5",
       "version_major": 2,
       "version_minor": 0
      },
      "text/plain": [
       "Web pages for: \"auto-kbb\":   0%|          | 0/2000 [00:00<?, ?it/s]"
      ]
     },
     "metadata": {},
     "output_type": "display_data"
    },
    {
     "data": {
      "application/vnd.jupyter.widget-view+json": {
       "model_id": "08b1ffc470db412c931c8c9f39ce839f",
       "version_major": 2,
       "version_minor": 0
      },
      "text/plain": [
       "Web pages for: \"auto-kbb\":   0%|          | 0/2000 [00:00<?, ?it/s]"
      ]
     },
     "metadata": {},
     "output_type": "display_data"
    },
    {
     "data": {
      "application/vnd.jupyter.widget-view+json": {
       "model_id": "6f9f2233d8624354b9d40e0ffac036cc",
       "version_major": 2,
       "version_minor": 0
      },
      "text/plain": [
       "Web pages for: \"auto-kbb\":   0%|          | 0/2000 [00:00<?, ?it/s]"
      ]
     },
     "metadata": {},
     "output_type": "display_data"
    },
    {
     "data": {
      "application/vnd.jupyter.widget-view+json": {
       "model_id": "f5736242e38640acae88e493a17efb23",
       "version_major": 2,
       "version_minor": 0
      },
      "text/plain": [
       "Web pages for: \"auto-kbb\":   0%|          | 0/2000 [00:00<?, ?it/s]"
      ]
     },
     "metadata": {},
     "output_type": "display_data"
    },
    {
     "data": {
      "application/vnd.jupyter.widget-view+json": {
       "model_id": "17f0253d644742bf81b461b0a42381b0",
       "version_major": 2,
       "version_minor": 0
      },
      "text/plain": [
       "Web pages for: \"auto-kbb\":   0%|          | 0/2000 [00:00<?, ?it/s]"
      ]
     },
     "metadata": {},
     "output_type": "display_data"
    },
    {
     "data": {
      "application/vnd.jupyter.widget-view+json": {
       "model_id": "6058e4cf4d734a20a6b74e27704c9c41",
       "version_major": 2,
       "version_minor": 0
      },
      "text/plain": [
       "Web pages for: \"auto-kbb\":   0%|          | 0/2000 [00:00<?, ?it/s]"
      ]
     },
     "metadata": {},
     "output_type": "display_data"
    },
    {
     "data": {
      "application/vnd.jupyter.widget-view+json": {
       "model_id": "03862893998d45838826a9ba081be721",
       "version_major": 2,
       "version_minor": 0
      },
      "text/plain": [
       "Web pages for: \"auto-kbb\":   0%|          | 0/2000 [00:00<?, ?it/s]"
      ]
     },
     "metadata": {},
     "output_type": "display_data"
    },
    {
     "data": {
      "application/vnd.jupyter.widget-view+json": {
       "model_id": "eef9e88d2dc14d95825eb3398b72ec63",
       "version_major": 2,
       "version_minor": 0
      },
      "text/plain": [
       "Web pages for: \"auto-kbb\":   0%|          | 0/2000 [00:00<?, ?it/s]"
      ]
     },
     "metadata": {},
     "output_type": "display_data"
    },
    {
     "data": {
      "application/vnd.jupyter.widget-view+json": {
       "model_id": "0ff6d1e1973641cdb8126ccd20faaffd",
       "version_major": 2,
       "version_minor": 0
      },
      "text/plain": [
       "Web pages for: \"auto-kbb\":   0%|          | 0/2000 [00:00<?, ?it/s]"
      ]
     },
     "metadata": {},
     "output_type": "display_data"
    },
    {
     "data": {
      "application/vnd.jupyter.widget-view+json": {
       "model_id": "5c6d4020fc7c4c9dbb77bc43a038a5ea",
       "version_major": 2,
       "version_minor": 0
      },
      "text/plain": [
       "Web pages for: \"auto-motortrend\":   0%|          | 0/1267 [00:00<?, ?it/s]"
      ]
     },
     "metadata": {},
     "output_type": "display_data"
    },
    {
     "data": {
      "application/vnd.jupyter.widget-view+json": {
       "model_id": "77ac0cf9c41f49f1a9341ae6a5fcaa30",
       "version_major": 2,
       "version_minor": 0
      },
      "text/plain": [
       "Web pages for: \"auto-motortrend\":   0%|          | 0/1267 [00:00<?, ?it/s]"
      ]
     },
     "metadata": {},
     "output_type": "display_data"
    },
    {
     "data": {
      "application/vnd.jupyter.widget-view+json": {
       "model_id": "1f680c0039a34a998059112fc34ab79a",
       "version_major": 2,
       "version_minor": 0
      },
      "text/plain": [
       "Web pages for: \"auto-motortrend\":   0%|          | 0/1267 [00:00<?, ?it/s]"
      ]
     },
     "metadata": {},
     "output_type": "display_data"
    },
    {
     "data": {
      "application/vnd.jupyter.widget-view+json": {
       "model_id": "280d5c2ec956464c8d5fcd09938d11f0",
       "version_major": 2,
       "version_minor": 0
      },
      "text/plain": [
       "Web pages for: \"auto-motortrend\":   0%|          | 0/1267 [00:00<?, ?it/s]"
      ]
     },
     "metadata": {},
     "output_type": "display_data"
    },
    {
     "data": {
      "application/vnd.jupyter.widget-view+json": {
       "model_id": "232f4fc2ef0949e19f3a461a46d60c39",
       "version_major": 2,
       "version_minor": 0
      },
      "text/plain": [
       "Web pages for: \"auto-motortrend\":   0%|          | 0/1267 [00:00<?, ?it/s]"
      ]
     },
     "metadata": {},
     "output_type": "display_data"
    },
    {
     "data": {
      "application/vnd.jupyter.widget-view+json": {
       "model_id": "71e6ed4426f24447a9954e508cd743a6",
       "version_major": 2,
       "version_minor": 0
      },
      "text/plain": [
       "Web pages for: \"auto-motortrend\":   0%|          | 0/1267 [00:00<?, ?it/s]"
      ]
     },
     "metadata": {},
     "output_type": "display_data"
    },
    {
     "data": {
      "application/vnd.jupyter.widget-view+json": {
       "model_id": "ed251d3486f243e08ead33889f20bfc4",
       "version_major": 2,
       "version_minor": 0
      },
      "text/plain": [
       "Web pages for: \"auto-motortrend\":   0%|          | 0/1267 [00:00<?, ?it/s]"
      ]
     },
     "metadata": {},
     "output_type": "display_data"
    },
    {
     "data": {
      "application/vnd.jupyter.widget-view+json": {
       "model_id": "d31ac55cbbf1423bb771f754c75af216",
       "version_major": 2,
       "version_minor": 0
      },
      "text/plain": [
       "Web pages for: \"auto-motortrend\":   0%|          | 0/1267 [00:00<?, ?it/s]"
      ]
     },
     "metadata": {},
     "output_type": "display_data"
    },
    {
     "data": {
      "application/vnd.jupyter.widget-view+json": {
       "model_id": "f248a5fbc3564340822f3cd8aac3e2c9",
       "version_major": 2,
       "version_minor": 0
      },
      "text/plain": [
       "Web pages for: \"auto-motortrend\":   0%|          | 0/1267 [00:00<?, ?it/s]"
      ]
     },
     "metadata": {},
     "output_type": "display_data"
    },
    {
     "data": {
      "application/vnd.jupyter.widget-view+json": {
       "model_id": "a3a0920f65e144c2bfa82c5e7158012f",
       "version_major": 2,
       "version_minor": 0
      },
      "text/plain": [
       "Web pages for: \"auto-motortrend\":   0%|          | 0/1267 [00:00<?, ?it/s]"
      ]
     },
     "metadata": {},
     "output_type": "display_data"
    },
    {
     "data": {
      "application/vnd.jupyter.widget-view+json": {
       "model_id": "eb0bf152d1ec42fe80f506f6f3de68b5",
       "version_major": 2,
       "version_minor": 0
      },
      "text/plain": [
       "Web pages for: \"auto-msn\":   0%|          | 0/2000 [00:00<?, ?it/s]"
      ]
     },
     "metadata": {},
     "output_type": "display_data"
    },
    {
     "data": {
      "application/vnd.jupyter.widget-view+json": {
       "model_id": "91406cbf5614438d86a21b9f0e645f9d",
       "version_major": 2,
       "version_minor": 0
      },
      "text/plain": [
       "Web pages for: \"auto-msn\":   0%|          | 0/2000 [00:00<?, ?it/s]"
      ]
     },
     "metadata": {},
     "output_type": "display_data"
    },
    {
     "data": {
      "application/vnd.jupyter.widget-view+json": {
       "model_id": "f11d613efa5c46eda7a17b49b14911d5",
       "version_major": 2,
       "version_minor": 0
      },
      "text/plain": [
       "Web pages for: \"auto-msn\":   0%|          | 0/2000 [00:00<?, ?it/s]"
      ]
     },
     "metadata": {},
     "output_type": "display_data"
    },
    {
     "data": {
      "application/vnd.jupyter.widget-view+json": {
       "model_id": "9151b35a0caa4439bca3b18847f2983a",
       "version_major": 2,
       "version_minor": 0
      },
      "text/plain": [
       "Web pages for: \"auto-msn\":   0%|          | 0/2000 [00:00<?, ?it/s]"
      ]
     },
     "metadata": {},
     "output_type": "display_data"
    },
    {
     "data": {
      "application/vnd.jupyter.widget-view+json": {
       "model_id": "45e5da7523894bbb92aa8b9724b8e3d2",
       "version_major": 2,
       "version_minor": 0
      },
      "text/plain": [
       "Web pages for: \"auto-msn\":   0%|          | 0/2000 [00:00<?, ?it/s]"
      ]
     },
     "metadata": {},
     "output_type": "display_data"
    },
    {
     "data": {
      "application/vnd.jupyter.widget-view+json": {
       "model_id": "593f1fd55b46492597c054fa440c456d",
       "version_major": 2,
       "version_minor": 0
      },
      "text/plain": [
       "Web pages for: \"auto-msn\":   0%|          | 0/2000 [00:00<?, ?it/s]"
      ]
     },
     "metadata": {},
     "output_type": "display_data"
    },
    {
     "data": {
      "application/vnd.jupyter.widget-view+json": {
       "model_id": "59bced2e6f7640f1af541a70e52bb608",
       "version_major": 2,
       "version_minor": 0
      },
      "text/plain": [
       "Web pages for: \"auto-msn\":   0%|          | 0/2000 [00:00<?, ?it/s]"
      ]
     },
     "metadata": {},
     "output_type": "display_data"
    },
    {
     "data": {
      "application/vnd.jupyter.widget-view+json": {
       "model_id": "7730caa6ece84775ab375e0e01706fae",
       "version_major": 2,
       "version_minor": 0
      },
      "text/plain": [
       "Web pages for: \"auto-msn\":   0%|          | 0/2000 [00:00<?, ?it/s]"
      ]
     },
     "metadata": {},
     "output_type": "display_data"
    },
    {
     "data": {
      "application/vnd.jupyter.widget-view+json": {
       "model_id": "c7a21d1a5ab84eeba6d7256a1c859340",
       "version_major": 2,
       "version_minor": 0
      },
      "text/plain": [
       "Web pages for: \"auto-msn\":   0%|          | 0/2000 [00:00<?, ?it/s]"
      ]
     },
     "metadata": {},
     "output_type": "display_data"
    },
    {
     "data": {
      "application/vnd.jupyter.widget-view+json": {
       "model_id": "5ecf7c465d3d4a759d9ff44b7e639c95",
       "version_major": 2,
       "version_minor": 0
      },
      "text/plain": [
       "Web pages for: \"auto-msn\":   0%|          | 0/2000 [00:00<?, ?it/s]"
      ]
     },
     "metadata": {},
     "output_type": "display_data"
    },
    {
     "name": "stderr",
     "output_type": "stream",
     "text": [
      "14:49:12 INFO (swde_dataLoader:174): SWDE data loader has loaded: 648699 nodes from: ['auto-autoweb', 'auto-carquotes', 'auto-cars', 'auto-kbb', 'auto-motortrend', 'auto-msn']\n",
      "14:49:13 INFO (swde_dataLoader:174): SWDE data loader has loaded: 648699 nodes from: ['auto-autoweb', 'auto-carquotes', 'auto-cars', 'auto-kbb', 'auto-motortrend', 'auto-msn']\n",
      "14:49:14 INFO (swde_dataLoader:174): SWDE data loader has loaded: 648699 nodes from: ['auto-autoweb', 'auto-carquotes', 'auto-cars', 'auto-kbb', 'auto-motortrend', 'auto-msn']\n",
      "14:49:14 INFO (swde_dataLoader:174): SWDE data loader has loaded: 648699 nodes from: ['auto-autoweb', 'auto-carquotes', 'auto-cars', 'auto-kbb', 'auto-motortrend', 'auto-msn']\n",
      "14:49:15 INFO (swde_dataLoader:174): SWDE data loader has loaded: 648699 nodes from: ['auto-autoweb', 'auto-carquotes', 'auto-cars', 'auto-kbb', 'auto-motortrend', 'auto-msn']\n",
      "14:49:15 INFO (swde_dataLoader:174): SWDE data loader has loaded: 648699 nodes from: ['auto-autoweb', 'auto-carquotes', 'auto-cars', 'auto-kbb', 'auto-motortrend', 'auto-msn']\n",
      "14:49:15 INFO (swde_dataLoader:174): SWDE data loader has loaded: 648699 nodes from: ['auto-autoweb', 'auto-carquotes', 'auto-cars', 'auto-kbb', 'auto-motortrend', 'auto-msn']\n",
      "14:49:15 INFO (swde_dataLoader:174): SWDE data loader has loaded: 648699 nodes from: ['auto-autoweb', 'auto-carquotes', 'auto-cars', 'auto-kbb', 'auto-motortrend', 'auto-msn']\n",
      "14:49:16 INFO (swde_dataLoader:174): SWDE data loader has loaded: 648699 nodes from: ['auto-autoweb', 'auto-carquotes', 'auto-cars', 'auto-kbb', 'auto-motortrend', 'auto-msn']\n",
      "14:49:16 INFO (swde_dataLoader:174): SWDE data loader has loaded: 648699 nodes from: ['auto-autoweb', 'auto-carquotes', 'auto-cars', 'auto-kbb', 'auto-motortrend', 'auto-msn']\n"
     ]
    },
    {
     "data": {
      "application/vnd.jupyter.widget-view+json": {
       "model_id": "740328efe1104ddcadff348a6193b8ef",
       "version_major": 2,
       "version_minor": 0
      },
      "text/plain": [
       "Training: 0it [00:00, ?it/s]"
      ]
     },
     "metadata": {},
     "output_type": "display_data"
    },
    {
     "name": "stderr",
     "output_type": "stream",
     "text": [
      "14:49:16 INFO (distributed:788): Reducer buckets have been rebuilt in this iteration.\n",
      "14:49:16 INFO (distributed:788): Reducer buckets have been rebuilt in this iteration.\n",
      "14:49:16 INFO (distributed:788): Reducer buckets have been rebuilt in this iteration.\n",
      "14:49:16 INFO (distributed:788): Reducer buckets have been rebuilt in this iteration.\n",
      "14:49:16 INFO (distributed:788): Reducer buckets have been rebuilt in this iteration.\n",
      "14:49:16 INFO (distributed:788): Reducer buckets have been rebuilt in this iteration.\n",
      "14:49:16 INFO (distributed:788): Reducer buckets have been rebuilt in this iteration.\n",
      "14:49:16 INFO (distributed:788): Reducer buckets have been rebuilt in this iteration.\n",
      "14:49:16 INFO (distributed:788): Reducer buckets have been rebuilt in this iteration.\n",
      "14:49:16 INFO (distributed:788): Reducer buckets have been rebuilt in this iteration.\n"
     ]
    },
    {
     "data": {
      "application/vnd.jupyter.widget-view+json": {
       "model_id": "",
       "version_major": 2,
       "version_minor": 0
      },
      "text/plain": [
       "Validation: 0it [00:00, ?it/s]"
      ]
     },
     "metadata": {},
     "output_type": "display_data"
    },
    {
     "name": "stderr",
     "output_type": "stream",
     "text": [
      "14:58:40 INFO (SimpDOM_model:164): Mean validation loss: 0.4228063225746155\n",
      "14:58:40 INFO (SimpDOM_model:164): Mean validation loss: 0.4198327958583832\n",
      "14:58:40 INFO (SimpDOM_model:164): Mean validation loss: 0.4839797019958496\n",
      "14:58:40 INFO (SimpDOM_model:164): Mean validation loss: 0.45989856123924255\n",
      "14:58:40 INFO (SimpDOM_model:164): Mean validation loss: 0.4610345959663391\n",
      "14:58:40 INFO (SimpDOM_model:164): Mean validation loss: 0.4309464693069458\n",
      "14:58:40 INFO (SimpDOM_model:164): Mean validation loss: 0.43983080983161926\n",
      "14:58:40 INFO (SimpDOM_model:164): Mean validation loss: 0.4321088194847107\n",
      "14:58:40 INFO (SimpDOM_model:164): Mean validation loss: 0.4476698338985443\n",
      "14:58:40 INFO (SimpDOM_model:164): Mean validation loss: 0.4260801374912262\n",
      "14:58:40 INFO (model_checkpoint:709): Epoch 0, global step 2028: 'val_loss' reached 0.44237 (best 0.44237), saving model to '/Users/izapreev/Projects/SimpDOM/data/weights-v1.ckpt' as top 1\n"
     ]
    },
    {
     "data": {
      "application/vnd.jupyter.widget-view+json": {
       "model_id": "",
       "version_major": 2,
       "version_minor": 0
      },
      "text/plain": [
       "Validation: 0it [00:00, ?it/s]"
      ]
     },
     "metadata": {},
     "output_type": "display_data"
    },
    {
     "name": "stderr",
     "output_type": "stream",
     "text": [
      "15:08:12 INFO (SimpDOM_model:164): Mean validation loss: 0.23991534113883972\n",
      "15:08:12 INFO (SimpDOM_model:164): Mean validation loss: 0.2171364426612854\n",
      "15:08:12 INFO (SimpDOM_model:164): Mean validation loss: 0.21109016239643097\n",
      "15:08:12 INFO (SimpDOM_model:164): Mean validation loss: 0.24304716289043427\n",
      "15:08:12 INFO (SimpDOM_model:164): Mean validation loss: 0.21366162598133087\n",
      "15:08:12 INFO (SimpDOM_model:164): Mean validation loss: 0.22279231250286102\n",
      "15:08:12 INFO (SimpDOM_model:164): Mean validation loss: 0.22361885011196136\n",
      "15:08:12 INFO (SimpDOM_model:164): Mean validation loss: 0.2523663640022278\n",
      "15:08:12 INFO (SimpDOM_model:164): Mean validation loss: 0.2178957313299179\n",
      "15:08:12 INFO (SimpDOM_model:164): Mean validation loss: 0.22317631542682648\n",
      "15:08:12 INFO (model_checkpoint:709): Epoch 1, global step 4056: 'val_loss' reached 0.22643 (best 0.22643), saving model to '/Users/izapreev/Projects/SimpDOM/data/weights-v1.ckpt' as top 1\n"
     ]
    },
    {
     "data": {
      "application/vnd.jupyter.widget-view+json": {
       "model_id": "",
       "version_major": 2,
       "version_minor": 0
      },
      "text/plain": [
       "Validation: 0it [00:00, ?it/s]"
      ]
     },
     "metadata": {},
     "output_type": "display_data"
    },
    {
     "name": "stderr",
     "output_type": "stream",
     "text": [
      "15:18:18 INFO (SimpDOM_model:164): Mean validation loss: 0.17389070987701416\n",
      "15:18:18 INFO (SimpDOM_model:164): Mean validation loss: 0.17906618118286133\n",
      "15:18:18 INFO (SimpDOM_model:164): Mean validation loss: 0.17885516583919525\n",
      "15:18:18 INFO (SimpDOM_model:164): Mean validation loss: 0.19033434987068176\n",
      "15:18:18 INFO (SimpDOM_model:164): Mean validation loss: 0.17384152114391327\n",
      "15:18:18 INFO (SimpDOM_model:164): Mean validation loss: 0.19935208559036255\n",
      "15:18:18 INFO (SimpDOM_model:164): Mean validation loss: 0.1633930504322052\n",
      "15:18:18 INFO (SimpDOM_model:164): Mean validation loss: 0.20033232867717743\n",
      "15:18:18 INFO (SimpDOM_model:164): Mean validation loss: 0.17854247987270355\n",
      "15:18:18 INFO (SimpDOM_model:164): Mean validation loss: 0.1740441918373108\n",
      "15:18:18 INFO (model_checkpoint:709): Epoch 2, global step 6084: 'val_loss' reached 0.18113 (best 0.18113), saving model to '/Users/izapreev/Projects/SimpDOM/data/weights-v1.ckpt' as top 1\n"
     ]
    },
    {
     "data": {
      "application/vnd.jupyter.widget-view+json": {
       "model_id": "",
       "version_major": 2,
       "version_minor": 0
      },
      "text/plain": [
       "Validation: 0it [00:00, ?it/s]"
      ]
     },
     "metadata": {},
     "output_type": "display_data"
    },
    {
     "name": "stderr",
     "output_type": "stream",
     "text": [
      "15:28:17 INFO (SimpDOM_model:164): Mean validation loss: 0.1694461852312088\n",
      "15:28:17 INFO (SimpDOM_model:164): Mean validation loss: 0.18218810856342316\n",
      "15:28:17 INFO (SimpDOM_model:164): Mean validation loss: 0.17016829550266266\n",
      "15:28:17 INFO (SimpDOM_model:164): Mean validation loss: 0.1911158412694931\n",
      "15:28:17 INFO (SimpDOM_model:164): Mean validation loss: 0.16346973180770874\n",
      "15:28:17 INFO (SimpDOM_model:164): Mean validation loss: 0.1698736846446991\n",
      "15:28:17 INFO (SimpDOM_model:164): Mean validation loss: 0.16335982084274292\n",
      "15:28:17 INFO (SimpDOM_model:164): Mean validation loss: 0.1474662572145462\n",
      "15:28:17 INFO (SimpDOM_model:164): Mean validation loss: 0.1716030091047287\n",
      "15:28:17 INFO (SimpDOM_model:164): Mean validation loss: 0.16273976862430573\n",
      "15:28:17 INFO (model_checkpoint:709): Epoch 3, global step 8112: 'val_loss' reached 0.16913 (best 0.16913), saving model to '/Users/izapreev/Projects/SimpDOM/data/weights-v1.ckpt' as top 1\n"
     ]
    },
    {
     "data": {
      "application/vnd.jupyter.widget-view+json": {
       "model_id": "",
       "version_major": 2,
       "version_minor": 0
      },
      "text/plain": [
       "Validation: 0it [00:00, ?it/s]"
      ]
     },
     "metadata": {},
     "output_type": "display_data"
    },
    {
     "name": "stderr",
     "output_type": "stream",
     "text": [
      "15:38:16 INFO (SimpDOM_model:164): Mean validation loss: 0.1635938584804535\n",
      "15:38:16 INFO (SimpDOM_model:164): Mean validation loss: 0.1755950152873993\n",
      "15:38:16 INFO (SimpDOM_model:164): Mean validation loss: 0.1742628961801529\n",
      "15:38:16 INFO (SimpDOM_model:164): Mean validation loss: 0.1458541452884674\n",
      "15:38:16 INFO (SimpDOM_model:164): Mean validation loss: 0.17999431490898132\n",
      "15:38:16 INFO (SimpDOM_model:164): Mean validation loss: 0.16583114862442017\n",
      "15:38:16 INFO (SimpDOM_model:164): Mean validation loss: 0.16364504396915436\n",
      "15:38:16 INFO (SimpDOM_model:164): Mean validation loss: 0.17184554040431976\n",
      "15:38:16 INFO (SimpDOM_model:164): Mean validation loss: 0.16419847309589386\n",
      "15:38:16 INFO (SimpDOM_model:164): Mean validation loss: 0.19387556612491608\n",
      "15:38:16 INFO (model_checkpoint:666): Epoch 4, global step 10140: 'val_loss' was not in top 1\n"
     ]
    }
   ],
   "source": [
    "logger.info(f'Starting model training')\n",
    "model = train_model(config, num_train_epochs)\n",
    "logger.info(f'SimpDOM model training is done!')"
   ]
  },
  {
   "cell_type": "code",
   "execution_count": 14,
   "metadata": {},
   "outputs": [
    {
     "name": "stderr",
     "output_type": "stream",
     "text": [
      "16:07:47 INFO (2460512585:1): Visualising the model\n",
      "16:07:47 INFO (SimpDOM_model:172): Creating training data loader for: ['auto-autoweb', 'auto-carquotes', 'auto-cars', 'auto-kbb', 'auto-motortrend', 'auto-msn']\n"
     ]
    },
    {
     "data": {
      "application/vnd.jupyter.widget-view+json": {
       "model_id": "8ca577c06e41491bb8e1475eceb13d43",
       "version_major": 2,
       "version_minor": 0
      },
      "text/plain": [
       "Web sites:   0%|          | 0/6 [00:00<?, ?it/s]"
      ]
     },
     "metadata": {},
     "output_type": "display_data"
    },
    {
     "data": {
      "application/vnd.jupyter.widget-view+json": {
       "model_id": "4680456279224053be3433e7c22b2da0",
       "version_major": 2,
       "version_minor": 0
      },
      "text/plain": [
       "Web pages for: \"auto-autoweb\":   0%|          | 0/2000 [00:00<?, ?it/s]"
      ]
     },
     "metadata": {},
     "output_type": "display_data"
    },
    {
     "data": {
      "application/vnd.jupyter.widget-view+json": {
       "model_id": "3e09dcc2b20d4ce6a3b6babe83ffa59c",
       "version_major": 2,
       "version_minor": 0
      },
      "text/plain": [
       "Web pages for: \"auto-carquotes\":   0%|          | 0/2000 [00:00<?, ?it/s]"
      ]
     },
     "metadata": {},
     "output_type": "display_data"
    },
    {
     "data": {
      "application/vnd.jupyter.widget-view+json": {
       "model_id": "1074e318d73f4c44aa545e0a8af21a19",
       "version_major": 2,
       "version_minor": 0
      },
      "text/plain": [
       "Web pages for: \"auto-cars\":   0%|          | 0/657 [00:00<?, ?it/s]"
      ]
     },
     "metadata": {},
     "output_type": "display_data"
    },
    {
     "data": {
      "application/vnd.jupyter.widget-view+json": {
       "model_id": "c23fcbbd0aad41bdbada890f8326d27e",
       "version_major": 2,
       "version_minor": 0
      },
      "text/plain": [
       "Web pages for: \"auto-kbb\":   0%|          | 0/2000 [00:00<?, ?it/s]"
      ]
     },
     "metadata": {},
     "output_type": "display_data"
    },
    {
     "data": {
      "application/vnd.jupyter.widget-view+json": {
       "model_id": "b61aa1b3ba8440cd82446018b5837a38",
       "version_major": 2,
       "version_minor": 0
      },
      "text/plain": [
       "Web pages for: \"auto-motortrend\":   0%|          | 0/1267 [00:00<?, ?it/s]"
      ]
     },
     "metadata": {},
     "output_type": "display_data"
    },
    {
     "data": {
      "application/vnd.jupyter.widget-view+json": {
       "model_id": "596d91c5bcc5473881e7be53faf490d7",
       "version_major": 2,
       "version_minor": 0
      },
      "text/plain": [
       "Web pages for: \"auto-msn\":   0%|          | 0/2000 [00:00<?, ?it/s]"
      ]
     },
     "metadata": {},
     "output_type": "display_data"
    },
    {
     "name": "stderr",
     "output_type": "stream",
     "text": [
      "16:08:31 INFO (swde_dataLoader:174): SWDE data loader has loaded: 648699 nodes from: ['auto-autoweb', 'auto-carquotes', 'auto-cars', 'auto-kbb', 'auto-motortrend', 'auto-msn']\n",
      "16:08:31 INFO (train_and_eval:104): Dumping the SimpDOM model visualization into: ./model_structure.png\n"
     ]
    }
   ],
   "source": [
    "logger.info(f'Visualising the model')\n",
    "visualize_model(model)"
   ]
  },
  {
   "cell_type": "code",
   "execution_count": 15,
   "metadata": {},
   "outputs": [
    {
     "name": "stderr",
     "output_type": "stream",
     "text": [
      "16:10:03 INFO (600260005:1): Training is finished, starting predicting\n",
      "16:10:03 WARNING (train_and_eval:121): The test websites was not explit, extracting from config!\n",
      "16:10:03 INFO (train_and_eval:126): The test websites are: ['auto-aol', 'auto-yahoo']\n",
      "16:10:03 INFO (SimpDOM_model:184): Creating testing data loader for: ['auto-aol', 'auto-yahoo']\n",
      "16:10:03 INFO (swde_dataLoader:257): Start loading data set for websites: ['auto-aol', 'auto-yahoo']\n"
     ]
    },
    {
     "data": {
      "application/vnd.jupyter.widget-view+json": {
       "model_id": "6ddd8b8bc35d4efd9636639c5daf6ae0",
       "version_major": 2,
       "version_minor": 0
      },
      "text/plain": [
       "Web site:   0%|          | 0/2 [00:00<?, ?it/s]"
      ]
     },
     "metadata": {},
     "output_type": "display_data"
    },
    {
     "data": {
      "application/vnd.jupyter.widget-view+json": {
       "model_id": "ed854e55ad654d3aab0d8715b495943d",
       "version_major": 2,
       "version_minor": 0
      },
      "text/plain": [
       "Web pages for: \"auto-aol\":   0%|          | 0/2000 [00:00<?, ?it/s]"
      ]
     },
     "metadata": {},
     "output_type": "display_data"
    },
    {
     "data": {
      "application/vnd.jupyter.widget-view+json": {
       "model_id": "7cb8e203f1164c5ab8cb3115fd21ca83",
       "version_major": 2,
       "version_minor": 0
      },
      "text/plain": [
       "Web pages for: \"auto-yahoo\":   0%|          | 0/2000 [00:00<?, ?it/s]"
      ]
     },
     "metadata": {},
     "output_type": "display_data"
    },
    {
     "name": "stderr",
     "output_type": "stream",
     "text": [
      "16:10:33 INFO (swde_dataLoader:262): SWDE data test loader has loaded: 435018 nodes from: ['auto-aol', 'auto-yahoo']\n"
     ]
    },
    {
     "data": {
      "application/vnd.jupyter.widget-view+json": {
       "model_id": "a0bb8d57cb514f1aa07b4d3dac64815f",
       "version_major": 2,
       "version_minor": 0
      },
      "text/plain": [
       "Testing batches:   0%|          | 0/13595 [00:00<?, ?it/s]"
      ]
     },
     "metadata": {},
     "output_type": "display_data"
    },
    {
     "name": "stdout",
     "output_type": "stream",
     "text": [
      "Dumping predictions dataframe into: test_predictions.csv\n"
     ]
    },
    {
     "name": "stderr",
     "output_type": "stream",
     "text": [
      "16:30:50 INFO (train_and_eval:136): Prediction summary:\n",
      "{1: (0.830167905312414, 0.7549436795994994, 0.7907708442579968), 2: (0.85225, 0.85225, 0.85225), 3: (0.9993870671161508, 0.6305, 0.7731990252939767), 4: (0.9994986212083229, 0.9971391417425227, 0.9983174873458884)}\n"
     ]
    },
    {
     "name": "stdout",
     "output_type": "stream",
     "text": [
      "class - 1: precision = 0.830167905312414, recall = 0.7549436795994994, F1 = 0.7907708442579968\n",
      "class - 2: precision = 0.85225, recall = 0.85225, F1 = 0.85225\n",
      "class - 3: precision = 0.9993870671161508, recall = 0.6305, F1 = 0.7731990252939767\n",
      "class - 4: precision = 0.9994986212083229, recall = 0.9971391417425227, F1 = 0.9983174873458884\n"
     ]
    },
    {
     "name": "stderr",
     "output_type": "stream",
     "text": [
      "16:31:09 INFO (train_and_eval:140): Website-level prediction summary:\n",
      "      website  attribute  precision    recall  retrieved_relevant  retrieved  \\\n",
      "0    auto-aol          1   0.992500  0.994987                1985       2000   \n",
      "1    auto-aol          2   0.890000  0.890000                1780       2000   \n",
      "2    auto-aol          3   0.000000  0.000000                   0          0   \n",
      "3    auto-aol          4   0.998911  0.994038                1834       1836   \n",
      "4  auto-yahoo          1   0.631353  0.515500                1031       1633   \n",
      "5  auto-yahoo          2   0.814500  0.814500                1629       2000   \n",
      "6  auto-yahoo          3   0.998416  0.630500                1261       1263   \n",
      "7  auto-yahoo          4   1.000000  1.000000                2000       2000   \n",
      "\n",
      "   relevant  \n",
      "0      1995  \n",
      "1      2000  \n",
      "2         0  \n",
      "3      1845  \n",
      "4      2000  \n",
      "5      2000  \n",
      "6      2000  \n",
      "7      2000  \n",
      "16:31:09 INFO (600260005:3): Test predictions result: {1: (0.830167905312414, 0.7549436795994994, 0.7907708442579968), 2: (0.85225, 0.85225, 0.85225), 3: (0.9993870671161508, 0.6305, 0.7731990252939767), 4: (0.9994986212083229, 0.9971391417425227, 0.9983174873458884)}\n"
     ]
    }
   ],
   "source": [
    "logger.info(f'Training is finished, starting predicting')\n",
    "avg_pr_dict = test_model(config, model)\n",
    "logger.info(f'Test predictions result: {avg_pr_dict}')"
   ]
  },
  {
   "cell_type": "code",
   "execution_count": 16,
   "metadata": {},
   "outputs": [
    {
     "name": "stderr",
     "output_type": "stream",
     "text": [
      "16:31:11 WARNING (train_and_eval:109): The pre-trained model is not provided, loading from disk\n",
      "16:31:11 WARNING (train_and_eval:111): The model weights file is not provided, loading weights from: None\n",
      "16:31:11 INFO (SimpDOM_model:28): Instantiating the new model with config: {'out_dim': 5, 'train_websites': ['auto-autoweb', 'auto-carquotes', 'auto-cars', 'auto-kbb', 'auto-motortrend', 'auto-msn'], 'val_websites': ['auto-autobytel', 'auto-automotive', 'auto-aol'], 'test_websites': ['auto-aol', 'auto-yahoo'], 'datapath': './data', 'n_workers': 0, 'char_emb_dim': 16, 'char_hid_dim': 100, 'char_emb_dropout': 0.1, 'tag_emb_dim': 16, 'tag_hid_dim': 30, 'leaf_emb_dim': 30, 'pos_emb_dim': 20, 'attributes': ['model', 'price', 'engine', 'fuel_economy'], 'n_gpus': 0, 'class_weights': [1, 100, 100, 100, 100], 'char_dict_filename': './data/English_charDict.pkl', 'tag_dict_filename': './data/HTMLTagDict.pkl', 'word_emb_filename': './data/glove.6B.100d.txt', 'learning_rate': 1e-05}\n",
      "16:31:11 INFO (SimpDOM_model:81): Loading ./data/English_charDict.pkl\n",
      "16:31:11 INFO (SimpDOM_model:83): Dictionary ./data/English_charDict.pkl length: 85\n",
      "16:31:11 INFO (SimpDOM_model:81): Loading ./data/HTMLTagDict.pkl\n",
      "16:31:11 INFO (SimpDOM_model:83): Dictionary ./data/HTMLTagDict.pkl length: 39\n",
      "16:31:11 INFO (pretrainedGloVe:9): Loading pretrained word emeddings from: ./data/glove.6B.100d.txt\n",
      "16:31:16 INFO (pretrainedGloVe:22): Loaded 400000 pretrained word vectors\n",
      "16:31:16 WARNING (train_and_eval:124): The test websites was explit, updating config!\n",
      "16:31:16 INFO (train_and_eval:126): The test websites are: ['auto-aol', 'auto-yahoo']\n",
      "16:31:16 INFO (SimpDOM_model:184): Creating testing data loader for: ['auto-aol', 'auto-yahoo']\n",
      "16:31:16 INFO (swde_dataLoader:258): Start loading data set for websites: ['auto-aol', 'auto-yahoo']\n"
     ]
    },
    {
     "data": {
      "application/vnd.jupyter.widget-view+json": {
       "model_id": "0f13c07b6e3d4216aa17feb1913c5ac5",
       "version_major": 2,
       "version_minor": 0
      },
      "text/plain": [
       "Web site:   0%|          | 0/2 [00:00<?, ?it/s]"
      ]
     },
     "metadata": {},
     "output_type": "display_data"
    },
    {
     "data": {
      "application/vnd.jupyter.widget-view+json": {
       "model_id": "1b08d6f931324dc389e0cd53526bb064",
       "version_major": 2,
       "version_minor": 0
      },
      "text/plain": [
       "Web pages for: \"auto-aol\":   0%|          | 0/2000 [00:00<?, ?it/s]"
      ]
     },
     "metadata": {},
     "output_type": "display_data"
    },
    {
     "data": {
      "application/vnd.jupyter.widget-view+json": {
       "model_id": "374c08725a6c4ce587d8ac173608c256",
       "version_major": 2,
       "version_minor": 0
      },
      "text/plain": [
       "Web pages for: \"auto-yahoo\":   0%|          | 0/2000 [00:00<?, ?it/s]"
      ]
     },
     "metadata": {},
     "output_type": "display_data"
    },
    {
     "name": "stderr",
     "output_type": "stream",
     "text": [
      "16:31:44 INFO (swde_dataLoader:263): SWDE data test loader has loaded: 435018 nodes from: ['auto-aol', 'auto-yahoo']\n"
     ]
    },
    {
     "data": {
      "application/vnd.jupyter.widget-view+json": {
       "model_id": "ae0e468a93ed4e289c2129ff1f729e95",
       "version_major": 2,
       "version_minor": 0
      },
      "text/plain": [
       "Testing batches:   0%|          | 0/13595 [00:00<?, ?it/s]"
      ]
     },
     "metadata": {},
     "output_type": "display_data"
    },
    {
     "name": "stdout",
     "output_type": "stream",
     "text": [
      "Dumping predictions dataframe into: test_predictions.csv\n"
     ]
    },
    {
     "name": "stderr",
     "output_type": "stream",
     "text": [
      "16:49:44 INFO (train_and_eval:136): Prediction summary:\n",
      "{1: (0.9254640371229699, 0.7987484355444305, 0.8574499529759506), 2: (0.90225, 0.90225, 0.90225), 3: (0.9988642816581488, 0.76, 0.8632125422940826), 4: (1.0, 1.0, 1.0)}\n"
     ]
    },
    {
     "name": "stdout",
     "output_type": "stream",
     "text": [
      "class - 1: precision = 0.9254640371229699, recall = 0.7987484355444305, F1 = 0.8574499529759506\n",
      "class - 2: precision = 0.90225, recall = 0.90225, F1 = 0.90225\n",
      "class - 3: precision = 0.9988642816581488, recall = 0.76, F1 = 0.8632125422940826\n",
      "class - 4: precision = 1.0, recall = 1.0, F1 = 1.0\n"
     ]
    },
    {
     "name": "stderr",
     "output_type": "stream",
     "text": [
      "16:50:00 INFO (train_and_eval:140): Website-level prediction summary:\n",
      "      website  attribute  precision  recall  retrieved_relevant  retrieved  \\\n",
      "0    auto-aol          1   0.997500  1.0000                1995       2000   \n",
      "1    auto-aol          2   0.986000  0.9860                1972       2000   \n",
      "2    auto-aol          3   0.000000  0.0000                   0          2   \n",
      "3    auto-aol          4   1.000000  1.0000                1845       1845   \n",
      "4  auto-yahoo          1   0.825967  0.5980                1196       1448   \n",
      "5  auto-yahoo          2   0.818500  0.8185                1637       2000   \n",
      "6  auto-yahoo          3   0.998686  0.7600                1520       1522   \n",
      "7  auto-yahoo          4   1.000000  1.0000                2000       2000   \n",
      "\n",
      "   relevant  \n",
      "0      1995  \n",
      "1      2000  \n",
      "2         0  \n",
      "3      1845  \n",
      "4      2000  \n",
      "5      2000  \n",
      "6      2000  \n",
      "7      2000  \n",
      "16:50:00 INFO (4135862858:3): Test predictions result: {1: (0.9254640371229699, 0.7987484355444305, 0.8574499529759506), 2: (0.90225, 0.90225, 0.90225), 3: (0.9988642816581488, 0.76, 0.8632125422940826), 4: (1.0, 1.0, 1.0)}\n"
     ]
    }
   ],
   "source": [
    "# Check the accuracy on the data used for training\n",
    "avg_pr_dict = test_model(config, test_websites=['auto-aol', 'auto-yahoo'])\n",
    "logger.info(f'Test predictions result: {avg_pr_dict}')"
   ]
  },
  {
   "cell_type": "code",
   "execution_count": null,
   "metadata": {},
   "outputs": [],
   "source": []
  }
 ],
 "metadata": {
  "kernelspec": {
   "display_name": "tfm",
   "language": "python",
   "name": "tfm"
  },
  "language_info": {
   "codemirror_mode": {
    "name": "ipython",
    "version": 3
   },
   "file_extension": ".py",
   "mimetype": "text/x-python",
   "name": "python",
   "nbconvert_exporter": "python",
   "pygments_lexer": "ipython3",
   "version": "3.8.13"
  }
 },
 "nbformat": 4,
 "nbformat_minor": 4
}
