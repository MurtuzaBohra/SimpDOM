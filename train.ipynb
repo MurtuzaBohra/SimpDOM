{
 "cells": [
  {
   "cell_type": "code",
   "execution_count": 1,
   "metadata": {},
   "outputs": [
    {
     "data": {
      "text/plain": [
       "'/Users/izapreev/Projects/SimpDOM'"
      ]
     },
     "execution_count": 1,
     "metadata": {},
     "output_type": "execute_result"
    }
   ],
   "source": [
    "import os\n",
    "os.getcwd()"
   ]
  },
  {
   "cell_type": "code",
   "execution_count": 2,
   "metadata": {},
   "outputs": [],
   "source": [
    "# Make sure the source code auto reloads into the kernel\n",
    "%load_ext autoreload\n",
    "%autoreload 2"
   ]
  },
  {
   "cell_type": "code",
   "execution_count": 3,
   "metadata": {},
   "outputs": [],
   "source": [
    "# To help preventing shared maemory errors\n",
    "!ulimit -n 500000\n",
    "import torch.multiprocessing\n",
    "torch.multiprocessing.set_sharing_strategy('file_system')"
   ]
  },
  {
   "cell_type": "code",
   "execution_count": 4,
   "metadata": {
    "scrolled": true
   },
   "outputs": [],
   "source": [
    "# Do the training and testing\n",
    "import random\n",
    "import pickle\n",
    "\n",
    "from Utils.logger import logger\n",
    "from train_and_eval import test_model\n",
    "from train_and_eval import train_model\n",
    "from train_and_eval import create_config\n",
    "\n",
    "# Set training and validation sites\n",
    "train_websites = ['auto-autoweb', 'auto-carquotes', 'auto-cars', 'auto-kbb', 'auto-motortrend', 'auto-msn']\n",
    "val_websites = ['auto-autobytel', 'auto-automotive', 'auto-aol']\n",
    "test_websites = ['auto-aol', 'auto-yahoo']\n",
    "\n",
    "# Define the data attributes of interest\n",
    "attributes = ['model', 'price', 'engine', 'fuel_economy']\n",
    "\n",
    "# Create the model config\n",
    "config = create_config(train_websites=train_websites, val_websites=val_websites, test_websites=test_websites, attributes=attributes)\n",
    "\n",
    "# Define the number of training epochs\n",
    "num_train_epochs = 10"
   ]
  },
  {
   "cell_type": "code",
   "execution_count": 5,
   "metadata": {},
   "outputs": [
    {
     "name": "stderr",
     "output_type": "stream",
     "text": [
      "09:07:55 INFO (942756449:1): Starting model training\n",
      "09:07:55 INFO (train_and_eval:67): Instantiating the Model checkpoint.\n",
      "09:07:55 INFO (train_and_eval:77): Instantiating the Sequential model\n",
      "09:07:55 INFO (SimpDOM_model:28): Instantiating the new model with config: {'out_dim': 5, 'train_websites': ['auto-autoweb', 'auto-carquotes', 'auto-cars', 'auto-kbb', 'auto-motortrend', 'auto-msn'], 'val_websites': ['auto-autobytel', 'auto-automotive', 'auto-aol'], 'test_websites': ['auto-aol', 'auto-yahoo'], 'datapath': './data', 'n_workers': 0, 'char_emb_dim': 16, 'char_hid_dim': 100, 'char_emb_dropout': 0.1, 'tag_emb_dim': 16, 'tag_hid_dim': 30, 'leaf_emb_dim': 30, 'pos_emb_dim': 20, 'attributes': ['model', 'price', 'engine', 'fuel_economy'], 'n_gpus': 0, 'class_weights': [1, 100, 100, 100, 100], 'char_dict_filename': './data/English_charDict.pkl', 'tag_dict_filename': './data/HTMLTagDict.pkl', 'word_emb_filename': './data/glove.6B.100d.txt'}\n",
      "09:07:55 INFO (SimpDOM_model:79): Loading ./data/English_charDict.pkl\n",
      "09:07:55 INFO (SimpDOM_model:81): Dictionary ./data/English_charDict.pkl length: 85\n",
      "09:07:55 INFO (SimpDOM_model:79): Loading ./data/HTMLTagDict.pkl\n",
      "09:07:55 INFO (SimpDOM_model:81): Dictionary ./data/HTMLTagDict.pkl length: 39\n",
      "09:07:55 INFO (pretrainedGloVe:9): Loading pretrained word emeddings from: ./data/glove.6B.100d.txt\n",
      "09:07:59 INFO (pretrainedGloVe:22): Loaded 400000 pretrained word vectors\n",
      "09:07:59 INFO (train_and_eval:80): Instantiating the Training object\n",
      "09:07:59 INFO (trainer:1751): GPU available: False, used: False\n",
      "09:07:59 INFO (trainer:1754): TPU available: False, using: 0 TPU cores\n",
      "09:07:59 INFO (trainer:1757): IPU available: False, using: 0 IPUs\n",
      "09:07:59 INFO (trainer:1760): HPU available: False, using: 0 HPUs\n",
      "09:07:59 INFO (train_and_eval:85): Fitting the model\n",
      "09:07:59 INFO (distributed:373): Initializing distributed: GLOBAL_RANK: 1, MEMBER: 2/10\n",
      "09:07:59 INFO (distributed:373): Initializing distributed: GLOBAL_RANK: 0, MEMBER: 1/10\n",
      "09:07:59 INFO (distributed:373): Initializing distributed: GLOBAL_RANK: 2, MEMBER: 3/10\n",
      "09:07:59 INFO (distributed:373): Initializing distributed: GLOBAL_RANK: 3, MEMBER: 4/10\n",
      "09:07:59 INFO (distributed:373): Initializing distributed: GLOBAL_RANK: 4, MEMBER: 5/10\n",
      "09:07:59 INFO (distributed:373): Initializing distributed: GLOBAL_RANK: 7, MEMBER: 8/10\n",
      "09:07:59 INFO (distributed:373): Initializing distributed: GLOBAL_RANK: 5, MEMBER: 6/10\n",
      "09:07:59 INFO (distributed:373): Initializing distributed: GLOBAL_RANK: 6, MEMBER: 7/10\n",
      "09:07:59 INFO (distributed:373): Initializing distributed: GLOBAL_RANK: 8, MEMBER: 9/10\n",
      "09:07:59 INFO (distributed:373): Initializing distributed: GLOBAL_RANK: 9, MEMBER: 10/10\n",
      "09:08:00 INFO (distributed_c10d:194): Added key: store_based_barrier_key:1 to store for rank: 0\n",
      "09:08:00 INFO (distributed_c10d:194): Added key: store_based_barrier_key:1 to store for rank: 2\n",
      "09:08:00 INFO (distributed_c10d:194): Added key: store_based_barrier_key:1 to store for rank: 1\n",
      "09:08:00 INFO (distributed_c10d:194): Added key: store_based_barrier_key:1 to store for rank: 3\n",
      "09:08:00 INFO (distributed_c10d:194): Added key: store_based_barrier_key:1 to store for rank: 4\n",
      "09:08:00 INFO (distributed_c10d:194): Added key: store_based_barrier_key:1 to store for rank: 5\n",
      "09:08:00 INFO (distributed_c10d:194): Added key: store_based_barrier_key:1 to store for rank: 6\n",
      "09:08:00 INFO (distributed_c10d:194): Added key: store_based_barrier_key:1 to store for rank: 7\n",
      "09:08:00 INFO (distributed_c10d:194): Added key: store_based_barrier_key:1 to store for rank: 8\n",
      "09:08:00 INFO (distributed_c10d:224): Rank 6: Completed store-based barrier for 10 nodes.\n",
      "09:08:00 INFO (distributed_c10d:194): Added key: store_based_barrier_key:1 to store for rank: 9\n",
      "09:08:00 INFO (distributed_c10d:224): Rank 7: Completed store-based barrier for 10 nodes.\n",
      "09:08:00 INFO (distributed_c10d:224): Rank 1: Completed store-based barrier for 10 nodes.\n",
      "09:08:00 INFO (distributed_c10d:224): Rank 3: Completed store-based barrier for 10 nodes.\n",
      "09:08:00 INFO (distributed_c10d:224): Rank 2: Completed store-based barrier for 10 nodes.\n",
      "09:08:00 INFO (distributed_c10d:224): Rank 9: Completed store-based barrier for 10 nodes.\n",
      "09:08:00 INFO (distributed_c10d:224): Rank 8: Completed store-based barrier for 10 nodes.\n",
      "09:08:00 INFO (distributed_c10d:224): Rank 0: Completed store-based barrier for 10 nodes.\n",
      "09:08:00 INFO (distributed_c10d:224): Rank 4: Completed store-based barrier for 10 nodes.\n",
      "09:08:00 INFO (distributed_c10d:224): Rank 5: Completed store-based barrier for 10 nodes.\n",
      "09:08:00 INFO (distributed:377): ----------------------------------------------------------------------------------------------------\n",
      "distributed_backend=gloo\n",
      "All distributed processes registered. Starting with 10 processes\n",
      "----------------------------------------------------------------------------------------------------\n",
      "\n",
      "09:08:00 INFO (model_summary:83): \n",
      "  | Name                    | Type             | Params\n",
      "-------------------------------------------------------------\n",
      "0 | charLevelWordEmbeddings | CharCNN          | 6.3 K \n",
      "1 | BiLSTM                  | BiLSTM           | 241 K \n",
      "2 | BiLSTM_xpath            | BiLSTM_xpath     | 12.2 K\n",
      "3 | Leaf_embedding          | Embedding        | 1.2 K \n",
      "4 | pos_embedding           | Embedding        | 2.0 K \n",
      "5 | classifier              | Sequential       | 46.1 K\n",
      "6 | loss                    | CrossEntropyLoss | 0     \n",
      "-------------------------------------------------------------\n",
      "309 K     Trainable params\n",
      "0         Non-trainable params\n",
      "309 K     Total params\n",
      "1.238     Total estimated model params size (MB)\n",
      "09:08:00 INFO (SimpDOM_model:176): Creating validation data loader for: ['auto-autobytel', 'auto-automotive', 'auto-aol']\n",
      "09:08:00 INFO (SimpDOM_model:176): Creating validation data loader for: ['auto-autobytel', 'auto-automotive', 'auto-aol']\n",
      "09:08:00 INFO (SimpDOM_model:176): Creating validation data loader for: ['auto-autobytel', 'auto-automotive', 'auto-aol']\n",
      "09:08:00 INFO (SimpDOM_model:176): Creating validation data loader for: ['auto-autobytel', 'auto-automotive', 'auto-aol']\n",
      "09:08:00 INFO (SimpDOM_model:176): Creating validation data loader for: ['auto-autobytel', 'auto-automotive', 'auto-aol']\n",
      "09:08:00 INFO (SimpDOM_model:176): Creating validation data loader for: ['auto-autobytel', 'auto-automotive', 'auto-aol']\n",
      "09:08:00 INFO (SimpDOM_model:176): Creating validation data loader for: ['auto-autobytel', 'auto-automotive', 'auto-aol']\n",
      "09:08:00 INFO (SimpDOM_model:176): Creating validation data loader for: ['auto-autobytel', 'auto-automotive', 'auto-aol']\n",
      "09:08:00 INFO (SimpDOM_model:176): Creating validation data loader for: ['auto-autobytel', 'auto-automotive', 'auto-aol']\n"
     ]
    },
    {
     "data": {
      "application/vnd.jupyter.widget-view+json": {
       "model_id": "fa17414548594787a151842df959c4a7",
       "version_major": 2,
       "version_minor": 0
      },
      "text/plain": [
       "Web sites:   0%|          | 0/3 [00:00<?, ?it/s]"
      ]
     },
     "metadata": {},
     "output_type": "display_data"
    },
    {
     "data": {
      "application/vnd.jupyter.widget-view+json": {
       "model_id": "7551d794866248baa7a6f643f709a90c",
       "version_major": 2,
       "version_minor": 0
      },
      "text/plain": [
       "Web sites:   0%|          | 0/3 [00:00<?, ?it/s]"
      ]
     },
     "metadata": {},
     "output_type": "display_data"
    },
    {
     "data": {
      "application/vnd.jupyter.widget-view+json": {
       "model_id": "7815296a5639496d9b8778891c1409a6",
       "version_major": 2,
       "version_minor": 0
      },
      "text/plain": [
       "Web sites:   0%|          | 0/3 [00:00<?, ?it/s]"
      ]
     },
     "metadata": {},
     "output_type": "display_data"
    },
    {
     "data": {
      "application/vnd.jupyter.widget-view+json": {
       "model_id": "e590226f279445e0ad0bde8a77138ac9",
       "version_major": 2,
       "version_minor": 0
      },
      "text/plain": [
       "Web sites:   0%|          | 0/3 [00:00<?, ?it/s]"
      ]
     },
     "metadata": {},
     "output_type": "display_data"
    },
    {
     "data": {
      "application/vnd.jupyter.widget-view+json": {
       "model_id": "5bf9e64e2ae648e99255366aff3d3f75",
       "version_major": 2,
       "version_minor": 0
      },
      "text/plain": [
       "Web sites:   0%|          | 0/3 [00:00<?, ?it/s]"
      ]
     },
     "metadata": {},
     "output_type": "display_data"
    },
    {
     "data": {
      "application/vnd.jupyter.widget-view+json": {
       "model_id": "6737ce50b5a24113a0feb520511a2092",
       "version_major": 2,
       "version_minor": 0
      },
      "text/plain": [
       "Web sites:   0%|          | 0/3 [00:00<?, ?it/s]"
      ]
     },
     "metadata": {},
     "output_type": "display_data"
    },
    {
     "data": {
      "application/vnd.jupyter.widget-view+json": {
       "model_id": "373684762be3439c8d4b4f9a57574202",
       "version_major": 2,
       "version_minor": 0
      },
      "text/plain": [
       "Web sites:   0%|          | 0/3 [00:00<?, ?it/s]"
      ]
     },
     "metadata": {},
     "output_type": "display_data"
    },
    {
     "data": {
      "application/vnd.jupyter.widget-view+json": {
       "model_id": "6d7980e7bee0431b897c29f7d06c7d85",
       "version_major": 2,
       "version_minor": 0
      },
      "text/plain": [
       "Web sites:   0%|          | 0/3 [00:00<?, ?it/s]"
      ]
     },
     "metadata": {},
     "output_type": "display_data"
    },
    {
     "data": {
      "application/vnd.jupyter.widget-view+json": {
       "model_id": "c2ae60fbaf544ae49a59094a26df61d9",
       "version_major": 2,
       "version_minor": 0
      },
      "text/plain": [
       "Web sites:   0%|          | 0/3 [00:00<?, ?it/s]"
      ]
     },
     "metadata": {},
     "output_type": "display_data"
    },
    {
     "data": {
      "application/vnd.jupyter.widget-view+json": {
       "model_id": "",
       "version_major": 2,
       "version_minor": 0
      },
      "text/plain": [
       "Sanity Checking: 0it [00:00, ?it/s]"
      ]
     },
     "metadata": {},
     "output_type": "display_data"
    },
    {
     "name": "stderr",
     "output_type": "stream",
     "text": [
      "09:08:00 INFO (SimpDOM_model:176): Creating validation data loader for: ['auto-autobytel', 'auto-automotive', 'auto-aol']\n"
     ]
    },
    {
     "data": {
      "application/vnd.jupyter.widget-view+json": {
       "model_id": "7173dd50ff634a6ea7970d55bf589a1f",
       "version_major": 2,
       "version_minor": 0
      },
      "text/plain": [
       "Web sites:   0%|          | 0/3 [00:00<?, ?it/s]"
      ]
     },
     "metadata": {},
     "output_type": "display_data"
    },
    {
     "data": {
      "application/vnd.jupyter.widget-view+json": {
       "model_id": "946fa1edd92943b3b30b9ecf242c626c",
       "version_major": 2,
       "version_minor": 0
      },
      "text/plain": [
       "Web pages for: \"auto-autobytel\":   0%|          | 0/200 [00:00<?, ?it/s]"
      ]
     },
     "metadata": {},
     "output_type": "display_data"
    },
    {
     "data": {
      "application/vnd.jupyter.widget-view+json": {
       "model_id": "f686c47877c14f7eb670be4e7f35f55a",
       "version_major": 2,
       "version_minor": 0
      },
      "text/plain": [
       "Web pages for: \"auto-autobytel\":   0%|          | 0/200 [00:00<?, ?it/s]"
      ]
     },
     "metadata": {},
     "output_type": "display_data"
    },
    {
     "data": {
      "application/vnd.jupyter.widget-view+json": {
       "model_id": "61310498e9f94125af09ca63f452acae",
       "version_major": 2,
       "version_minor": 0
      },
      "text/plain": [
       "Web pages for: \"auto-autobytel\":   0%|          | 0/200 [00:00<?, ?it/s]"
      ]
     },
     "metadata": {},
     "output_type": "display_data"
    },
    {
     "data": {
      "application/vnd.jupyter.widget-view+json": {
       "model_id": "a8066ebc229f421dbd5bca79a3980188",
       "version_major": 2,
       "version_minor": 0
      },
      "text/plain": [
       "Web pages for: \"auto-autobytel\":   0%|          | 0/200 [00:00<?, ?it/s]"
      ]
     },
     "metadata": {},
     "output_type": "display_data"
    },
    {
     "data": {
      "application/vnd.jupyter.widget-view+json": {
       "model_id": "20854c6a51b6490bb8e418afc6060c7e",
       "version_major": 2,
       "version_minor": 0
      },
      "text/plain": [
       "Web pages for: \"auto-autobytel\":   0%|          | 0/200 [00:00<?, ?it/s]"
      ]
     },
     "metadata": {},
     "output_type": "display_data"
    },
    {
     "data": {
      "application/vnd.jupyter.widget-view+json": {
       "model_id": "983a970d2cf947ab9e590745c04fe019",
       "version_major": 2,
       "version_minor": 0
      },
      "text/plain": [
       "Web pages for: \"auto-autobytel\":   0%|          | 0/200 [00:00<?, ?it/s]"
      ]
     },
     "metadata": {},
     "output_type": "display_data"
    },
    {
     "data": {
      "application/vnd.jupyter.widget-view+json": {
       "model_id": "3a1407bfbaf04ab6bc2122f22ad07d20",
       "version_major": 2,
       "version_minor": 0
      },
      "text/plain": [
       "Web pages for: \"auto-autobytel\":   0%|          | 0/200 [00:00<?, ?it/s]"
      ]
     },
     "metadata": {},
     "output_type": "display_data"
    },
    {
     "data": {
      "application/vnd.jupyter.widget-view+json": {
       "model_id": "60144669e14e4c7aa95de8d31aa767d4",
       "version_major": 2,
       "version_minor": 0
      },
      "text/plain": [
       "Web pages for: \"auto-autobytel\":   0%|          | 0/200 [00:00<?, ?it/s]"
      ]
     },
     "metadata": {},
     "output_type": "display_data"
    },
    {
     "data": {
      "application/vnd.jupyter.widget-view+json": {
       "model_id": "4c5277ab2a7c4798af0d1940c0a05734",
       "version_major": 2,
       "version_minor": 0
      },
      "text/plain": [
       "Web pages for: \"auto-autobytel\":   0%|          | 0/200 [00:00<?, ?it/s]"
      ]
     },
     "metadata": {},
     "output_type": "display_data"
    },
    {
     "data": {
      "application/vnd.jupyter.widget-view+json": {
       "model_id": "fd50a2df8ee447fa83dfea4ca2de6113",
       "version_major": 2,
       "version_minor": 0
      },
      "text/plain": [
       "Web pages for: \"auto-autobytel\":   0%|          | 0/200 [00:00<?, ?it/s]"
      ]
     },
     "metadata": {},
     "output_type": "display_data"
    },
    {
     "data": {
      "application/vnd.jupyter.widget-view+json": {
       "model_id": "266b42f3ca0c4aa79c8a92579e0adf8b",
       "version_major": 2,
       "version_minor": 0
      },
      "text/plain": [
       "Web pages for: \"auto-automotive\":   0%|          | 0/199 [00:00<?, ?it/s]"
      ]
     },
     "metadata": {},
     "output_type": "display_data"
    },
    {
     "data": {
      "application/vnd.jupyter.widget-view+json": {
       "model_id": "39e489c6dc8e4e7eba8e9c1bbfba657f",
       "version_major": 2,
       "version_minor": 0
      },
      "text/plain": [
       "Web pages for: \"auto-automotive\":   0%|          | 0/199 [00:00<?, ?it/s]"
      ]
     },
     "metadata": {},
     "output_type": "display_data"
    },
    {
     "data": {
      "application/vnd.jupyter.widget-view+json": {
       "model_id": "adddd562d00842aeb835eea3ffe7af59",
       "version_major": 2,
       "version_minor": 0
      },
      "text/plain": [
       "Web pages for: \"auto-automotive\":   0%|          | 0/199 [00:00<?, ?it/s]"
      ]
     },
     "metadata": {},
     "output_type": "display_data"
    },
    {
     "data": {
      "application/vnd.jupyter.widget-view+json": {
       "model_id": "d0b6beafed734a46a2756ff241c4c2f2",
       "version_major": 2,
       "version_minor": 0
      },
      "text/plain": [
       "Web pages for: \"auto-automotive\":   0%|          | 0/199 [00:00<?, ?it/s]"
      ]
     },
     "metadata": {},
     "output_type": "display_data"
    },
    {
     "data": {
      "application/vnd.jupyter.widget-view+json": {
       "model_id": "75599fe520e245f3b932d09927e92b6f",
       "version_major": 2,
       "version_minor": 0
      },
      "text/plain": [
       "Web pages for: \"auto-automotive\":   0%|          | 0/199 [00:00<?, ?it/s]"
      ]
     },
     "metadata": {},
     "output_type": "display_data"
    },
    {
     "data": {
      "application/vnd.jupyter.widget-view+json": {
       "model_id": "7423edc37d734c398b025c15a50c3e84",
       "version_major": 2,
       "version_minor": 0
      },
      "text/plain": [
       "Web pages for: \"auto-automotive\":   0%|          | 0/199 [00:00<?, ?it/s]"
      ]
     },
     "metadata": {},
     "output_type": "display_data"
    },
    {
     "data": {
      "application/vnd.jupyter.widget-view+json": {
       "model_id": "675f93a526be4f8bb585c44d7e739bfd",
       "version_major": 2,
       "version_minor": 0
      },
      "text/plain": [
       "Web pages for: \"auto-automotive\":   0%|          | 0/199 [00:00<?, ?it/s]"
      ]
     },
     "metadata": {},
     "output_type": "display_data"
    },
    {
     "data": {
      "application/vnd.jupyter.widget-view+json": {
       "model_id": "e8f9f6ec10c249e7bd921462f6bdc071",
       "version_major": 2,
       "version_minor": 0
      },
      "text/plain": [
       "Web pages for: \"auto-automotive\":   0%|          | 0/199 [00:00<?, ?it/s]"
      ]
     },
     "metadata": {},
     "output_type": "display_data"
    },
    {
     "data": {
      "application/vnd.jupyter.widget-view+json": {
       "model_id": "baa6e3fa12f44ddb8348ea655e4430dd",
       "version_major": 2,
       "version_minor": 0
      },
      "text/plain": [
       "Web pages for: \"auto-automotive\":   0%|          | 0/199 [00:00<?, ?it/s]"
      ]
     },
     "metadata": {},
     "output_type": "display_data"
    },
    {
     "data": {
      "application/vnd.jupyter.widget-view+json": {
       "model_id": "45609a1cc6254fdf9c20f102f3661792",
       "version_major": 2,
       "version_minor": 0
      },
      "text/plain": [
       "Web pages for: \"auto-automotive\":   0%|          | 0/199 [00:00<?, ?it/s]"
      ]
     },
     "metadata": {},
     "output_type": "display_data"
    },
    {
     "data": {
      "application/vnd.jupyter.widget-view+json": {
       "model_id": "21231f22898d46fab5af016b11d26bab",
       "version_major": 2,
       "version_minor": 0
      },
      "text/plain": [
       "Web pages for: \"auto-aol\":   0%|          | 0/200 [00:00<?, ?it/s]"
      ]
     },
     "metadata": {},
     "output_type": "display_data"
    },
    {
     "data": {
      "application/vnd.jupyter.widget-view+json": {
       "model_id": "7ce7d64634a644b8a978b0e847608790",
       "version_major": 2,
       "version_minor": 0
      },
      "text/plain": [
       "Web pages for: \"auto-aol\":   0%|          | 0/200 [00:00<?, ?it/s]"
      ]
     },
     "metadata": {},
     "output_type": "display_data"
    },
    {
     "data": {
      "application/vnd.jupyter.widget-view+json": {
       "model_id": "390152d156c94a33aedfefd2135af69f",
       "version_major": 2,
       "version_minor": 0
      },
      "text/plain": [
       "Web pages for: \"auto-aol\":   0%|          | 0/200 [00:00<?, ?it/s]"
      ]
     },
     "metadata": {},
     "output_type": "display_data"
    },
    {
     "data": {
      "application/vnd.jupyter.widget-view+json": {
       "model_id": "187fcbf8c19c4fa3ac9e5c3e6876018f",
       "version_major": 2,
       "version_minor": 0
      },
      "text/plain": [
       "Web pages for: \"auto-aol\":   0%|          | 0/200 [00:00<?, ?it/s]"
      ]
     },
     "metadata": {},
     "output_type": "display_data"
    },
    {
     "data": {
      "application/vnd.jupyter.widget-view+json": {
       "model_id": "39e3d55b2ebf41cc9b63b602c60320f8",
       "version_major": 2,
       "version_minor": 0
      },
      "text/plain": [
       "Web pages for: \"auto-aol\":   0%|          | 0/200 [00:00<?, ?it/s]"
      ]
     },
     "metadata": {},
     "output_type": "display_data"
    },
    {
     "data": {
      "application/vnd.jupyter.widget-view+json": {
       "model_id": "b27de1188b034e568a7add0b0fbd0bdd",
       "version_major": 2,
       "version_minor": 0
      },
      "text/plain": [
       "Web pages for: \"auto-aol\":   0%|          | 0/200 [00:00<?, ?it/s]"
      ]
     },
     "metadata": {},
     "output_type": "display_data"
    },
    {
     "data": {
      "application/vnd.jupyter.widget-view+json": {
       "model_id": "2d288753a8464ff393a2ce37336d820e",
       "version_major": 2,
       "version_minor": 0
      },
      "text/plain": [
       "Web pages for: \"auto-aol\":   0%|          | 0/200 [00:00<?, ?it/s]"
      ]
     },
     "metadata": {},
     "output_type": "display_data"
    },
    {
     "data": {
      "application/vnd.jupyter.widget-view+json": {
       "model_id": "cb62ccef47534b6a81534ecc579f1a7f",
       "version_major": 2,
       "version_minor": 0
      },
      "text/plain": [
       "Web pages for: \"auto-aol\":   0%|          | 0/200 [00:00<?, ?it/s]"
      ]
     },
     "metadata": {},
     "output_type": "display_data"
    },
    {
     "data": {
      "application/vnd.jupyter.widget-view+json": {
       "model_id": "41b07fea69dc48dda8a4d01aacdc8aac",
       "version_major": 2,
       "version_minor": 0
      },
      "text/plain": [
       "Web pages for: \"auto-aol\":   0%|          | 0/200 [00:00<?, ?it/s]"
      ]
     },
     "metadata": {},
     "output_type": "display_data"
    },
    {
     "data": {
      "application/vnd.jupyter.widget-view+json": {
       "model_id": "a3f4514f3c51437099fa962da98bcae0",
       "version_major": 2,
       "version_minor": 0
      },
      "text/plain": [
       "Web pages for: \"auto-aol\":   0%|          | 0/200 [00:00<?, ?it/s]"
      ]
     },
     "metadata": {},
     "output_type": "display_data"
    },
    {
     "name": "stderr",
     "output_type": "stream",
     "text": [
      "09:08:15 INFO (swde_dataLoader:174): SWDE data loader has loaded: 45505 nodes from: ['auto-autobytel', 'auto-automotive', 'auto-aol']\n",
      "09:08:15 INFO (swde_dataLoader:174): SWDE data loader has loaded: 45686 nodes from: ['auto-autobytel', 'auto-automotive', 'auto-aol']\n",
      "09:08:15 INFO (swde_dataLoader:174): SWDE data loader has loaded: 45247 nodes from: ['auto-autobytel', 'auto-automotive', 'auto-aol']\n",
      "09:08:15 INFO (swde_dataLoader:174): SWDE data loader has loaded: 45085 nodes from: ['auto-autobytel', 'auto-automotive', 'auto-aol']\n",
      "09:08:15 INFO (swde_dataLoader:174): SWDE data loader has loaded: 45462 nodes from: ['auto-autobytel', 'auto-automotive', 'auto-aol']\n",
      "09:08:15 INFO (swde_dataLoader:174): SWDE data loader has loaded: 45787 nodes from: ['auto-autobytel', 'auto-automotive', 'auto-aol']\n",
      "09:08:15 INFO (swde_dataLoader:174): SWDE data loader has loaded: 45183 nodes from: ['auto-autobytel', 'auto-automotive', 'auto-aol']\n",
      "09:08:15 INFO (swde_dataLoader:174): SWDE data loader has loaded: 45693 nodes from: ['auto-autobytel', 'auto-automotive', 'auto-aol']\n",
      "09:08:15 INFO (swde_dataLoader:174): SWDE data loader has loaded: 44920 nodes from: ['auto-autobytel', 'auto-automotive', 'auto-aol']\n",
      "09:08:15 INFO (swde_dataLoader:174): SWDE data loader has loaded: 44865 nodes from: ['auto-autobytel', 'auto-automotive', 'auto-aol']\n",
      "/Users/izapreev/miniforge3/envs/tfm/lib/python3.8/site-packages/pytorch_lightning/trainer/connectors/data_connector.py:229: UserWarning: strategy=ddp_spawn and num_workers=0 may result in data loading bottlenecks. Consider setting num_workers>0 and persistent_workers=True\n",
      "  rank_zero_warn(\n",
      "09:08:15 INFO (SimpDOM_model:162): Mean validation loss: 1.665616512298584\n",
      "09:08:15 INFO (SimpDOM_model:162): Mean validation loss: 1.6735426187515259\n",
      "09:08:15 INFO (SimpDOM_model:162): Mean validation loss: 1.677498459815979\n",
      "09:08:15 INFO (SimpDOM_model:162): Mean validation loss: 1.6535967588424683\n",
      "09:08:15 INFO (SimpDOM_model:162): Mean validation loss: 1.664393663406372\n",
      "09:08:15 INFO (SimpDOM_model:162): Mean validation loss: 1.7297204732894897\n",
      "09:08:15 INFO (SimpDOM_model:162): Mean validation loss: 1.7092711925506592\n",
      "09:08:15 INFO (SimpDOM_model:162): Mean validation loss: 1.6723077297210693\n",
      "09:08:15 INFO (SimpDOM_model:162): Mean validation loss: 1.7304282188415527\n",
      "09:08:15 INFO (SimpDOM_model:162): Mean validation loss: 1.621970534324646\n",
      "09:08:15 INFO (SimpDOM_model:170): Creating training data loader for: ['auto-autoweb', 'auto-carquotes', 'auto-cars', 'auto-kbb', 'auto-motortrend', 'auto-msn']\n",
      "09:08:15 INFO (SimpDOM_model:170): Creating training data loader for: ['auto-autoweb', 'auto-carquotes', 'auto-cars', 'auto-kbb', 'auto-motortrend', 'auto-msn']\n",
      "09:08:15 INFO (SimpDOM_model:170): Creating training data loader for: ['auto-autoweb', 'auto-carquotes', 'auto-cars', 'auto-kbb', 'auto-motortrend', 'auto-msn']\n",
      "09:08:15 INFO (SimpDOM_model:170): Creating training data loader for: ['auto-autoweb', 'auto-carquotes', 'auto-cars', 'auto-kbb', 'auto-motortrend', 'auto-msn']\n",
      "09:08:15 INFO (SimpDOM_model:170): Creating training data loader for: ['auto-autoweb', 'auto-carquotes', 'auto-cars', 'auto-kbb', 'auto-motortrend', 'auto-msn']\n",
      "09:08:15 INFO (SimpDOM_model:170): Creating training data loader for: ['auto-autoweb', 'auto-carquotes', 'auto-cars', 'auto-kbb', 'auto-motortrend', 'auto-msn']\n",
      "09:08:15 INFO (SimpDOM_model:170): Creating training data loader for: ['auto-autoweb', 'auto-carquotes', 'auto-cars', 'auto-kbb', 'auto-motortrend', 'auto-msn']\n",
      "09:08:15 INFO (SimpDOM_model:170): Creating training data loader for: ['auto-autoweb', 'auto-carquotes', 'auto-cars', 'auto-kbb', 'auto-motortrend', 'auto-msn']\n",
      "09:08:15 INFO (SimpDOM_model:170): Creating training data loader for: ['auto-autoweb', 'auto-carquotes', 'auto-cars', 'auto-kbb', 'auto-motortrend', 'auto-msn']\n",
      "09:08:15 INFO (SimpDOM_model:170): Creating training data loader for: ['auto-autoweb', 'auto-carquotes', 'auto-cars', 'auto-kbb', 'auto-motortrend', 'auto-msn']\n"
     ]
    },
    {
     "data": {
      "application/vnd.jupyter.widget-view+json": {
       "model_id": "42956a618470450da3ab3805e3424479",
       "version_major": 2,
       "version_minor": 0
      },
      "text/plain": [
       "Web sites:   0%|          | 0/6 [00:00<?, ?it/s]"
      ]
     },
     "metadata": {},
     "output_type": "display_data"
    },
    {
     "data": {
      "application/vnd.jupyter.widget-view+json": {
       "model_id": "399a8e885c074f1f98a3ba238cce5097",
       "version_major": 2,
       "version_minor": 0
      },
      "text/plain": [
       "Web sites:   0%|          | 0/6 [00:00<?, ?it/s]"
      ]
     },
     "metadata": {},
     "output_type": "display_data"
    },
    {
     "data": {
      "application/vnd.jupyter.widget-view+json": {
       "model_id": "e4dc7d9ebf424595af486d8fd4c99600",
       "version_major": 2,
       "version_minor": 0
      },
      "text/plain": [
       "Web sites:   0%|          | 0/6 [00:00<?, ?it/s]"
      ]
     },
     "metadata": {},
     "output_type": "display_data"
    },
    {
     "data": {
      "application/vnd.jupyter.widget-view+json": {
       "model_id": "5b908f67f1ab4121b91ccebab5a6e767",
       "version_major": 2,
       "version_minor": 0
      },
      "text/plain": [
       "Web sites:   0%|          | 0/6 [00:00<?, ?it/s]"
      ]
     },
     "metadata": {},
     "output_type": "display_data"
    },
    {
     "data": {
      "application/vnd.jupyter.widget-view+json": {
       "model_id": "ee6fcddfeb304abb945c3f5f3fc350db",
       "version_major": 2,
       "version_minor": 0
      },
      "text/plain": [
       "Web sites:   0%|          | 0/6 [00:00<?, ?it/s]"
      ]
     },
     "metadata": {},
     "output_type": "display_data"
    },
    {
     "data": {
      "application/vnd.jupyter.widget-view+json": {
       "model_id": "de262f17ec9b46859ab3db33ca30fb57",
       "version_major": 2,
       "version_minor": 0
      },
      "text/plain": [
       "Web sites:   0%|          | 0/6 [00:00<?, ?it/s]"
      ]
     },
     "metadata": {},
     "output_type": "display_data"
    },
    {
     "data": {
      "application/vnd.jupyter.widget-view+json": {
       "model_id": "8d0e7e2a09c84b3cb66fe1378901df19",
       "version_major": 2,
       "version_minor": 0
      },
      "text/plain": [
       "Web sites:   0%|          | 0/6 [00:00<?, ?it/s]"
      ]
     },
     "metadata": {},
     "output_type": "display_data"
    },
    {
     "data": {
      "application/vnd.jupyter.widget-view+json": {
       "model_id": "43a59e2e658d4be1bd6cf4da0df64017",
       "version_major": 2,
       "version_minor": 0
      },
      "text/plain": [
       "Web sites:   0%|          | 0/6 [00:00<?, ?it/s]"
      ]
     },
     "metadata": {},
     "output_type": "display_data"
    },
    {
     "data": {
      "application/vnd.jupyter.widget-view+json": {
       "model_id": "ba65453f3d3c429fac996c804cc2ab2e",
       "version_major": 2,
       "version_minor": 0
      },
      "text/plain": [
       "Web sites:   0%|          | 0/6 [00:00<?, ?it/s]"
      ]
     },
     "metadata": {},
     "output_type": "display_data"
    },
    {
     "data": {
      "application/vnd.jupyter.widget-view+json": {
       "model_id": "118636afe1ab4130b401e25880a5bb68",
       "version_major": 2,
       "version_minor": 0
      },
      "text/plain": [
       "Web sites:   0%|          | 0/6 [00:00<?, ?it/s]"
      ]
     },
     "metadata": {},
     "output_type": "display_data"
    },
    {
     "data": {
      "application/vnd.jupyter.widget-view+json": {
       "model_id": "f5ebd778c5af4cec80b1a58a00abb094",
       "version_major": 2,
       "version_minor": 0
      },
      "text/plain": [
       "Web pages for: \"auto-autoweb\":   0%|          | 0/2000 [00:00<?, ?it/s]"
      ]
     },
     "metadata": {},
     "output_type": "display_data"
    },
    {
     "data": {
      "application/vnd.jupyter.widget-view+json": {
       "model_id": "a49998b52e6e4077af3b77794bec4a66",
       "version_major": 2,
       "version_minor": 0
      },
      "text/plain": [
       "Web pages for: \"auto-autoweb\":   0%|          | 0/2000 [00:00<?, ?it/s]"
      ]
     },
     "metadata": {},
     "output_type": "display_data"
    },
    {
     "data": {
      "application/vnd.jupyter.widget-view+json": {
       "model_id": "d82cd817e80e492786174c90e96fb951",
       "version_major": 2,
       "version_minor": 0
      },
      "text/plain": [
       "Web pages for: \"auto-autoweb\":   0%|          | 0/2000 [00:00<?, ?it/s]"
      ]
     },
     "metadata": {},
     "output_type": "display_data"
    },
    {
     "data": {
      "application/vnd.jupyter.widget-view+json": {
       "model_id": "9c048de9fa8b480dafc51444efe35e7f",
       "version_major": 2,
       "version_minor": 0
      },
      "text/plain": [
       "Web pages for: \"auto-autoweb\":   0%|          | 0/2000 [00:00<?, ?it/s]"
      ]
     },
     "metadata": {},
     "output_type": "display_data"
    },
    {
     "data": {
      "application/vnd.jupyter.widget-view+json": {
       "model_id": "d96288e2ed4647cfa4670a412928b091",
       "version_major": 2,
       "version_minor": 0
      },
      "text/plain": [
       "Web pages for: \"auto-autoweb\":   0%|          | 0/2000 [00:00<?, ?it/s]"
      ]
     },
     "metadata": {},
     "output_type": "display_data"
    },
    {
     "data": {
      "application/vnd.jupyter.widget-view+json": {
       "model_id": "bc5673e8b8ec4f3fa99f881efd1cb93c",
       "version_major": 2,
       "version_minor": 0
      },
      "text/plain": [
       "Web pages for: \"auto-autoweb\":   0%|          | 0/2000 [00:00<?, ?it/s]"
      ]
     },
     "metadata": {},
     "output_type": "display_data"
    },
    {
     "data": {
      "application/vnd.jupyter.widget-view+json": {
       "model_id": "fa710703f2d043b3a680d07462c8f807",
       "version_major": 2,
       "version_minor": 0
      },
      "text/plain": [
       "Web pages for: \"auto-autoweb\":   0%|          | 0/2000 [00:00<?, ?it/s]"
      ]
     },
     "metadata": {},
     "output_type": "display_data"
    },
    {
     "data": {
      "application/vnd.jupyter.widget-view+json": {
       "model_id": "60f0c23d7662477bb4ec70123bcfe1ef",
       "version_major": 2,
       "version_minor": 0
      },
      "text/plain": [
       "Web pages for: \"auto-autoweb\":   0%|          | 0/2000 [00:00<?, ?it/s]"
      ]
     },
     "metadata": {},
     "output_type": "display_data"
    },
    {
     "data": {
      "application/vnd.jupyter.widget-view+json": {
       "model_id": "124bc09c4fdb4b3eade665258e78fc3a",
       "version_major": 2,
       "version_minor": 0
      },
      "text/plain": [
       "Web pages for: \"auto-autoweb\":   0%|          | 0/2000 [00:00<?, ?it/s]"
      ]
     },
     "metadata": {},
     "output_type": "display_data"
    },
    {
     "data": {
      "application/vnd.jupyter.widget-view+json": {
       "model_id": "65abdfac9cb544c1adbe8b8f7dc3955c",
       "version_major": 2,
       "version_minor": 0
      },
      "text/plain": [
       "Web pages for: \"auto-autoweb\":   0%|          | 0/2000 [00:00<?, ?it/s]"
      ]
     },
     "metadata": {},
     "output_type": "display_data"
    },
    {
     "data": {
      "application/vnd.jupyter.widget-view+json": {
       "model_id": "d0ee4d47757d43aea2f4c1194fb53023",
       "version_major": 2,
       "version_minor": 0
      },
      "text/plain": [
       "Web pages for: \"auto-carquotes\":   0%|          | 0/2000 [00:00<?, ?it/s]"
      ]
     },
     "metadata": {},
     "output_type": "display_data"
    },
    {
     "data": {
      "application/vnd.jupyter.widget-view+json": {
       "model_id": "97a0f6b998db4703be2ba8974a7f17c4",
       "version_major": 2,
       "version_minor": 0
      },
      "text/plain": [
       "Web pages for: \"auto-carquotes\":   0%|          | 0/2000 [00:00<?, ?it/s]"
      ]
     },
     "metadata": {},
     "output_type": "display_data"
    },
    {
     "data": {
      "application/vnd.jupyter.widget-view+json": {
       "model_id": "8e40486cd168441eaeeafdda60f50f53",
       "version_major": 2,
       "version_minor": 0
      },
      "text/plain": [
       "Web pages for: \"auto-carquotes\":   0%|          | 0/2000 [00:00<?, ?it/s]"
      ]
     },
     "metadata": {},
     "output_type": "display_data"
    },
    {
     "data": {
      "application/vnd.jupyter.widget-view+json": {
       "model_id": "1e236e6b82db49c5bcd40ed1738e7c54",
       "version_major": 2,
       "version_minor": 0
      },
      "text/plain": [
       "Web pages for: \"auto-carquotes\":   0%|          | 0/2000 [00:00<?, ?it/s]"
      ]
     },
     "metadata": {},
     "output_type": "display_data"
    },
    {
     "data": {
      "application/vnd.jupyter.widget-view+json": {
       "model_id": "874fc02c0cd04c778032ce391c993444",
       "version_major": 2,
       "version_minor": 0
      },
      "text/plain": [
       "Web pages for: \"auto-carquotes\":   0%|          | 0/2000 [00:00<?, ?it/s]"
      ]
     },
     "metadata": {},
     "output_type": "display_data"
    },
    {
     "data": {
      "application/vnd.jupyter.widget-view+json": {
       "model_id": "284873b954874a68ba4f18bfbf290e92",
       "version_major": 2,
       "version_minor": 0
      },
      "text/plain": [
       "Web pages for: \"auto-carquotes\":   0%|          | 0/2000 [00:00<?, ?it/s]"
      ]
     },
     "metadata": {},
     "output_type": "display_data"
    },
    {
     "data": {
      "application/vnd.jupyter.widget-view+json": {
       "model_id": "55fc8fcc320a473cb46e23a6b7997fb7",
       "version_major": 2,
       "version_minor": 0
      },
      "text/plain": [
       "Web pages for: \"auto-carquotes\":   0%|          | 0/2000 [00:00<?, ?it/s]"
      ]
     },
     "metadata": {},
     "output_type": "display_data"
    },
    {
     "data": {
      "application/vnd.jupyter.widget-view+json": {
       "model_id": "23541546ae2d4bc4b6eb0e40f6e60b50",
       "version_major": 2,
       "version_minor": 0
      },
      "text/plain": [
       "Web pages for: \"auto-carquotes\":   0%|          | 0/2000 [00:00<?, ?it/s]"
      ]
     },
     "metadata": {},
     "output_type": "display_data"
    },
    {
     "data": {
      "application/vnd.jupyter.widget-view+json": {
       "model_id": "10151ecccb9b43e9bc99623485b9c055",
       "version_major": 2,
       "version_minor": 0
      },
      "text/plain": [
       "Web pages for: \"auto-carquotes\":   0%|          | 0/2000 [00:00<?, ?it/s]"
      ]
     },
     "metadata": {},
     "output_type": "display_data"
    },
    {
     "data": {
      "application/vnd.jupyter.widget-view+json": {
       "model_id": "d78e4f90d0424241a680b17d894f6f27",
       "version_major": 2,
       "version_minor": 0
      },
      "text/plain": [
       "Web pages for: \"auto-carquotes\":   0%|          | 0/2000 [00:00<?, ?it/s]"
      ]
     },
     "metadata": {},
     "output_type": "display_data"
    },
    {
     "data": {
      "application/vnd.jupyter.widget-view+json": {
       "model_id": "dbf7069e49a8456f8098e9e111988760",
       "version_major": 2,
       "version_minor": 0
      },
      "text/plain": [
       "Web pages for: \"auto-cars\":   0%|          | 0/657 [00:00<?, ?it/s]"
      ]
     },
     "metadata": {},
     "output_type": "display_data"
    },
    {
     "data": {
      "application/vnd.jupyter.widget-view+json": {
       "model_id": "f00b4c4f477e4fcbaa81fab4952964fd",
       "version_major": 2,
       "version_minor": 0
      },
      "text/plain": [
       "Web pages for: \"auto-cars\":   0%|          | 0/657 [00:00<?, ?it/s]"
      ]
     },
     "metadata": {},
     "output_type": "display_data"
    },
    {
     "data": {
      "application/vnd.jupyter.widget-view+json": {
       "model_id": "a93b7c2e353d4feca15a31f6961b405e",
       "version_major": 2,
       "version_minor": 0
      },
      "text/plain": [
       "Web pages for: \"auto-cars\":   0%|          | 0/657 [00:00<?, ?it/s]"
      ]
     },
     "metadata": {},
     "output_type": "display_data"
    },
    {
     "data": {
      "application/vnd.jupyter.widget-view+json": {
       "model_id": "f3f6c962ca5d44ff9cb6b0ec30d3648b",
       "version_major": 2,
       "version_minor": 0
      },
      "text/plain": [
       "Web pages for: \"auto-cars\":   0%|          | 0/657 [00:00<?, ?it/s]"
      ]
     },
     "metadata": {},
     "output_type": "display_data"
    },
    {
     "data": {
      "application/vnd.jupyter.widget-view+json": {
       "model_id": "449cebec85e749e081d5b8de6cf259e7",
       "version_major": 2,
       "version_minor": 0
      },
      "text/plain": [
       "Web pages for: \"auto-cars\":   0%|          | 0/657 [00:00<?, ?it/s]"
      ]
     },
     "metadata": {},
     "output_type": "display_data"
    },
    {
     "data": {
      "application/vnd.jupyter.widget-view+json": {
       "model_id": "53b58a3d1f164a718faaf388c24b2162",
       "version_major": 2,
       "version_minor": 0
      },
      "text/plain": [
       "Web pages for: \"auto-cars\":   0%|          | 0/657 [00:00<?, ?it/s]"
      ]
     },
     "metadata": {},
     "output_type": "display_data"
    },
    {
     "data": {
      "application/vnd.jupyter.widget-view+json": {
       "model_id": "1d5c47e7b8904c509d98b18a47bca20d",
       "version_major": 2,
       "version_minor": 0
      },
      "text/plain": [
       "Web pages for: \"auto-cars\":   0%|          | 0/657 [00:00<?, ?it/s]"
      ]
     },
     "metadata": {},
     "output_type": "display_data"
    },
    {
     "data": {
      "application/vnd.jupyter.widget-view+json": {
       "model_id": "9dc2e753033c442fb0317179e8a96789",
       "version_major": 2,
       "version_minor": 0
      },
      "text/plain": [
       "Web pages for: \"auto-cars\":   0%|          | 0/657 [00:00<?, ?it/s]"
      ]
     },
     "metadata": {},
     "output_type": "display_data"
    },
    {
     "data": {
      "application/vnd.jupyter.widget-view+json": {
       "model_id": "96c9325196b542e8ac06e0c2954ee0a0",
       "version_major": 2,
       "version_minor": 0
      },
      "text/plain": [
       "Web pages for: \"auto-cars\":   0%|          | 0/657 [00:00<?, ?it/s]"
      ]
     },
     "metadata": {},
     "output_type": "display_data"
    },
    {
     "data": {
      "application/vnd.jupyter.widget-view+json": {
       "model_id": "44f3df5d633047c1a2259da2f0559a9d",
       "version_major": 2,
       "version_minor": 0
      },
      "text/plain": [
       "Web pages for: \"auto-cars\":   0%|          | 0/657 [00:00<?, ?it/s]"
      ]
     },
     "metadata": {},
     "output_type": "display_data"
    },
    {
     "data": {
      "application/vnd.jupyter.widget-view+json": {
       "model_id": "e24034004e774131b9630245782c4f4b",
       "version_major": 2,
       "version_minor": 0
      },
      "text/plain": [
       "Web pages for: \"auto-kbb\":   0%|          | 0/2000 [00:00<?, ?it/s]"
      ]
     },
     "metadata": {},
     "output_type": "display_data"
    },
    {
     "data": {
      "application/vnd.jupyter.widget-view+json": {
       "model_id": "4c54efd86a96420ab2abecd0eec7572f",
       "version_major": 2,
       "version_minor": 0
      },
      "text/plain": [
       "Web pages for: \"auto-kbb\":   0%|          | 0/2000 [00:00<?, ?it/s]"
      ]
     },
     "metadata": {},
     "output_type": "display_data"
    },
    {
     "data": {
      "application/vnd.jupyter.widget-view+json": {
       "model_id": "f1f560cf32c64937a1d9c06728024f88",
       "version_major": 2,
       "version_minor": 0
      },
      "text/plain": [
       "Web pages for: \"auto-kbb\":   0%|          | 0/2000 [00:00<?, ?it/s]"
      ]
     },
     "metadata": {},
     "output_type": "display_data"
    },
    {
     "data": {
      "application/vnd.jupyter.widget-view+json": {
       "model_id": "1ece8afb9d544a53bd1fdae04398110d",
       "version_major": 2,
       "version_minor": 0
      },
      "text/plain": [
       "Web pages for: \"auto-kbb\":   0%|          | 0/2000 [00:00<?, ?it/s]"
      ]
     },
     "metadata": {},
     "output_type": "display_data"
    },
    {
     "data": {
      "application/vnd.jupyter.widget-view+json": {
       "model_id": "a1728adb88e14dfeb2ca1ca5416c5f5b",
       "version_major": 2,
       "version_minor": 0
      },
      "text/plain": [
       "Web pages for: \"auto-kbb\":   0%|          | 0/2000 [00:00<?, ?it/s]"
      ]
     },
     "metadata": {},
     "output_type": "display_data"
    },
    {
     "data": {
      "application/vnd.jupyter.widget-view+json": {
       "model_id": "1ca8b3c95b274d2288dd6cb7809567b6",
       "version_major": 2,
       "version_minor": 0
      },
      "text/plain": [
       "Web pages for: \"auto-kbb\":   0%|          | 0/2000 [00:00<?, ?it/s]"
      ]
     },
     "metadata": {},
     "output_type": "display_data"
    },
    {
     "data": {
      "application/vnd.jupyter.widget-view+json": {
       "model_id": "186e63f61adc49258df99bc97cde54ed",
       "version_major": 2,
       "version_minor": 0
      },
      "text/plain": [
       "Web pages for: \"auto-kbb\":   0%|          | 0/2000 [00:00<?, ?it/s]"
      ]
     },
     "metadata": {},
     "output_type": "display_data"
    },
    {
     "data": {
      "application/vnd.jupyter.widget-view+json": {
       "model_id": "332e7db5d02f481c8a71182c32404dee",
       "version_major": 2,
       "version_minor": 0
      },
      "text/plain": [
       "Web pages for: \"auto-kbb\":   0%|          | 0/2000 [00:00<?, ?it/s]"
      ]
     },
     "metadata": {},
     "output_type": "display_data"
    },
    {
     "data": {
      "application/vnd.jupyter.widget-view+json": {
       "model_id": "9abab4ea994049daa9b143d67582825d",
       "version_major": 2,
       "version_minor": 0
      },
      "text/plain": [
       "Web pages for: \"auto-kbb\":   0%|          | 0/2000 [00:00<?, ?it/s]"
      ]
     },
     "metadata": {},
     "output_type": "display_data"
    },
    {
     "data": {
      "application/vnd.jupyter.widget-view+json": {
       "model_id": "84dca8f37a3e4cfea1abef61e5ce7c37",
       "version_major": 2,
       "version_minor": 0
      },
      "text/plain": [
       "Web pages for: \"auto-kbb\":   0%|          | 0/2000 [00:00<?, ?it/s]"
      ]
     },
     "metadata": {},
     "output_type": "display_data"
    },
    {
     "data": {
      "application/vnd.jupyter.widget-view+json": {
       "model_id": "839c73b85516486b9869b7ed348fac16",
       "version_major": 2,
       "version_minor": 0
      },
      "text/plain": [
       "Web pages for: \"auto-motortrend\":   0%|          | 0/1267 [00:00<?, ?it/s]"
      ]
     },
     "metadata": {},
     "output_type": "display_data"
    },
    {
     "data": {
      "application/vnd.jupyter.widget-view+json": {
       "model_id": "643aefcc9e6942ec83473e7c81f6631d",
       "version_major": 2,
       "version_minor": 0
      },
      "text/plain": [
       "Web pages for: \"auto-motortrend\":   0%|          | 0/1267 [00:00<?, ?it/s]"
      ]
     },
     "metadata": {},
     "output_type": "display_data"
    },
    {
     "data": {
      "application/vnd.jupyter.widget-view+json": {
       "model_id": "9c4792125d9b482b888f093f49a83742",
       "version_major": 2,
       "version_minor": 0
      },
      "text/plain": [
       "Web pages for: \"auto-motortrend\":   0%|          | 0/1267 [00:00<?, ?it/s]"
      ]
     },
     "metadata": {},
     "output_type": "display_data"
    },
    {
     "data": {
      "application/vnd.jupyter.widget-view+json": {
       "model_id": "01ef2d23cf1c4021b369ff02bfe3289b",
       "version_major": 2,
       "version_minor": 0
      },
      "text/plain": [
       "Web pages for: \"auto-motortrend\":   0%|          | 0/1267 [00:00<?, ?it/s]"
      ]
     },
     "metadata": {},
     "output_type": "display_data"
    },
    {
     "data": {
      "application/vnd.jupyter.widget-view+json": {
       "model_id": "142ffbc6ddba439cb01db4d29a9e70d8",
       "version_major": 2,
       "version_minor": 0
      },
      "text/plain": [
       "Web pages for: \"auto-motortrend\":   0%|          | 0/1267 [00:00<?, ?it/s]"
      ]
     },
     "metadata": {},
     "output_type": "display_data"
    },
    {
     "data": {
      "application/vnd.jupyter.widget-view+json": {
       "model_id": "d6181256937d4c8c9642a7acca84bf86",
       "version_major": 2,
       "version_minor": 0
      },
      "text/plain": [
       "Web pages for: \"auto-motortrend\":   0%|          | 0/1267 [00:00<?, ?it/s]"
      ]
     },
     "metadata": {},
     "output_type": "display_data"
    },
    {
     "data": {
      "application/vnd.jupyter.widget-view+json": {
       "model_id": "5a9402c295e24217b319653aaf01f2ac",
       "version_major": 2,
       "version_minor": 0
      },
      "text/plain": [
       "Web pages for: \"auto-motortrend\":   0%|          | 0/1267 [00:00<?, ?it/s]"
      ]
     },
     "metadata": {},
     "output_type": "display_data"
    },
    {
     "data": {
      "application/vnd.jupyter.widget-view+json": {
       "model_id": "81cbd8f8858f4dba8bbd989eca380225",
       "version_major": 2,
       "version_minor": 0
      },
      "text/plain": [
       "Web pages for: \"auto-motortrend\":   0%|          | 0/1267 [00:00<?, ?it/s]"
      ]
     },
     "metadata": {},
     "output_type": "display_data"
    },
    {
     "data": {
      "application/vnd.jupyter.widget-view+json": {
       "model_id": "4a38cef8e6864408b174fa3bf6547b7a",
       "version_major": 2,
       "version_minor": 0
      },
      "text/plain": [
       "Web pages for: \"auto-motortrend\":   0%|          | 0/1267 [00:00<?, ?it/s]"
      ]
     },
     "metadata": {},
     "output_type": "display_data"
    },
    {
     "data": {
      "application/vnd.jupyter.widget-view+json": {
       "model_id": "9673afd3f3fd4d08a72f8ec5d68272b3",
       "version_major": 2,
       "version_minor": 0
      },
      "text/plain": [
       "Web pages for: \"auto-motortrend\":   0%|          | 0/1267 [00:00<?, ?it/s]"
      ]
     },
     "metadata": {},
     "output_type": "display_data"
    },
    {
     "data": {
      "application/vnd.jupyter.widget-view+json": {
       "model_id": "92d3a88074834087b771fc546f26788f",
       "version_major": 2,
       "version_minor": 0
      },
      "text/plain": [
       "Web pages for: \"auto-msn\":   0%|          | 0/2000 [00:00<?, ?it/s]"
      ]
     },
     "metadata": {},
     "output_type": "display_data"
    },
    {
     "data": {
      "application/vnd.jupyter.widget-view+json": {
       "model_id": "04196efa35714d8cb05defcd1f420a69",
       "version_major": 2,
       "version_minor": 0
      },
      "text/plain": [
       "Web pages for: \"auto-msn\":   0%|          | 0/2000 [00:00<?, ?it/s]"
      ]
     },
     "metadata": {},
     "output_type": "display_data"
    },
    {
     "data": {
      "application/vnd.jupyter.widget-view+json": {
       "model_id": "7d2924215991403dbba4dc2c6961055d",
       "version_major": 2,
       "version_minor": 0
      },
      "text/plain": [
       "Web pages for: \"auto-msn\":   0%|          | 0/2000 [00:00<?, ?it/s]"
      ]
     },
     "metadata": {},
     "output_type": "display_data"
    },
    {
     "data": {
      "application/vnd.jupyter.widget-view+json": {
       "model_id": "2b5f1d052cdf431a8c0502498752064d",
       "version_major": 2,
       "version_minor": 0
      },
      "text/plain": [
       "Web pages for: \"auto-msn\":   0%|          | 0/2000 [00:00<?, ?it/s]"
      ]
     },
     "metadata": {},
     "output_type": "display_data"
    },
    {
     "data": {
      "application/vnd.jupyter.widget-view+json": {
       "model_id": "6c4cbcb83a58468d91ae2dd971f9ee01",
       "version_major": 2,
       "version_minor": 0
      },
      "text/plain": [
       "Web pages for: \"auto-msn\":   0%|          | 0/2000 [00:00<?, ?it/s]"
      ]
     },
     "metadata": {},
     "output_type": "display_data"
    },
    {
     "data": {
      "application/vnd.jupyter.widget-view+json": {
       "model_id": "e29d7aa53232411c94a13e49281312ba",
       "version_major": 2,
       "version_minor": 0
      },
      "text/plain": [
       "Web pages for: \"auto-msn\":   0%|          | 0/2000 [00:00<?, ?it/s]"
      ]
     },
     "metadata": {},
     "output_type": "display_data"
    },
    {
     "data": {
      "application/vnd.jupyter.widget-view+json": {
       "model_id": "9d9b2e4694da44a7842a213e8303e7bc",
       "version_major": 2,
       "version_minor": 0
      },
      "text/plain": [
       "Web pages for: \"auto-msn\":   0%|          | 0/2000 [00:00<?, ?it/s]"
      ]
     },
     "metadata": {},
     "output_type": "display_data"
    },
    {
     "data": {
      "application/vnd.jupyter.widget-view+json": {
       "model_id": "2e40c6cb32d54adf84a9f570537b6fe2",
       "version_major": 2,
       "version_minor": 0
      },
      "text/plain": [
       "Web pages for: \"auto-msn\":   0%|          | 0/2000 [00:00<?, ?it/s]"
      ]
     },
     "metadata": {},
     "output_type": "display_data"
    },
    {
     "data": {
      "application/vnd.jupyter.widget-view+json": {
       "model_id": "b01a892c5138483aa3df53ef0cc00388",
       "version_major": 2,
       "version_minor": 0
      },
      "text/plain": [
       "Web pages for: \"auto-msn\":   0%|          | 0/2000 [00:00<?, ?it/s]"
      ]
     },
     "metadata": {},
     "output_type": "display_data"
    },
    {
     "data": {
      "application/vnd.jupyter.widget-view+json": {
       "model_id": "be942b2995ec4d5ab2800ae5cf6faa4c",
       "version_major": 2,
       "version_minor": 0
      },
      "text/plain": [
       "Web pages for: \"auto-msn\":   0%|          | 0/2000 [00:00<?, ?it/s]"
      ]
     },
     "metadata": {},
     "output_type": "display_data"
    },
    {
     "name": "stderr",
     "output_type": "stream",
     "text": [
      "09:09:29 INFO (swde_dataLoader:174): SWDE data loader has loaded: 648699 nodes from: ['auto-autoweb', 'auto-carquotes', 'auto-cars', 'auto-kbb', 'auto-motortrend', 'auto-msn']\n",
      "09:09:29 INFO (swde_dataLoader:174): SWDE data loader has loaded: 648699 nodes from: ['auto-autoweb', 'auto-carquotes', 'auto-cars', 'auto-kbb', 'auto-motortrend', 'auto-msn']\n",
      "09:09:29 INFO (swde_dataLoader:174): SWDE data loader has loaded: 648699 nodes from: ['auto-autoweb', 'auto-carquotes', 'auto-cars', 'auto-kbb', 'auto-motortrend', 'auto-msn']\n",
      "09:09:29 INFO (swde_dataLoader:174): SWDE data loader has loaded: 648699 nodes from: ['auto-autoweb', 'auto-carquotes', 'auto-cars', 'auto-kbb', 'auto-motortrend', 'auto-msn']\n",
      "09:09:30 INFO (swde_dataLoader:174): SWDE data loader has loaded: 648699 nodes from: ['auto-autoweb', 'auto-carquotes', 'auto-cars', 'auto-kbb', 'auto-motortrend', 'auto-msn']\n",
      "09:09:30 INFO (swde_dataLoader:174): SWDE data loader has loaded: 648699 nodes from: ['auto-autoweb', 'auto-carquotes', 'auto-cars', 'auto-kbb', 'auto-motortrend', 'auto-msn']\n",
      "09:09:30 INFO (swde_dataLoader:174): SWDE data loader has loaded: 648699 nodes from: ['auto-autoweb', 'auto-carquotes', 'auto-cars', 'auto-kbb', 'auto-motortrend', 'auto-msn']\n",
      "09:09:30 INFO (swde_dataLoader:174): SWDE data loader has loaded: 648699 nodes from: ['auto-autoweb', 'auto-carquotes', 'auto-cars', 'auto-kbb', 'auto-motortrend', 'auto-msn']\n",
      "09:09:30 INFO (swde_dataLoader:174): SWDE data loader has loaded: 648699 nodes from: ['auto-autoweb', 'auto-carquotes', 'auto-cars', 'auto-kbb', 'auto-motortrend', 'auto-msn']\n",
      "09:09:30 INFO (swde_dataLoader:174): SWDE data loader has loaded: 648699 nodes from: ['auto-autoweb', 'auto-carquotes', 'auto-cars', 'auto-kbb', 'auto-motortrend', 'auto-msn']\n"
     ]
    },
    {
     "data": {
      "application/vnd.jupyter.widget-view+json": {
       "model_id": "93651a578c9f432d92294d81b7f8236f",
       "version_major": 2,
       "version_minor": 0
      },
      "text/plain": [
       "Training: 0it [00:00, ?it/s]"
      ]
     },
     "metadata": {},
     "output_type": "display_data"
    },
    {
     "name": "stderr",
     "output_type": "stream",
     "text": [
      "09:09:31 INFO (distributed:788): Reducer buckets have been rebuilt in this iteration.\n",
      "09:09:31 INFO (distributed:788): Reducer buckets have been rebuilt in this iteration.\n",
      "09:09:31 INFO (distributed:788): Reducer buckets have been rebuilt in this iteration.\n",
      "09:09:31 INFO (distributed:788): Reducer buckets have been rebuilt in this iteration.\n",
      "09:09:31 INFO (distributed:788): Reducer buckets have been rebuilt in this iteration.\n",
      "09:09:31 INFO (distributed:788): Reducer buckets have been rebuilt in this iteration.\n",
      "09:09:31 INFO (distributed:788): Reducer buckets have been rebuilt in this iteration.\n",
      "09:09:31 INFO (distributed:788): Reducer buckets have been rebuilt in this iteration.\n",
      "09:09:31 INFO (distributed:788): Reducer buckets have been rebuilt in this iteration.\n",
      "09:09:31 INFO (distributed:788): Reducer buckets have been rebuilt in this iteration.\n"
     ]
    },
    {
     "data": {
      "application/vnd.jupyter.widget-view+json": {
       "model_id": "",
       "version_major": 2,
       "version_minor": 0
      },
      "text/plain": [
       "Validation: 0it [00:00, ?it/s]"
      ]
     },
     "metadata": {},
     "output_type": "display_data"
    },
    {
     "name": "stderr",
     "output_type": "stream",
     "text": [
      "09:18:10 INFO (SimpDOM_model:162): Mean validation loss: 0.5321639776229858\n",
      "09:18:10 INFO (SimpDOM_model:162): Mean validation loss: 0.5471163392066956\n",
      "09:18:10 INFO (SimpDOM_model:162): Mean validation loss: 0.3859720826148987\n",
      "09:18:10 INFO (SimpDOM_model:162): Mean validation loss: 0.544795572757721\n",
      "09:18:10 INFO (SimpDOM_model:162): Mean validation loss: 0.5166873931884766\n",
      "09:18:10 INFO (SimpDOM_model:162): Mean validation loss: 0.4858681261539459\n",
      "09:18:10 INFO (SimpDOM_model:162): Mean validation loss: 0.5196801424026489\n",
      "09:18:10 INFO (SimpDOM_model:162): Mean validation loss: 0.46073421835899353\n",
      "09:18:10 INFO (SimpDOM_model:162): Mean validation loss: 0.6249393224716187\n",
      "09:18:10 INFO (SimpDOM_model:162): Mean validation loss: 0.54046231508255\n",
      "09:18:10 INFO (model_checkpoint:709): Epoch 0, global step 2028: 'val_loss' reached 0.51564 (best 0.51564), saving model to '/Users/izapreev/Projects/SimpDOM/lightning_logs/version_1/checkpoints/./data/weights.ckpt' as top 1\n"
     ]
    },
    {
     "data": {
      "application/vnd.jupyter.widget-view+json": {
       "model_id": "",
       "version_major": 2,
       "version_minor": 0
      },
      "text/plain": [
       "Validation: 0it [00:00, ?it/s]"
      ]
     },
     "metadata": {},
     "output_type": "display_data"
    },
    {
     "name": "stderr",
     "output_type": "stream",
     "text": [
      "09:26:32 INFO (SimpDOM_model:162): Mean validation loss: 0.7903497219085693\n",
      "09:26:32 INFO (SimpDOM_model:162): Mean validation loss: 0.8477237820625305\n",
      "09:26:32 INFO (SimpDOM_model:162): Mean validation loss: 0.9941340684890747\n",
      "09:26:32 INFO (SimpDOM_model:162): Mean validation loss: 0.6346825957298279\n",
      "09:26:32 INFO (SimpDOM_model:162): Mean validation loss: 0.9231153726577759\n",
      "09:26:32 INFO (SimpDOM_model:162): Mean validation loss: 0.8715935349464417\n",
      "09:26:32 INFO (SimpDOM_model:162): Mean validation loss: 0.7893164753913879\n",
      "09:26:32 INFO (SimpDOM_model:162): Mean validation loss: 0.9561755061149597\n",
      "09:26:32 INFO (SimpDOM_model:162): Mean validation loss: 0.8106062412261963\n",
      "09:26:32 INFO (SimpDOM_model:162): Mean validation loss: 0.6593657732009888\n",
      "09:26:32 INFO (model_checkpoint:666): Epoch 1, global step 4056: 'val_loss' was not in top 1\n"
     ]
    },
    {
     "data": {
      "application/vnd.jupyter.widget-view+json": {
       "model_id": "",
       "version_major": 2,
       "version_minor": 0
      },
      "text/plain": [
       "Validation: 0it [00:00, ?it/s]"
      ]
     },
     "metadata": {},
     "output_type": "display_data"
    },
    {
     "name": "stderr",
     "output_type": "stream",
     "text": [
      "09:34:51 INFO (SimpDOM_model:162): Mean validation loss: 0.8412602543830872\n",
      "09:34:51 INFO (SimpDOM_model:162): Mean validation loss: 0.8921233415603638\n",
      "09:34:51 INFO (SimpDOM_model:162): Mean validation loss: 1.010849952697754\n",
      "09:34:51 INFO (SimpDOM_model:162): Mean validation loss: 1.147850513458252\n",
      "09:34:51 INFO (SimpDOM_model:162): Mean validation loss: 1.0268579721450806\n",
      "09:34:51 INFO (SimpDOM_model:162): Mean validation loss: 0.7727635502815247\n",
      "09:34:51 INFO (SimpDOM_model:162): Mean validation loss: 1.0500272512435913\n",
      "09:34:51 INFO (SimpDOM_model:162): Mean validation loss: 0.9383068084716797\n",
      "09:34:51 INFO (SimpDOM_model:162): Mean validation loss: 0.7455491423606873\n",
      "09:34:51 INFO (SimpDOM_model:162): Mean validation loss: 1.0577597618103027\n",
      "09:34:51 INFO (model_checkpoint:666): Epoch 2, global step 6084: 'val_loss' was not in top 1\n"
     ]
    },
    {
     "data": {
      "application/vnd.jupyter.widget-view+json": {
       "model_id": "",
       "version_major": 2,
       "version_minor": 0
      },
      "text/plain": [
       "Validation: 0it [00:00, ?it/s]"
      ]
     },
     "metadata": {},
     "output_type": "display_data"
    },
    {
     "name": "stderr",
     "output_type": "stream",
     "text": [
      "09:43:16 INFO (SimpDOM_model:162): Mean validation loss: 0.5359379649162292\n",
      "09:43:16 INFO (SimpDOM_model:162): Mean validation loss: 0.5980392098426819\n",
      "09:43:16 INFO (SimpDOM_model:162): Mean validation loss: 0.5928680300712585\n",
      "09:43:16 INFO (SimpDOM_model:162): Mean validation loss: 0.42624524235725403\n",
      "09:43:16 INFO (SimpDOM_model:162): Mean validation loss: 0.4345540702342987\n",
      "09:43:16 INFO (SimpDOM_model:162): Mean validation loss: 0.5056050419807434\n",
      "09:43:16 INFO (SimpDOM_model:162): Mean validation loss: 0.6227513551712036\n",
      "09:43:16 INFO (SimpDOM_model:162): Mean validation loss: 0.5855610370635986\n",
      "09:43:16 INFO (SimpDOM_model:162): Mean validation loss: 0.5073097348213196\n",
      "09:43:16 INFO (SimpDOM_model:162): Mean validation loss: 0.7331961989402771\n",
      "09:43:16 INFO (model_checkpoint:666): Epoch 3, global step 8112: 'val_loss' was not in top 1\n"
     ]
    },
    {
     "data": {
      "application/vnd.jupyter.widget-view+json": {
       "model_id": "",
       "version_major": 2,
       "version_minor": 0
      },
      "text/plain": [
       "Validation: 0it [00:00, ?it/s]"
      ]
     },
     "metadata": {},
     "output_type": "display_data"
    },
    {
     "name": "stderr",
     "output_type": "stream",
     "text": [
      "09:51:38 INFO (SimpDOM_model:162): Mean validation loss: 0.8536390662193298\n",
      "09:51:38 INFO (SimpDOM_model:162): Mean validation loss: 0.7680723667144775\n",
      "09:51:38 INFO (SimpDOM_model:162): Mean validation loss: 0.8591328263282776\n",
      "09:51:38 INFO (SimpDOM_model:162): Mean validation loss: 1.031354308128357\n",
      "09:51:38 INFO (SimpDOM_model:162): Mean validation loss: 1.2045478820800781\n",
      "09:51:38 INFO (SimpDOM_model:162): Mean validation loss: 0.6618990898132324\n",
      "09:51:38 INFO (SimpDOM_model:162): Mean validation loss: 1.0336003303527832\n",
      "09:51:38 INFO (SimpDOM_model:162): Mean validation loss: 0.854421854019165\n",
      "09:51:38 INFO (SimpDOM_model:162): Mean validation loss: 0.9724552035331726\n",
      "09:51:38 INFO (SimpDOM_model:162): Mean validation loss: 0.9003503918647766\n",
      "09:51:38 INFO (model_checkpoint:666): Epoch 4, global step 10140: 'val_loss' was not in top 1\n"
     ]
    },
    {
     "data": {
      "application/vnd.jupyter.widget-view+json": {
       "model_id": "",
       "version_major": 2,
       "version_minor": 0
      },
      "text/plain": [
       "Validation: 0it [00:00, ?it/s]"
      ]
     },
     "metadata": {},
     "output_type": "display_data"
    },
    {
     "name": "stderr",
     "output_type": "stream",
     "text": [
      "09:59:57 INFO (SimpDOM_model:162): Mean validation loss: 1.331272006034851\n",
      "09:59:57 INFO (SimpDOM_model:162): Mean validation loss: 1.4410587549209595\n",
      "09:59:57 INFO (SimpDOM_model:162): Mean validation loss: 1.395933985710144\n",
      "09:59:57 INFO (SimpDOM_model:162): Mean validation loss: 1.3095678091049194\n",
      "09:59:57 INFO (SimpDOM_model:162): Mean validation loss: 0.6861356496810913\n",
      "09:59:57 INFO (SimpDOM_model:162): Mean validation loss: 1.2741551399230957\n",
      "09:59:57 INFO (SimpDOM_model:162): Mean validation loss: 1.345067024230957\n",
      "09:59:57 INFO (SimpDOM_model:162): Mean validation loss: 1.2567330598831177\n",
      "09:59:57 INFO (SimpDOM_model:162): Mean validation loss: 1.2726670503616333\n",
      "09:59:57 INFO (SimpDOM_model:162): Mean validation loss: 1.6277382373809814\n",
      "09:59:57 INFO (model_checkpoint:666): Epoch 5, global step 12168: 'val_loss' was not in top 1\n"
     ]
    },
    {
     "data": {
      "application/vnd.jupyter.widget-view+json": {
       "model_id": "",
       "version_major": 2,
       "version_minor": 0
      },
      "text/plain": [
       "Validation: 0it [00:00, ?it/s]"
      ]
     },
     "metadata": {},
     "output_type": "display_data"
    },
    {
     "name": "stderr",
     "output_type": "stream",
     "text": [
      "10:08:26 INFO (SimpDOM_model:162): Mean validation loss: 1.66988205909729\n",
      "10:08:26 INFO (SimpDOM_model:162): Mean validation loss: 1.5908012390136719\n",
      "10:08:26 INFO (SimpDOM_model:162): Mean validation loss: 2.152144193649292\n",
      "10:08:26 INFO (SimpDOM_model:162): Mean validation loss: 1.7512785196304321\n",
      "10:08:26 INFO (SimpDOM_model:162): Mean validation loss: 1.8131660223007202\n",
      "10:08:26 INFO (SimpDOM_model:162): Mean validation loss: 1.747193694114685\n",
      "10:08:26 INFO (SimpDOM_model:162): Mean validation loss: 1.8529835939407349\n",
      "10:08:26 INFO (SimpDOM_model:162): Mean validation loss: 1.0017036199569702\n",
      "10:08:26 INFO (SimpDOM_model:162): Mean validation loss: 1.7397760152816772\n",
      "10:08:26 INFO (SimpDOM_model:162): Mean validation loss: 1.6490205526351929\n",
      "10:08:26 INFO (model_checkpoint:666): Epoch 6, global step 14196: 'val_loss' was not in top 1\n"
     ]
    },
    {
     "data": {
      "application/vnd.jupyter.widget-view+json": {
       "model_id": "",
       "version_major": 2,
       "version_minor": 0
      },
      "text/plain": [
       "Validation: 0it [00:00, ?it/s]"
      ]
     },
     "metadata": {},
     "output_type": "display_data"
    },
    {
     "name": "stderr",
     "output_type": "stream",
     "text": [
      "10:16:56 INFO (SimpDOM_model:162): Mean validation loss: 1.9359369277954102\n",
      "10:16:56 INFO (SimpDOM_model:162): Mean validation loss: 1.2610349655151367\n",
      "10:16:56 INFO (SimpDOM_model:162): Mean validation loss: 2.3395497798919678\n",
      "10:16:56 INFO (SimpDOM_model:162): Mean validation loss: 2.377326488494873\n",
      "10:16:56 INFO (SimpDOM_model:162): Mean validation loss: 2.0156972408294678\n",
      "10:16:56 INFO (SimpDOM_model:162): Mean validation loss: 2.0469555854797363\n",
      "10:16:56 INFO (SimpDOM_model:162): Mean validation loss: 1.826490879058838\n",
      "10:16:56 INFO (SimpDOM_model:162): Mean validation loss: 2.122802257537842\n",
      "10:16:56 INFO (SimpDOM_model:162): Mean validation loss: 2.0042107105255127\n",
      "10:16:56 INFO (SimpDOM_model:162): Mean validation loss: 2.302576780319214\n",
      "10:16:56 INFO (model_checkpoint:666): Epoch 7, global step 16224: 'val_loss' was not in top 1\n"
     ]
    },
    {
     "data": {
      "application/vnd.jupyter.widget-view+json": {
       "model_id": "",
       "version_major": 2,
       "version_minor": 0
      },
      "text/plain": [
       "Validation: 0it [00:00, ?it/s]"
      ]
     },
     "metadata": {},
     "output_type": "display_data"
    },
    {
     "name": "stderr",
     "output_type": "stream",
     "text": [
      "10:25:18 INFO (SimpDOM_model:162): Mean validation loss: 1.9802396297454834\n",
      "10:25:18 INFO (SimpDOM_model:162): Mean validation loss: 2.2694804668426514\n",
      "10:25:18 INFO (SimpDOM_model:162): Mean validation loss: 2.096437454223633\n",
      "10:25:18 INFO (SimpDOM_model:162): Mean validation loss: 2.0528228282928467\n",
      "10:25:18 INFO (SimpDOM_model:162): Mean validation loss: 1.1256471872329712\n",
      "10:25:18 INFO (SimpDOM_model:162): Mean validation loss: 2.3036270141601562\n",
      "10:25:18 INFO (SimpDOM_model:162): Mean validation loss: 1.9893804788589478\n",
      "10:25:18 INFO (SimpDOM_model:162): Mean validation loss: 2.257031202316284\n",
      "10:25:18 INFO (SimpDOM_model:162): Mean validation loss: 1.842030644416809\n",
      "10:25:18 INFO (SimpDOM_model:162): Mean validation loss: 1.939864993095398\n",
      "10:25:18 INFO (model_checkpoint:666): Epoch 8, global step 18252: 'val_loss' was not in top 1\n"
     ]
    },
    {
     "data": {
      "application/vnd.jupyter.widget-view+json": {
       "model_id": "",
       "version_major": 2,
       "version_minor": 0
      },
      "text/plain": [
       "Validation: 0it [00:00, ?it/s]"
      ]
     },
     "metadata": {},
     "output_type": "display_data"
    },
    {
     "name": "stderr",
     "output_type": "stream",
     "text": [
      "10:33:45 INFO (SimpDOM_model:162): Mean validation loss: 2.135986328125\n",
      "10:33:45 INFO (SimpDOM_model:162): Mean validation loss: 2.3138630390167236\n",
      "10:33:45 INFO (SimpDOM_model:162): Mean validation loss: 2.081336259841919\n",
      "10:33:45 INFO (SimpDOM_model:162): Mean validation loss: 1.3190330266952515\n",
      "10:33:45 INFO (SimpDOM_model:162): Mean validation loss: 2.197671413421631\n",
      "10:33:45 INFO (SimpDOM_model:162): Mean validation loss: 2.563035488128662\n",
      "10:33:45 INFO (SimpDOM_model:162): Mean validation loss: 2.1992053985595703\n",
      "10:33:45 INFO (SimpDOM_model:162): Mean validation loss: 2.619039297103882\n",
      "10:33:45 INFO (SimpDOM_model:162): Mean validation loss: 2.279533863067627\n",
      "10:33:45 INFO (SimpDOM_model:162): Mean validation loss: 2.4256415367126465\n",
      "10:33:45 INFO (model_checkpoint:666): Epoch 9, global step 20280: 'val_loss' was not in top 1\n",
      "10:33:45 INFO (fit_loop:170): `Trainer.fit` stopped: `max_epochs=10` reached.\n",
      "10:33:47 INFO (train_and_eval:88): Saving the check point into: weights_wpix_manual_ckpt.ckpt\n"
     ]
    }
   ],
   "source": [
    "logger.info(f'Starting model training')\n",
    "model = train_model(config, num_train_epochs)"
   ]
  },
  {
   "cell_type": "code",
   "execution_count": 6,
   "metadata": {},
   "outputs": [
    {
     "name": "stderr",
     "output_type": "stream",
     "text": [
      "10:33:47 INFO (600260005:1): Training is finished, starting predicting\n",
      "10:33:47 WARNING (train_and_eval:107): The test websites was not explit, extracting from config!\n",
      "10:33:47 INFO (train_and_eval:112): The test websites are: ['auto-aol', 'auto-yahoo']\n",
      "10:33:47 INFO (SimpDOM_model:182): Creating testing data loader for: ['auto-aol', 'auto-yahoo']\n",
      "10:33:47 INFO (swde_dataLoader:257): Start loading data set for websites: ['auto-aol', 'auto-yahoo']\n"
     ]
    },
    {
     "data": {
      "application/vnd.jupyter.widget-view+json": {
       "model_id": "65070d9d8b1c4b309f511a57fac8537c",
       "version_major": 2,
       "version_minor": 0
      },
      "text/plain": [
       "Web site:   0%|          | 0/2 [00:00<?, ?it/s]"
      ]
     },
     "metadata": {},
     "output_type": "display_data"
    },
    {
     "data": {
      "application/vnd.jupyter.widget-view+json": {
       "model_id": "cf1bbebc47be48a58cd7b22c288fc1ab",
       "version_major": 2,
       "version_minor": 0
      },
      "text/plain": [
       "Web pages for: \"auto-aol\":   0%|          | 0/2000 [00:00<?, ?it/s]"
      ]
     },
     "metadata": {},
     "output_type": "display_data"
    },
    {
     "data": {
      "application/vnd.jupyter.widget-view+json": {
       "model_id": "416532c505484985a2fe468bb82c3f30",
       "version_major": 2,
       "version_minor": 0
      },
      "text/plain": [
       "Web pages for: \"auto-yahoo\":   0%|          | 0/2000 [00:00<?, ?it/s]"
      ]
     },
     "metadata": {},
     "output_type": "display_data"
    },
    {
     "name": "stderr",
     "output_type": "stream",
     "text": [
      "10:34:03 INFO (swde_dataLoader:262): SWDE data test loader has loaded: 435018 nodes from: ['auto-aol', 'auto-yahoo']\n"
     ]
    },
    {
     "data": {
      "application/vnd.jupyter.widget-view+json": {
       "model_id": "eaac23037096497f8500a3c9e2dfa8a9",
       "version_major": 2,
       "version_minor": 0
      },
      "text/plain": [
       "Testing batches:   0%|          | 0/13595 [00:00<?, ?it/s]"
      ]
     },
     "metadata": {},
     "output_type": "display_data"
    },
    {
     "name": "stdout",
     "output_type": "stream",
     "text": [
      "Dumping predictions dataframe into: test_predictions.csv\n"
     ]
    },
    {
     "name": "stderr",
     "output_type": "stream",
     "text": [
      "10:50:17 INFO (train_and_eval:122): Prediction summary:\n",
      "{1: (0.9725500960746637, 0.8868585732165206, 0.9277297721916731), 2: (0.98775, 0.98775, 0.98775), 3: (0.9688013136288999, 0.522, 0.6784462571786699), 4: (0.9803229061553986, 0.9862158647594278, 0.9832605559948003)}\n"
     ]
    },
    {
     "name": "stdout",
     "output_type": "stream",
     "text": [
      "class - 1: precision = 0.9725500960746637, recall = 0.8868585732165206, F1 = 0.9277297721916731\n",
      "class - 2: precision = 0.98775, recall = 0.98775, F1 = 0.98775\n",
      "class - 3: precision = 0.9688013136288999, recall = 0.522, F1 = 0.6784462571786699\n",
      "class - 4: precision = 0.9803229061553986, recall = 0.9862158647594278, F1 = 0.9832605559948003\n"
     ]
    },
    {
     "name": "stderr",
     "output_type": "stream",
     "text": [
      "10:50:31 INFO (train_and_eval:126): Website-level prediction summary:\n",
      "      website  attribute  precision    recall  retrieved_relevant  retrieved  \\\n",
      "0    auto-aol          1   0.961481  0.963409                1922       1999   \n",
      "1    auto-aol          2   1.000000  1.000000                2000       2000   \n",
      "2    auto-aol          3   0.000000  0.000000                   0         94   \n",
      "3    auto-aol          4   0.958289  0.971274                1792       1870   \n",
      "4  auto-yahoo          1   0.986010  0.810500                1621       1644   \n",
      "5  auto-yahoo          2   0.975500  0.975500                1951       2000   \n",
      "6  auto-yahoo          3   0.999043  0.522000                1044       1045   \n",
      "7  auto-yahoo          4   1.000000  1.000000                2000       2000   \n",
      "\n",
      "   relevant  \n",
      "0      1995  \n",
      "1      2000  \n",
      "2         0  \n",
      "3      1845  \n",
      "4      2000  \n",
      "5      2000  \n",
      "6      2000  \n",
      "7      2000  \n",
      "10:50:31 INFO (600260005:3): Test predictions result: {1: (0.9725500960746637, 0.8868585732165206, 0.9277297721916731), 2: (0.98775, 0.98775, 0.98775), 3: (0.9688013136288999, 0.522, 0.6784462571786699), 4: (0.9803229061553986, 0.9862158647594278, 0.9832605559948003)}\n"
     ]
    }
   ],
   "source": [
    "logger.info(f'Training is finished, starting predicting')\n",
    "avg_pr_dict = test_model(config, model)\n",
    "logger.info(f'Test predictions result: {avg_pr_dict}')"
   ]
  },
  {
   "cell_type": "code",
   "execution_count": null,
   "metadata": {},
   "outputs": [],
   "source": [
    "# Check the accuracy on the data used for training\n",
    "avg_pr_dict = test_model(config, model_weights_file='data/weights.ckpt', test_websites=['auto-aol', 'auto-yahoo'])\n",
    "logger.info(f'Test predictions result: {avg_pr_dict}')"
   ]
  },
  {
   "cell_type": "code",
   "execution_count": 7,
   "metadata": {},
   "outputs": [
    {
     "name": "stderr",
     "output_type": "stream",
     "text": [
      "14:29:06 WARNING (train_and_eval:95): The pre-trained model is not provided, loading from disk\n",
      "14:29:06 INFO (train_and_eval:100): Loading weights from: lightning_logs/version_0/checkpoints/last.ckpt\n",
      "14:29:06 INFO (SimpDOM_model:28): Instantiating the new model with config: {'out_dim': 5, 'train_websites': ['auto-autoweb', 'auto-carquotes', 'auto-cars', 'auto-kbb', 'auto-motortrend', 'auto-msn'], 'val_websites': ['auto-autobytel', 'auto-automotive', 'auto-aol'], 'test_websites': ['auto-aol', 'auto-yahoo'], 'datapath': './data', 'n_workers': 0, 'char_emb_dim': 16, 'char_hid_dim': 100, 'char_emb_dropout': 0.1, 'tag_emb_dim': 16, 'tag_hid_dim': 30, 'leaf_emb_dim': 30, 'pos_emb_dim': 20, 'attributes': ['model', 'price', 'engine', 'fuel_economy'], 'n_gpus': 0, 'class_weights': [1, 100, 100, 100, 100], 'char_dict_filename': './data/English_charDict.pkl', 'tag_dict_filename': './data/HTMLTagDict.pkl', 'word_emb_filename': './data/glove.6B.100d.txt'}\n",
      "14:29:06 INFO (SimpDOM_model:79): Loading ./data/English_charDict.pkl\n",
      "14:29:06 INFO (SimpDOM_model:81): Dictionary ./data/English_charDict.pkl length: 85\n",
      "14:29:06 INFO (SimpDOM_model:79): Loading ./data/HTMLTagDict.pkl\n",
      "14:29:06 INFO (SimpDOM_model:81): Dictionary ./data/HTMLTagDict.pkl length: 39\n",
      "14:29:06 INFO (pretrainedGloVe:9): Loading pretrained word emeddings from: ./data/glove.6B.100d.txt\n",
      "14:29:10 INFO (pretrainedGloVe:22): Loaded 400000 pretrained word vectors\n",
      "14:29:10 WARNING (train_and_eval:110): The test websites was explit, updating config!\n",
      "14:29:10 INFO (train_and_eval:112): The test websites are: ['auto-aol']\n",
      "14:29:10 INFO (SimpDOM_model:182): Creating testing data loader for: ['auto-aol', 'auto-yahoo']\n",
      "14:29:10 INFO (swde_dataLoader:257): Start loading data set for websites: ['auto-aol', 'auto-yahoo']\n"
     ]
    },
    {
     "data": {
      "application/vnd.jupyter.widget-view+json": {
       "model_id": "d4f345e637f240439a7d9f306420a793",
       "version_major": 2,
       "version_minor": 0
      },
      "text/plain": [
       "Web site:   0%|          | 0/2 [00:00<?, ?it/s]"
      ]
     },
     "metadata": {},
     "output_type": "display_data"
    },
    {
     "data": {
      "application/vnd.jupyter.widget-view+json": {
       "model_id": "be64c5404d1941eaba84a52461a65b2f",
       "version_major": 2,
       "version_minor": 0
      },
      "text/plain": [
       "Web pages for: \"auto-aol\":   0%|          | 0/2000 [00:00<?, ?it/s]"
      ]
     },
     "metadata": {},
     "output_type": "display_data"
    },
    {
     "data": {
      "application/vnd.jupyter.widget-view+json": {
       "model_id": "7477667725ff4504bcc7564713cfabd2",
       "version_major": 2,
       "version_minor": 0
      },
      "text/plain": [
       "Web pages for: \"auto-yahoo\":   0%|          | 0/2000 [00:00<?, ?it/s]"
      ]
     },
     "metadata": {},
     "output_type": "display_data"
    },
    {
     "name": "stderr",
     "output_type": "stream",
     "text": [
      "14:29:35 INFO (swde_dataLoader:262): SWDE data test loader has loaded: 435018 nodes from: ['auto-aol', 'auto-yahoo']\n"
     ]
    },
    {
     "data": {
      "application/vnd.jupyter.widget-view+json": {
       "model_id": "2949c7226f694d4db73f6bba9d6116c8",
       "version_major": 2,
       "version_minor": 0
      },
      "text/plain": [
       "Testing batches:   0%|          | 0/13595 [00:00<?, ?it/s]"
      ]
     },
     "metadata": {},
     "output_type": "display_data"
    },
    {
     "name": "stdout",
     "output_type": "stream",
     "text": [
      "Dumping predictions dataframe into: test_predictions.csv\n"
     ]
    },
    {
     "name": "stderr",
     "output_type": "stream",
     "text": [
      "14:46:46 INFO (train_and_eval:122): Prediction summary:\n",
      "{1: (0.7847953216374269, 0.5038798498122653, 0.6137195121951219), 2: (0.9995, 0.9995, 0.9995), 3: (0.9934123847167325, 0.885, 0.936077687335828), 4: (0.9765, 0.9979193758127438, 0.9870935044688947)}\n"
     ]
    },
    {
     "name": "stdout",
     "output_type": "stream",
     "text": [
      "class - 1: precision = 0.7847953216374269, recall = 0.5038798498122653, F1 = 0.6137195121951219\n",
      "class - 2: precision = 0.9995, recall = 0.9995, F1 = 0.9995\n",
      "class - 3: precision = 0.9934123847167325, recall = 0.885, F1 = 0.936077687335828\n",
      "class - 4: precision = 0.9765, recall = 0.9979193758127438, F1 = 0.9870935044688947\n"
     ]
    },
    {
     "name": "stderr",
     "output_type": "stream",
     "text": [
      "14:47:01 INFO (train_and_eval:126): Website-level prediction summary:\n",
      "      website  attribute  precision    recall  retrieved_relevant  retrieved  \\\n",
      "0    auto-aol          1   0.979500  0.981955                1959       2000   \n",
      "1    auto-aol          2   1.000000  1.000000                2000       2000   \n",
      "2    auto-aol          3   0.000000  0.000000                   0          0   \n",
      "3    auto-aol          4   0.951321  0.995664                1837       1931   \n",
      "4  auto-yahoo          1   0.095575  0.027000                  54        565   \n",
      "5  auto-yahoo          2   0.999000  0.999000                1998       2000   \n",
      "6  auto-yahoo          3   0.986072  0.885000                1770       1795   \n",
      "7  auto-yahoo          4   1.000000  1.000000                2000       2000   \n",
      "\n",
      "   relevant  \n",
      "0      1995  \n",
      "1      2000  \n",
      "2         0  \n",
      "3      1845  \n",
      "4      2000  \n",
      "5      2000  \n",
      "6      2000  \n",
      "7      2000  \n",
      "14:47:01 INFO (1723667303:3): Test predictions result: {1: (0.7847953216374269, 0.5038798498122653, 0.6137195121951219), 2: (0.9995, 0.9995, 0.9995), 3: (0.9934123847167325, 0.885, 0.936077687335828), 4: (0.9765, 0.9979193758127438, 0.9870935044688947)}\n"
     ]
    }
   ],
   "source": [
    "# Check the accuracy on the data used for training\n",
    "avg_pr_dict = test_model(config, model_weights_file='lightning_logs/version_0/checkpoints/last.ckpt', test_websites=['auto-aol'])\n",
    "logger.info(f'Test predictions result: {avg_pr_dict}')"
   ]
  }
 ],
 "metadata": {
  "kernelspec": {
   "display_name": "tfm",
   "language": "python",
   "name": "tfm"
  },
  "language_info": {
   "codemirror_mode": {
    "name": "ipython",
    "version": 3
   },
   "file_extension": ".py",
   "mimetype": "text/x-python",
   "name": "python",
   "nbconvert_exporter": "python",
   "pygments_lexer": "ipython3",
   "version": "3.8.13"
  }
 },
 "nbformat": 4,
 "nbformat_minor": 4
}
