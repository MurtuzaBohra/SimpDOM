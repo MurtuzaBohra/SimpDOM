{
 "cells": [
  {
   "cell_type": "code",
   "execution_count": 2,
   "id": "ac0d0474-fc9b-46c4-afe6-433baa8a2519",
   "metadata": {},
   "outputs": [
    {
     "data": {
      "text/plain": [
       "'/Users/izapreev/Projects/SimpDOM'"
      ]
     },
     "execution_count": 2,
     "metadata": {},
     "output_type": "execute_result"
    }
   ],
   "source": [
    "import os\n",
    "os.getcwd()"
   ]
  },
  {
   "cell_type": "code",
   "execution_count": 3,
   "id": "f2c0ef91-9f9e-4572-b837-73b3266be954",
   "metadata": {},
   "outputs": [],
   "source": [
    "# Make sure the source code auto reloads into the kernel\n",
    "%load_ext autoreload\n",
    "%autoreload 2"
   ]
  },
  {
   "cell_type": "code",
   "execution_count": 4,
   "id": "588fd710-3a1a-4104-94f3-ccdd633a1e7c",
   "metadata": {},
   "outputs": [],
   "source": [
    "from Utils.logger import logger"
   ]
  },
  {
   "cell_type": "code",
   "execution_count": 5,
   "id": "2636c4e7-8dd9-4ad4-a79c-b950166e816a",
   "metadata": {},
   "outputs": [
    {
     "name": "stderr",
     "output_type": "stream",
     "text": [
      "11:46:28 INFO (2469937194:11): max_parents: 1, max_friends: 10\n"
     ]
    }
   ],
   "source": [
    "# Check on the number of friends and partners\n",
    "import pickle\n",
    "obj = pickle.load(open('./data/nodesDetails/auto-aol.pkl', 'rb'))\n",
    "max_parents = 0\n",
    "max_friends = 0\n",
    "for data in obj.values():\n",
    "    for node_info in data.values():\n",
    "        max_parents = max(max_parents, len(node_info.partnerNodes))\n",
    "        max_friends = max(max_friends, len(node_info.friendNodes))\n",
    "        \n",
    "logger.info(f'max_parents: {max_parents}, max_friends: {max_friends}')"
   ]
  },
  {
   "cell_type": "code",
   "execution_count": 6,
   "id": "28ac9575-ee3c-4245-8bcb-efd92879e27d",
   "metadata": {},
   "outputs": [
    {
     "name": "stdout",
     "output_type": "stream",
     "text": [
      "{'html': 1, 'head': 2, 'title': 3, 'div': 4, 'body': 5, 'a': 6, 'ul': 7, 'li': 8, 'span': 9, 'strong': 10, 'img': 11, 'h': 12, 'option': 13, 'form': 14, 'select': 15, 'p': 16, 'br': 17, 'label': 18, 'b': 19, 'th': 20, 'tr': 21, 'table': 22, 'td': 23, 'fieldset': 24, 'nobr': 25, 'sup': 26, 'i': 27, 'input': 28, 'dl': 29, 'dt': 30, 'dd': 31, 'em': 32, 'small': 33, 'cite': 34, 'font': 35, 'hr': 36, 'tbody': 37, 'button': 38, 'center': 39}\n"
     ]
    }
   ],
   "source": [
    "# Check on the content of the HTML tags file\n",
    "import pickle\n",
    "\n",
    "with open('data/HTMLTagDict.pkl', 'rb') as f:\n",
    "    print(pickle.load(f))"
   ]
  },
  {
   "cell_type": "code",
   "execution_count": 7,
   "id": "6030e90c-3097-44b4-aed3-b2d01ed52967",
   "metadata": {},
   "outputs": [
    {
     "name": "stdout",
     "output_type": "stream",
     "text": [
      "{'o': 1, 'k': 2, 'm': 3, '-': 4, 'u': 5, 'g': 6, 'l': 7, '\\n': 8, 'b': 9, '2': 10, ' ': 11, 'c': 12, 'y': 13, '0': 14, 'n': 15, 'e': 16, '1': 17, 'r': 18, 'h': 19, 's': 20, 'a': 21, 'w': 22, 't': 23, 'i': 24, 'd': 25, 'p': 26, 'f': 27, '&': 28, 'v': 29, 'q': 30, '.': 31, '4': 32, ':': 33, '3': 34, '°': 35, '6': 36, 'x': 37, '5': 38, '$': 39, 'j': 40, 'z': 41, ',': 42, '8': 43, '9': 44, '?': 45, '7': 46, ')': 47, '\\t': 48, '(': 49, \"'\": 50, '%': 51, '@': 52, '/': 53, '*': 54, '=': 55, '®': 56, '©': 57, '–': 58, '\"': 59, ';': 60, '!': 61, '+': 62, '{': 63, '|': 64, '»': 65, '’': 66, '>': 67, '#': 68, '<': 69, '—': 70, ']': 71, '[': 72, 'ü': 73, '”': 74, '“': 75, '≈': 76, '_': 77, '\\xa0': 78, '…': 79, '•': 80, 'ã': 81, '¼': 82, 'ñ': 83, 'ú': 84, '\\x96': 85}\n"
     ]
    }
   ],
   "source": [
    "# Check on the content of the English characters file\n",
    "import pickle\n",
    "\n",
    "with open('data/English_charDict.pkl', 'rb') as f:\n",
    "    print(pickle.load(f))"
   ]
  },
  {
   "cell_type": "code",
   "execution_count": null,
   "id": "408a1094-1107-4e85-a07a-e3f2fa3b0f44",
   "metadata": {},
   "outputs": [],
   "source": []
  }
 ],
 "metadata": {
  "kernelspec": {
   "display_name": "tfm",
   "language": "python",
   "name": "tfm"
  },
  "language_info": {
   "codemirror_mode": {
    "name": "ipython",
    "version": 3
   },
   "file_extension": ".py",
   "mimetype": "text/x-python",
   "name": "python",
   "nbconvert_exporter": "python",
   "pygments_lexer": "ipython3",
   "version": "3.8.13"
  }
 },
 "nbformat": 4,
 "nbformat_minor": 5
}
