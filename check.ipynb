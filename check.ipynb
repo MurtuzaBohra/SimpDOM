{
 "cells": [
  {
   "cell_type": "code",
   "execution_count": null,
   "id": "ac0d0474-fc9b-46c4-afe6-433baa8a2519",
   "metadata": {},
   "outputs": [],
   "source": [
    "import os\n",
    "os.getcwd()"
   ]
  },
  {
   "cell_type": "code",
   "execution_count": null,
   "id": "f2c0ef91-9f9e-4572-b837-73b3266be954",
   "metadata": {},
   "outputs": [],
   "source": [
    "# Make sure the source code auto reloads into the kernel\n",
    "%load_ext autoreload\n",
    "%autoreload 2"
   ]
  },
  {
   "cell_type": "code",
   "execution_count": null,
   "id": "588fd710-3a1a-4104-94f3-ccdd633a1e7c",
   "metadata": {},
   "outputs": [],
   "source": [
    "from Utils.logger import logger"
   ]
  },
  {
   "cell_type": "code",
   "execution_count": null,
   "id": "2636c4e7-8dd9-4ad4-a79c-b950166e816a",
   "metadata": {},
   "outputs": [],
   "source": [
    "# Check on the number of friends and partners\n",
    "import pickle\n",
    "obj = pickle.load(open('./data/nodesDetails/auto-aol.pkl', 'rb'))\n",
    "max_parents = 0\n",
    "max_friends = 0\n",
    "for data in obj.values():\n",
    "    for node_info in data.values():\n",
    "        max_parents = max(max_parents, len(node_info.partnerNodes))\n",
    "        max_friends = max(max_friends, len(node_info.friendNodes))\n",
    "        \n",
    "logger.info(f'max_parents: {max_parents}, max_friends: {max_friends}')"
   ]
  },
  {
   "cell_type": "code",
   "execution_count": null,
   "id": "28ac9575-ee3c-4245-8bcb-efd92879e27d",
   "metadata": {},
   "outputs": [],
   "source": [
    "# Check on the content of the HTML tags file\n",
    "import pickle\n",
    "\n",
    "with open('data/HTMLTagDict.pkl', 'rb') as f:\n",
    "    print(pickle.load(f))"
   ]
  },
  {
   "cell_type": "code",
   "execution_count": null,
   "id": "6030e90c-3097-44b4-aed3-b2d01ed52967",
   "metadata": {},
   "outputs": [],
   "source": [
    "# Check on the content of the English characters file\n",
    "import pickle\n",
    "\n",
    "with open('data/English_charDict.pkl', 'rb') as f:\n",
    "    print(pickle.load(f))"
   ]
  },
  {
   "cell_type": "code",
   "execution_count": null,
   "id": "408a1094-1107-4e85-a07a-e3f2fa3b0f44",
   "metadata": {},
   "outputs": [],
   "source": []
  }
 ],
 "metadata": {
  "kernelspec": {
   "display_name": "tfm",
   "language": "python",
   "name": "tfm"
  },
  "language_info": {
   "codemirror_mode": {
    "name": "ipython",
    "version": 3
   },
   "file_extension": ".py",
   "mimetype": "text/x-python",
   "name": "python",
   "nbconvert_exporter": "python",
   "pygments_lexer": "ipython3",
   "version": "3.8.13"
  }
 },
 "nbformat": 4,
 "nbformat_minor": 5
}
