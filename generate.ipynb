{
 "cells": [
  {
   "cell_type": "code",
   "execution_count": null,
   "id": "416036b1-e608-4fd7-8e9e-6d7ee623bd13",
   "metadata": {},
   "outputs": [],
   "source": [
    "import os\n",
    "os.getcwd()"
   ]
  },
  {
   "cell_type": "code",
   "execution_count": null,
   "id": "a5e9aa49-e9a4-4c28-9a0e-a2fc8846d04d",
   "metadata": {},
   "outputs": [],
   "source": [
    "# Make sure the source code auto reloads into the kernel\n",
    "%load_ext autoreload\n",
    "%autoreload 2"
   ]
  },
  {
   "cell_type": "code",
   "execution_count": null,
   "id": "1f717676-2f4e-41b9-9da7-c6be763ca011",
   "metadata": {},
   "outputs": [],
   "source": [
    "# To Create the training data for verticals\n",
    "data_path = './data'\n",
    "vertical = 'movie'\n",
    "attributes = ['title', 'director', 'genre', 'mpaa_rating']\n",
    "max_num_ancestors = 10\n",
    "max_num_friends = 10"
   ]
  },
  {
   "cell_type": "code",
   "execution_count": null,
   "id": "6e9e4962-6a56-456a-b59a-35f0c83ec8d1",
   "metadata": {},
   "outputs": [],
   "source": [
    "# Dataset processor: Find the set of fixed nodes for each of the websites\n",
    "from DatasetCreation.storeFixedNodes import store_fixed_nodes\n",
    "store_fixed_nodes(data_path, vertical)"
   ]
  },
  {
   "cell_type": "code",
   "execution_count": null,
   "id": "32bcaaac-5f58-4718-8497-e80f1545c9db",
   "metadata": {},
   "outputs": [],
   "source": [
    "# Report on the ignored node attributes\n",
    "from DatasetCreation.helperFunctions import report_missed_attributes\n",
    "_ = report_missed_attributes()"
   ]
  },
  {
   "cell_type": "code",
   "execution_count": null,
   "id": "fda44a53-cf0b-4e00-ac76-175bb92433c2",
   "metadata": {},
   "outputs": [],
   "source": [
    "# Dataset processor: Store each website as pickle file\n",
    "from DatasetCreation.storeAllTextNodes import store_all_text_nodes\n",
    "store_all_text_nodes(data_path, vertical)"
   ]
  },
  {
   "cell_type": "code",
   "execution_count": null,
   "id": "85413c98-ec3b-4caa-818d-6a466a1266f4",
   "metadata": {},
   "outputs": [],
   "source": [
    "# Dataset processor: Append the friendCircle of each node in the DOMTree\n",
    "from DatasetCreation.friendCircleExtractioin import friend_circle_extractioin\n",
    "friend_circle_extractioin(data_path, vertical, max_num_ancestors, max_num_friends)"
   ]
  },
  {
   "cell_type": "code",
   "execution_count": null,
   "id": "45c65792-0365-43e9-8503-6dd9355bfabd",
   "metadata": {},
   "outputs": [],
   "source": [
    "# Dataset processor: Associate the ground truth label to each node\n",
    "from DatasetCreation.assignGroundTruthToEachNode import assign_ground_truth_to_each_node\n",
    "assign_ground_truth_to_each_node(data_path, vertical, attributes)"
   ]
  },
  {
   "cell_type": "code",
   "execution_count": null,
   "id": "7b3c0796-bf99-4e3a-8f7e-df9fb03ad805",
   "metadata": {},
   "outputs": [],
   "source": [
    "# Dataset processor: Re-generate the char and tag dictionaries\n",
    "from DatasetCreation.createCharAndTagDict import create_char_and_tag_dict\n",
    "create_char_and_tag_dict(data_path, vertical)"
   ]
  },
  {
   "cell_type": "code",
   "execution_count": null,
   "id": "1e3fc545-b10b-4482-b590-d9b797c66fde",
   "metadata": {},
   "outputs": [],
   "source": []
  }
 ],
 "metadata": {
  "kernelspec": {
   "display_name": "Python 3",
   "language": "python",
   "name": "python3"
  },
  "language_info": {
   "codemirror_mode": {
    "name": "ipython",
    "version": 3
   },
   "file_extension": ".py",
   "mimetype": "text/x-python",
   "name": "python",
   "nbconvert_exporter": "python",
   "pygments_lexer": "ipython3",
   "version": "3.8.1"
  }
 },
 "nbformat": 4,
 "nbformat_minor": 5
}
