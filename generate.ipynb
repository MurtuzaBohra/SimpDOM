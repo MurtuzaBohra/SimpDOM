{
 "cells": [
  {
   "cell_type": "code",
   "execution_count": 1,
   "id": "416036b1-e608-4fd7-8e9e-6d7ee623bd13",
   "metadata": {},
   "outputs": [
    {
     "data": {
      "text/plain": [
       "'/Users/izapreev/Projects/SimpDOM'"
      ]
     },
     "execution_count": 1,
     "metadata": {},
     "output_type": "execute_result"
    }
   ],
   "source": [
    "import os\n",
    "os.getcwd()"
   ]
  },
  {
   "cell_type": "code",
   "execution_count": 2,
   "id": "a5e9aa49-e9a4-4c28-9a0e-a2fc8846d04d",
   "metadata": {},
   "outputs": [],
   "source": [
    "# Make sure the source code auto reloads into the kernel\n",
    "%load_ext autoreload\n",
    "%autoreload 2"
   ]
  },
  {
   "cell_type": "code",
   "execution_count": 3,
   "id": "1f717676-2f4e-41b9-9da7-c6be763ca011",
   "metadata": {},
   "outputs": [],
   "source": [
    "# To Create the training data for verticals\n",
    "data_path = './data'\n",
    "vertical = 'auto'\n",
    "attributes = ['model', 'price', 'engine', 'fuel_economy']"
   ]
  },
  {
   "cell_type": "code",
   "execution_count": 4,
   "id": "6e9e4962-6a56-456a-b59a-35f0c83ec8d1",
   "metadata": {},
   "outputs": [
    {
     "data": {
      "application/vnd.jupyter.widget-view+json": {
       "model_id": "e790368fd3a547c6b9e68a40b8518b0f",
       "version_major": 2,
       "version_minor": 0
      },
      "text/plain": [
       "Web sites:   0%|          | 0/10 [00:00<?, ?it/s]"
      ]
     },
     "metadata": {},
     "output_type": "display_data"
    },
    {
     "data": {
      "application/vnd.jupyter.widget-view+json": {
       "model_id": "7c0bcc529eb64947bd88b0bb34fa0b54",
       "version_major": 2,
       "version_minor": 0
      },
      "text/plain": [
       "Pages for website: auto-kbb:   0%|          | 0/2000 [00:00<?, ?it/s]"
      ]
     },
     "metadata": {},
     "output_type": "display_data"
    },
    {
     "data": {
      "application/vnd.jupyter.widget-view+json": {
       "model_id": "b8531125c7f24d759a6fa5b57b187efb",
       "version_major": 2,
       "version_minor": 0
      },
      "text/plain": [
       "Pages for website: auto-autoweb:   0%|          | 0/2000 [00:00<?, ?it/s]"
      ]
     },
     "metadata": {},
     "output_type": "display_data"
    },
    {
     "data": {
      "application/vnd.jupyter.widget-view+json": {
       "model_id": "c757a4b7a7e84c8db3dbedf2af50893e",
       "version_major": 2,
       "version_minor": 0
      },
      "text/plain": [
       "Pages for website: auto-aol:   0%|          | 0/2000 [00:00<?, ?it/s]"
      ]
     },
     "metadata": {},
     "output_type": "display_data"
    },
    {
     "data": {
      "application/vnd.jupyter.widget-view+json": {
       "model_id": "8db5fb392a7747c8bd04789051f6deeb",
       "version_major": 2,
       "version_minor": 0
      },
      "text/plain": [
       "Pages for website: auto-yahoo:   0%|          | 0/2000 [00:00<?, ?it/s]"
      ]
     },
     "metadata": {},
     "output_type": "display_data"
    },
    {
     "data": {
      "application/vnd.jupyter.widget-view+json": {
       "model_id": "187b61bbb7ec402cb350b0cc824dc2e3",
       "version_major": 2,
       "version_minor": 0
      },
      "text/plain": [
       "Pages for website: auto-motortrend:   0%|          | 0/1267 [00:00<?, ?it/s]"
      ]
     },
     "metadata": {},
     "output_type": "display_data"
    },
    {
     "data": {
      "application/vnd.jupyter.widget-view+json": {
       "model_id": "7491087ce96745558fbc98067fe23f79",
       "version_major": 2,
       "version_minor": 0
      },
      "text/plain": [
       "Pages for website: auto-autobytel:   0%|          | 0/2000 [00:00<?, ?it/s]"
      ]
     },
     "metadata": {},
     "output_type": "display_data"
    },
    {
     "data": {
      "application/vnd.jupyter.widget-view+json": {
       "model_id": "da7d7507e4ec43f7a1fadcdab7e954c6",
       "version_major": 2,
       "version_minor": 0
      },
      "text/plain": [
       "Pages for website: auto-carquotes:   0%|          | 0/2000 [00:00<?, ?it/s]"
      ]
     },
     "metadata": {},
     "output_type": "display_data"
    },
    {
     "data": {
      "application/vnd.jupyter.widget-view+json": {
       "model_id": "c1502181903449648dd6afdc7cf90fe4",
       "version_major": 2,
       "version_minor": 0
      },
      "text/plain": [
       "Pages for website: auto-cars:   0%|          | 0/657 [00:00<?, ?it/s]"
      ]
     },
     "metadata": {},
     "output_type": "display_data"
    },
    {
     "data": {
      "application/vnd.jupyter.widget-view+json": {
       "model_id": "4a793b8cab0746b8b6eda04110272b32",
       "version_major": 2,
       "version_minor": 0
      },
      "text/plain": [
       "Pages for website: auto-msn:   0%|          | 0/2000 [00:00<?, ?it/s]"
      ]
     },
     "metadata": {},
     "output_type": "display_data"
    },
    {
     "data": {
      "application/vnd.jupyter.widget-view+json": {
       "model_id": "143a951aee4346a5a0dfb5fcb4b37203",
       "version_major": 2,
       "version_minor": 0
      },
      "text/plain": [
       "Pages for website: auto-automotive:   0%|          | 0/1999 [00:00<?, ?it/s]"
      ]
     },
     "metadata": {},
     "output_type": "display_data"
    },
    {
     "name": "stderr",
     "output_type": "stream",
     "text": [
      "11:13:37 INFO (storeFixedNodes:60): Got: 1973 fixed nodes for: auto-automotive, dumping into: ./data/fixedNodes_camera.csv\n"
     ]
    }
   ],
   "source": [
    "# Dataset processor: to find the set of fixed nodes for each of the websites\n",
    "from DatasetCreation.storeFixedNodes import main as storeFixedNodes\n",
    "storeFixedNodes(data_path, vertical)"
   ]
  },
  {
   "cell_type": "code",
   "execution_count": 5,
   "id": "fda44a53-cf0b-4e00-ac76-175bb92433c2",
   "metadata": {},
   "outputs": [
    {
     "data": {
      "application/vnd.jupyter.widget-view+json": {
       "model_id": "9e4fcc54710e4fe4ac1d44d1ce4b078e",
       "version_major": 2,
       "version_minor": 0
      },
      "text/plain": [
       "Web sites:   0%|          | 0/10 [00:00<?, ?it/s]"
      ]
     },
     "metadata": {},
     "output_type": "display_data"
    },
    {
     "data": {
      "application/vnd.jupyter.widget-view+json": {
       "model_id": "84128b88fd474231a1968aafe1463d4d",
       "version_major": 2,
       "version_minor": 0
      },
      "text/plain": [
       "Pages for website: auto-kbb:   0%|          | 0/2000 [00:00<?, ?it/s]"
      ]
     },
     "metadata": {},
     "output_type": "display_data"
    },
    {
     "name": "stderr",
     "output_type": "stream",
     "text": [
      "11:13:56 INFO (storeAllTextNodes:53): Dumping node details into: ./data/nodesDetails/auto-kbb.pkl\n",
      "11:13:57 INFO (storeAllTextNodes:57): The average variabe/mixed node counts: auto-kbb are: [113.325  149.8585]\n"
     ]
    },
    {
     "data": {
      "application/vnd.jupyter.widget-view+json": {
       "model_id": "7bf20853de2b481c865d2d42eb8dc220",
       "version_major": 2,
       "version_minor": 0
      },
      "text/plain": [
       "Pages for website: auto-autoweb:   0%|          | 0/2000 [00:00<?, ?it/s]"
      ]
     },
     "metadata": {},
     "output_type": "display_data"
    },
    {
     "name": "stderr",
     "output_type": "stream",
     "text": [
      "11:14:09 INFO (storeAllTextNodes:53): Dumping node details into: ./data/nodesDetails/auto-autoweb.pkl\n",
      "11:14:10 INFO (storeAllTextNodes:57): The average variabe/mixed node counts: auto-autoweb are: [ 42.697  117.3055]\n"
     ]
    },
    {
     "data": {
      "application/vnd.jupyter.widget-view+json": {
       "model_id": "c7bf94376a5444fb808867c2e44e2080",
       "version_major": 2,
       "version_minor": 0
      },
      "text/plain": [
       "Pages for website: auto-aol:   0%|          | 0/2000 [00:00<?, ?it/s]"
      ]
     },
     "metadata": {},
     "output_type": "display_data"
    },
    {
     "name": "stderr",
     "output_type": "stream",
     "text": [
      "11:14:34 INFO (storeAllTextNodes:53): Dumping node details into: ./data/nodesDetails/auto-aol.pkl\n",
      "11:14:35 INFO (storeAllTextNodes:57): The average variabe/mixed node counts: auto-aol are: [108.082  215.0985]\n"
     ]
    },
    {
     "data": {
      "application/vnd.jupyter.widget-view+json": {
       "model_id": "466e4732b95642d3a4fdf2d3b65a5c28",
       "version_major": 2,
       "version_minor": 0
      },
      "text/plain": [
       "Pages for website: auto-yahoo:   0%|          | 0/2000 [00:00<?, ?it/s]"
      ]
     },
     "metadata": {},
     "output_type": "display_data"
    },
    {
     "name": "stderr",
     "output_type": "stream",
     "text": [
      "11:14:55 INFO (storeAllTextNodes:53): Dumping node details into: ./data/nodesDetails/auto-yahoo.pkl\n",
      "11:14:56 INFO (storeAllTextNodes:57): The average variabe/mixed node counts: auto-yahoo are: [109.427  182.2715]\n"
     ]
    },
    {
     "data": {
      "application/vnd.jupyter.widget-view+json": {
       "model_id": "c46a02182b354c3ebcaa379c84997426",
       "version_major": 2,
       "version_minor": 0
      },
      "text/plain": [
       "Pages for website: auto-motortrend:   0%|          | 0/1267 [00:00<?, ?it/s]"
      ]
     },
     "metadata": {},
     "output_type": "display_data"
    },
    {
     "name": "stderr",
     "output_type": "stream",
     "text": [
      "11:15:10 INFO (storeAllTextNodes:53): Dumping node details into: ./data/nodesDetails/auto-motortrend.pkl\n",
      "11:15:11 INFO (storeAllTextNodes:57): The average variabe/mixed node counts: auto-motortrend are: [ 25.23914759 204.31412786]\n"
     ]
    },
    {
     "data": {
      "application/vnd.jupyter.widget-view+json": {
       "model_id": "314427af7fd945cfa1b909c0c3fbdf69",
       "version_major": 2,
       "version_minor": 0
      },
      "text/plain": [
       "Pages for website: auto-autobytel:   0%|          | 0/2000 [00:00<?, ?it/s]"
      ]
     },
     "metadata": {},
     "output_type": "display_data"
    },
    {
     "name": "stderr",
     "output_type": "stream",
     "text": [
      "11:15:29 INFO (storeAllTextNodes:53): Dumping node details into: ./data/nodesDetails/auto-autobytel.pkl\n",
      "11:15:30 INFO (storeAllTextNodes:57): The average variabe/mixed node counts: auto-autobytel are: [ 41.712 191.237]\n"
     ]
    },
    {
     "data": {
      "application/vnd.jupyter.widget-view+json": {
       "model_id": "3c075c6128a649c4b29ffa03b8f5182c",
       "version_major": 2,
       "version_minor": 0
      },
      "text/plain": [
       "Pages for website: auto-carquotes:   0%|          | 0/2000 [00:00<?, ?it/s]"
      ]
     },
     "metadata": {},
     "output_type": "display_data"
    },
    {
     "name": "stderr",
     "output_type": "stream",
     "text": [
      "11:15:40 INFO (storeAllTextNodes:53): Dumping node details into: ./data/nodesDetails/auto-carquotes.pkl\n",
      "11:15:40 INFO (storeAllTextNodes:57): The average variabe/mixed node counts: auto-carquotes are: [39.8235 99.8315]\n"
     ]
    },
    {
     "data": {
      "application/vnd.jupyter.widget-view+json": {
       "model_id": "682be6414c984374aad8ffa50434fd2e",
       "version_major": 2,
       "version_minor": 0
      },
      "text/plain": [
       "Pages for website: auto-cars:   0%|          | 0/657 [00:00<?, ?it/s]"
      ]
     },
     "metadata": {},
     "output_type": "display_data"
    },
    {
     "name": "stderr",
     "output_type": "stream",
     "text": [
      "11:15:44 INFO (storeAllTextNodes:53): Dumping node details into: ./data/nodesDetails/auto-cars.pkl\n",
      "11:15:44 INFO (storeAllTextNodes:57): The average variabe/mixed node counts: auto-cars are: [52.79604262 90.49467275]\n"
     ]
    },
    {
     "data": {
      "application/vnd.jupyter.widget-view+json": {
       "model_id": "bc0249da22dd4957948c9b0f5ea9b34e",
       "version_major": 2,
       "version_minor": 0
      },
      "text/plain": [
       "Pages for website: auto-msn:   0%|          | 0/2000 [00:00<?, ?it/s]"
      ]
     },
     "metadata": {},
     "output_type": "display_data"
    },
    {
     "name": "stderr",
     "output_type": "stream",
     "text": [
      "11:16:20 INFO (storeAllTextNodes:53): Dumping node details into: ./data/nodesDetails/auto-msn.pkl\n",
      "11:16:21 INFO (storeAllTextNodes:57): The average variabe/mixed node counts: auto-msn are: [ 95.1715 283.4425]\n"
     ]
    },
    {
     "data": {
      "application/vnd.jupyter.widget-view+json": {
       "model_id": "7e52ecfea4d14e79ab659d56582048c9",
       "version_major": 2,
       "version_minor": 0
      },
      "text/plain": [
       "Pages for website: auto-automotive:   0%|          | 0/1999 [00:00<?, ?it/s]"
      ]
     },
     "metadata": {},
     "output_type": "display_data"
    },
    {
     "name": "stderr",
     "output_type": "stream",
     "text": [
      "11:17:00 INFO (storeAllTextNodes:53): Dumping node details into: ./data/nodesDetails/auto-automotive.pkl\n",
      "11:17:01 INFO (storeAllTextNodes:57): The average variabe/mixed node counts: auto-automotive are: [ 77.32616308 298.83491746]\n"
     ]
    }
   ],
   "source": [
    "# Dataset processor: Store each website as pickle file\n",
    "from DatasetCreation.storeAllTextNodes import main as storeAllTextNodes\n",
    "storeAllTextNodes(data_path, vertical)"
   ]
  },
  {
   "cell_type": "code",
   "execution_count": 6,
   "id": "85413c98-ec3b-4caa-818d-6a466a1266f4",
   "metadata": {},
   "outputs": [
    {
     "data": {
      "application/vnd.jupyter.widget-view+json": {
       "model_id": "ba5f648b7b894509874d2bb254a41017",
       "version_major": 2,
       "version_minor": 0
      },
      "text/plain": [
       "Web sites:   0%|          | 0/10 [00:00<?, ?it/s]"
      ]
     },
     "metadata": {},
     "output_type": "display_data"
    },
    {
     "data": {
      "application/vnd.jupyter.widget-view+json": {
       "model_id": "78ba0c249bde41bb8be267c173dfacf3",
       "version_major": 2,
       "version_minor": 0
      },
      "text/plain": [
       "Pages for website: auto-kbb:   0%|          | 0/2000 [00:00<?, ?it/s]"
      ]
     },
     "metadata": {},
     "output_type": "display_data"
    },
    {
     "name": "stderr",
     "output_type": "stream",
     "text": [
      "11:17:11 INFO (friendCircleExtractioin:99): Re-dumping node details (all pages) into: ./data/nodesDetails/auto-kbb.pkl\n",
      "11:17:14 INFO (friendCircleExtractioin:102): The friend/partner nodes for: \"auto-kbb\" is: 9.955104522341177/0.11822890216473102\n"
     ]
    },
    {
     "data": {
      "application/vnd.jupyter.widget-view+json": {
       "model_id": "3474c23767b54fc0951b727d081b5bd5",
       "version_major": 2,
       "version_minor": 0
      },
      "text/plain": [
       "Pages for website: auto-autoweb:   0%|          | 0/2000 [00:00<?, ?it/s]"
      ]
     },
     "metadata": {},
     "output_type": "display_data"
    },
    {
     "name": "stderr",
     "output_type": "stream",
     "text": [
      "11:17:19 INFO (friendCircleExtractioin:99): Re-dumping node details (all pages) into: ./data/nodesDetails/auto-autoweb.pkl\n",
      "11:17:20 INFO (friendCircleExtractioin:102): The friend/partner nodes for: \"auto-autoweb\" is: 9.929001578443978/0.8581395790461918\n"
     ]
    },
    {
     "data": {
      "application/vnd.jupyter.widget-view+json": {
       "model_id": "5bdb1874941b49d7ae66059dd2610fd4",
       "version_major": 2,
       "version_minor": 0
      },
      "text/plain": [
       "Pages for website: auto-aol:   0%|          | 0/2000 [00:00<?, ?it/s]"
      ]
     },
     "metadata": {},
     "output_type": "display_data"
    },
    {
     "name": "stderr",
     "output_type": "stream",
     "text": [
      "11:17:30 INFO (friendCircleExtractioin:99): Re-dumping node details (all pages) into: ./data/nodesDetails/auto-aol.pkl\n",
      "11:17:33 INFO (friendCircleExtractioin:102): The friend/partner nodes for: \"auto-aol\" is: 9.999695803248095/0.21802965308525638\n"
     ]
    },
    {
     "data": {
      "application/vnd.jupyter.widget-view+json": {
       "model_id": "525f90afd4f349cbb8743db30811e06e",
       "version_major": 2,
       "version_minor": 0
      },
      "text/plain": [
       "Pages for website: auto-yahoo:   0%|          | 0/2000 [00:00<?, ?it/s]"
      ]
     },
     "metadata": {},
     "output_type": "display_data"
    },
    {
     "name": "stderr",
     "output_type": "stream",
     "text": [
      "11:17:43 INFO (friendCircleExtractioin:99): Re-dumping node details (all pages) into: ./data/nodesDetails/auto-yahoo.pkl\n",
      "11:17:45 INFO (friendCircleExtractioin:102): The friend/partner nodes for: \"auto-yahoo\" is: 10.0/0.33413255206206427\n"
     ]
    },
    {
     "data": {
      "application/vnd.jupyter.widget-view+json": {
       "model_id": "d69a5887cdd840c0898d5c14322109c3",
       "version_major": 2,
       "version_minor": 0
      },
      "text/plain": [
       "Pages for website: auto-motortrend:   0%|          | 0/1267 [00:00<?, ?it/s]"
      ]
     },
     "metadata": {},
     "output_type": "display_data"
    },
    {
     "name": "stderr",
     "output_type": "stream",
     "text": [
      "11:17:48 INFO (friendCircleExtractioin:99): Re-dumping node details (all pages) into: ./data/nodesDetails/auto-motortrend.pkl\n",
      "11:17:49 INFO (friendCircleExtractioin:102): The friend/partner nodes for: \"auto-motortrend\" is: 9.998923696011012/0.0956056449131986\n"
     ]
    },
    {
     "data": {
      "application/vnd.jupyter.widget-view+json": {
       "model_id": "6818a553cb6d45ff85389f66513a28da",
       "version_major": 2,
       "version_minor": 0
      },
      "text/plain": [
       "Pages for website: auto-autobytel:   0%|          | 0/2000 [00:00<?, ?it/s]"
      ]
     },
     "metadata": {},
     "output_type": "display_data"
    },
    {
     "name": "stderr",
     "output_type": "stream",
     "text": [
      "11:17:55 INFO (friendCircleExtractioin:99): Re-dumping node details (all pages) into: ./data/nodesDetails/auto-autobytel.pkl\n",
      "11:17:56 INFO (friendCircleExtractioin:102): The friend/partner nodes for: \"auto-autobytel\" is: 10.0/0.4654751145337193\n"
     ]
    },
    {
     "data": {
      "application/vnd.jupyter.widget-view+json": {
       "model_id": "37bd34d259f14e17890d4b30e6b00893",
       "version_major": 2,
       "version_minor": 0
      },
      "text/plain": [
       "Pages for website: auto-carquotes:   0%|          | 0/2000 [00:00<?, ?it/s]"
      ]
     },
     "metadata": {},
     "output_type": "display_data"
    },
    {
     "name": "stderr",
     "output_type": "stream",
     "text": [
      "11:18:01 INFO (friendCircleExtractioin:99): Re-dumping node details (all pages) into: ./data/nodesDetails/auto-carquotes.pkl\n",
      "11:18:02 INFO (friendCircleExtractioin:102): The friend/partner nodes for: \"auto-carquotes\" is: 10.0/0.37580329100302323\n"
     ]
    },
    {
     "data": {
      "application/vnd.jupyter.widget-view+json": {
       "model_id": "e62b07d6e87c429696761ed930b4d5bd",
       "version_major": 2,
       "version_minor": 0
      },
      "text/plain": [
       "Pages for website: auto-cars:   0%|          | 0/657 [00:00<?, ?it/s]"
      ]
     },
     "metadata": {},
     "output_type": "display_data"
    },
    {
     "name": "stderr",
     "output_type": "stream",
     "text": [
      "11:18:03 INFO (friendCircleExtractioin:99): Re-dumping node details (all pages) into: ./data/nodesDetails/auto-cars.pkl\n",
      "11:18:04 INFO (friendCircleExtractioin:102): The friend/partner nodes for: \"auto-cars\" is: 10.0/0.5597516234882789\n"
     ]
    },
    {
     "data": {
      "application/vnd.jupyter.widget-view+json": {
       "model_id": "bc65647efff3489fb8eb7ccba5144477",
       "version_major": 2,
       "version_minor": 0
      },
      "text/plain": [
       "Pages for website: auto-msn:   0%|          | 0/2000 [00:00<?, ?it/s]"
      ]
     },
     "metadata": {},
     "output_type": "display_data"
    },
    {
     "name": "stderr",
     "output_type": "stream",
     "text": [
      "11:18:15 INFO (friendCircleExtractioin:99): Re-dumping node details (all pages) into: ./data/nodesDetails/auto-msn.pkl\n",
      "11:18:18 INFO (friendCircleExtractioin:102): The friend/partner nodes for: \"auto-msn\" is: 9.989908327451145/0.29792965069489014\n"
     ]
    },
    {
     "data": {
      "application/vnd.jupyter.widget-view+json": {
       "model_id": "fd3f6e649c1c43b5885da46d532dcd72",
       "version_major": 2,
       "version_minor": 0
      },
      "text/plain": [
       "Pages for website: auto-automotive:   0%|          | 0/1999 [00:00<?, ?it/s]"
      ]
     },
     "metadata": {},
     "output_type": "display_data"
    },
    {
     "name": "stderr",
     "output_type": "stream",
     "text": [
      "11:18:28 INFO (friendCircleExtractioin:99): Re-dumping node details (all pages) into: ./data/nodesDetails/auto-automotive.pkl\n",
      "11:18:30 INFO (friendCircleExtractioin:102): The friend/partner nodes for: \"auto-automotive\" is: 10.0/0.47887502249239666\n"
     ]
    }
   ],
   "source": [
    "# Dataset processor: Append the friendCircle of each node in the DOMTree\n",
    "from Utils.friendCircleExtractioin import main as friendCircleExtractioin\n",
    "friendCircleExtractioin(data_path, vertical, 10)"
   ]
  },
  {
   "cell_type": "code",
   "execution_count": 7,
   "id": "45c65792-0365-43e9-8503-6dd9355bfabd",
   "metadata": {},
   "outputs": [
    {
     "data": {
      "application/vnd.jupyter.widget-view+json": {
       "model_id": "e9a4a481526e482d96aa69cf8e637c5a",
       "version_major": 2,
       "version_minor": 0
      },
      "text/plain": [
       "Web sites:   0%|          | 0/10 [00:00<?, ?it/s]"
      ]
     },
     "metadata": {},
     "output_type": "display_data"
    },
    {
     "data": {
      "application/vnd.jupyter.widget-view+json": {
       "model_id": "10d8fa83485248e7938407e9dee0a4c6",
       "version_major": 2,
       "version_minor": 0
      },
      "text/plain": [
       "Attributes for website: auto-kbb:   0%|          | 0/4 [00:00<?, ?it/s]"
      ]
     },
     "metadata": {},
     "output_type": "display_data"
    },
    {
     "name": "stderr",
     "output_type": "stream",
     "text": [
      "11:18:43 INFO (assignGroundTruthToEachNode:73): Re-dumping node details (all pages) into: ./data/nodesDetails/auto-kbb.pkl\n"
     ]
    },
    {
     "data": {
      "application/vnd.jupyter.widget-view+json": {
       "model_id": "a96a01fc2fe145aa9fe9a801cf67cd17",
       "version_major": 2,
       "version_minor": 0
      },
      "text/plain": [
       "Attributes for website: auto-autoweb:   0%|          | 0/4 [00:00<?, ?it/s]"
      ]
     },
     "metadata": {},
     "output_type": "display_data"
    },
    {
     "name": "stderr",
     "output_type": "stream",
     "text": [
      "11:18:56 INFO (assignGroundTruthToEachNode:73): Re-dumping node details (all pages) into: ./data/nodesDetails/auto-autoweb.pkl\n"
     ]
    },
    {
     "data": {
      "application/vnd.jupyter.widget-view+json": {
       "model_id": "8784db08c645444ea4115ff1aa8a2047",
       "version_major": 2,
       "version_minor": 0
      },
      "text/plain": [
       "Attributes for website: auto-aol:   0%|          | 0/4 [00:00<?, ?it/s]"
      ]
     },
     "metadata": {},
     "output_type": "display_data"
    },
    {
     "name": "stderr",
     "output_type": "stream",
     "text": [
      "11:19:16 INFO (assignGroundTruthToEachNode:73): Re-dumping node details (all pages) into: ./data/nodesDetails/auto-aol.pkl\n"
     ]
    },
    {
     "data": {
      "application/vnd.jupyter.widget-view+json": {
       "model_id": "7dbc1d56c91c40fdb91810801e8363c5",
       "version_major": 2,
       "version_minor": 0
      },
      "text/plain": [
       "Attributes for website: auto-yahoo:   0%|          | 0/4 [00:00<?, ?it/s]"
      ]
     },
     "metadata": {},
     "output_type": "display_data"
    },
    {
     "name": "stderr",
     "output_type": "stream",
     "text": [
      "11:19:38 INFO (assignGroundTruthToEachNode:73): Re-dumping node details (all pages) into: ./data/nodesDetails/auto-yahoo.pkl\n"
     ]
    },
    {
     "data": {
      "application/vnd.jupyter.widget-view+json": {
       "model_id": "e1973f0fcd0d4e4482880253b48e3d3d",
       "version_major": 2,
       "version_minor": 0
      },
      "text/plain": [
       "Attributes for website: auto-motortrend:   0%|          | 0/4 [00:00<?, ?it/s]"
      ]
     },
     "metadata": {},
     "output_type": "display_data"
    },
    {
     "name": "stderr",
     "output_type": "stream",
     "text": [
      "11:19:52 INFO (assignGroundTruthToEachNode:73): Re-dumping node details (all pages) into: ./data/nodesDetails/auto-motortrend.pkl\n"
     ]
    },
    {
     "data": {
      "application/vnd.jupyter.widget-view+json": {
       "model_id": "044e5b60fba54395bda4dce18c21b9e7",
       "version_major": 2,
       "version_minor": 0
      },
      "text/plain": [
       "Attributes for website: auto-autobytel:   0%|          | 0/4 [00:00<?, ?it/s]"
      ]
     },
     "metadata": {},
     "output_type": "display_data"
    },
    {
     "name": "stderr",
     "output_type": "stream",
     "text": [
      "11:20:15 INFO (assignGroundTruthToEachNode:73): Re-dumping node details (all pages) into: ./data/nodesDetails/auto-autobytel.pkl\n"
     ]
    },
    {
     "data": {
      "application/vnd.jupyter.widget-view+json": {
       "model_id": "26288fde83a444a787a48b389756aaf1",
       "version_major": 2,
       "version_minor": 0
      },
      "text/plain": [
       "Attributes for website: auto-carquotes:   0%|          | 0/4 [00:00<?, ?it/s]"
      ]
     },
     "metadata": {},
     "output_type": "display_data"
    },
    {
     "name": "stderr",
     "output_type": "stream",
     "text": [
      "11:20:40 INFO (assignGroundTruthToEachNode:73): Re-dumping node details (all pages) into: ./data/nodesDetails/auto-carquotes.pkl\n"
     ]
    },
    {
     "data": {
      "application/vnd.jupyter.widget-view+json": {
       "model_id": "f9aa8622f8484d24951f27e334ded007",
       "version_major": 2,
       "version_minor": 0
      },
      "text/plain": [
       "Attributes for website: auto-cars:   0%|          | 0/4 [00:00<?, ?it/s]"
      ]
     },
     "metadata": {},
     "output_type": "display_data"
    },
    {
     "name": "stderr",
     "output_type": "stream",
     "text": [
      "11:20:50 INFO (assignGroundTruthToEachNode:73): Re-dumping node details (all pages) into: ./data/nodesDetails/auto-cars.pkl\n"
     ]
    },
    {
     "data": {
      "application/vnd.jupyter.widget-view+json": {
       "model_id": "72ec54b13ccb47bf8f2dfdb691a50770",
       "version_major": 2,
       "version_minor": 0
      },
      "text/plain": [
       "Attributes for website: auto-msn:   0%|          | 0/4 [00:00<?, ?it/s]"
      ]
     },
     "metadata": {},
     "output_type": "display_data"
    },
    {
     "name": "stderr",
     "output_type": "stream",
     "text": [
      "11:21:22 INFO (assignGroundTruthToEachNode:73): Re-dumping node details (all pages) into: ./data/nodesDetails/auto-msn.pkl\n"
     ]
    },
    {
     "data": {
      "application/vnd.jupyter.widget-view+json": {
       "model_id": "c92adabfbaf042759997366edbb83251",
       "version_major": 2,
       "version_minor": 0
      },
      "text/plain": [
       "Attributes for website: auto-automotive:   0%|          | 0/4 [00:00<?, ?it/s]"
      ]
     },
     "metadata": {},
     "output_type": "display_data"
    },
    {
     "name": "stderr",
     "output_type": "stream",
     "text": [
      "11:21:58 INFO (assignGroundTruthToEachNode:73): Re-dumping node details (all pages) into: ./data/nodesDetails/auto-automotive.pkl\n"
     ]
    }
   ],
   "source": [
    "# Dataset processor: Associate the ground truth label to each node\n",
    "from DatasetCreation.assignGroundTruthToEachNode import main as assignGroundTruthToEachNode\n",
    "assignGroundTruthToEachNode(data_path, vertical, attributes)"
   ]
  },
  {
   "cell_type": "code",
   "execution_count": 8,
   "id": "7b3c0796-bf99-4e3a-8f7e-df9fb03ad805",
   "metadata": {},
   "outputs": [
    {
     "data": {
      "application/vnd.jupyter.widget-view+json": {
       "model_id": "c2a25c11e9a64d51be79d41a11d33128",
       "version_major": 2,
       "version_minor": 0
      },
      "text/plain": [
       "Web sites:   0%|          | 0/10 [00:00<?, ?it/s]"
      ]
     },
     "metadata": {},
     "output_type": "display_data"
    },
    {
     "data": {
      "application/vnd.jupyter.widget-view+json": {
       "model_id": "0f77276869564cd39a07289a73968752",
       "version_major": 2,
       "version_minor": 0
      },
      "text/plain": [
       "Pages for website: auto-kbb:   0%|          | 0/2000 [00:00<?, ?it/s]"
      ]
     },
     "metadata": {},
     "output_type": "display_data"
    },
    {
     "data": {
      "application/vnd.jupyter.widget-view+json": {
       "model_id": "f5425b7b6b534dcba9d93987678157b4",
       "version_major": 2,
       "version_minor": 0
      },
      "text/plain": [
       "Pages for website: auto-autoweb:   0%|          | 0/2000 [00:00<?, ?it/s]"
      ]
     },
     "metadata": {},
     "output_type": "display_data"
    },
    {
     "data": {
      "application/vnd.jupyter.widget-view+json": {
       "model_id": "6e5beab5b49d49cc8ead1a6f7d1d8fca",
       "version_major": 2,
       "version_minor": 0
      },
      "text/plain": [
       "Pages for website: auto-aol:   0%|          | 0/2000 [00:00<?, ?it/s]"
      ]
     },
     "metadata": {},
     "output_type": "display_data"
    },
    {
     "data": {
      "application/vnd.jupyter.widget-view+json": {
       "model_id": "ee80c10a97fe48f9a27e6e0cd676e0f6",
       "version_major": 2,
       "version_minor": 0
      },
      "text/plain": [
       "Pages for website: auto-yahoo:   0%|          | 0/2000 [00:00<?, ?it/s]"
      ]
     },
     "metadata": {},
     "output_type": "display_data"
    },
    {
     "data": {
      "application/vnd.jupyter.widget-view+json": {
       "model_id": "ddf9fd380c504882b311e107fa7d8e10",
       "version_major": 2,
       "version_minor": 0
      },
      "text/plain": [
       "Pages for website: auto-motortrend:   0%|          | 0/1267 [00:00<?, ?it/s]"
      ]
     },
     "metadata": {},
     "output_type": "display_data"
    },
    {
     "data": {
      "application/vnd.jupyter.widget-view+json": {
       "model_id": "42d389d43b9440bab8e6d48ec29d079e",
       "version_major": 2,
       "version_minor": 0
      },
      "text/plain": [
       "Pages for website: auto-autobytel:   0%|          | 0/2000 [00:00<?, ?it/s]"
      ]
     },
     "metadata": {},
     "output_type": "display_data"
    },
    {
     "data": {
      "application/vnd.jupyter.widget-view+json": {
       "model_id": "87155318212046cea65f2ea2c625ac29",
       "version_major": 2,
       "version_minor": 0
      },
      "text/plain": [
       "Pages for website: auto-carquotes:   0%|          | 0/2000 [00:00<?, ?it/s]"
      ]
     },
     "metadata": {},
     "output_type": "display_data"
    },
    {
     "data": {
      "application/vnd.jupyter.widget-view+json": {
       "model_id": "e18b32e9c544464da14579778a1a58e4",
       "version_major": 2,
       "version_minor": 0
      },
      "text/plain": [
       "Pages for website: auto-cars:   0%|          | 0/657 [00:00<?, ?it/s]"
      ]
     },
     "metadata": {},
     "output_type": "display_data"
    },
    {
     "data": {
      "application/vnd.jupyter.widget-view+json": {
       "model_id": "aa6114a29108484082595c7d6e0b97d3",
       "version_major": 2,
       "version_minor": 0
      },
      "text/plain": [
       "Pages for website: auto-msn:   0%|          | 0/2000 [00:00<?, ?it/s]"
      ]
     },
     "metadata": {},
     "output_type": "display_data"
    },
    {
     "data": {
      "application/vnd.jupyter.widget-view+json": {
       "model_id": "4554cecfd8564682b680bc26d6f7fedc",
       "version_major": 2,
       "version_minor": 0
      },
      "text/plain": [
       "Pages for website: auto-automotive:   0%|          | 0/1999 [00:00<?, ?it/s]"
      ]
     },
     "metadata": {},
     "output_type": "display_data"
    },
    {
     "name": "stderr",
     "output_type": "stream",
     "text": [
      "11:23:02 INFO (createCharAndTagDict:54): Dumping English character dictionary of: 85 elements into: ./data/English_charDict.pkl\n",
      "11:23:02 INFO (createCharAndTagDict:54): Dumping HTML tags dictionary of: 39 elements into: ./data/HTMLTagDict.pkl\n"
     ]
    }
   ],
   "source": [
    "# Dataset processor: Re-generate the char and tag dictionaries\n",
    "from DatasetCreation.createCharAndTagDict import main as createCharAndTagDict\n",
    "createCharAndTagDict(data_path, vertical)"
   ]
  },
  {
   "cell_type": "code",
   "execution_count": null,
   "id": "1e3fc545-b10b-4482-b590-d9b797c66fde",
   "metadata": {},
   "outputs": [],
   "source": []
  }
 ],
 "metadata": {
  "kernelspec": {
   "display_name": "tfm",
   "language": "python",
   "name": "tfm"
  },
  "language_info": {
   "codemirror_mode": {
    "name": "ipython",
    "version": 3
   },
   "file_extension": ".py",
   "mimetype": "text/x-python",
   "name": "python",
   "nbconvert_exporter": "python",
   "pygments_lexer": "ipython3",
   "version": "3.8.13"
  }
 },
 "nbformat": 4,
 "nbformat_minor": 5
}
