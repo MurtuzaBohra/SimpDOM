{
 "cells": [
  {
   "cell_type": "code",
   "execution_count": null,
   "id": "416036b1-e608-4fd7-8e9e-6d7ee623bd13",
   "metadata": {},
   "outputs": [],
   "source": [
    "import os\n",
    "os.getcwd()"
   ]
  },
  {
   "cell_type": "code",
   "execution_count": null,
   "id": "a5e9aa49-e9a4-4c28-9a0e-a2fc8846d04d",
   "metadata": {},
   "outputs": [],
   "source": [
    "# Make sure the source code auto reloads into the kernel\n",
    "%load_ext autoreload\n",
    "%autoreload 2"
   ]
  },
  {
   "cell_type": "code",
   "execution_count": null,
   "id": "1f717676-2f4e-41b9-9da7-c6be763ca011",
   "metadata": {},
   "outputs": [],
   "source": [
    "# To Create the training data for verticals\n",
    "data_path = './data'\n",
    "vertical = 'movie'\n",
    "attributes = ['title', 'director', 'genre', 'mpaa_rating']\n",
    "num_friends = 10"
   ]
  },
  {
   "cell_type": "code",
   "execution_count": null,
   "id": "6e9e4962-6a56-456a-b59a-35f0c83ec8d1",
   "metadata": {},
   "outputs": [],
   "source": [
    "# Dataset processor: to find the set of fixed nodes for each of the websites\n",
    "from DatasetCreation.storeFixedNodes import main as storeFixedNodes\n",
    "storeFixedNodes(data_path, vertical)"
   ]
  },
  {
   "cell_type": "code",
   "execution_count": null,
   "id": "fda44a53-cf0b-4e00-ac76-175bb92433c2",
   "metadata": {},
   "outputs": [],
   "source": [
    "# Dataset processor: Store each website as pickle file\n",
    "from DatasetCreation.storeAllTextNodes import main as storeAllTextNodes\n",
    "storeAllTextNodes(data_path, vertical)"
   ]
  },
  {
   "cell_type": "code",
   "execution_count": null,
   "id": "85413c98-ec3b-4caa-818d-6a466a1266f4",
   "metadata": {},
   "outputs": [],
   "source": [
    "# Dataset processor: Append the friendCircle of each node in the DOMTree\n",
    "from Utils.friendCircleExtractioin import main as friendCircleExtractioin\n",
    "friendCircleExtractioin(data_path, vertical, num_friends)"
   ]
  },
  {
   "cell_type": "code",
   "execution_count": null,
   "id": "45c65792-0365-43e9-8503-6dd9355bfabd",
   "metadata": {},
   "outputs": [],
   "source": [
    "# Dataset processor: Associate the ground truth label to each node\n",
    "from DatasetCreation.assignGroundTruthToEachNode import main as assignGroundTruthToEachNode\n",
    "assignGroundTruthToEachNode(data_path, vertical, attributes)"
   ]
  },
  {
   "cell_type": "code",
   "execution_count": null,
   "id": "7b3c0796-bf99-4e3a-8f7e-df9fb03ad805",
   "metadata": {},
   "outputs": [],
   "source": [
    "# Dataset processor: Re-generate the char and tag dictionaries\n",
    "from DatasetCreation.createCharAndTagDict import main as createCharAndTagDict\n",
    "createCharAndTagDict(data_path, vertical)"
   ]
  },
  {
   "cell_type": "code",
   "execution_count": null,
   "id": "1e3fc545-b10b-4482-b590-d9b797c66fde",
   "metadata": {},
   "outputs": [],
   "source": []
  }
 ],
 "metadata": {
  "kernelspec": {
   "display_name": "tfm",
   "language": "python",
   "name": "tfm"
  },
  "language_info": {
   "codemirror_mode": {
    "name": "ipython",
    "version": 3
   },
   "file_extension": ".py",
   "mimetype": "text/x-python",
   "name": "python",
   "nbconvert_exporter": "python",
   "pygments_lexer": "ipython3",
   "version": "3.8.13"
  }
 },
 "nbformat": 4,
 "nbformat_minor": 5
}
